{
 "cells": [
  {
   "cell_type": "code",
   "execution_count": 48,
   "metadata": {},
   "outputs": [],
   "source": [
    "from selenium import webdriver\n",
    "from webdriver_manager.chrome import ChromeDriverManager\n",
    "import pandas as pd\n",
    "import time\n",
    "from tqdm import tqdm_notebook as tqdm"
   ]
  },
  {
   "cell_type": "code",
   "execution_count": 49,
   "metadata": {},
   "outputs": [
    {
     "name": "stderr",
     "output_type": "stream",
     "text": [
      "C:\\Users\\user\\AppData\\Local\\Temp\\ipykernel_21056\\1503906442.py:1: DeprecationWarning: executable_path has been deprecated, please pass in a Service object\n",
      "  driver = webdriver.Chrome(ChromeDriverManager().install())\n"
     ]
    }
   ],
   "source": [
    "driver = webdriver.Chrome(ChromeDriverManager().install())"
   ]
  },
  {
   "cell_type": "code",
   "execution_count": 50,
   "metadata": {},
   "outputs": [],
   "source": [
    "driver.get('https://search.naver.com/search.naver?where=news&sm=tab_jum&query=%EA%B7%80%EB%86%8D+%EB%B6%88%ED%8E%B8%ED%95%9C+%EC%A0%90')"
   ]
  },
  {
   "cell_type": "code",
   "execution_count": 51,
   "metadata": {},
   "outputs": [],
   "source": [
    "from bs4 import BeautifulSoup as bs\n",
    "import requests as req"
   ]
  },
  {
   "cell_type": "markdown",
   "metadata": {},
   "source": [
    "##### 뉴스페이지 url 가져오기"
   ]
  },
  {
   "cell_type": "code",
   "execution_count": 52,
   "metadata": {},
   "outputs": [],
   "source": [
    "soup = bs(driver.page_source,'html.parser')"
   ]
  },
  {
   "cell_type": "code",
   "execution_count": 53,
   "metadata": {},
   "outputs": [],
   "source": [
    "search = soup.select('a.news_tit')"
   ]
  },
  {
   "cell_type": "code",
   "execution_count": 54,
   "metadata": {},
   "outputs": [
    {
     "name": "stdout",
     "output_type": "stream",
     "text": [
      "https://search.naver.com/search.naver?where=news&sm=tab_jum&query=%EA%B7%80%EB%86%8D+%EB%B6%88%ED%8E%B8%ED%95%9C+%EC%A0%90http://www.sisaweek.com/news/articleView.html?idxno=201846\n",
      "https://search.naver.com/search.naver?where=news&sm=tab_jum&query=%EA%B7%80%EB%86%8D+%EB%B6%88%ED%8E%B8%ED%95%9C+%EC%A0%90https://www.artinsight.co.kr/news/view.php?no=62710\n",
      "https://search.naver.com/search.naver?where=news&sm=tab_jum&query=%EA%B7%80%EB%86%8D+%EB%B6%88%ED%8E%B8%ED%95%9C+%EC%A0%90http://www.nongmin.com/article/ar_detail.htm?seq_id=366441\n",
      "https://search.naver.com/search.naver?where=news&sm=tab_jum&query=%EA%B7%80%EB%86%8D+%EB%B6%88%ED%8E%B8%ED%95%9C+%EC%A0%90http://www.domin.co.kr/news/articleView.html?idxno=1395254\n",
      "https://search.naver.com/search.naver?where=news&sm=tab_jum&query=%EA%B7%80%EB%86%8D+%EB%B6%88%ED%8E%B8%ED%95%9C+%EC%A0%90http://www.jeonmae.co.kr/news/articleView.html?idxno=840693\n",
      "https://search.naver.com/search.naver?where=news&sm=tab_jum&query=%EA%B7%80%EB%86%8D+%EB%B6%88%ED%8E%B8%ED%95%9C+%EC%A0%90https://www.straightnews.co.kr/news/articleView.html?idxno=223456\n",
      "https://search.naver.com/search.naver?where=news&sm=tab_jum&query=%EA%B7%80%EB%86%8D+%EB%B6%88%ED%8E%B8%ED%95%9C+%EC%A0%90https://www.ytn.co.kr/_ln/0103_202207150435548262\n",
      "https://search.naver.com/search.naver?where=news&sm=tab_jum&query=%EA%B7%80%EB%86%8D+%EB%B6%88%ED%8E%B8%ED%95%9C+%EC%A0%90http://www.bzeronews.com/news/articleView.html?idxno=543158\n",
      "https://search.naver.com/search.naver?where=news&sm=tab_jum&query=%EA%B7%80%EB%86%8D+%EB%B6%88%ED%8E%B8%ED%95%9C+%EC%A0%90http://www.paxetv.com/news/articleView.html?idxno=147367\n",
      "https://search.naver.com/search.naver?where=news&sm=tab_jum&query=%EA%B7%80%EB%86%8D+%EB%B6%88%ED%8E%B8%ED%95%9C+%EC%A0%90https://news.kbs.co.kr/news/view.do?ncd=6865188&ref=A\n"
     ]
    }
   ],
   "source": [
    "for i in search:\n",
    "    print('https://search.naver.com/search.naver?where=news&sm=tab_jum&query=%EA%B7%80%EB%86%8D+%EB%B6%88%ED%8E%B8%ED%95%9C+%EC%A0%90' + i['href'])"
   ]
  },
  {
   "cell_type": "code",
   "execution_count": 55,
   "metadata": {},
   "outputs": [],
   "source": [
    "# search1 = soup.find_all('a', class_='news_tit')\n",
    "# for i in search1:\n",
    "#     print('https://search.naver.com/search.naver?where=news&sm=tab_jum&query=%EA%B7%80%EB%86%8D+%EB%B6%88%ED%8E%B8%ED%95%9C+%EC%A0%90' + i['href'])"
   ]
  },
  {
   "cell_type": "code",
   "execution_count": 56,
   "metadata": {},
   "outputs": [
    {
     "data": {
      "text/plain": [
       "90"
      ]
     },
     "execution_count": 56,
     "metadata": {},
     "output_type": "execute_result"
    }
   ],
   "source": [
    "url_list = []\n",
    "for i in range(1,100):\n",
    "    page = 'https://search.naver.com/search.naver?where=news&sm=tab_pge&query=%EA%B7%80%EB%86%8D%20%EB%B6%88%ED%8E%B8%ED%95%9C%20%EC%A0%90&sort=0&photo=0&field=0&pd=0&ds=&de=&cluster_rank=10&mynews=0&office_type=0&office_section_code=0&news_office_checked=&nso=so:r,p:all,a:all&start={}1'.format(i-1)\n",
    "    driver.get(page)\n",
    "    time.sleep(1)\n",
    "\n",
    "    soup1 = bs(driver.page_source,'html.parser')\n",
    "    search = soup1.select('a.news_tit')\n",
    "    for i in search:\n",
    "        url_list.append(i['href'])\n",
    "len(url_list)"
   ]
  },
  {
   "cell_type": "code",
   "execution_count": 57,
   "metadata": {},
   "outputs": [],
   "source": [
    "# hrefs_list = []\n",
    "# for i in range(1,10):\n",
    "#     page = 'https://news.sbs.co.kr/news/newsflash.do?plink=NEW&cooper=SBSNEWSMAIN&pageIdx={}'.format(i)\n",
    "#     hrefs = soup.select('a.news')        \n",
    "#     for i in hrefs:\n",
    "#         hrefs_list.append('https://news.sbs.co.kr/' + i['href'])\n",
    "# len(hrefs_list)"
   ]
  },
  {
   "cell_type": "code",
   "execution_count": 58,
   "metadata": {},
   "outputs": [
    {
     "data": {
      "text/plain": [
       "['http://www.sisaweek.com/news/articleView.html?idxno=201846',\n",
       " 'https://www.artinsight.co.kr/news/view.php?no=62710',\n",
       " 'http://www.nongmin.com/article/ar_detail.htm?seq_id=366441',\n",
       " 'http://www.domin.co.kr/news/articleView.html?idxno=1395254',\n",
       " 'http://www.jeonmae.co.kr/news/articleView.html?idxno=840693',\n",
       " 'https://www.straightnews.co.kr/news/articleView.html?idxno=223456',\n",
       " 'https://www.ytn.co.kr/_ln/0103_202207150435548262',\n",
       " 'http://www.bzeronews.com/news/articleView.html?idxno=543158',\n",
       " 'http://www.paxetv.com/news/articleView.html?idxno=147367',\n",
       " 'https://news.kbs.co.kr/news/view.do?ncd=6865188&ref=A',\n",
       " 'http://www.shinailbo.co.kr/news/articleView.html?idxno=1557529',\n",
       " 'http://www.domin.co.kr/news/articleView.html?idxno=1379755',\n",
       " 'https://www.yna.co.kr/view/AKR20220414070300054?did=1195m',\n",
       " 'http://www.daejonilbo.com/news/newsitem.asp?pk_no=1512821',\n",
       " 'http://www.ohmynews.com/NWS_Web/View/at_pg.aspx?CNTN_CD=A0002891232&CMPT_CD=P0010&utm_source=naver&utm_medium=newsearch&utm_campaign=naver_news',\n",
       " 'https://www.asiatoday.co.kr/view.php?key=20220215010007616',\n",
       " 'https://bravo.etoday.co.kr/view/atc_view.php?varAtcId=13025',\n",
       " 'http://www.nongmin.com/article/ar_detail.htm?ar_id=612425',\n",
       " 'http://www.kbsm.net/default/index_view_page.php?idx=334271&part_idx=300',\n",
       " 'https://bravo.etoday.co.kr/view/atc_view.php?varAtcId=12957',\n",
       " 'https://news.imaeil.com/Culture/2020091314212023701',\n",
       " 'http://www.idjnews.kr/news/articleView.html?idxno=132331',\n",
       " 'http://www.newsgn.com/316316',\n",
       " 'http://www.jejuilbo.net/news/articleView.html?idxno=196828',\n",
       " 'http://www.newsgn.com/315421',\n",
       " 'http://www.knnews.co.kr/news/articleView.php?idxno=1393838',\n",
       " 'http://www.domin.co.kr/news/articleView.html?idxno=1355208',\n",
       " 'https://hankookilbo.com/News/Read/A2021090108580000055?did=NA',\n",
       " 'https://www.nongmin.com/article/20230102500450',\n",
       " 'http://www.domin.co.kr/news/articleView.html?idxno=1347690',\n",
       " 'http://www.kbmaeil.com/news/articleView.html?idxno=903570',\n",
       " 'https://www.hani.co.kr/arti/opinion/column/1011819.html',\n",
       " 'http://topclass.chosun.com/board/view.asp?catecode=R&tnu=202106100006',\n",
       " 'http://www.breaknews.com/842866',\n",
       " 'http://www.newsworks.co.kr/news/articleView.html?idxno=701582',\n",
       " 'http://www.jeonmae.co.kr/news/articleView.html?idxno=837839',\n",
       " 'http://www.kukinews.com/newsView/kuk202212280171',\n",
       " 'https://hankookilbo.com/News/Read/A2022122718130002355?did=NA',\n",
       " 'http://www.nongmin.com/article/ar_detail.htm?ar_id=608097',\n",
       " 'http://www.nongmin.com/article/ar_detail.htm?ar_id=604740',\n",
       " 'http://www.idjnews.kr/news/articleView.html?idxno=130407',\n",
       " 'https://hankookilbo.com/News/Read/A2022122811550005831?did=NA',\n",
       " 'http://www.ohmynews.com/NWS_Web/View/at_pg.aspx?CNTN_CD=A0002734979&CMPT_CD=P0010&utm_source=naver&utm_medium=newsearch&utm_campaign=naver_news',\n",
       " 'http://www.nongmin.com/article/ar_detail.htm?ar_id=601625',\n",
       " 'http://bravo.etoday.co.kr/view/atc_view.php?varAtcId=11754',\n",
       " 'http://www.munhwa.com/news/view.html?no=2020110501032639176003',\n",
       " 'http://www.nongmin.com/article/ar_detail.htm?ar_id=603397',\n",
       " 'http://news.bbsi.co.kr/news/articleView.html?idxno=3004319',\n",
       " 'http://www.wonyesanup.co.kr/news/articleView.html?idxno=53908',\n",
       " 'http://www.nongmin.com/article/ar_detail.htm?ar_id=311296',\n",
       " 'http://www.agrinet.co.kr/news/articleView.html?idxno=176010',\n",
       " 'https://news.joins.com/article/olink/23367159',\n",
       " 'https://www.nongmin.com/article/20230102500502',\n",
       " 'http://www.viva100.com/main/view.php?key=20200526010007123',\n",
       " 'http://www.thekpm.com/view.php?ud=202005210915163272931afa4cb1_17',\n",
       " 'http://yna.kr/AKR20200514113000061?did=1195m',\n",
       " 'http://www.nongmin.com/article/ar_detail.htm?ar_id=602282',\n",
       " 'http://www.nongmin.com/article/ar_detail.htm?ar_id=305679',\n",
       " 'http://realestate.joins.com/article/article.asp?pno=139354&ref=naver',\n",
       " 'http://news1.kr/articles/?3796365',\n",
       " 'http://www.dynews.co.kr/news/articleView.html?idxno=685560',\n",
       " 'http://woman.chosun.com/client/news/viw.asp?cate=C01&mcate=M1003&nNewsNumb=20190961716',\n",
       " 'http://www.kenews.co.kr/news/article.html?no=12104',\n",
       " 'http://www.amnews.co.kr/news/articleView.html?idxno=38201',\n",
       " 'http://www.newsway.co.kr/news/view?tp=1&ud=2019082818550500260',\n",
       " 'http://www.kihoilbo.co.kr/news/articleView.html?idxno=883372',\n",
       " 'http://news.kbs.co.kr/news/view.do?ncd=4253398&ref=A',\n",
       " 'http://www.domin.co.kr/news/articleView.html?idxno=1248292',\n",
       " 'http://www.sisamagazine.co.kr/news/articleView.html?idxno=226552',\n",
       " 'http://www.amnews.co.kr/news/articleView.html?idxno=36174',\n",
       " 'http://www.newskr.kr/news/articleView.html?idxno=18288',\n",
       " 'http://www.kyeonggi.com/?mod=news&act=articleView&idxno=1060386',\n",
       " 'http://www.youngnong.co.kr/news/articleView.html?idxno=22871',\n",
       " 'http://www.farmnmarket.com/news/article.html?no=8736',\n",
       " 'http://www.dgmbc.com/new/news/view2.do?nav=news&selectedId=221399&class_code1=030000&news_cate=',\n",
       " 'http://www.phmbc.co.kr/www/news/desk_news?idx=162508&mode=view',\n",
       " 'http://andongmbc.co.kr/adboard/NewsView37207',\n",
       " 'http://www.bzeronews.com/news/articleView.html?idxno=382726',\n",
       " 'http://www.dailypop.kr/news/articleView.html?idxno=36642',\n",
       " 'http://www.jbnews.com/news/articleView.html?idxno=1225387',\n",
       " 'http://www.gnnews.co.kr/news/articleView.html?idxno=441013',\n",
       " 'http://www.joongdo.co.kr/main/view.php?key=20180902010000186',\n",
       " 'http://www.newsway.co.kr/news/view?tp=1&ud=2018090116502702696',\n",
       " 'http://www.nongmin.com/article/ar_detail.htm?ar_id=294155',\n",
       " 'http://app.yonhapnews.co.kr/YNA/Basic/SNS/r.aspx?c=AKR20180827127700797&did=1195m',\n",
       " 'http://www.opinionnews.co.kr/news/articleView.html?idxno=10055',\n",
       " 'http://view.asiae.co.kr/news/view.htm?idxno=2018051816433864840',\n",
       " 'http://www.nongmin.com/article/ar_detail.htm?ar_id=287641',\n",
       " 'http://bravo.etoday.co.kr/view/atc_view.php?varAtcId=8822',\n",
       " 'http://www.nongmin.com/article/ar_detail.htm?ar_id=288581']"
      ]
     },
     "execution_count": 58,
     "metadata": {},
     "output_type": "execute_result"
    }
   ],
   "source": [
    "url_list"
   ]
  },
  {
   "cell_type": "code",
   "execution_count": 59,
   "metadata": {},
   "outputs": [
    {
     "name": "stderr",
     "output_type": "stream",
     "text": [
      "C:\\Users\\user\\AppData\\Local\\Temp\\ipykernel_21056\\3316245188.py:5: TqdmDeprecationWarning: This function will be removed in tqdm==5.0.0\n",
      "Please use `tqdm.notebook.tqdm` instead of `tqdm.tqdm_notebook`\n",
      "  for url in tqdm(url_list):\n"
     ]
    },
    {
     "data": {
      "application/vnd.jupyter.widget-view+json": {
       "model_id": "bd951a85829c48599f5ac7c5b654f1a9",
       "version_major": 2,
       "version_minor": 0
      },
      "text/plain": [
       "  0%|          | 0/90 [00:00<?, ?it/s]"
      ]
     },
     "metadata": {},
     "output_type": "display_data"
    },
    {
     "ename": "NoSuchWindowException",
     "evalue": "Message: no such window: target window already closed\nfrom unknown error: web view not found\n  (Session info: chrome=108.0.5359.126)\nStacktrace:\nBacktrace:\n\t(No symbol) [0x0096F243]\n\t(No symbol) [0x008F7FD1]\n\t(No symbol) [0x007ED04D]\n\t(No symbol) [0x007D2D7A]\n\t(No symbol) [0x0083BE7B]\n\t(No symbol) [0x0084C196]\n\t(No symbol) [0x00838386]\n\t(No symbol) [0x0081163C]\n\t(No symbol) [0x0081269D]\n\tGetHandleVerifier [0x00C09A22+2655074]\n\tGetHandleVerifier [0x00BFCA24+2601828]\n\tGetHandleVerifier [0x00A18C0A+619850]\n\tGetHandleVerifier [0x00A17830+614768]\n\t(No symbol) [0x009005FC]\n\t(No symbol) [0x00905968]\n\t(No symbol) [0x00905A55]\n\t(No symbol) [0x0091051B]\n\tBaseThreadInitThunk [0x75EE7D69+25]\n\tRtlInitializeExceptionChain [0x770BBB9B+107]\n\tRtlClearBits [0x770BBB1F+191]\n",
     "output_type": "error",
     "traceback": [
      "\u001b[1;31m---------------------------------------------------------------------------\u001b[0m",
      "\u001b[1;31mNoSuchWindowException\u001b[0m                     Traceback (most recent call last)",
      "Cell \u001b[1;32mIn [59], line 8\u001b[0m\n\u001b[0;32m      6\u001b[0m driver\u001b[39m.\u001b[39mget(url)\n\u001b[0;32m      7\u001b[0m time\u001b[39m.\u001b[39msleep(\u001b[39m1\u001b[39m)\n\u001b[1;32m----> 8\u001b[0m soup \u001b[39m=\u001b[39m bs(driver\u001b[39m.\u001b[39;49mpage_source,\u001b[39m'\u001b[39m\u001b[39mhtml.parser\u001b[39m\u001b[39m'\u001b[39m)  \n\u001b[0;32m      9\u001b[0m title \u001b[39m=\u001b[39m soup\u001b[39m.\u001b[39mselect(\u001b[39m'\u001b[39m\u001b[39mdiv.w_article_title > h3\u001b[39m\u001b[39m'\u001b[39m)\n\u001b[0;32m     10\u001b[0m contents \u001b[39m=\u001b[39m soup\u001b[39m.\u001b[39mselect(\u001b[39m'\u001b[39m\u001b[39mdiv.text_area\u001b[39m\u001b[39m'\u001b[39m)\n",
      "File \u001b[1;32mc:\\Users\\user\\AppData\\Local\\Programs\\Python\\Python38\\lib\\site-packages\\selenium\\webdriver\\remote\\webdriver.py:550\u001b[0m, in \u001b[0;36mWebDriver.page_source\u001b[1;34m(self)\u001b[0m\n\u001b[0;32m    540\u001b[0m \u001b[39m@property\u001b[39m\n\u001b[0;32m    541\u001b[0m \u001b[39mdef\u001b[39;00m \u001b[39mpage_source\u001b[39m(\u001b[39mself\u001b[39m) \u001b[39m-\u001b[39m\u001b[39m>\u001b[39m \u001b[39mstr\u001b[39m:\n\u001b[0;32m    542\u001b[0m     \u001b[39m\"\"\"\u001b[39;00m\n\u001b[0;32m    543\u001b[0m \u001b[39m    Gets the source of the current page.\u001b[39;00m\n\u001b[0;32m    544\u001b[0m \n\u001b[1;32m   (...)\u001b[0m\n\u001b[0;32m    548\u001b[0m \u001b[39m            driver.page_source\u001b[39;00m\n\u001b[0;32m    549\u001b[0m \u001b[39m    \"\"\"\u001b[39;00m\n\u001b[1;32m--> 550\u001b[0m     \u001b[39mreturn\u001b[39;00m \u001b[39mself\u001b[39;49m\u001b[39m.\u001b[39;49mexecute(Command\u001b[39m.\u001b[39;49mGET_PAGE_SOURCE)[\u001b[39m\"\u001b[39m\u001b[39mvalue\u001b[39m\u001b[39m\"\u001b[39m]\n",
      "File \u001b[1;32mc:\\Users\\user\\AppData\\Local\\Programs\\Python\\Python38\\lib\\site-packages\\selenium\\webdriver\\remote\\webdriver.py:444\u001b[0m, in \u001b[0;36mWebDriver.execute\u001b[1;34m(self, driver_command, params)\u001b[0m\n\u001b[0;32m    442\u001b[0m response \u001b[39m=\u001b[39m \u001b[39mself\u001b[39m\u001b[39m.\u001b[39mcommand_executor\u001b[39m.\u001b[39mexecute(driver_command, params)\n\u001b[0;32m    443\u001b[0m \u001b[39mif\u001b[39;00m response:\n\u001b[1;32m--> 444\u001b[0m     \u001b[39mself\u001b[39;49m\u001b[39m.\u001b[39;49merror_handler\u001b[39m.\u001b[39;49mcheck_response(response)\n\u001b[0;32m    445\u001b[0m     response[\u001b[39m\"\u001b[39m\u001b[39mvalue\u001b[39m\u001b[39m\"\u001b[39m] \u001b[39m=\u001b[39m \u001b[39mself\u001b[39m\u001b[39m.\u001b[39m_unwrap_value(response\u001b[39m.\u001b[39mget(\u001b[39m\"\u001b[39m\u001b[39mvalue\u001b[39m\u001b[39m\"\u001b[39m, \u001b[39mNone\u001b[39;00m))\n\u001b[0;32m    446\u001b[0m     \u001b[39mreturn\u001b[39;00m response\n",
      "File \u001b[1;32mc:\\Users\\user\\AppData\\Local\\Programs\\Python\\Python38\\lib\\site-packages\\selenium\\webdriver\\remote\\errorhandler.py:249\u001b[0m, in \u001b[0;36mErrorHandler.check_response\u001b[1;34m(self, response)\u001b[0m\n\u001b[0;32m    247\u001b[0m         alert_text \u001b[39m=\u001b[39m value[\u001b[39m\"\u001b[39m\u001b[39malert\u001b[39m\u001b[39m\"\u001b[39m]\u001b[39m.\u001b[39mget(\u001b[39m\"\u001b[39m\u001b[39mtext\u001b[39m\u001b[39m\"\u001b[39m)\n\u001b[0;32m    248\u001b[0m     \u001b[39mraise\u001b[39;00m exception_class(message, screen, stacktrace, alert_text)  \u001b[39m# type: ignore[call-arg]  # mypy is not smart enough here\u001b[39;00m\n\u001b[1;32m--> 249\u001b[0m \u001b[39mraise\u001b[39;00m exception_class(message, screen, stacktrace)\n",
      "\u001b[1;31mNoSuchWindowException\u001b[0m: Message: no such window: target window already closed\nfrom unknown error: web view not found\n  (Session info: chrome=108.0.5359.126)\nStacktrace:\nBacktrace:\n\t(No symbol) [0x0096F243]\n\t(No symbol) [0x008F7FD1]\n\t(No symbol) [0x007ED04D]\n\t(No symbol) [0x007D2D7A]\n\t(No symbol) [0x0083BE7B]\n\t(No symbol) [0x0084C196]\n\t(No symbol) [0x00838386]\n\t(No symbol) [0x0081163C]\n\t(No symbol) [0x0081269D]\n\tGetHandleVerifier [0x00C09A22+2655074]\n\tGetHandleVerifier [0x00BFCA24+2601828]\n\tGetHandleVerifier [0x00A18C0A+619850]\n\tGetHandleVerifier [0x00A17830+614768]\n\t(No symbol) [0x009005FC]\n\t(No symbol) [0x00905968]\n\t(No symbol) [0x00905A55]\n\t(No symbol) [0x0091051B]\n\tBaseThreadInitThunk [0x75EE7D69+25]\n\tRtlInitializeExceptionChain [0x770BBB9B+107]\n\tRtlClearBits [0x770BBB1F+191]\n"
     ]
    }
   ],
   "source": [
    "# 상세 페이지 기사 제목 & 내용\n",
    "title_list = []\n",
    "contents_list = []\n",
    "\n",
    "for url in tqdm(url_list):\n",
    "    driver.get(url)\n",
    "    time.sleep(1)\n",
    "    soup = bs(driver.page_source,'html.parser')  \n",
    "    title = soup.select('div.w_article_title > h3')\n",
    "    contents = soup.select('div.text_area')\n",
    "    for i in title:\n",
    "        title_list.append(i.text)\n",
    "    # title_list.append(title[0].text)\n",
    "    for i in contents:\n",
    "        contents_list.append(i.text)  \n",
    "    # contents_list.append(contents[0].text)\n",
    "len(title_list), len(contents_list)"
   ]
  },
  {
   "cell_type": "code",
   "execution_count": 61,
   "metadata": {},
   "outputs": [
    {
     "data": {
      "text/html": [
       "<div>\n",
       "<style scoped>\n",
       "    .dataframe tbody tr th:only-of-type {\n",
       "        vertical-align: middle;\n",
       "    }\n",
       "\n",
       "    .dataframe tbody tr th {\n",
       "        vertical-align: top;\n",
       "    }\n",
       "\n",
       "    .dataframe thead th {\n",
       "        text-align: right;\n",
       "    }\n",
       "</style>\n",
       "<table border=\"1\" class=\"dataframe\">\n",
       "  <thead>\n",
       "    <tr style=\"text-align: right;\">\n",
       "      <th></th>\n",
       "      <th>제목</th>\n",
       "      <th>내용</th>\n",
       "    </tr>\n",
       "  </thead>\n",
       "  <tbody>\n",
       "  </tbody>\n",
       "</table>\n",
       "</div>"
      ],
      "text/plain": [
       "Empty DataFrame\n",
       "Columns: [제목, 내용]\n",
       "Index: []"
      ]
     },
     "execution_count": 61,
     "metadata": {},
     "output_type": "execute_result"
    }
   ],
   "source": [
    "newsdata = {'제목':title_list,'참조주소':url_list,'내용':contents_list} \n",
    "current_news = pd.DataFrame(newsdata)\n",
    "current_news"
   ]
  },
  {
   "cell_type": "code",
   "execution_count": null,
   "metadata": {},
   "outputs": [],
   "source": [
    "\n"
   ]
  }
 ],
 "metadata": {
  "kernelspec": {
   "display_name": "Python 3",
   "language": "python",
   "name": "python3"
  },
  "language_info": {
   "codemirror_mode": {
    "name": "ipython",
    "version": 3
   },
   "file_extension": ".py",
   "mimetype": "text/x-python",
   "name": "python",
   "nbconvert_exporter": "python",
   "pygments_lexer": "ipython3",
   "version": "3.8.9 (tags/v3.8.9:a743f81, Apr  6 2021, 14:02:34) [MSC v.1928 64 bit (AMD64)]"
  },
  "orig_nbformat": 4,
  "vscode": {
   "interpreter": {
    "hash": "6a926afa313b26ae1264fdcf81c726a97e69f6ba2ba780f6aa901948710f8d6e"
   }
  }
 },
 "nbformat": 4,
 "nbformat_minor": 2
}
