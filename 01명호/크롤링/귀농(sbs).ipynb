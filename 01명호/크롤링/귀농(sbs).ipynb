{
 "cells": [
  {
   "cell_type": "code",
   "execution_count": 48,
   "metadata": {},
   "outputs": [],
   "source": [
    "from selenium import webdriver\n",
    "from webdriver_manager.chrome import ChromeDriverManager\n",
    "import pandas as pd\n",
    "import time\n",
    "from tqdm import tqdm_notebook as tqdm\n",
    "from bs4 import BeautifulSoup as bs\n",
    "import requests as req\n",
    "from selenium.webdriver.common.keys import Keys"
   ]
  },
  {
   "cell_type": "code",
   "execution_count": 49,
   "metadata": {},
   "outputs": [
    {
     "name": "stderr",
     "output_type": "stream",
     "text": [
      "C:\\Users\\user\\AppData\\Local\\Temp\\ipykernel_6792\\1503906442.py:1: DeprecationWarning: executable_path has been deprecated, please pass in a Service object\n",
      "  driver = webdriver.Chrome(ChromeDriverManager().install())\n"
     ]
    }
   ],
   "source": [
    "driver = webdriver.Chrome(ChromeDriverManager().install())"
   ]
  },
  {
   "cell_type": "code",
   "execution_count": 50,
   "metadata": {},
   "outputs": [],
   "source": [
    "driver.get('https://news.sbs.co.kr/news/newsflash.do?plink=NEW&cooper=SBSNEWSMAIN')"
   ]
  },
  {
   "cell_type": "code",
   "execution_count": 51,
   "metadata": {},
   "outputs": [],
   "source": [
    "finding = driver.find_element('xpath','//*[@id=\"wrap\"]/div[2]/div[5]/div/div[1]/div/form/input[1]')\n",
    "finding.click()\n",
    "finding.send_keys('귀농')\n",
    "finding.send_keys(Keys.ENTER)\n",
    "time.sleep(1)"
   ]
  },
  {
   "cell_type": "markdown",
   "metadata": {},
   "source": [
    "##### 뉴스페이지 url 가져오기"
   ]
  },
  {
   "cell_type": "code",
   "execution_count": 52,
   "metadata": {},
   "outputs": [],
   "source": [
    "soup = bs(driver.page_source,'html.parser')"
   ]
  },
  {
   "cell_type": "code",
   "execution_count": 53,
   "metadata": {},
   "outputs": [],
   "source": [
    "search = soup.select('a.psil_link')"
   ]
  },
  {
   "cell_type": "code",
   "execution_count": 54,
   "metadata": {},
   "outputs": [
    {
     "name": "stdout",
     "output_type": "stream",
     "text": [
      "https://news.sbs.co.kr/https://news.sbs.co.kr/news/endPage.do?news_id=N1007027304&plink=SEARCH&cooper=SBSNEWSSEARCH\n",
      "https://news.sbs.co.kr/https://news.sbs.co.kr/news/endPage.do?news_id=N1006975532&plink=SEARCH&cooper=SBSNEWSSEARCH\n",
      "https://news.sbs.co.kr/https://news.sbs.co.kr/news/endPage.do?news_id=N1006899184&plink=SEARCH&cooper=SBSNEWSSEARCH\n",
      "https://news.sbs.co.kr/https://news.sbs.co.kr/news/endPage.do?news_id=N1006837169&plink=SEARCH&cooper=SBSNEWSSEARCH\n",
      "https://news.sbs.co.kr/https://news.sbs.co.kr/news/endPage.do?news_id=N1006768746&plink=SEARCH&cooper=SBSNEWSSEARCH\n",
      "https://news.sbs.co.kr/https://news.sbs.co.kr/news/endPage.do?news_id=N1006758402&plink=SEARCH&cooper=SBSNEWSSEARCH\n",
      "https://news.sbs.co.kr/https://news.sbs.co.kr/news/endPage.do?news_id=N1006734827&plink=SEARCH&cooper=SBSNEWSSEARCH\n",
      "https://news.sbs.co.kr/https://news.sbs.co.kr/news/endPage.do?news_id=N1006734641&plink=SEARCH&cooper=SBSNEWSSEARCH\n",
      "https://news.sbs.co.kr/https://news.sbs.co.kr/news/endPage.do?news_id=N1006734587&plink=SEARCH&cooper=SBSNEWSSEARCH\n",
      "https://news.sbs.co.kr/https://news.sbs.co.kr/news/endPage.do?news_id=N1006611399&plink=SEARCH&cooper=SBSNEWSSEARCH\n"
     ]
    }
   ],
   "source": [
    "for i in search:\n",
    "    print('https://news.sbs.co.kr/' + i['href'])"
   ]
  },
  {
   "cell_type": "code",
   "execution_count": 55,
   "metadata": {},
   "outputs": [],
   "source": [
    "# search1 = soup.find_all('a', class_='psil_link')\n",
    "# for i in search1:\n",
    "#     print('https://news.sbs.co.kr/' + i['href'])"
   ]
  },
  {
   "cell_type": "code",
   "execution_count": 56,
   "metadata": {},
   "outputs": [
    {
     "data": {
      "text/plain": [
       "517"
      ]
     },
     "execution_count": 56,
     "metadata": {},
     "output_type": "execute_result"
    }
   ],
   "source": [
    "url_list = []\n",
    "for i in range(1,100):\n",
    "    page = 'https://news.sbs.co.kr/news/search/main.do?pageIdx={}&searchTermStartDate=&searchTermEndDate=&searchSection=01%7C02%7C03%7C07%7C08%7C09%7C14&searchCategory=&searchMode=&query=%EA%B7%80%EB%86%8D&collection=nnews&searchOption=1&searchStartDate=&searchEndDate='.format(i)\n",
    "    driver.get(page)\n",
    "    time.sleep(1)\n",
    "\n",
    "    soup1 = bs(driver.page_source,'html.parser')\n",
    "    search = soup1.select('a.psil_link')\n",
    "    for i in search:\n",
    "        url_list.append(i['href'])\n",
    "len(url_list)"
   ]
  },
  {
   "cell_type": "code",
   "execution_count": 57,
   "metadata": {},
   "outputs": [],
   "source": [
    "# hrefs_list = []\n",
    "# for i in range(1,10):\n",
    "#     page = 'https://news.sbs.co.kr/news/newsflash.do?plink=NEW&cooper=SBSNEWSMAIN&pageIdx={}'.format(i)\n",
    "#     hrefs = soup.select('a.news')        \n",
    "#     for i in hrefs:\n",
    "#         hrefs_list.append('https://news.sbs.co.kr/' + i['href'])\n",
    "# len(hrefs_list)"
   ]
  },
  {
   "cell_type": "code",
   "execution_count": 58,
   "metadata": {},
   "outputs": [
    {
     "name": "stderr",
     "output_type": "stream",
     "text": [
      "C:\\Users\\user\\AppData\\Local\\Temp\\ipykernel_6792\\3316245188.py:5: TqdmDeprecationWarning: This function will be removed in tqdm==5.0.0\n",
      "Please use `tqdm.notebook.tqdm` instead of `tqdm.tqdm_notebook`\n",
      "  for url in tqdm(url_list):\n"
     ]
    },
    {
     "data": {
      "application/vnd.jupyter.widget-view+json": {
       "model_id": "ada777feab344e1da87ac10407a3f2ed",
       "version_major": 2,
       "version_minor": 0
      },
      "text/plain": [
       "  0%|          | 0/517 [00:00<?, ?it/s]"
      ]
     },
     "metadata": {},
     "output_type": "display_data"
    },
    {
     "data": {
      "text/plain": [
       "(517, 517)"
      ]
     },
     "execution_count": 58,
     "metadata": {},
     "output_type": "execute_result"
    }
   ],
   "source": [
    "# 상세 페이지 기사 제목 & 내용\n",
    "title_list = []\n",
    "contents_list = []\n",
    "\n",
    "for url in tqdm(url_list):\n",
    "    driver.get(url)\n",
    "    time.sleep(1)\n",
    "    soup = bs(driver.page_source,'html.parser')  \n",
    "    title = soup.select('div.w_article_title > h3')\n",
    "    contents = soup.select('div.text_area')\n",
    "    for i in title:\n",
    "        title_list.append(i.text)\n",
    "    # title_list.append(title[0].text)\n",
    "    for i in contents:\n",
    "        contents_list.append(i.text)  \n",
    "    # contents_list.append(contents[0].text)\n",
    "len(title_list), len(contents_list)"
   ]
  },
  {
   "cell_type": "code",
   "execution_count": 59,
   "metadata": {},
   "outputs": [
    {
     "data": {
      "text/html": [
       "<div>\n",
       "<style scoped>\n",
       "    .dataframe tbody tr th:only-of-type {\n",
       "        vertical-align: middle;\n",
       "    }\n",
       "\n",
       "    .dataframe tbody tr th {\n",
       "        vertical-align: top;\n",
       "    }\n",
       "\n",
       "    .dataframe thead th {\n",
       "        text-align: right;\n",
       "    }\n",
       "</style>\n",
       "<table border=\"1\" class=\"dataframe\">\n",
       "  <thead>\n",
       "    <tr style=\"text-align: right;\">\n",
       "      <th></th>\n",
       "      <th>제목</th>\n",
       "      <th>참조주소</th>\n",
       "      <th>내용</th>\n",
       "    </tr>\n",
       "  </thead>\n",
       "  <tbody>\n",
       "    <tr>\n",
       "      <th>0</th>\n",
       "      <td>충북, '631억 원' 투입해 '레이크파크 르네상스' 실현한다</td>\n",
       "      <td>https://news.sbs.co.kr/news/endPage.do?news_id...</td>\n",
       "      <td>\\n  충청북도가 김영환 지사의 대표 공약인 레이크파크 르네상스 실현을 위해 내년부...</td>\n",
       "    </tr>\n",
       "    <tr>\n",
       "      <th>1</th>\n",
       "      <td>인구 감소 시대…부산 원도심 소멸, 축소사회 불가피, 속도 조절·적응이 관건</td>\n",
       "      <td>https://news.sbs.co.kr/news/endPage.do?news_id...</td>\n",
       "      <td>\\n  부산은 지난해 65세 이상 인구 비율이 20%가 넘는 초고령 사회에 진입했습...</td>\n",
       "    </tr>\n",
       "    <tr>\n",
       "      <th>2</th>\n",
       "      <td>선배들이 들려주는 '귀농 노하우'…예비 귀농인 모였다</td>\n",
       "      <td>https://news.sbs.co.kr/news/endPage.do?news_id...</td>\n",
       "      <td>\\n  &lt;앵커&gt; \\n  \\n 귀농·귀촌을 꿈꾸는 도시민들이 충북 영동 산골 마을에 ...</td>\n",
       "    </tr>\n",
       "    <tr>\n",
       "      <th>3</th>\n",
       "      <td>목수 · 커피숍…귀촌 청년들은 어떻게 정착에 성공했나</td>\n",
       "      <td>https://news.sbs.co.kr/news/endPage.do?news_id...</td>\n",
       "      <td>\\n  &lt;앵커&gt; \\n  \\n 자치단체마다 귀농, 귀촌인을 유치해서 지역 활성화에 힘...</td>\n",
       "    </tr>\n",
       "    <tr>\n",
       "      <th>4</th>\n",
       "      <td>[문화현장] 엔지니어서 농부로, 프랑스서 한국으로 귀농한 부부</td>\n",
       "      <td>https://news.sbs.co.kr/news/endPage.do?news_id...</td>\n",
       "      <td>\\n[FunFun 문화현장]\\n\\n &lt;앵커&gt; \\n  \\n 이어서 문화현장입니다. 이...</td>\n",
       "    </tr>\n",
       "    <tr>\n",
       "      <th>...</th>\n",
       "      <td>...</td>\n",
       "      <td>...</td>\n",
       "      <td>...</td>\n",
       "    </tr>\n",
       "    <tr>\n",
       "      <th>512</th>\n",
       "      <td>농촌에서 새삶</td>\n",
       "      <td>https://news.sbs.co.kr/news/endPage.do?news_id...</td>\n",
       "      <td>\\n  실직자가 급증하면서요즘 농촌으로 돌아가는 귀농인구가크게 늘고 있습니다.이들은...</td>\n",
       "    </tr>\n",
       "    <tr>\n",
       "      <th>513</th>\n",
       "      <td>유리 온실 27억 소득</td>\n",
       "      <td>https://news.sbs.co.kr/news/endPage.do?news_id...</td>\n",
       "      <td>\\n  첨단농법으로 올 한해 27억원의 소득을 기대하고 있는 강 원도 횡성의 한 마...</td>\n",
       "    </tr>\n",
       "    <tr>\n",
       "      <th>514</th>\n",
       "      <td>실업, 30만명에 일자리</td>\n",
       "      <td>https://news.sbs.co.kr/news/endPage.do?news_id...</td>\n",
       "      <td>\\n  실직자 생계지원을 위한 공공근로사업이 내일부터 본격시행됩니다. 정부는 실업예...</td>\n",
       "    </tr>\n",
       "    <tr>\n",
       "      <th>515</th>\n",
       "      <td>귀농학교 인기</td>\n",
       "      <td>https://news.sbs.co.kr/news/endPage.do?news_id...</td>\n",
       "      <td>\\n  심각한 실업문제를 해결하기 위해서 종교계까지 적극 나섰습니다. 불교 조계종에...</td>\n",
       "    </tr>\n",
       "    <tr>\n",
       "      <th>516</th>\n",
       "      <td>귀농학교 성황</td>\n",
       "      <td>https://news.sbs.co.kr/news/endPage.do?news_id...</td>\n",
       "      <td>\\n  직장인들사이에 실업에대한 불안감이 급속히확산되고있는 가운데 농촌생활을 소개하...</td>\n",
       "    </tr>\n",
       "  </tbody>\n",
       "</table>\n",
       "<p>517 rows × 3 columns</p>\n",
       "</div>"
      ],
      "text/plain": [
       "                                             제목  \\\n",
       "0            충북, '631억 원' 투입해 '레이크파크 르네상스' 실현한다   \n",
       "1    인구 감소 시대…부산 원도심 소멸, 축소사회 불가피, 속도 조절·적응이 관건   \n",
       "2                 선배들이 들려주는 '귀농 노하우'…예비 귀농인 모였다   \n",
       "3                 목수 · 커피숍…귀촌 청년들은 어떻게 정착에 성공했나   \n",
       "4            [문화현장] 엔지니어서 농부로, 프랑스서 한국으로 귀농한 부부   \n",
       "..                                          ...   \n",
       "512                                     농촌에서 새삶   \n",
       "513                                유리 온실 27억 소득   \n",
       "514                               실업, 30만명에 일자리   \n",
       "515                                     귀농학교 인기   \n",
       "516                                     귀농학교 성황   \n",
       "\n",
       "                                                  참조주소  \\\n",
       "0    https://news.sbs.co.kr/news/endPage.do?news_id...   \n",
       "1    https://news.sbs.co.kr/news/endPage.do?news_id...   \n",
       "2    https://news.sbs.co.kr/news/endPage.do?news_id...   \n",
       "3    https://news.sbs.co.kr/news/endPage.do?news_id...   \n",
       "4    https://news.sbs.co.kr/news/endPage.do?news_id...   \n",
       "..                                                 ...   \n",
       "512  https://news.sbs.co.kr/news/endPage.do?news_id...   \n",
       "513  https://news.sbs.co.kr/news/endPage.do?news_id...   \n",
       "514  https://news.sbs.co.kr/news/endPage.do?news_id...   \n",
       "515  https://news.sbs.co.kr/news/endPage.do?news_id...   \n",
       "516  https://news.sbs.co.kr/news/endPage.do?news_id...   \n",
       "\n",
       "                                                    내용  \n",
       "0    \\n  충청북도가 김영환 지사의 대표 공약인 레이크파크 르네상스 실현을 위해 내년부...  \n",
       "1    \\n  부산은 지난해 65세 이상 인구 비율이 20%가 넘는 초고령 사회에 진입했습...  \n",
       "2    \\n  <앵커> \\n  \\n 귀농·귀촌을 꿈꾸는 도시민들이 충북 영동 산골 마을에 ...  \n",
       "3    \\n  <앵커> \\n  \\n 자치단체마다 귀농, 귀촌인을 유치해서 지역 활성화에 힘...  \n",
       "4    \\n[FunFun 문화현장]\\n\\n <앵커> \\n  \\n 이어서 문화현장입니다. 이...  \n",
       "..                                                 ...  \n",
       "512  \\n  실직자가 급증하면서요즘 농촌으로 돌아가는 귀농인구가크게 늘고 있습니다.이들은...  \n",
       "513  \\n  첨단농법으로 올 한해 27억원의 소득을 기대하고 있는 강 원도 횡성의 한 마...  \n",
       "514  \\n  실직자 생계지원을 위한 공공근로사업이 내일부터 본격시행됩니다. 정부는 실업예...  \n",
       "515  \\n  심각한 실업문제를 해결하기 위해서 종교계까지 적극 나섰습니다. 불교 조계종에...  \n",
       "516  \\n  직장인들사이에 실업에대한 불안감이 급속히확산되고있는 가운데 농촌생활을 소개하...  \n",
       "\n",
       "[517 rows x 3 columns]"
      ]
     },
     "execution_count": 59,
     "metadata": {},
     "output_type": "execute_result"
    }
   ],
   "source": [
    "newsdata = {'제목':title_list,'참조주소':url_list,'내용':contents_list}\n",
    "current_news = pd.DataFrame(newsdata)\n",
    "current_news"
   ]
  },
  {
   "cell_type": "code",
   "execution_count": 60,
   "metadata": {},
   "outputs": [
    {
     "data": {
      "text/plain": [
       "'\\n  충청북도가 김영환 지사의 대표 공약인 레이크파크 르네상스 실현을 위해 내년부터 2032년까지 10년간 631억 원을 투입합니다. \\n  \\n 충청북도는 청남대를 충북 레이크파크 르네상스의 거점으로 육성하고 미동산 수목원과 조령산휴양림을 체류형 관광지로, 미호강은 친수 여가 공간으로 조성하는 등의 5대 선도과제를 우선 추진하기로 했습니다. \\n  \\n 또 문화와 환경, 귀농, 귀촌 등 분야별 중점과제는 충북도내 시군과 협업을 통해 완성도를 높여 나갈 계획입니다.\\n '"
      ]
     },
     "execution_count": 60,
     "metadata": {},
     "output_type": "execute_result"
    }
   ],
   "source": [
    "current_news['내용'][0]"
   ]
  },
  {
   "cell_type": "code",
   "execution_count": 61,
   "metadata": {},
   "outputs": [],
   "source": [
    "current_news['방송사'] = 'sbs'"
   ]
  },
  {
   "cell_type": "code",
   "execution_count": 64,
   "metadata": {},
   "outputs": [],
   "source": [
    "current_news.to_csv('귀농(sbs).csv', encoding='utf-8-sig')"
   ]
  },
  {
   "cell_type": "code",
   "execution_count": null,
   "metadata": {},
   "outputs": [],
   "source": []
  }
 ],
 "metadata": {
  "kernelspec": {
   "display_name": "Python 3",
   "language": "python",
   "name": "python3"
  },
  "language_info": {
   "codemirror_mode": {
    "name": "ipython",
    "version": 3
   },
   "file_extension": ".py",
   "mimetype": "text/x-python",
   "name": "python",
   "nbconvert_exporter": "python",
   "pygments_lexer": "ipython3",
   "version": "3.8.9 (tags/v3.8.9:a743f81, Apr  6 2021, 14:02:34) [MSC v.1928 64 bit (AMD64)]"
  },
  "orig_nbformat": 4,
  "vscode": {
   "interpreter": {
    "hash": "6a926afa313b26ae1264fdcf81c726a97e69f6ba2ba780f6aa901948710f8d6e"
   }
  }
 },
 "nbformat": 4,
 "nbformat_minor": 2
}
