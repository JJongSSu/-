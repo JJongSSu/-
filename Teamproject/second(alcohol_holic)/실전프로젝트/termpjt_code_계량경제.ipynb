{
 "cells": [
  {
   "cell_type": "markdown",
   "metadata": {},
   "source": [
    "# data load"
   ]
  },
  {
   "cell_type": "code",
   "execution_count": 1,
   "metadata": {
    "ExecuteTime": {
     "end_time": "2021-06-14T06:52:20.559542Z",
     "start_time": "2021-06-14T06:52:19.143831Z"
    }
   },
   "outputs": [],
   "source": [
    "from sklearn.cluster import KMeans\n",
    "import matplotlib.pyplot as plt\n",
    "import numpy as np\n",
    "import pandas as pd"
   ]
  },
  {
   "cell_type": "code",
   "execution_count": 2,
   "metadata": {
    "ExecuteTime": {
     "end_time": "2021-06-14T06:52:22.132818Z",
     "start_time": "2021-06-14T06:52:21.399942Z"
    }
   },
   "outputs": [
    {
     "data": {
      "text/html": [
       "<div>\n",
       "<style scoped>\n",
       "    .dataframe tbody tr th:only-of-type {\n",
       "        vertical-align: middle;\n",
       "    }\n",
       "\n",
       "    .dataframe tbody tr th {\n",
       "        vertical-align: top;\n",
       "    }\n",
       "\n",
       "    .dataframe thead th {\n",
       "        text-align: right;\n",
       "    }\n",
       "</style>\n",
       "<table border=\"1\" class=\"dataframe\">\n",
       "  <thead>\n",
       "    <tr style=\"text-align: right;\">\n",
       "      <th></th>\n",
       "      <th>Released</th>\n",
       "      <th>Track_Name</th>\n",
       "      <th>Artist_Names</th>\n",
       "      <th>Entertainment</th>\n",
       "      <th>Member</th>\n",
       "      <th>Gender</th>\n",
       "      <th>Genre</th>\n",
       "      <th>Record_Kind</th>\n",
       "      <th>Country</th>\n",
       "      <th>Producing</th>\n",
       "      <th>w1</th>\n",
       "      <th>w2</th>\n",
       "      <th>w3</th>\n",
       "      <th>w4</th>\n",
       "      <th>w5</th>\n",
       "      <th>w6</th>\n",
       "      <th>w7</th>\n",
       "      <th>w8</th>\n",
       "    </tr>\n",
       "  </thead>\n",
       "  <tbody>\n",
       "    <tr>\n",
       "      <th>0</th>\n",
       "      <td>2021-01-27</td>\n",
       "      <td>Celebrity</td>\n",
       "      <td>아이유</td>\n",
       "      <td>big</td>\n",
       "      <td>solo</td>\n",
       "      <td>female</td>\n",
       "      <td>dance</td>\n",
       "      <td>single</td>\n",
       "      <td>0.0</td>\n",
       "      <td>1</td>\n",
       "      <td>1</td>\n",
       "      <td>1</td>\n",
       "      <td>1</td>\n",
       "      <td>1</td>\n",
       "      <td>1</td>\n",
       "      <td>1</td>\n",
       "      <td>4</td>\n",
       "      <td>5</td>\n",
       "    </tr>\n",
       "    <tr>\n",
       "      <th>1</th>\n",
       "      <td>2020-04-27</td>\n",
       "      <td>살짝 설렜어</td>\n",
       "      <td>오마이걸</td>\n",
       "      <td>small</td>\n",
       "      <td>idol</td>\n",
       "      <td>female</td>\n",
       "      <td>dance</td>\n",
       "      <td>mini</td>\n",
       "      <td>0.0</td>\n",
       "      <td>1</td>\n",
       "      <td>1</td>\n",
       "      <td>2</td>\n",
       "      <td>1</td>\n",
       "      <td>3</td>\n",
       "      <td>3</td>\n",
       "      <td>3</td>\n",
       "      <td>4</td>\n",
       "      <td>3</td>\n",
       "    </tr>\n",
       "    <tr>\n",
       "      <th>2</th>\n",
       "      <td>2020-02-06</td>\n",
       "      <td>뛰어들게 (DIve)</td>\n",
       "      <td>iKON</td>\n",
       "      <td>big</td>\n",
       "      <td>idol</td>\n",
       "      <td>male</td>\n",
       "      <td>dance</td>\n",
       "      <td>mini</td>\n",
       "      <td>0.0</td>\n",
       "      <td>1</td>\n",
       "      <td>15</td>\n",
       "      <td>45</td>\n",
       "      <td>56</td>\n",
       "      <td>71</td>\n",
       "      <td>100</td>\n",
       "      <td>100</td>\n",
       "      <td>100</td>\n",
       "      <td>100</td>\n",
       "    </tr>\n",
       "    <tr>\n",
       "      <th>3</th>\n",
       "      <td>2020-01-07</td>\n",
       "      <td>Good Guy</td>\n",
       "      <td>SF9</td>\n",
       "      <td>big</td>\n",
       "      <td>idol</td>\n",
       "      <td>male</td>\n",
       "      <td>dance</td>\n",
       "      <td>regular</td>\n",
       "      <td>0.0</td>\n",
       "      <td>1</td>\n",
       "      <td>36</td>\n",
       "      <td>72</td>\n",
       "      <td>100</td>\n",
       "      <td>100</td>\n",
       "      <td>100</td>\n",
       "      <td>100</td>\n",
       "      <td>100</td>\n",
       "      <td>100</td>\n",
       "    </tr>\n",
       "    <tr>\n",
       "      <th>4</th>\n",
       "      <td>2020-03-09</td>\n",
       "      <td>Howling</td>\n",
       "      <td>VICTON (빅톤)</td>\n",
       "      <td>small</td>\n",
       "      <td>idol</td>\n",
       "      <td>male</td>\n",
       "      <td>dance</td>\n",
       "      <td>mini</td>\n",
       "      <td>0.0</td>\n",
       "      <td>1</td>\n",
       "      <td>45</td>\n",
       "      <td>100</td>\n",
       "      <td>100</td>\n",
       "      <td>100</td>\n",
       "      <td>100</td>\n",
       "      <td>100</td>\n",
       "      <td>100</td>\n",
       "      <td>100</td>\n",
       "    </tr>\n",
       "    <tr>\n",
       "      <th>...</th>\n",
       "      <td>...</td>\n",
       "      <td>...</td>\n",
       "      <td>...</td>\n",
       "      <td>...</td>\n",
       "      <td>...</td>\n",
       "      <td>...</td>\n",
       "      <td>...</td>\n",
       "      <td>...</td>\n",
       "      <td>...</td>\n",
       "      <td>...</td>\n",
       "      <td>...</td>\n",
       "      <td>...</td>\n",
       "      <td>...</td>\n",
       "      <td>...</td>\n",
       "      <td>...</td>\n",
       "      <td>...</td>\n",
       "      <td>...</td>\n",
       "      <td>...</td>\n",
       "    </tr>\n",
       "    <tr>\n",
       "      <th>95</th>\n",
       "      <td>2020-12-28</td>\n",
       "      <td>불면</td>\n",
       "      <td>김필</td>\n",
       "      <td>small</td>\n",
       "      <td>solo</td>\n",
       "      <td>male</td>\n",
       "      <td>rock</td>\n",
       "      <td>single</td>\n",
       "      <td>0.0</td>\n",
       "      <td>1</td>\n",
       "      <td>100</td>\n",
       "      <td>100</td>\n",
       "      <td>100</td>\n",
       "      <td>100</td>\n",
       "      <td>100</td>\n",
       "      <td>100</td>\n",
       "      <td>100</td>\n",
       "      <td>100</td>\n",
       "    </tr>\n",
       "    <tr>\n",
       "      <th>96</th>\n",
       "      <td>2020-07-23</td>\n",
       "      <td>Dreaming</td>\n",
       "      <td>규현(슈퍼주니어)</td>\n",
       "      <td>big</td>\n",
       "      <td>idol_solo</td>\n",
       "      <td>male</td>\n",
       "      <td>rock</td>\n",
       "      <td>single</td>\n",
       "      <td>0.0</td>\n",
       "      <td>0</td>\n",
       "      <td>100</td>\n",
       "      <td>100</td>\n",
       "      <td>100</td>\n",
       "      <td>100</td>\n",
       "      <td>100</td>\n",
       "      <td>100</td>\n",
       "      <td>100</td>\n",
       "      <td>100</td>\n",
       "    </tr>\n",
       "    <tr>\n",
       "      <th>97</th>\n",
       "      <td>2021-03-03</td>\n",
       "      <td>어떤날은</td>\n",
       "      <td>김필</td>\n",
       "      <td>small</td>\n",
       "      <td>solo</td>\n",
       "      <td>male</td>\n",
       "      <td>rock</td>\n",
       "      <td>single</td>\n",
       "      <td>0.0</td>\n",
       "      <td>1</td>\n",
       "      <td>100</td>\n",
       "      <td>100</td>\n",
       "      <td>100</td>\n",
       "      <td>100</td>\n",
       "      <td>100</td>\n",
       "      <td>100</td>\n",
       "      <td>100</td>\n",
       "      <td>100</td>\n",
       "    </tr>\n",
       "    <tr>\n",
       "      <th>98</th>\n",
       "      <td>2020-02-18</td>\n",
       "      <td>scream</td>\n",
       "      <td>드림캐쳐</td>\n",
       "      <td>small</td>\n",
       "      <td>idol</td>\n",
       "      <td>female</td>\n",
       "      <td>rock</td>\n",
       "      <td>regular</td>\n",
       "      <td>0.0</td>\n",
       "      <td>0</td>\n",
       "      <td>63</td>\n",
       "      <td>52</td>\n",
       "      <td>67</td>\n",
       "      <td>66</td>\n",
       "      <td>73</td>\n",
       "      <td>80</td>\n",
       "      <td>92</td>\n",
       "      <td>100</td>\n",
       "    </tr>\n",
       "    <tr>\n",
       "      <th>99</th>\n",
       "      <td>2020-07-03</td>\n",
       "      <td>HOLA!</td>\n",
       "      <td>자우림</td>\n",
       "      <td>big</td>\n",
       "      <td>group</td>\n",
       "      <td>mixed</td>\n",
       "      <td>rock</td>\n",
       "      <td>mini</td>\n",
       "      <td>0.0</td>\n",
       "      <td>1</td>\n",
       "      <td>94</td>\n",
       "      <td>100</td>\n",
       "      <td>100</td>\n",
       "      <td>100</td>\n",
       "      <td>100</td>\n",
       "      <td>100</td>\n",
       "      <td>100</td>\n",
       "      <td>100</td>\n",
       "    </tr>\n",
       "  </tbody>\n",
       "</table>\n",
       "<p>100 rows × 18 columns</p>\n",
       "</div>"
      ],
      "text/plain": [
       "     Released   Track_Name Artist_Names Entertainment     Member  Gender  \\\n",
       "0  2021-01-27    Celebrity          아이유           big       solo  female   \n",
       "1  2020-04-27       살짝 설렜어         오마이걸         small       idol  female   \n",
       "2  2020-02-06  뛰어들게 (DIve)         iKON           big       idol    male   \n",
       "3  2020-01-07     Good Guy          SF9           big       idol    male   \n",
       "4  2020-03-09      Howling  VICTON (빅톤)         small       idol    male   \n",
       "..        ...          ...          ...           ...        ...     ...   \n",
       "95 2020-12-28           불면           김필         small       solo    male   \n",
       "96 2020-07-23     Dreaming    규현(슈퍼주니어)           big  idol_solo    male   \n",
       "97 2021-03-03         어떤날은           김필         small       solo    male   \n",
       "98 2020-02-18       scream         드림캐쳐         small       idol  female   \n",
       "99 2020-07-03        HOLA!          자우림           big      group   mixed   \n",
       "\n",
       "    Genre Record_Kind  Country  Producing   w1   w2   w3   w4   w5   w6   w7  \\\n",
       "0   dance      single      0.0          1    1    1    1    1    1    1    4   \n",
       "1   dance        mini      0.0          1    1    2    1    3    3    3    4   \n",
       "2   dance        mini      0.0          1   15   45   56   71  100  100  100   \n",
       "3   dance     regular      0.0          1   36   72  100  100  100  100  100   \n",
       "4   dance        mini      0.0          1   45  100  100  100  100  100  100   \n",
       "..    ...         ...      ...        ...  ...  ...  ...  ...  ...  ...  ...   \n",
       "95   rock      single      0.0          1  100  100  100  100  100  100  100   \n",
       "96   rock      single      0.0          0  100  100  100  100  100  100  100   \n",
       "97   rock      single      0.0          1  100  100  100  100  100  100  100   \n",
       "98   rock     regular      0.0          0   63   52   67   66   73   80   92   \n",
       "99   rock        mini      0.0          1   94  100  100  100  100  100  100   \n",
       "\n",
       "     w8  \n",
       "0     5  \n",
       "1     3  \n",
       "2   100  \n",
       "3   100  \n",
       "4   100  \n",
       "..  ...  \n",
       "95  100  \n",
       "96  100  \n",
       "97  100  \n",
       "98  100  \n",
       "99  100  \n",
       "\n",
       "[100 rows x 18 columns]"
      ]
     },
     "execution_count": 2,
     "metadata": {},
     "output_type": "execute_result"
    }
   ],
   "source": [
    "# data load\n",
    "df = pd.read_excel('dataset_top100(3).xlsx')\n",
    "df"
   ]
  },
  {
   "cell_type": "code",
   "execution_count": 3,
   "metadata": {
    "ExecuteTime": {
     "end_time": "2021-06-14T06:52:24.241190Z",
     "start_time": "2021-06-14T06:52:24.224177Z"
    }
   },
   "outputs": [
    {
     "name": "stdout",
     "output_type": "stream",
     "text": [
      "<class 'pandas.core.frame.DataFrame'>\n",
      "RangeIndex: 100 entries, 0 to 99\n",
      "Data columns (total 18 columns):\n",
      " #   Column         Non-Null Count  Dtype         \n",
      "---  ------         --------------  -----         \n",
      " 0   Released       100 non-null    datetime64[ns]\n",
      " 1   Track_Name     100 non-null    object        \n",
      " 2   Artist_Names   100 non-null    object        \n",
      " 3   Entertainment  100 non-null    object        \n",
      " 4   Member         100 non-null    object        \n",
      " 5   Gender         100 non-null    object        \n",
      " 6   Genre          100 non-null    object        \n",
      " 7   Record_Kind    100 non-null    object        \n",
      " 8   Country        100 non-null    float64       \n",
      " 9   Producing      100 non-null    int64         \n",
      " 10  w1             100 non-null    int64         \n",
      " 11  w2             100 non-null    int64         \n",
      " 12  w3             100 non-null    int64         \n",
      " 13  w4             100 non-null    int64         \n",
      " 14  w5             100 non-null    int64         \n",
      " 15  w6             100 non-null    int64         \n",
      " 16  w7             100 non-null    int64         \n",
      " 17  w8             100 non-null    int64         \n",
      "dtypes: datetime64[ns](1), float64(1), int64(9), object(7)\n",
      "memory usage: 14.2+ KB\n"
     ]
    }
   ],
   "source": [
    "df.info()"
   ]
  },
  {
   "cell_type": "code",
   "execution_count": 4,
   "metadata": {
    "ExecuteTime": {
     "end_time": "2021-06-14T06:52:30.868376Z",
     "start_time": "2021-06-14T06:52:30.848469Z"
    }
   },
   "outputs": [
    {
     "name": "stdout",
     "output_type": "stream",
     "text": [
      "<기획사 크기>\n",
      " small    67\n",
      "big      33\n",
      "Name: Entertainment, dtype: int64\n",
      "<멤버 구성>\n",
      " solo         44\n",
      "idol         34\n",
      "idol_solo    13\n",
      "group         9\n",
      "Name: Member, dtype: int64\n",
      "<성별>\n",
      " male      62\n",
      "female    36\n",
      "mixed      2\n",
      "Name: Gender, dtype: int64\n",
      "<앨범 종류>\n",
      " single     51\n",
      "mini       31\n",
      "regular    18\n",
      "Name: Record_Kind, dtype: int64\n",
      "<외국인 멤버 비중>\n",
      " 0.000    86\n",
      "0.250     4\n",
      "0.500     2\n",
      "0.180     1\n",
      "0.625     1\n",
      "0.440     1\n",
      "0.230     1\n",
      "0.430     1\n",
      "0.300     1\n",
      "0.570     1\n",
      "1.000     1\n",
      "Name: Country, dtype: int64\n",
      "<앨범 참여 유무>\n",
      " 1    68\n",
      "0    32\n",
      "Name: Producing, dtype: int64\n"
     ]
    }
   ],
   "source": [
    "# 변수 검토\n",
    "print('<기획사 크기>\\n',df.Entertainment.value_counts())\n",
    "print('<멤버 구성>\\n',df.Member.value_counts())\n",
    "print('<성별>\\n',df.Gender.value_counts())\n",
    "print('<앨범 종류>\\n',df.Record_Kind.value_counts())\n",
    "print('<외국인 멤버 비중>\\n',df.Country.value_counts())\n",
    "print('<앨범 참여 유무>\\n',df.Producing.value_counts())"
   ]
  },
  {
   "cell_type": "markdown",
   "metadata": {},
   "source": [
    "# 클러스터링"
   ]
  },
  {
   "cell_type": "code",
   "execution_count": 5,
   "metadata": {
    "ExecuteTime": {
     "end_time": "2021-06-14T06:52:33.858935Z",
     "start_time": "2021-06-14T06:52:33.835000Z"
    }
   },
   "outputs": [
    {
     "data": {
      "text/html": [
       "<div>\n",
       "<style scoped>\n",
       "    .dataframe tbody tr th:only-of-type {\n",
       "        vertical-align: middle;\n",
       "    }\n",
       "\n",
       "    .dataframe tbody tr th {\n",
       "        vertical-align: top;\n",
       "    }\n",
       "\n",
       "    .dataframe thead th {\n",
       "        text-align: right;\n",
       "    }\n",
       "</style>\n",
       "<table border=\"1\" class=\"dataframe\">\n",
       "  <thead>\n",
       "    <tr style=\"text-align: right;\">\n",
       "      <th></th>\n",
       "      <th>w1</th>\n",
       "      <th>w2</th>\n",
       "      <th>w3</th>\n",
       "      <th>w4</th>\n",
       "      <th>w5</th>\n",
       "      <th>w6</th>\n",
       "      <th>w7</th>\n",
       "      <th>w8</th>\n",
       "    </tr>\n",
       "  </thead>\n",
       "  <tbody>\n",
       "    <tr>\n",
       "      <th>0</th>\n",
       "      <td>1</td>\n",
       "      <td>1</td>\n",
       "      <td>1</td>\n",
       "      <td>1</td>\n",
       "      <td>1</td>\n",
       "      <td>1</td>\n",
       "      <td>4</td>\n",
       "      <td>5</td>\n",
       "    </tr>\n",
       "    <tr>\n",
       "      <th>1</th>\n",
       "      <td>1</td>\n",
       "      <td>2</td>\n",
       "      <td>1</td>\n",
       "      <td>3</td>\n",
       "      <td>3</td>\n",
       "      <td>3</td>\n",
       "      <td>4</td>\n",
       "      <td>3</td>\n",
       "    </tr>\n",
       "    <tr>\n",
       "      <th>2</th>\n",
       "      <td>15</td>\n",
       "      <td>45</td>\n",
       "      <td>56</td>\n",
       "      <td>71</td>\n",
       "      <td>100</td>\n",
       "      <td>100</td>\n",
       "      <td>100</td>\n",
       "      <td>100</td>\n",
       "    </tr>\n",
       "    <tr>\n",
       "      <th>3</th>\n",
       "      <td>36</td>\n",
       "      <td>72</td>\n",
       "      <td>100</td>\n",
       "      <td>100</td>\n",
       "      <td>100</td>\n",
       "      <td>100</td>\n",
       "      <td>100</td>\n",
       "      <td>100</td>\n",
       "    </tr>\n",
       "    <tr>\n",
       "      <th>4</th>\n",
       "      <td>45</td>\n",
       "      <td>100</td>\n",
       "      <td>100</td>\n",
       "      <td>100</td>\n",
       "      <td>100</td>\n",
       "      <td>100</td>\n",
       "      <td>100</td>\n",
       "      <td>100</td>\n",
       "    </tr>\n",
       "    <tr>\n",
       "      <th>...</th>\n",
       "      <td>...</td>\n",
       "      <td>...</td>\n",
       "      <td>...</td>\n",
       "      <td>...</td>\n",
       "      <td>...</td>\n",
       "      <td>...</td>\n",
       "      <td>...</td>\n",
       "      <td>...</td>\n",
       "    </tr>\n",
       "    <tr>\n",
       "      <th>95</th>\n",
       "      <td>100</td>\n",
       "      <td>100</td>\n",
       "      <td>100</td>\n",
       "      <td>100</td>\n",
       "      <td>100</td>\n",
       "      <td>100</td>\n",
       "      <td>100</td>\n",
       "      <td>100</td>\n",
       "    </tr>\n",
       "    <tr>\n",
       "      <th>96</th>\n",
       "      <td>100</td>\n",
       "      <td>100</td>\n",
       "      <td>100</td>\n",
       "      <td>100</td>\n",
       "      <td>100</td>\n",
       "      <td>100</td>\n",
       "      <td>100</td>\n",
       "      <td>100</td>\n",
       "    </tr>\n",
       "    <tr>\n",
       "      <th>97</th>\n",
       "      <td>100</td>\n",
       "      <td>100</td>\n",
       "      <td>100</td>\n",
       "      <td>100</td>\n",
       "      <td>100</td>\n",
       "      <td>100</td>\n",
       "      <td>100</td>\n",
       "      <td>100</td>\n",
       "    </tr>\n",
       "    <tr>\n",
       "      <th>98</th>\n",
       "      <td>63</td>\n",
       "      <td>52</td>\n",
       "      <td>67</td>\n",
       "      <td>66</td>\n",
       "      <td>73</td>\n",
       "      <td>80</td>\n",
       "      <td>92</td>\n",
       "      <td>100</td>\n",
       "    </tr>\n",
       "    <tr>\n",
       "      <th>99</th>\n",
       "      <td>94</td>\n",
       "      <td>100</td>\n",
       "      <td>100</td>\n",
       "      <td>100</td>\n",
       "      <td>100</td>\n",
       "      <td>100</td>\n",
       "      <td>100</td>\n",
       "      <td>100</td>\n",
       "    </tr>\n",
       "  </tbody>\n",
       "</table>\n",
       "<p>100 rows × 8 columns</p>\n",
       "</div>"
      ],
      "text/plain": [
       "     w1   w2   w3   w4   w5   w6   w7   w8\n",
       "0     1    1    1    1    1    1    4    5\n",
       "1     1    2    1    3    3    3    4    3\n",
       "2    15   45   56   71  100  100  100  100\n",
       "3    36   72  100  100  100  100  100  100\n",
       "4    45  100  100  100  100  100  100  100\n",
       "..  ...  ...  ...  ...  ...  ...  ...  ...\n",
       "95  100  100  100  100  100  100  100  100\n",
       "96  100  100  100  100  100  100  100  100\n",
       "97  100  100  100  100  100  100  100  100\n",
       "98   63   52   67   66   73   80   92  100\n",
       "99   94  100  100  100  100  100  100  100\n",
       "\n",
       "[100 rows x 8 columns]"
      ]
     },
     "execution_count": 5,
     "metadata": {},
     "output_type": "execute_result"
    }
   ],
   "source": [
    "# 순위 데이터\n",
    "df_rank = df[['w1','w2','w3','w4','w5','w6','w7','w8']] \n",
    "df_rank"
   ]
  },
  {
   "cell_type": "code",
   "execution_count": 6,
   "metadata": {
    "ExecuteTime": {
     "end_time": "2021-06-14T06:52:37.235823Z",
     "start_time": "2021-06-14T06:52:37.206901Z"
    }
   },
   "outputs": [
    {
     "name": "stdout",
     "output_type": "stream",
     "text": [
      "lable\n",
      "[1 1 0 0 0 0 1 1 0 0 0 1 1 0 0 1 1 0 1 1 1 1 1 1 1 1 0 0 0 0 0 0 0 0 1 0 0\n",
      " 0 0 1 1 1 0 1 0 0 1 0 0 0 0 1 1 1 1 1 1 1 0 0 1 0 1 1 1 0 1 0 0 0 1 0 0 0\n",
      " 0 0 1 0 0 0 0 0 0 0 0 0 0 0 1 1 0 0 0 0 0 0 0 0 0 0]\n",
      "center\n",
      "[[65.19354839 66.90322581 74.67741935 81.67741935 87.11290323 90.17741935\n",
      "  91.4516129  93.19354839]\n",
      " [19.39473684 11.26315789 12.68421053 14.78947368 17.13157895 19.84210526\n",
      "  23.         26.34210526]]\n"
     ]
    }
   ],
   "source": [
    "#clustering\n",
    "\n",
    "kmeans = KMeans(n_clusters=2, init='k-means++', max_iter=300, random_state=0).fit(df_rank)\n",
    "print('lable')\n",
    "print(kmeans.labels_)\n",
    "print('center')\n",
    "print(kmeans.cluster_centers_)\n",
    "df['target']=kmeans.labels_ #df에 cluster 나눈 결과 행 추가"
   ]
  },
  {
   "cell_type": "code",
   "execution_count": 7,
   "metadata": {
    "ExecuteTime": {
     "end_time": "2021-06-14T06:52:56.387547Z",
     "start_time": "2021-06-14T06:52:56.373584Z"
    }
   },
   "outputs": [
    {
     "data": {
      "text/plain": [
       "0    62\n",
       "1    38\n",
       "Name: target, dtype: int64"
      ]
     },
     "execution_count": 7,
     "metadata": {},
     "output_type": "execute_result"
    }
   ],
   "source": [
    "# 몇 개로 나눠졌는지 확인\n",
    "df['target'].value_counts()"
   ]
  },
  {
   "cell_type": "markdown",
   "metadata": {},
   "source": [
    "# 클러스터링 결과 순위 평균 + 교수님 피드백"
   ]
  },
  {
   "cell_type": "code",
   "execution_count": 9,
   "metadata": {
    "ExecuteTime": {
     "end_time": "2021-06-14T06:54:10.783073Z",
     "start_time": "2021-06-14T06:54:10.772070Z"
    }
   },
   "outputs": [
    {
     "name": "stderr",
     "output_type": "stream",
     "text": [
      "<ipython-input-9-4e49d43d80dc>:1: SettingWithCopyWarning: \n",
      "A value is trying to be set on a copy of a slice from a DataFrame.\n",
      "Try using .loc[row_indexer,col_indexer] = value instead\n",
      "\n",
      "See the caveats in the documentation: https://pandas.pydata.org/pandas-docs/stable/user_guide/indexing.html#returning-a-view-versus-a-copy\n",
      "  df_rank['cluster'] = kmeans.labels_\n"
     ]
    }
   ],
   "source": [
    "df_rank['cluster'] = kmeans.labels_"
   ]
  },
  {
   "cell_type": "code",
   "execution_count": 51,
   "metadata": {
    "ExecuteTime": {
     "end_time": "2021-06-14T07:48:41.342233Z",
     "start_time": "2021-06-14T07:48:41.325268Z"
    }
   },
   "outputs": [
    {
     "data": {
      "text/html": [
       "<div>\n",
       "<style scoped>\n",
       "    .dataframe tbody tr th:only-of-type {\n",
       "        vertical-align: middle;\n",
       "    }\n",
       "\n",
       "    .dataframe tbody tr th {\n",
       "        vertical-align: top;\n",
       "    }\n",
       "\n",
       "    .dataframe thead th {\n",
       "        text-align: right;\n",
       "    }\n",
       "</style>\n",
       "<table border=\"1\" class=\"dataframe\">\n",
       "  <thead>\n",
       "    <tr style=\"text-align: right;\">\n",
       "      <th></th>\n",
       "      <th>w1</th>\n",
       "      <th>w2</th>\n",
       "      <th>w3</th>\n",
       "      <th>w4</th>\n",
       "      <th>w5</th>\n",
       "      <th>w6</th>\n",
       "      <th>w7</th>\n",
       "      <th>w8</th>\n",
       "      <th>cluster</th>\n",
       "    </tr>\n",
       "  </thead>\n",
       "  <tbody>\n",
       "    <tr>\n",
       "      <th>0</th>\n",
       "      <td>1</td>\n",
       "      <td>1</td>\n",
       "      <td>1</td>\n",
       "      <td>1</td>\n",
       "      <td>1</td>\n",
       "      <td>1</td>\n",
       "      <td>4</td>\n",
       "      <td>5</td>\n",
       "      <td>1</td>\n",
       "    </tr>\n",
       "    <tr>\n",
       "      <th>1</th>\n",
       "      <td>1</td>\n",
       "      <td>2</td>\n",
       "      <td>1</td>\n",
       "      <td>3</td>\n",
       "      <td>3</td>\n",
       "      <td>3</td>\n",
       "      <td>4</td>\n",
       "      <td>3</td>\n",
       "      <td>1</td>\n",
       "    </tr>\n",
       "    <tr>\n",
       "      <th>2</th>\n",
       "      <td>15</td>\n",
       "      <td>45</td>\n",
       "      <td>56</td>\n",
       "      <td>71</td>\n",
       "      <td>100</td>\n",
       "      <td>100</td>\n",
       "      <td>100</td>\n",
       "      <td>100</td>\n",
       "      <td>0</td>\n",
       "    </tr>\n",
       "    <tr>\n",
       "      <th>3</th>\n",
       "      <td>36</td>\n",
       "      <td>72</td>\n",
       "      <td>100</td>\n",
       "      <td>100</td>\n",
       "      <td>100</td>\n",
       "      <td>100</td>\n",
       "      <td>100</td>\n",
       "      <td>100</td>\n",
       "      <td>0</td>\n",
       "    </tr>\n",
       "    <tr>\n",
       "      <th>4</th>\n",
       "      <td>45</td>\n",
       "      <td>100</td>\n",
       "      <td>100</td>\n",
       "      <td>100</td>\n",
       "      <td>100</td>\n",
       "      <td>100</td>\n",
       "      <td>100</td>\n",
       "      <td>100</td>\n",
       "      <td>0</td>\n",
       "    </tr>\n",
       "    <tr>\n",
       "      <th>...</th>\n",
       "      <td>...</td>\n",
       "      <td>...</td>\n",
       "      <td>...</td>\n",
       "      <td>...</td>\n",
       "      <td>...</td>\n",
       "      <td>...</td>\n",
       "      <td>...</td>\n",
       "      <td>...</td>\n",
       "      <td>...</td>\n",
       "    </tr>\n",
       "    <tr>\n",
       "      <th>95</th>\n",
       "      <td>100</td>\n",
       "      <td>100</td>\n",
       "      <td>100</td>\n",
       "      <td>100</td>\n",
       "      <td>100</td>\n",
       "      <td>100</td>\n",
       "      <td>100</td>\n",
       "      <td>100</td>\n",
       "      <td>0</td>\n",
       "    </tr>\n",
       "    <tr>\n",
       "      <th>96</th>\n",
       "      <td>100</td>\n",
       "      <td>100</td>\n",
       "      <td>100</td>\n",
       "      <td>100</td>\n",
       "      <td>100</td>\n",
       "      <td>100</td>\n",
       "      <td>100</td>\n",
       "      <td>100</td>\n",
       "      <td>0</td>\n",
       "    </tr>\n",
       "    <tr>\n",
       "      <th>97</th>\n",
       "      <td>100</td>\n",
       "      <td>100</td>\n",
       "      <td>100</td>\n",
       "      <td>100</td>\n",
       "      <td>100</td>\n",
       "      <td>100</td>\n",
       "      <td>100</td>\n",
       "      <td>100</td>\n",
       "      <td>0</td>\n",
       "    </tr>\n",
       "    <tr>\n",
       "      <th>98</th>\n",
       "      <td>63</td>\n",
       "      <td>52</td>\n",
       "      <td>67</td>\n",
       "      <td>66</td>\n",
       "      <td>73</td>\n",
       "      <td>80</td>\n",
       "      <td>92</td>\n",
       "      <td>100</td>\n",
       "      <td>0</td>\n",
       "    </tr>\n",
       "    <tr>\n",
       "      <th>99</th>\n",
       "      <td>94</td>\n",
       "      <td>100</td>\n",
       "      <td>100</td>\n",
       "      <td>100</td>\n",
       "      <td>100</td>\n",
       "      <td>100</td>\n",
       "      <td>100</td>\n",
       "      <td>100</td>\n",
       "      <td>0</td>\n",
       "    </tr>\n",
       "  </tbody>\n",
       "</table>\n",
       "<p>100 rows × 9 columns</p>\n",
       "</div>"
      ],
      "text/plain": [
       "     w1   w2   w3   w4   w5   w6   w7   w8  cluster\n",
       "0     1    1    1    1    1    1    4    5        1\n",
       "1     1    2    1    3    3    3    4    3        1\n",
       "2    15   45   56   71  100  100  100  100        0\n",
       "3    36   72  100  100  100  100  100  100        0\n",
       "4    45  100  100  100  100  100  100  100        0\n",
       "..  ...  ...  ...  ...  ...  ...  ...  ...      ...\n",
       "95  100  100  100  100  100  100  100  100        0\n",
       "96  100  100  100  100  100  100  100  100        0\n",
       "97  100  100  100  100  100  100  100  100        0\n",
       "98   63   52   67   66   73   80   92  100        0\n",
       "99   94  100  100  100  100  100  100  100        0\n",
       "\n",
       "[100 rows x 9 columns]"
      ]
     },
     "execution_count": 51,
     "metadata": {},
     "output_type": "execute_result"
    }
   ],
   "source": [
    "df_rank"
   ]
  },
  {
   "cell_type": "code",
   "execution_count": 11,
   "metadata": {
    "ExecuteTime": {
     "end_time": "2021-06-14T06:54:31.853246Z",
     "start_time": "2021-06-14T06:54:31.843241Z"
    }
   },
   "outputs": [
    {
     "data": {
      "text/plain": [
       "0    62\n",
       "1    38\n",
       "Name: cluster, dtype: int64"
      ]
     },
     "execution_count": 11,
     "metadata": {},
     "output_type": "execute_result"
    }
   ],
   "source": [
    "df_rank.cluster.value_counts()"
   ]
  },
  {
   "cell_type": "code",
   "execution_count": 42,
   "metadata": {
    "ExecuteTime": {
     "end_time": "2021-06-14T07:15:33.591016Z",
     "start_time": "2021-06-14T07:15:33.585032Z"
    }
   },
   "outputs": [],
   "source": [
    "cl0 = df_rank.loc[df_rank['cluster'] == 0 ]\n",
    "cl1 = df_rank.loc[df_rank['cluster'] == 1 ]"
   ]
  },
  {
   "cell_type": "code",
   "execution_count": 43,
   "metadata": {
    "ExecuteTime": {
     "end_time": "2021-06-14T07:22:58.211337Z",
     "start_time": "2021-06-14T07:22:58.196590Z"
    }
   },
   "outputs": [],
   "source": [
    "cl0_mean = list(cl0.mean(axis=0))\n",
    "cl1_mean = list(cl1.mean(axis=0))"
   ]
  },
  {
   "cell_type": "code",
   "execution_count": 45,
   "metadata": {
    "ExecuteTime": {
     "end_time": "2021-06-14T07:24:17.031271Z",
     "start_time": "2021-06-14T07:24:17.027276Z"
    }
   },
   "outputs": [],
   "source": [
    "del cl0_mean[8]\n",
    "del cl1_mean[8]"
   ]
  },
  {
   "cell_type": "code",
   "execution_count": 47,
   "metadata": {
    "ExecuteTime": {
     "end_time": "2021-06-14T07:24:27.952208Z",
     "start_time": "2021-06-14T07:24:27.942267Z"
    }
   },
   "outputs": [
    {
     "name": "stdout",
     "output_type": "stream",
     "text": [
      "[65.19354838709677, 66.90322580645162, 74.6774193548387, 81.6774193548387, 87.11290322580645, 90.1774193548387, 91.45161290322581, 93.19354838709677]\n",
      "[19.394736842105264, 11.263157894736842, 12.68421052631579, 14.789473684210526, 17.13157894736842, 19.842105263157894, 23.0, 26.342105263157894]\n"
     ]
    },
    {
     "data": {
      "text/plain": [
       "8"
      ]
     },
     "execution_count": 47,
     "metadata": {},
     "output_type": "execute_result"
    }
   ],
   "source": [
    "print(cl0_mean)\n",
    "print(cl1_mean)\n",
    "len(cl0_mean)"
   ]
  },
  {
   "cell_type": "code",
   "execution_count": 82,
   "metadata": {
    "ExecuteTime": {
     "end_time": "2021-06-15T12:11:31.582588Z",
     "start_time": "2021-06-15T12:11:31.575696Z"
    }
   },
   "outputs": [
    {
     "name": "stdout",
     "output_type": "stream",
     "text": [
      "81.29838709677418\n",
      "18.05592105263158\n"
     ]
    }
   ],
   "source": [
    "print(np.mean(cl0_mean))\n",
    "print(np.mean(cl1_mean))"
   ]
  },
  {
   "cell_type": "code",
   "execution_count": 38,
   "metadata": {
    "ExecuteTime": {
     "end_time": "2021-06-14T07:13:50.750502Z",
     "start_time": "2021-06-14T07:13:50.734545Z"
    }
   },
   "outputs": [],
   "source": [
    "cl0_mean = list(cl0.mean(axis=0))"
   ]
  },
  {
   "cell_type": "code",
   "execution_count": 79,
   "metadata": {
    "ExecuteTime": {
     "end_time": "2021-06-15T07:50:31.446113Z",
     "start_time": "2021-06-15T07:50:31.430125Z"
    }
   },
   "outputs": [
    {
     "data": {
      "text/plain": [
       "81.29838709677418"
      ]
     },
     "execution_count": 79,
     "metadata": {},
     "output_type": "execute_result"
    }
   ],
   "source": [
    "np.mean(cl0_mean)"
   ]
  },
  {
   "cell_type": "code",
   "execution_count": 80,
   "metadata": {
    "ExecuteTime": {
     "end_time": "2021-06-15T07:50:39.117623Z",
     "start_time": "2021-06-15T07:50:39.107650Z"
    }
   },
   "outputs": [
    {
     "data": {
      "text/plain": [
       "18.05592105263158"
      ]
     },
     "execution_count": 80,
     "metadata": {},
     "output_type": "execute_result"
    }
   ],
   "source": [
    "np.mean(cl1_mean)"
   ]
  },
  {
   "cell_type": "code",
   "execution_count": 48,
   "metadata": {
    "ExecuteTime": {
     "end_time": "2021-06-14T07:25:38.337382Z",
     "start_time": "2021-06-14T07:25:38.166823Z"
    }
   },
   "outputs": [
    {
     "data": {
      "image/png": "[encoded data removed]",
      "text/plain": [
       "<Figure size 432x288 with 1 Axes>"
      ]
     },
     "metadata": {
      "needs_background": "light"
     },
     "output_type": "display_data"
    }
   ],
   "source": [
    "x_values = [1, 2, 3, 4, 5, 6, 7, 8]\n",
    "\n",
    "y_values_11 = cl0_mean\n",
    "y_values_22 = cl1_mean\n",
    "\n",
    "plt.plot(x_values, y_values_11)\n",
    "plt.plot(x_values, y_values_22)\n",
    "plt.gca().invert_yaxis()\n",
    "plt.xlabel('week')\n",
    "plt.ylabel('rank')\n",
    "plt.legend(['drop_sharply','drop_slowly'])\n",
    "plt.show()"
   ]
  },
  {
   "cell_type": "code",
   "execution_count": null,
   "metadata": {},
   "outputs": [],
   "source": []
  },
  {
   "cell_type": "code",
   "execution_count": 52,
   "metadata": {
    "ExecuteTime": {
     "end_time": "2021-06-14T07:48:48.956166Z",
     "start_time": "2021-06-14T07:48:48.936276Z"
    }
   },
   "outputs": [],
   "source": [
    "clustering_result = df.groupby(['Entertainment','Member','Gender','Genre','Record_Kind','Country','Producing'])['target'].count()"
   ]
  },
  {
   "cell_type": "code",
   "execution_count": 53,
   "metadata": {
    "ExecuteTime": {
     "end_time": "2021-06-14T07:48:49.608520Z",
     "start_time": "2021-06-14T07:48:49.587145Z"
    }
   },
   "outputs": [
    {
     "data": {
      "text/plain": [
       "Entertainment  Member  Gender  Genre   Record_Kind  Country  Producing\n",
       "big            group   mixed   rock    mini         0.00     1            1\n",
       "                                       single       0.00     1            1\n",
       "               idol    female  dance   mini         0.25     0            1\n",
       "                                                    0.50     1            1\n",
       "                                       regular      0.25     1            1\n",
       "                                                                         ..\n",
       "small          solo    male    hiphop  mini         0.00     1            3\n",
       "                                       regular      0.00     1            1\n",
       "                                       single       0.00     1            7\n",
       "                               rock    mini         0.00     1            1\n",
       "                                       single       0.00     1            4\n",
       "Name: target, Length: 64, dtype: int64"
      ]
     },
     "execution_count": 53,
     "metadata": {},
     "output_type": "execute_result"
    }
   ],
   "source": [
    "clustering_result"
   ]
  },
  {
   "cell_type": "code",
   "execution_count": 54,
   "metadata": {
    "ExecuteTime": {
     "end_time": "2021-06-14T07:48:50.350153Z",
     "start_time": "2021-06-14T07:48:50.330174Z"
    }
   },
   "outputs": [],
   "source": [
    "df.to_csv('클러스터링 결과.csv',encoding='utf-8-sig')"
   ]
  },
  {
   "cell_type": "markdown",
   "metadata": {},
   "source": [
    "### 클러스터링 시각화"
   ]
  },
  {
   "cell_type": "code",
   "execution_count": 55,
   "metadata": {
    "ExecuteTime": {
     "end_time": "2021-06-14T07:48:55.877624Z",
     "start_time": "2021-06-14T07:48:55.865546Z"
    }
   },
   "outputs": [],
   "source": [
    "cluster0 = kmeans.cluster_centers_[0].tolist()\n",
    "cluster1 = kmeans.cluster_centers_[1].tolist()"
   ]
  },
  {
   "cell_type": "code",
   "execution_count": 56,
   "metadata": {
    "ExecuteTime": {
     "end_time": "2021-06-14T07:48:56.533664Z",
     "start_time": "2021-06-14T07:48:56.402717Z"
    }
   },
   "outputs": [
    {
     "data": {
      "image/png": "[encoded data removed]",
      "text/plain": [
       "<Figure size 432x288 with 1 Axes>"
      ]
     },
     "metadata": {
      "needs_background": "light"
     },
     "output_type": "display_data"
    }
   ],
   "source": [
    "x_values = [1, 2, 3, 4, 5, 6, 7, 8]\n",
    "\n",
    "y_values_1 = cluster0\n",
    "y_values_2 = cluster1\n",
    "\n",
    "plt.plot(x_values, y_values_1)\n",
    "plt.plot(x_values, y_values_2)\n",
    "plt.gca().invert_yaxis()\n",
    "plt.xlabel('week')\n",
    "plt.ylabel('rank')\n",
    "plt.legend(['drop_sharply','drop_slowly'])\n",
    "plt.show()"
   ]
  },
  {
   "cell_type": "markdown",
   "metadata": {},
   "source": [
    "clustering 결과를 보면\n",
    "\n",
    "- cluster1번 center 상위권 : 앨범 발매 후 다음 주 순위가 높아진 후 다시 내려가긴 하나 상위권 차트 유지\n",
    "\n",
    "- cluster0번 center 하위권 : 2주까지 소폭 하락한 후 이후 급격 하락하며 8주 후에는 100위 차트 밖으로 넘어감"
   ]
  },
  {
   "cell_type": "markdown",
   "metadata": {},
   "source": [
    "# classification"
   ]
  },
  {
   "cell_type": "code",
   "execution_count": 57,
   "metadata": {
    "ExecuteTime": {
     "end_time": "2021-06-14T07:49:01.158452Z",
     "start_time": "2021-06-14T07:49:01.148145Z"
    }
   },
   "outputs": [],
   "source": [
    "# df에서 변수+target만 dataframe으로 저장\n",
    "\n",
    "df_X = df[['Entertainment','Member','Gender','Genre','Record_Kind','Country','Producing','target']]\n",
    "df_y = df['target']"
   ]
  },
  {
   "cell_type": "code",
   "execution_count": 58,
   "metadata": {
    "ExecuteTime": {
     "end_time": "2021-06-14T07:49:01.846866Z",
     "start_time": "2021-06-14T07:49:01.824259Z"
    }
   },
   "outputs": [
    {
     "name": "stderr",
     "output_type": "stream",
     "text": [
      "<ipython-input-58-09e2a658d4d8>:10: SettingWithCopyWarning: \n",
      "A value is trying to be set on a copy of a slice from a DataFrame.\n",
      "Try using .loc[row_indexer,col_indexer] = value instead\n",
      "\n",
      "See the caveats in the documentation: https://pandas.pydata.org/pandas-docs/stable/user_guide/indexing.html#returning-a-view-versus-a-copy\n",
      "  dataDF[feature] = le.transform(dataDF[feature])\n"
     ]
    },
    {
     "data": {
      "text/html": [
       "<div>\n",
       "<style scoped>\n",
       "    .dataframe tbody tr th:only-of-type {\n",
       "        vertical-align: middle;\n",
       "    }\n",
       "\n",
       "    .dataframe tbody tr th {\n",
       "        vertical-align: top;\n",
       "    }\n",
       "\n",
       "    .dataframe thead th {\n",
       "        text-align: right;\n",
       "    }\n",
       "</style>\n",
       "<table border=\"1\" class=\"dataframe\">\n",
       "  <thead>\n",
       "    <tr style=\"text-align: right;\">\n",
       "      <th></th>\n",
       "      <th>Entertainment</th>\n",
       "      <th>Member</th>\n",
       "      <th>Gender</th>\n",
       "      <th>Genre</th>\n",
       "      <th>Record_Kind</th>\n",
       "      <th>Country</th>\n",
       "      <th>Producing</th>\n",
       "      <th>target</th>\n",
       "    </tr>\n",
       "  </thead>\n",
       "  <tbody>\n",
       "    <tr>\n",
       "      <th>0</th>\n",
       "      <td>0</td>\n",
       "      <td>3</td>\n",
       "      <td>0</td>\n",
       "      <td>1</td>\n",
       "      <td>2</td>\n",
       "      <td>0</td>\n",
       "      <td>1</td>\n",
       "      <td>1</td>\n",
       "    </tr>\n",
       "    <tr>\n",
       "      <th>1</th>\n",
       "      <td>1</td>\n",
       "      <td>1</td>\n",
       "      <td>0</td>\n",
       "      <td>1</td>\n",
       "      <td>0</td>\n",
       "      <td>0</td>\n",
       "      <td>1</td>\n",
       "      <td>1</td>\n",
       "    </tr>\n",
       "    <tr>\n",
       "      <th>2</th>\n",
       "      <td>0</td>\n",
       "      <td>1</td>\n",
       "      <td>1</td>\n",
       "      <td>1</td>\n",
       "      <td>0</td>\n",
       "      <td>0</td>\n",
       "      <td>1</td>\n",
       "      <td>0</td>\n",
       "    </tr>\n",
       "    <tr>\n",
       "      <th>3</th>\n",
       "      <td>0</td>\n",
       "      <td>1</td>\n",
       "      <td>1</td>\n",
       "      <td>1</td>\n",
       "      <td>1</td>\n",
       "      <td>0</td>\n",
       "      <td>1</td>\n",
       "      <td>0</td>\n",
       "    </tr>\n",
       "    <tr>\n",
       "      <th>4</th>\n",
       "      <td>1</td>\n",
       "      <td>1</td>\n",
       "      <td>1</td>\n",
       "      <td>1</td>\n",
       "      <td>0</td>\n",
       "      <td>0</td>\n",
       "      <td>1</td>\n",
       "      <td>0</td>\n",
       "    </tr>\n",
       "    <tr>\n",
       "      <th>...</th>\n",
       "      <td>...</td>\n",
       "      <td>...</td>\n",
       "      <td>...</td>\n",
       "      <td>...</td>\n",
       "      <td>...</td>\n",
       "      <td>...</td>\n",
       "      <td>...</td>\n",
       "      <td>...</td>\n",
       "    </tr>\n",
       "    <tr>\n",
       "      <th>95</th>\n",
       "      <td>1</td>\n",
       "      <td>3</td>\n",
       "      <td>1</td>\n",
       "      <td>3</td>\n",
       "      <td>2</td>\n",
       "      <td>0</td>\n",
       "      <td>1</td>\n",
       "      <td>0</td>\n",
       "    </tr>\n",
       "    <tr>\n",
       "      <th>96</th>\n",
       "      <td>0</td>\n",
       "      <td>2</td>\n",
       "      <td>1</td>\n",
       "      <td>3</td>\n",
       "      <td>2</td>\n",
       "      <td>0</td>\n",
       "      <td>0</td>\n",
       "      <td>0</td>\n",
       "    </tr>\n",
       "    <tr>\n",
       "      <th>97</th>\n",
       "      <td>1</td>\n",
       "      <td>3</td>\n",
       "      <td>1</td>\n",
       "      <td>3</td>\n",
       "      <td>2</td>\n",
       "      <td>0</td>\n",
       "      <td>1</td>\n",
       "      <td>0</td>\n",
       "    </tr>\n",
       "    <tr>\n",
       "      <th>98</th>\n",
       "      <td>1</td>\n",
       "      <td>1</td>\n",
       "      <td>0</td>\n",
       "      <td>3</td>\n",
       "      <td>1</td>\n",
       "      <td>0</td>\n",
       "      <td>0</td>\n",
       "      <td>0</td>\n",
       "    </tr>\n",
       "    <tr>\n",
       "      <th>99</th>\n",
       "      <td>0</td>\n",
       "      <td>0</td>\n",
       "      <td>2</td>\n",
       "      <td>3</td>\n",
       "      <td>0</td>\n",
       "      <td>0</td>\n",
       "      <td>1</td>\n",
       "      <td>0</td>\n",
       "    </tr>\n",
       "  </tbody>\n",
       "</table>\n",
       "<p>100 rows × 8 columns</p>\n",
       "</div>"
      ],
      "text/plain": [
       "    Entertainment  Member  Gender  Genre  Record_Kind  Country  Producing  \\\n",
       "0               0       3       0      1            2        0          1   \n",
       "1               1       1       0      1            0        0          1   \n",
       "2               0       1       1      1            0        0          1   \n",
       "3               0       1       1      1            1        0          1   \n",
       "4               1       1       1      1            0        0          1   \n",
       "..            ...     ...     ...    ...          ...      ...        ...   \n",
       "95              1       3       1      3            2        0          1   \n",
       "96              0       2       1      3            2        0          0   \n",
       "97              1       3       1      3            2        0          1   \n",
       "98              1       1       0      3            1        0          0   \n",
       "99              0       0       2      3            0        0          1   \n",
       "\n",
       "    target  \n",
       "0        1  \n",
       "1        1  \n",
       "2        0  \n",
       "3        0  \n",
       "4        0  \n",
       "..     ...  \n",
       "95       0  \n",
       "96       0  \n",
       "97       0  \n",
       "98       0  \n",
       "99       0  \n",
       "\n",
       "[100 rows x 8 columns]"
      ]
     },
     "execution_count": 58,
     "metadata": {},
     "output_type": "execute_result"
    }
   ],
   "source": [
    "# 문자열을 레이블 인코딩\n",
    "\n",
    "from sklearn import preprocessing\n",
    "\n",
    "def encode_features(dataDF):\n",
    "    features = ['Entertainment','Member','Gender','Genre','Record_Kind','Country','Producing','target']\n",
    "    for feature in features:\n",
    "        le = preprocessing.LabelEncoder()\n",
    "        le = le.fit(dataDF[feature])\n",
    "        dataDF[feature] = le.transform(dataDF[feature])\n",
    "    return dataDF\n",
    "\n",
    "df_X = encode_features(df_X)\n",
    "df_X"
   ]
  },
  {
   "cell_type": "markdown",
   "metadata": {},
   "source": [
    "### classification 생성"
   ]
  },
  {
   "cell_type": "markdown",
   "metadata": {},
   "source": [
    "- decision tree가 accuracy는 그나마 높게 나옴"
   ]
  },
  {
   "cell_type": "code",
   "execution_count": 59,
   "metadata": {
    "ExecuteTime": {
     "end_time": "2021-06-14T07:49:05.931173Z",
     "start_time": "2021-06-14T07:49:05.925189Z"
    }
   },
   "outputs": [],
   "source": [
    "df_X = df_X.drop('target',axis=1)"
   ]
  },
  {
   "cell_type": "code",
   "execution_count": 60,
   "metadata": {
    "ExecuteTime": {
     "end_time": "2021-06-14T07:49:06.312571Z",
     "start_time": "2021-06-14T07:49:06.293544Z"
    }
   },
   "outputs": [
    {
     "data": {
      "text/html": [
       "<div>\n",
       "<style scoped>\n",
       "    .dataframe tbody tr th:only-of-type {\n",
       "        vertical-align: middle;\n",
       "    }\n",
       "\n",
       "    .dataframe tbody tr th {\n",
       "        vertical-align: top;\n",
       "    }\n",
       "\n",
       "    .dataframe thead th {\n",
       "        text-align: right;\n",
       "    }\n",
       "</style>\n",
       "<table border=\"1\" class=\"dataframe\">\n",
       "  <thead>\n",
       "    <tr style=\"text-align: right;\">\n",
       "      <th></th>\n",
       "      <th>Entertainment</th>\n",
       "      <th>Member</th>\n",
       "      <th>Gender</th>\n",
       "      <th>Genre</th>\n",
       "      <th>Record_Kind</th>\n",
       "      <th>Country</th>\n",
       "      <th>Producing</th>\n",
       "    </tr>\n",
       "  </thead>\n",
       "  <tbody>\n",
       "    <tr>\n",
       "      <th>0</th>\n",
       "      <td>0</td>\n",
       "      <td>3</td>\n",
       "      <td>0</td>\n",
       "      <td>1</td>\n",
       "      <td>2</td>\n",
       "      <td>0</td>\n",
       "      <td>1</td>\n",
       "    </tr>\n",
       "    <tr>\n",
       "      <th>1</th>\n",
       "      <td>1</td>\n",
       "      <td>1</td>\n",
       "      <td>0</td>\n",
       "      <td>1</td>\n",
       "      <td>0</td>\n",
       "      <td>0</td>\n",
       "      <td>1</td>\n",
       "    </tr>\n",
       "    <tr>\n",
       "      <th>2</th>\n",
       "      <td>0</td>\n",
       "      <td>1</td>\n",
       "      <td>1</td>\n",
       "      <td>1</td>\n",
       "      <td>0</td>\n",
       "      <td>0</td>\n",
       "      <td>1</td>\n",
       "    </tr>\n",
       "    <tr>\n",
       "      <th>3</th>\n",
       "      <td>0</td>\n",
       "      <td>1</td>\n",
       "      <td>1</td>\n",
       "      <td>1</td>\n",
       "      <td>1</td>\n",
       "      <td>0</td>\n",
       "      <td>1</td>\n",
       "    </tr>\n",
       "    <tr>\n",
       "      <th>4</th>\n",
       "      <td>1</td>\n",
       "      <td>1</td>\n",
       "      <td>1</td>\n",
       "      <td>1</td>\n",
       "      <td>0</td>\n",
       "      <td>0</td>\n",
       "      <td>1</td>\n",
       "    </tr>\n",
       "    <tr>\n",
       "      <th>...</th>\n",
       "      <td>...</td>\n",
       "      <td>...</td>\n",
       "      <td>...</td>\n",
       "      <td>...</td>\n",
       "      <td>...</td>\n",
       "      <td>...</td>\n",
       "      <td>...</td>\n",
       "    </tr>\n",
       "    <tr>\n",
       "      <th>95</th>\n",
       "      <td>1</td>\n",
       "      <td>3</td>\n",
       "      <td>1</td>\n",
       "      <td>3</td>\n",
       "      <td>2</td>\n",
       "      <td>0</td>\n",
       "      <td>1</td>\n",
       "    </tr>\n",
       "    <tr>\n",
       "      <th>96</th>\n",
       "      <td>0</td>\n",
       "      <td>2</td>\n",
       "      <td>1</td>\n",
       "      <td>3</td>\n",
       "      <td>2</td>\n",
       "      <td>0</td>\n",
       "      <td>0</td>\n",
       "    </tr>\n",
       "    <tr>\n",
       "      <th>97</th>\n",
       "      <td>1</td>\n",
       "      <td>3</td>\n",
       "      <td>1</td>\n",
       "      <td>3</td>\n",
       "      <td>2</td>\n",
       "      <td>0</td>\n",
       "      <td>1</td>\n",
       "    </tr>\n",
       "    <tr>\n",
       "      <th>98</th>\n",
       "      <td>1</td>\n",
       "      <td>1</td>\n",
       "      <td>0</td>\n",
       "      <td>3</td>\n",
       "      <td>1</td>\n",
       "      <td>0</td>\n",
       "      <td>0</td>\n",
       "    </tr>\n",
       "    <tr>\n",
       "      <th>99</th>\n",
       "      <td>0</td>\n",
       "      <td>0</td>\n",
       "      <td>2</td>\n",
       "      <td>3</td>\n",
       "      <td>0</td>\n",
       "      <td>0</td>\n",
       "      <td>1</td>\n",
       "    </tr>\n",
       "  </tbody>\n",
       "</table>\n",
       "<p>100 rows × 7 columns</p>\n",
       "</div>"
      ],
      "text/plain": [
       "    Entertainment  Member  Gender  Genre  Record_Kind  Country  Producing\n",
       "0               0       3       0      1            2        0          1\n",
       "1               1       1       0      1            0        0          1\n",
       "2               0       1       1      1            0        0          1\n",
       "3               0       1       1      1            1        0          1\n",
       "4               1       1       1      1            0        0          1\n",
       "..            ...     ...     ...    ...          ...      ...        ...\n",
       "95              1       3       1      3            2        0          1\n",
       "96              0       2       1      3            2        0          0\n",
       "97              1       3       1      3            2        0          1\n",
       "98              1       1       0      3            1        0          0\n",
       "99              0       0       2      3            0        0          1\n",
       "\n",
       "[100 rows x 7 columns]"
      ]
     },
     "execution_count": 60,
     "metadata": {},
     "output_type": "execute_result"
    }
   ],
   "source": [
    "df_X"
   ]
  },
  {
   "cell_type": "code",
   "execution_count": 68,
   "metadata": {
    "ExecuteTime": {
     "end_time": "2021-06-14T07:52:48.600466Z",
     "start_time": "2021-06-14T07:52:48.595465Z"
    }
   },
   "outputs": [],
   "source": [
    "from sklearn.model_selection import train_test_split\n",
    "\n",
    "X_train,X_test,y_train,y_test = train_test_split(df_X,df_y,test_size=0.2, random_state=11)"
   ]
  },
  {
   "cell_type": "code",
   "execution_count": 889,
   "metadata": {
    "ExecuteTime": {
     "end_time": "2021-06-06T15:13:04.780882Z",
     "start_time": "2021-06-06T15:13:04.775895Z"
    }
   },
   "outputs": [],
   "source": [
    "# classifier 객체 생성\n",
    "\n",
    "from sklearn.tree import DecisionTreeClassifier\n",
    "from sklearn.ensemble import RandomForestClassifier\n",
    "from sklearn.linear_model import LogisticRegression\n",
    "from sklearn.metrics import accuracy_score\n",
    "\n",
    "dt_clf = DecisionTreeClassifier(random_state=11)\n",
    "rf_clf = RandomForestClassifier(random_state=11)\n",
    "lr_clf = LogisticRegression(max_iter=1000)"
   ]
  },
  {
   "cell_type": "code",
   "execution_count": 890,
   "metadata": {
    "ExecuteTime": {
     "end_time": "2021-06-06T15:13:05.185913Z",
     "start_time": "2021-06-06T15:13:05.040046Z"
    }
   },
   "outputs": [
    {
     "name": "stdout",
     "output_type": "stream",
     "text": [
      "Decision Tree Classifier 정확도:0.8000\n",
      "RandomForestClassifier 정확도:0.7000\n",
      "LogisicRegressionClassifier 정확도:0.7000\n"
     ]
    }
   ],
   "source": [
    "# decision tree 학습과 예측\n",
    "dt_clf.fit(X_train,y_train)\n",
    "dt_pred = dt_clf.predict(X_test)\n",
    "\n",
    "print('Decision Tree Classifier 정확도:{0:.4f}'.format(accuracy_score(y_test,dt_pred)))\n",
    "\n",
    "\n",
    "# random forest 학습과 예측\n",
    "\n",
    "rf_clf.fit(X_train,y_train)\n",
    "rf_pred = rf_clf.predict(X_test)\n",
    "\n",
    "print('RandomForestClassifier 정확도:{0:.4f}'.format(accuracy_score(y_test,rf_pred)))\n",
    "\n",
    "\n",
    "# logistic regression 학습과 예측\n",
    "\n",
    "lr_clf.fit(X_train,y_train)\n",
    "lr_pred = rf_clf.predict(X_test)\n",
    "\n",
    "print('LogisicRegressionClassifier 정확도:{0:.4f}'.format(accuracy_score(y_test,lr_pred)))"
   ]
  },
  {
   "cell_type": "code",
   "execution_count": 891,
   "metadata": {
    "ExecuteTime": {
     "end_time": "2021-06-06T15:13:06.186894Z",
     "start_time": "2021-06-06T15:13:06.167948Z"
    }
   },
   "outputs": [
    {
     "name": "stdout",
     "output_type": "stream",
     "text": [
      "[[10  0]\n",
      " [ 4  6]]\n",
      "              precision    recall  f1-score   support\n",
      "\n",
      "           0       0.71      1.00      0.83        10\n",
      "           1       1.00      0.60      0.75        10\n",
      "\n",
      "    accuracy                           0.80        20\n",
      "   macro avg       0.86      0.80      0.79        20\n",
      "weighted avg       0.86      0.80      0.79        20\n",
      "\n"
     ]
    }
   ],
   "source": [
    "# 모형 성능 평가 confusion matrix\n",
    "\n",
    "# Decision Tree Classifier\n",
    "\n",
    "from sklearn import metrics\n",
    "\n",
    "dt_matrix = metrics.confusion_matrix(y_test,dt_pred)\n",
    "print(dt_matrix)\n",
    "\n",
    "dt_report = metrics.classification_report(y_test,dt_pred)\n",
    "print(dt_report)"
   ]
  },
  {
   "cell_type": "code",
   "execution_count": 892,
   "metadata": {
    "ExecuteTime": {
     "end_time": "2021-06-06T15:13:07.676487Z",
     "start_time": "2021-06-06T15:13:07.662524Z"
    }
   },
   "outputs": [
    {
     "name": "stdout",
     "output_type": "stream",
     "text": [
      "[[9 1]\n",
      " [5 5]]\n",
      "              precision    recall  f1-score   support\n",
      "\n",
      "           0       0.64      0.90      0.75        10\n",
      "           1       0.83      0.50      0.62        10\n",
      "\n",
      "    accuracy                           0.70        20\n",
      "   macro avg       0.74      0.70      0.69        20\n",
      "weighted avg       0.74      0.70      0.69        20\n",
      "\n"
     ]
    }
   ],
   "source": [
    "# RandomForestClassifier\n",
    "\n",
    "rf_matrix = metrics.confusion_matrix(y_test,rf_pred)\n",
    "print(rf_matrix)\n",
    "\n",
    "rf_report = metrics.classification_report(y_test,rf_pred)\n",
    "print(rf_report)"
   ]
  },
  {
   "cell_type": "code",
   "execution_count": 893,
   "metadata": {
    "ExecuteTime": {
     "end_time": "2021-06-06T15:13:08.221106Z",
     "start_time": "2021-06-06T15:13:08.209155Z"
    }
   },
   "outputs": [
    {
     "name": "stdout",
     "output_type": "stream",
     "text": [
      "[[9 1]\n",
      " [5 5]]\n",
      "              precision    recall  f1-score   support\n",
      "\n",
      "           0       0.64      0.90      0.75        10\n",
      "           1       0.83      0.50      0.62        10\n",
      "\n",
      "    accuracy                           0.70        20\n",
      "   macro avg       0.74      0.70      0.69        20\n",
      "weighted avg       0.74      0.70      0.69        20\n",
      "\n"
     ]
    }
   ],
   "source": [
    "# LogisicRegressionClassifier\n",
    "\n",
    "lr_matrix = metrics.confusion_matrix(y_test,lr_pred)\n",
    "print(lr_matrix)\n",
    "\n",
    "lr_report = metrics.classification_report(y_test,lr_pred)\n",
    "print(lr_report)"
   ]
  },
  {
   "cell_type": "code",
   "execution_count": 894,
   "metadata": {
    "ExecuteTime": {
     "end_time": "2021-06-06T15:13:10.286355Z",
     "start_time": "2021-06-06T15:13:10.189604Z"
    }
   },
   "outputs": [
    {
     "name": "stdout",
     "output_type": "stream",
     "text": [
      "교차검증0 정확도: 0.4000\n",
      "교차검증1 정확도: 0.4000\n",
      "교차검증2 정확도: 0.2000\n",
      "교차검증3 정확도: 0.8000\n",
      "교차검증4 정확도: 0.8000\n",
      "교차검증5 정확도: 0.6000\n",
      "교차검증6 정확도: 0.8000\n",
      "교차검증7 정확도: 0.4000\n",
      "교차검증8 정확도: 0.2000\n",
      "교차검증9 정확도: 0.2000\n",
      "교차검증10 정확도: 0.4000\n",
      "교차검증11 정확도: 0.8000\n",
      "교차검증12 정확도: 0.6000\n",
      "교차검증13 정확도: 1.0000\n",
      "교차검증14 정확도: 0.8000\n",
      "교차검증15 정확도: 1.0000\n",
      "교차검증16 정확도: 0.8000\n",
      "교차검증17 정확도: 0.8000\n",
      "교차검증18 정확도: 0.8000\n",
      "교차검증19 정확도: 0.8000\n",
      "평균 정확도:0.6300\n"
     ]
    }
   ],
   "source": [
    "# decision tree 교차 검증\n",
    "\n",
    "from sklearn.model_selection import cross_val_score\n",
    "\n",
    "scores = cross_val_score(dt_clf, df_X, df_y, cv=20)\n",
    "for iter_count,accuracy in enumerate(scores):\n",
    "    print('교차검증{0} 정확도: {1:.4f}'.format(iter_count,accuracy))\n",
    "    \n",
    "print('평균 정확도:{0:.4f}'.format(np.mean(scores)))"
   ]
  },
  {
   "cell_type": "code",
   "execution_count": 895,
   "metadata": {
    "ExecuteTime": {
     "end_time": "2021-06-06T15:13:13.282542Z",
     "start_time": "2021-06-06T15:13:11.341766Z"
    },
    "scrolled": true
   },
   "outputs": [
    {
     "name": "stdout",
     "output_type": "stream",
     "text": [
      "교차검증0 정확도: 0.6000\n",
      "교차검증1 정확도: 0.6000\n",
      "교차검증2 정확도: 0.2000\n",
      "교차검증3 정확도: 0.8000\n",
      "교차검증4 정확도: 0.8000\n",
      "교차검증5 정확도: 0.4000\n",
      "교차검증6 정확도: 0.6000\n",
      "교차검증7 정확도: 0.8000\n",
      "교차검증8 정확도: 0.2000\n",
      "교차검증9 정확도: 0.2000\n",
      "교차검증10 정확도: 0.2000\n",
      "교차검증11 정확도: 0.8000\n",
      "교차검증12 정확도: 0.6000\n",
      "교차검증13 정확도: 1.0000\n",
      "교차검증14 정확도: 0.8000\n",
      "교차검증15 정확도: 1.0000\n",
      "교차검증16 정확도: 0.8000\n",
      "교차검증17 정확도: 1.0000\n",
      "교차검증18 정확도: 0.6000\n",
      "교차검증19 정확도: 0.8000\n",
      "평균 정확도:0.6400\n"
     ]
    }
   ],
   "source": [
    "# random forest 교차 검증\n",
    "\n",
    "from sklearn.model_selection import cross_val_score\n",
    "\n",
    "scores = cross_val_score(rf_clf, df_X, df_y, cv=20)\n",
    "for iter_count,accuracy in enumerate(scores):\n",
    "    print('교차검증{0} 정확도: {1:.4f}'.format(iter_count,accuracy))\n",
    "    \n",
    "print('평균 정확도:{0:.4f}'.format(np.mean(scores)))"
   ]
  },
  {
   "cell_type": "code",
   "execution_count": 896,
   "metadata": {
    "ExecuteTime": {
     "end_time": "2021-06-06T15:13:13.566783Z",
     "start_time": "2021-06-06T15:13:13.405227Z"
    },
    "scrolled": true
   },
   "outputs": [
    {
     "name": "stdout",
     "output_type": "stream",
     "text": [
      "교차검증0 정확도: 0.6000\n",
      "교차검증1 정확도: 0.6000\n",
      "교차검증2 정확도: 0.4000\n",
      "교차검증3 정확도: 0.6000\n",
      "교차검증4 정확도: 0.8000\n",
      "교차검증5 정확도: 0.8000\n",
      "교차검증6 정확도: 0.8000\n",
      "교차검증7 정확도: 0.6000\n",
      "교차검증8 정확도: 0.6000\n",
      "교차검증9 정확도: 0.4000\n",
      "교차검증10 정확도: 0.6000\n",
      "교차검증11 정확도: 0.6000\n",
      "교차검증12 정확도: 0.6000\n",
      "교차검증13 정확도: 0.8000\n",
      "교차검증14 정확도: 0.4000\n",
      "교차검증15 정확도: 0.6000\n",
      "교차검증16 정확도: 0.8000\n",
      "교차검증17 정확도: 1.0000\n",
      "교차검증18 정확도: 1.0000\n",
      "교차검증19 정확도: 0.8000\n",
      "평균 정확도:0.6700\n"
     ]
    }
   ],
   "source": [
    "# logistic regression 교차 검증\n",
    "\n",
    "from sklearn.model_selection import cross_val_score\n",
    "\n",
    "scores = cross_val_score(lr_clf, df_X, df_y, cv=20)\n",
    "for iter_count,accuracy in enumerate(scores):\n",
    "    print('교차검증{0} 정확도: {1:.4f}'.format(iter_count,accuracy))\n",
    "    \n",
    "print('평균 정확도:{0:.4f}'.format(np.mean(scores)))"
   ]
  },
  {
   "cell_type": "markdown",
   "metadata": {},
   "source": [
    "# feature_importance"
   ]
  },
  {
   "cell_type": "code",
   "execution_count": 897,
   "metadata": {
    "ExecuteTime": {
     "end_time": "2021-06-06T15:13:13.821154Z",
     "start_time": "2021-06-06T15:13:13.688460Z"
    }
   },
   "outputs": [
    {
     "data": {
      "text/plain": [
       "<AxesSubplot:>"
      ]
     },
     "execution_count": 897,
     "metadata": {},
     "output_type": "execute_result"
    },
    {
     "data": {
      "image/png": "[encoded data removed]",
      "text/plain": [
       "<Figure size 432x288 with 1 Axes>"
      ]
     },
     "metadata": {
      "needs_background": "light"
     },
     "output_type": "display_data"
    }
   ],
   "source": [
    "import seaborn as sns\n",
    "%matplotlib inline\n",
    "\n",
    "# decision tree \n",
    "\n",
    "feature_series = pd.Series(data=dt_clf.feature_importances_, index=df_X.columns)\n",
    "feature_series = feature_series.sort_values(ascending=False)\n",
    "sns.barplot(x=feature_series, y=feature_series.index)"
   ]
  },
  {
   "cell_type": "code",
   "execution_count": 898,
   "metadata": {
    "ExecuteTime": {
     "end_time": "2021-06-06T15:13:14.062716Z",
     "start_time": "2021-06-06T15:13:13.943845Z"
    }
   },
   "outputs": [
    {
     "data": {
      "text/plain": [
       "<AxesSubplot:>"
      ]
     },
     "execution_count": 898,
     "metadata": {},
     "output_type": "execute_result"
    },
    {
     "data": {
      "image/png": "[encoded data removed]",
      "text/plain": [
       "<Figure size 432x288 with 1 Axes>"
      ]
     },
     "metadata": {
      "needs_background": "light"
     },
     "output_type": "display_data"
    }
   ],
   "source": [
    "# random forest\n",
    "\n",
    "feature_series = pd.Series(data=rf_clf.feature_importances_, index=df_X.columns)\n",
    "feature_series = feature_series.sort_values(ascending=False)\n",
    "sns.barplot(x=feature_series, y=feature_series.index)"
   ]
  },
  {
   "cell_type": "code",
   "execution_count": 899,
   "metadata": {
    "ExecuteTime": {
     "end_time": "2021-06-06T15:13:16.779480Z",
     "start_time": "2021-06-06T15:13:16.766515Z"
    }
   },
   "outputs": [],
   "source": [
    "# logistic regressions는 feature importance 없음"
   ]
  },
  {
   "cell_type": "markdown",
   "metadata": {},
   "source": [
    "# DT 시각화\n",
    "\n",
    "- 웨카 소프트웨어로 진행"
   ]
  },
  {
   "cell_type": "code",
   "execution_count": null,
   "metadata": {},
   "outputs": [],
   "source": []
  },
  {
   "cell_type": "markdown",
   "metadata": {
    "ExecuteTime": {
     "end_time": "2021-06-06T07:56:34.242489Z",
     "start_time": "2021-06-06T07:56:34.232517Z"
    }
   },
   "source": [
    "# clusting-2(3개로 분류) -> 결과가 2개 분류보다 안좋음"
   ]
  },
  {
   "cell_type": "code",
   "execution_count": 900,
   "metadata": {
    "ExecuteTime": {
     "end_time": "2021-06-06T15:13:18.313434Z",
     "start_time": "2021-06-06T15:13:18.276915Z"
    },
    "scrolled": true
   },
   "outputs": [
    {
     "name": "stdout",
     "output_type": "stream",
     "text": [
      "lable\n",
      "[1 1 0 2 2 2 1 1 2 2 2 1 1 0 0 1 1 2 1 1 1 1 0 1 1 1 0 0 0 0 2 0 2 2 1 0 2\n",
      " 0 0 0 1 1 0 1 2 0 1 0 2 0 2 1 1 0 1 1 1 0 0 2 1 0 1 0 1 0 1 0 2 0 1 2 0 0\n",
      " 2 0 1 0 2 2 2 0 0 2 2 2 2 2 1 0 2 0 2 2 2 2 2 2 0 2]\n",
      "center\n",
      "[[48.58823529 42.41176471 49.47058824 58.61764706 68.5        74.5\n",
      "  77.52941176 81.55882353]\n",
      " [15.84375     8.09375     8.125      10.375      11.75       14.0625\n",
      "  17.09375    19.8125    ]\n",
      " [77.05882353 84.55882353 93.23529412 97.08823529 98.44117647 98.88235294\n",
      "  98.85294118 99.17647059]]\n"
     ]
    }
   ],
   "source": [
    "#clustering\n",
    "\n",
    "kmeans = KMeans(n_clusters=3, init='k-means++', max_iter=300, random_state=0).fit(df_rank)\n",
    "print('lable')\n",
    "print(kmeans.labels_)\n",
    "print('center')\n",
    "print(kmeans.cluster_centers_)\n",
    "df['cluster3']=kmeans.labels_"
   ]
  },
  {
   "cell_type": "code",
   "execution_count": 901,
   "metadata": {
    "ExecuteTime": {
     "end_time": "2021-06-06T15:13:18.837776Z",
     "start_time": "2021-06-06T15:13:18.820822Z"
    }
   },
   "outputs": [],
   "source": [
    "cluster3_0 = kmeans.cluster_centers_[0].tolist()\n",
    "cluster3_1 = kmeans.cluster_centers_[1].tolist()\n",
    "cluster3_2 = kmeans.cluster_centers_[2].tolist()\n"
   ]
  },
  {
   "cell_type": "code",
   "execution_count": 902,
   "metadata": {
    "ExecuteTime": {
     "end_time": "2021-06-06T15:13:19.589916Z",
     "start_time": "2021-06-06T15:13:19.445135Z"
    },
    "scrolled": true
   },
   "outputs": [
    {
     "data": {
      "image/png": "[encoded data removed]",
      "text/plain": [
       "<Figure size 432x288 with 1 Axes>"
      ]
     },
     "metadata": {
      "needs_background": "light"
     },
     "output_type": "display_data"
    }
   ],
   "source": [
    "x_values = [1, 2, 3, 4, 5, 6, 7, 8]\n",
    "\n",
    "y_values_31 = cluster3_0\n",
    "y_values_32 = cluster3_1\n",
    "y_values_33 = cluster3_2\n",
    "\n",
    "plt.plot(x_values, y_values_31)\n",
    "plt.plot(x_values, y_values_32)\n",
    "plt.plot(x_values, y_values_33)\n",
    "plt.gca().invert_yaxis()\n",
    "plt.xlabel('week')\n",
    "plt.ylabel('rank')\n",
    "plt.legend(['lower','upper','middle'])\n",
    "plt.show()"
   ]
  },
  {
   "cell_type": "code",
   "execution_count": 67,
   "metadata": {
    "ExecuteTime": {
     "end_time": "2021-06-14T07:52:19.748443Z",
     "start_time": "2021-06-14T07:52:19.705207Z"
    }
   },
   "outputs": [
    {
     "ename": "KeyError",
     "evalue": "'cluster3'",
     "output_type": "error",
     "traceback": [
      "\u001b[1;31m---------------------------------------------------------------------------\u001b[0m",
      "\u001b[1;31mKeyError\u001b[0m                                  Traceback (most recent call last)",
      "\u001b[1;32m~\\AppData\\Roaming\\Python\\Python38\\site-packages\\pandas\\core\\indexes\\base.py\u001b[0m in \u001b[0;36mget_loc\u001b[1;34m(self, key, method, tolerance)\u001b[0m\n\u001b[0;32m   3079\u001b[0m             \u001b[1;32mtry\u001b[0m\u001b[1;33m:\u001b[0m\u001b[1;33m\u001b[0m\u001b[1;33m\u001b[0m\u001b[0m\n\u001b[1;32m-> 3080\u001b[1;33m                 \u001b[1;32mreturn\u001b[0m \u001b[0mself\u001b[0m\u001b[1;33m.\u001b[0m\u001b[0m_engine\u001b[0m\u001b[1;33m.\u001b[0m\u001b[0mget_loc\u001b[0m\u001b[1;33m(\u001b[0m\u001b[0mcasted_key\u001b[0m\u001b[1;33m)\u001b[0m\u001b[1;33m\u001b[0m\u001b[1;33m\u001b[0m\u001b[0m\n\u001b[0m\u001b[0;32m   3081\u001b[0m             \u001b[1;32mexcept\u001b[0m \u001b[0mKeyError\u001b[0m \u001b[1;32mas\u001b[0m \u001b[0merr\u001b[0m\u001b[1;33m:\u001b[0m\u001b[1;33m\u001b[0m\u001b[1;33m\u001b[0m\u001b[0m\n",
      "\u001b[1;32mpandas\\_libs\\index.pyx\u001b[0m in \u001b[0;36mpandas._libs.index.IndexEngine.get_loc\u001b[1;34m()\u001b[0m\n",
      "\u001b[1;32mpandas\\_libs\\index.pyx\u001b[0m in \u001b[0;36mpandas._libs.index.IndexEngine.get_loc\u001b[1;34m()\u001b[0m\n",
      "\u001b[1;32mpandas\\_libs\\hashtable_class_helper.pxi\u001b[0m in \u001b[0;36mpandas._libs.hashtable.PyObjectHashTable.get_item\u001b[1;34m()\u001b[0m\n",
      "\u001b[1;32mpandas\\_libs\\hashtable_class_helper.pxi\u001b[0m in \u001b[0;36mpandas._libs.hashtable.PyObjectHashTable.get_item\u001b[1;34m()\u001b[0m\n",
      "\u001b[1;31mKeyError\u001b[0m: 'cluster3'",
      "\nThe above exception was the direct cause of the following exception:\n",
      "\u001b[1;31mKeyError\u001b[0m                                  Traceback (most recent call last)",
      "\u001b[1;32m<ipython-input-67-6b6cf6e4f855>\u001b[0m in \u001b[0;36m<module>\u001b[1;34m\u001b[0m\n\u001b[1;32m----> 1\u001b[1;33m \u001b[0mdf_y2\u001b[0m \u001b[1;33m=\u001b[0m \u001b[0mdf\u001b[0m\u001b[1;33m[\u001b[0m\u001b[1;34m'cluster3'\u001b[0m\u001b[1;33m]\u001b[0m\u001b[1;33m\u001b[0m\u001b[1;33m\u001b[0m\u001b[0m\n\u001b[0m\u001b[0;32m      2\u001b[0m \u001b[1;33m\u001b[0m\u001b[0m\n\u001b[0;32m      3\u001b[0m \u001b[0mX_train\u001b[0m\u001b[1;33m,\u001b[0m\u001b[0mX_test\u001b[0m\u001b[1;33m,\u001b[0m\u001b[0my_train\u001b[0m\u001b[1;33m,\u001b[0m\u001b[0my_test\u001b[0m \u001b[1;33m=\u001b[0m \u001b[0mtrain_test_split\u001b[0m\u001b[1;33m(\u001b[0m\u001b[0mdf_X\u001b[0m\u001b[1;33m,\u001b[0m\u001b[0mdf_y2\u001b[0m\u001b[1;33m,\u001b[0m\u001b[0mtest_size\u001b[0m\u001b[1;33m=\u001b[0m\u001b[1;36m0.2\u001b[0m\u001b[1;33m,\u001b[0m \u001b[0mrandom_state\u001b[0m\u001b[1;33m=\u001b[0m\u001b[1;36m11\u001b[0m\u001b[1;33m)\u001b[0m\u001b[1;33m\u001b[0m\u001b[1;33m\u001b[0m\u001b[0m\n",
      "\u001b[1;32m~\\AppData\\Roaming\\Python\\Python38\\site-packages\\pandas\\core\\frame.py\u001b[0m in \u001b[0;36m__getitem__\u001b[1;34m(self, key)\u001b[0m\n\u001b[0;32m   3022\u001b[0m             \u001b[1;32mif\u001b[0m \u001b[0mself\u001b[0m\u001b[1;33m.\u001b[0m\u001b[0mcolumns\u001b[0m\u001b[1;33m.\u001b[0m\u001b[0mnlevels\u001b[0m \u001b[1;33m>\u001b[0m \u001b[1;36m1\u001b[0m\u001b[1;33m:\u001b[0m\u001b[1;33m\u001b[0m\u001b[1;33m\u001b[0m\u001b[0m\n\u001b[0;32m   3023\u001b[0m                 \u001b[1;32mreturn\u001b[0m \u001b[0mself\u001b[0m\u001b[1;33m.\u001b[0m\u001b[0m_getitem_multilevel\u001b[0m\u001b[1;33m(\u001b[0m\u001b[0mkey\u001b[0m\u001b[1;33m)\u001b[0m\u001b[1;33m\u001b[0m\u001b[1;33m\u001b[0m\u001b[0m\n\u001b[1;32m-> 3024\u001b[1;33m             \u001b[0mindexer\u001b[0m \u001b[1;33m=\u001b[0m \u001b[0mself\u001b[0m\u001b[1;33m.\u001b[0m\u001b[0mcolumns\u001b[0m\u001b[1;33m.\u001b[0m\u001b[0mget_loc\u001b[0m\u001b[1;33m(\u001b[0m\u001b[0mkey\u001b[0m\u001b[1;33m)\u001b[0m\u001b[1;33m\u001b[0m\u001b[1;33m\u001b[0m\u001b[0m\n\u001b[0m\u001b[0;32m   3025\u001b[0m             \u001b[1;32mif\u001b[0m \u001b[0mis_integer\u001b[0m\u001b[1;33m(\u001b[0m\u001b[0mindexer\u001b[0m\u001b[1;33m)\u001b[0m\u001b[1;33m:\u001b[0m\u001b[1;33m\u001b[0m\u001b[1;33m\u001b[0m\u001b[0m\n\u001b[0;32m   3026\u001b[0m                 \u001b[0mindexer\u001b[0m \u001b[1;33m=\u001b[0m \u001b[1;33m[\u001b[0m\u001b[0mindexer\u001b[0m\u001b[1;33m]\u001b[0m\u001b[1;33m\u001b[0m\u001b[1;33m\u001b[0m\u001b[0m\n",
      "\u001b[1;32m~\\AppData\\Roaming\\Python\\Python38\\site-packages\\pandas\\core\\indexes\\base.py\u001b[0m in \u001b[0;36mget_loc\u001b[1;34m(self, key, method, tolerance)\u001b[0m\n\u001b[0;32m   3080\u001b[0m                 \u001b[1;32mreturn\u001b[0m \u001b[0mself\u001b[0m\u001b[1;33m.\u001b[0m\u001b[0m_engine\u001b[0m\u001b[1;33m.\u001b[0m\u001b[0mget_loc\u001b[0m\u001b[1;33m(\u001b[0m\u001b[0mcasted_key\u001b[0m\u001b[1;33m)\u001b[0m\u001b[1;33m\u001b[0m\u001b[1;33m\u001b[0m\u001b[0m\n\u001b[0;32m   3081\u001b[0m             \u001b[1;32mexcept\u001b[0m \u001b[0mKeyError\u001b[0m \u001b[1;32mas\u001b[0m \u001b[0merr\u001b[0m\u001b[1;33m:\u001b[0m\u001b[1;33m\u001b[0m\u001b[1;33m\u001b[0m\u001b[0m\n\u001b[1;32m-> 3082\u001b[1;33m                 \u001b[1;32mraise\u001b[0m \u001b[0mKeyError\u001b[0m\u001b[1;33m(\u001b[0m\u001b[0mkey\u001b[0m\u001b[1;33m)\u001b[0m \u001b[1;32mfrom\u001b[0m \u001b[0merr\u001b[0m\u001b[1;33m\u001b[0m\u001b[1;33m\u001b[0m\u001b[0m\n\u001b[0m\u001b[0;32m   3083\u001b[0m \u001b[1;33m\u001b[0m\u001b[0m\n\u001b[0;32m   3084\u001b[0m         \u001b[1;32mif\u001b[0m \u001b[0mtolerance\u001b[0m \u001b[1;32mis\u001b[0m \u001b[1;32mnot\u001b[0m \u001b[1;32mNone\u001b[0m\u001b[1;33m:\u001b[0m\u001b[1;33m\u001b[0m\u001b[1;33m\u001b[0m\u001b[0m\n",
      "\u001b[1;31mKeyError\u001b[0m: 'cluster3'"
     ]
    }
   ],
   "source": [
    "df_y2 = df['cluster3']\n",
    "\n",
    "X_train,X_test,y_train,y_test = train_test_split(df_X,df_y2,test_size=0.2, random_state=11)"
   ]
  },
  {
   "cell_type": "code",
   "execution_count": 904,
   "metadata": {
    "ExecuteTime": {
     "end_time": "2021-06-06T15:13:20.891724Z",
     "start_time": "2021-06-06T15:13:20.762415Z"
    }
   },
   "outputs": [
    {
     "name": "stdout",
     "output_type": "stream",
     "text": [
      "Decision Tree Classifier 정확도:0.5000\n",
      "RandomForestClassifier 정확도:0.6000\n",
      "LogisicRegressionClassifier 정확도:0.6000\n"
     ]
    }
   ],
   "source": [
    "# decision tree 학습과 예측\n",
    "dt_clf.fit(X_train,y_train)\n",
    "dt_pred = dt_clf.predict(X_test)\n",
    "\n",
    "print('Decision Tree Classifier 정확도:{0:.4f}'.format(accuracy_score(y_test,dt_pred)))\n",
    "\n",
    "\n",
    "# random forest 학습과 예측\n",
    "\n",
    "rf_clf.fit(X_train,y_train)\n",
    "rf_pred = rf_clf.predict(X_test)\n",
    "\n",
    "print('RandomForestClassifier 정확도:{0:.4f}'.format(accuracy_score(y_test,rf_pred)))\n",
    "\n",
    "\n",
    "# logistic regression 학습과 예측\n",
    "\n",
    "lr_clf.fit(X_train,y_train)\n",
    "lr_pred = rf_clf.predict(X_test)\n",
    "\n",
    "print('LogisicRegressionClassifier 정확도:{0:.4f}'.format(accuracy_score(y_test,lr_pred)))"
   ]
  },
  {
   "cell_type": "markdown",
   "metadata": {},
   "source": [
    "# 로짓 분석 + 교수님 피드백"
   ]
  },
  {
   "cell_type": "code",
   "execution_count": 70,
   "metadata": {
    "ExecuteTime": {
     "end_time": "2021-06-14T07:59:22.881486Z",
     "start_time": "2021-06-14T07:59:22.864438Z"
    }
   },
   "outputs": [],
   "source": [
    "import statsmodels.api as sm"
   ]
  },
  {
   "cell_type": "code",
   "execution_count": 62,
   "metadata": {
    "ExecuteTime": {
     "end_time": "2021-06-14T07:49:23.972495Z",
     "start_time": "2021-06-14T07:49:23.964424Z"
    }
   },
   "outputs": [
    {
     "data": {
      "text/html": [
       "<div>\n",
       "<style scoped>\n",
       "    .dataframe tbody tr th:only-of-type {\n",
       "        vertical-align: middle;\n",
       "    }\n",
       "\n",
       "    .dataframe tbody tr th {\n",
       "        vertical-align: top;\n",
       "    }\n",
       "\n",
       "    .dataframe thead th {\n",
       "        text-align: right;\n",
       "    }\n",
       "</style>\n",
       "<table border=\"1\" class=\"dataframe\">\n",
       "  <thead>\n",
       "    <tr style=\"text-align: right;\">\n",
       "      <th></th>\n",
       "      <th>Entertainment</th>\n",
       "      <th>Member</th>\n",
       "      <th>Gender</th>\n",
       "      <th>Genre</th>\n",
       "      <th>Record_Kind</th>\n",
       "      <th>Country</th>\n",
       "      <th>Producing</th>\n",
       "    </tr>\n",
       "  </thead>\n",
       "  <tbody>\n",
       "    <tr>\n",
       "      <th>0</th>\n",
       "      <td>0</td>\n",
       "      <td>3</td>\n",
       "      <td>0</td>\n",
       "      <td>1</td>\n",
       "      <td>2</td>\n",
       "      <td>0</td>\n",
       "      <td>1</td>\n",
       "    </tr>\n",
       "    <tr>\n",
       "      <th>1</th>\n",
       "      <td>1</td>\n",
       "      <td>1</td>\n",
       "      <td>0</td>\n",
       "      <td>1</td>\n",
       "      <td>0</td>\n",
       "      <td>0</td>\n",
       "      <td>1</td>\n",
       "    </tr>\n",
       "    <tr>\n",
       "      <th>2</th>\n",
       "      <td>0</td>\n",
       "      <td>1</td>\n",
       "      <td>1</td>\n",
       "      <td>1</td>\n",
       "      <td>0</td>\n",
       "      <td>0</td>\n",
       "      <td>1</td>\n",
       "    </tr>\n",
       "    <tr>\n",
       "      <th>3</th>\n",
       "      <td>0</td>\n",
       "      <td>1</td>\n",
       "      <td>1</td>\n",
       "      <td>1</td>\n",
       "      <td>1</td>\n",
       "      <td>0</td>\n",
       "      <td>1</td>\n",
       "    </tr>\n",
       "    <tr>\n",
       "      <th>4</th>\n",
       "      <td>1</td>\n",
       "      <td>1</td>\n",
       "      <td>1</td>\n",
       "      <td>1</td>\n",
       "      <td>0</td>\n",
       "      <td>0</td>\n",
       "      <td>1</td>\n",
       "    </tr>\n",
       "    <tr>\n",
       "      <th>...</th>\n",
       "      <td>...</td>\n",
       "      <td>...</td>\n",
       "      <td>...</td>\n",
       "      <td>...</td>\n",
       "      <td>...</td>\n",
       "      <td>...</td>\n",
       "      <td>...</td>\n",
       "    </tr>\n",
       "    <tr>\n",
       "      <th>95</th>\n",
       "      <td>1</td>\n",
       "      <td>3</td>\n",
       "      <td>1</td>\n",
       "      <td>3</td>\n",
       "      <td>2</td>\n",
       "      <td>0</td>\n",
       "      <td>1</td>\n",
       "    </tr>\n",
       "    <tr>\n",
       "      <th>96</th>\n",
       "      <td>0</td>\n",
       "      <td>2</td>\n",
       "      <td>1</td>\n",
       "      <td>3</td>\n",
       "      <td>2</td>\n",
       "      <td>0</td>\n",
       "      <td>0</td>\n",
       "    </tr>\n",
       "    <tr>\n",
       "      <th>97</th>\n",
       "      <td>1</td>\n",
       "      <td>3</td>\n",
       "      <td>1</td>\n",
       "      <td>3</td>\n",
       "      <td>2</td>\n",
       "      <td>0</td>\n",
       "      <td>1</td>\n",
       "    </tr>\n",
       "    <tr>\n",
       "      <th>98</th>\n",
       "      <td>1</td>\n",
       "      <td>1</td>\n",
       "      <td>0</td>\n",
       "      <td>3</td>\n",
       "      <td>1</td>\n",
       "      <td>0</td>\n",
       "      <td>0</td>\n",
       "    </tr>\n",
       "    <tr>\n",
       "      <th>99</th>\n",
       "      <td>0</td>\n",
       "      <td>0</td>\n",
       "      <td>2</td>\n",
       "      <td>3</td>\n",
       "      <td>0</td>\n",
       "      <td>0</td>\n",
       "      <td>1</td>\n",
       "    </tr>\n",
       "  </tbody>\n",
       "</table>\n",
       "<p>100 rows × 7 columns</p>\n",
       "</div>"
      ],
      "text/plain": [
       "    Entertainment  Member  Gender  Genre  Record_Kind  Country  Producing\n",
       "0               0       3       0      1            2        0          1\n",
       "1               1       1       0      1            0        0          1\n",
       "2               0       1       1      1            0        0          1\n",
       "3               0       1       1      1            1        0          1\n",
       "4               1       1       1      1            0        0          1\n",
       "..            ...     ...     ...    ...          ...      ...        ...\n",
       "95              1       3       1      3            2        0          1\n",
       "96              0       2       1      3            2        0          0\n",
       "97              1       3       1      3            2        0          1\n",
       "98              1       1       0      3            1        0          0\n",
       "99              0       0       2      3            0        0          1\n",
       "\n",
       "[100 rows x 7 columns]"
      ]
     },
     "execution_count": 62,
     "metadata": {},
     "output_type": "execute_result"
    }
   ],
   "source": [
    "df_X"
   ]
  },
  {
   "cell_type": "code",
   "execution_count": 63,
   "metadata": {
    "ExecuteTime": {
     "end_time": "2021-06-14T07:49:27.328401Z",
     "start_time": "2021-06-14T07:49:27.320924Z"
    }
   },
   "outputs": [
    {
     "data": {
      "text/plain": [
       "0     1\n",
       "1     1\n",
       "2     0\n",
       "3     0\n",
       "4     0\n",
       "     ..\n",
       "95    0\n",
       "96    0\n",
       "97    0\n",
       "98    0\n",
       "99    0\n",
       "Name: target, Length: 100, dtype: int32"
      ]
     },
     "execution_count": 63,
     "metadata": {},
     "output_type": "execute_result"
    }
   ],
   "source": [
    "df_y"
   ]
  },
  {
   "cell_type": "code",
   "execution_count": 71,
   "metadata": {
    "ExecuteTime": {
     "end_time": "2021-06-14T08:00:38.131528Z",
     "start_time": "2021-06-14T08:00:38.118486Z"
    }
   },
   "outputs": [
    {
     "name": "stdout",
     "output_type": "stream",
     "text": [
      "Optimization terminated successfully.\n",
      "         Current function value: 0.549332\n",
      "         Iterations 6\n"
     ]
    }
   ],
   "source": [
    "logit = sm.Logit(df_y, df_X)\n",
    "result = logit.fit()"
   ]
  },
  {
   "cell_type": "code",
   "execution_count": 72,
   "metadata": {
    "ExecuteTime": {
     "end_time": "2021-06-14T08:00:46.165259Z",
     "start_time": "2021-06-14T08:00:46.126875Z"
    }
   },
   "outputs": [
    {
     "data": {
      "text/html": [
       "<table class=\"simpletable\">\n",
       "<tr>\n",
       "        <td>Model:</td>              <td>Logit</td>      <td>Pseudo R-squared:</td>    <td>0.173</td>  \n",
       "</tr>\n",
       "<tr>\n",
       "  <td>Dependent Variable:</td>      <td>target</td>            <td>AIC:</td>         <td>123.8664</td> \n",
       "</tr>\n",
       "<tr>\n",
       "         <td>Date:</td>        <td>2021-06-14 17:00</td>       <td>BIC:</td>         <td>142.1026</td> \n",
       "</tr>\n",
       "<tr>\n",
       "   <td>No. Observations:</td>         <td>100</td>        <td>Log-Likelihood:</td>    <td>-54.933</td> \n",
       "</tr>\n",
       "<tr>\n",
       "       <td>Df Model:</td>              <td>6</td>            <td>LL-Null:</td>        <td>-66.406</td> \n",
       "</tr>\n",
       "<tr>\n",
       "     <td>Df Residuals:</td>           <td>93</td>          <td>LLR p-value:</td>    <td>0.00081462</td>\n",
       "</tr>\n",
       "<tr>\n",
       "      <td>Converged:</td>           <td>1.0000</td>           <td>Scale:</td>         <td>1.0000</td>  \n",
       "</tr>\n",
       "<tr>\n",
       "    <td>No. Iterations:</td>        <td>6.0000</td>              <td></td>               <td></td>     \n",
       "</tr>\n",
       "</table>\n",
       "<table class=\"simpletable\">\n",
       "<tr>\n",
       "        <td></td>         <th>Coef.</th>  <th>Std.Err.</th>    <th>z</th>     <th>P>|z|</th> <th>[0.025</th>  <th>0.975]</th> \n",
       "</tr>\n",
       "<tr>\n",
       "  <th>Entertainment</th> <td>-0.8637</td>  <td>0.5359</td>  <td>-1.6115</td> <td>0.1071</td> <td>-1.9141</td> <td>0.1868</td> \n",
       "</tr>\n",
       "<tr>\n",
       "  <th>Member</th>        <td>-0.1505</td>  <td>0.2431</td>  <td>-0.6190</td> <td>0.5359</td> <td>-0.6269</td> <td>0.3260</td> \n",
       "</tr>\n",
       "<tr>\n",
       "  <th>Gender</th>        <td>-1.2262</td>  <td>0.4836</td>  <td>-2.5355</td> <td>0.0112</td> <td>-2.1740</td> <td>-0.2783</td>\n",
       "</tr>\n",
       "<tr>\n",
       "  <th>Genre</th>         <td>-0.3591</td>  <td>0.2188</td>  <td>-1.6415</td> <td>0.1007</td> <td>-0.7879</td> <td>0.0697</td> \n",
       "</tr>\n",
       "<tr>\n",
       "  <th>Record_Kind</th>   <td>0.5546</td>   <td>0.2796</td>  <td>1.9837</td>  <td>0.0473</td> <td>0.0066</td>  <td>1.1025</td> \n",
       "</tr>\n",
       "<tr>\n",
       "  <th>Country</th>       <td>0.3887</td>   <td>0.1545</td>  <td>2.5152</td>  <td>0.0119</td> <td>0.0858</td>  <td>0.6915</td> \n",
       "</tr>\n",
       "<tr>\n",
       "  <th>Producing</th>     <td>1.0259</td>   <td>0.5964</td>  <td>1.7201</td>  <td>0.0854</td> <td>-0.1430</td> <td>2.1948</td> \n",
       "</tr>\n",
       "</table>"
      ],
      "text/plain": [
       "<class 'statsmodels.iolib.summary2.Summary'>\n",
       "\"\"\"\n",
       "                         Results: Logit\n",
       "=================================================================\n",
       "Model:              Logit            Pseudo R-squared: 0.173     \n",
       "Dependent Variable: target           AIC:              123.8664  \n",
       "Date:               2021-06-14 17:00 BIC:              142.1026  \n",
       "No. Observations:   100              Log-Likelihood:   -54.933   \n",
       "Df Model:           6                LL-Null:          -66.406   \n",
       "Df Residuals:       93               LLR p-value:      0.00081462\n",
       "Converged:          1.0000           Scale:            1.0000    \n",
       "No. Iterations:     6.0000                                       \n",
       "-----------------------------------------------------------------\n",
       "                   Coef.  Std.Err.    z    P>|z|   [0.025  0.975]\n",
       "-----------------------------------------------------------------\n",
       "Entertainment     -0.8637   0.5359 -1.6115 0.1071 -1.9141  0.1868\n",
       "Member            -0.1505   0.2431 -0.6190 0.5359 -0.6269  0.3260\n",
       "Gender            -1.2262   0.4836 -2.5355 0.0112 -2.1740 -0.2783\n",
       "Genre             -0.3591   0.2188 -1.6415 0.1007 -0.7879  0.0697\n",
       "Record_Kind        0.5546   0.2796  1.9837 0.0473  0.0066  1.1025\n",
       "Country            0.3887   0.1545  2.5152 0.0119  0.0858  0.6915\n",
       "Producing          1.0259   0.5964  1.7201 0.0854 -0.1430  2.1948\n",
       "=================================================================\n",
       "\n",
       "\"\"\""
      ]
     },
     "execution_count": 72,
     "metadata": {},
     "output_type": "execute_result"
    }
   ],
   "source": [
    "results.summary2()"
   ]
  },
  {
   "cell_type": "code",
   "execution_count": null,
   "metadata": {},
   "outputs": [],
   "source": []
  }
 ],
 "metadata": {
  "hide_input": false,
  "kernelspec": {
   "display_name": "base",
   "language": "python",
   "name": "python3"
  },
  "language_info": {
   "codemirror_mode": {
    "name": "ipython",
    "version": 3
   },
   "file_extension": ".py",
   "mimetype": "text/x-python",
   "name": "python",
   "nbconvert_exporter": "python",
   "pygments_lexer": "ipython3",
   "version": "3.9.13 (main, Aug 25 2022, 23:51:50) [MSC v.1916 64 bit (AMD64)]"
  },
  "toc": {
   "base_numbering": 1,
   "nav_menu": {},
   "number_sections": true,
   "sideBar": true,
   "skip_h1_title": false,
   "title_cell": "Table of Contents",
   "title_sidebar": "Contents",
   "toc_cell": false,
   "toc_position": {},
   "toc_section_display": true,
   "toc_window_display": true
  },
  "varInspector": {
   "cols": {
    "lenName": 16,
    "lenType": 16,
    "lenVar": 40
   },
   "kernels_config": {
    "python": {
     "delete_cmd_postfix": "",
     "delete_cmd_prefix": "del ",
     "library": "var_list.py",
     "varRefreshCmd": "print(var_dic_list())"
    },
    "r": {
     "delete_cmd_postfix": ") ",
     "delete_cmd_prefix": "rm(",
     "library": "var_list.r",
     "varRefreshCmd": "cat(var_dic_list()) "
    }
   },
   "types_to_exclude": [
    "module",
    "function",
    "builtin_function_or_method",
    "instance",
    "_Feature"
   ],
   "window_display": false
  },
  "vscode": {
   "interpreter": {
    "hash": "a077222d77dfe082b8f1dd562ad70e458ac2ab76993a0b248ab0476e32e9e8dd"
   }
  }
 },
 "nbformat": 4,
 "nbformat_minor": 4
}
