{
 "cells": [
  {
   "cell_type": "code",
   "execution_count": 2,
   "metadata": {},
   "outputs": [],
   "source": [
    "from selenium import webdriver\n",
    "from webdriver_manager.chrome import ChromeDriverManager\n",
    "import pandas as pd\n",
    "import time\n",
    "from tqdm import tqdm_notebook as tqdm\n",
    "from bs4 import BeautifulSoup as bs\n",
    "import requests as req\n",
    "from selenium.webdriver.common.keys import Keys"
   ]
  },
  {
   "cell_type": "code",
   "execution_count": 7,
   "metadata": {},
   "outputs": [],
   "source": [
    "driver = webdriver.Chrome(ChromeDriverManager().install())"
   ]
  },
  {
   "cell_type": "code",
   "execution_count": 8,
   "metadata": {},
   "outputs": [],
   "source": [
    "driver.maximize_window()"
   ]
  },
  {
   "cell_type": "code",
   "execution_count": 9,
   "metadata": {},
   "outputs": [],
   "source": [
    "driver.get('https://www.ssg.com/search.ssg?target=all&query=%ED%96%A5%EC%88%98&ctgId=6000193837&ctgLv=2&sort=sale')"
   ]
  },
  {
   "cell_type": "code",
   "execution_count": 20,
   "metadata": {},
   "outputs": [
    {
     "name": "stderr",
     "output_type": "stream",
     "text": [
      "C:\\Users\\user\\AppData\\Local\\Temp\\ipykernel_12208\\3243781578.py:5: TqdmDeprecationWarning: This function will be removed in tqdm==5.0.0\n",
      "Please use `tqdm.notebook.tqdm` instead of `tqdm.tqdm_notebook`\n",
      "  for i in tqdm(range(2,3)):\n"
     ]
    },
    {
     "data": {
      "application/vnd.jupyter.widget-view+json": {
       "model_id": "3290f2b68e364051a865e895c12bee92",
       "version_major": 2,
       "version_minor": 0
      },
      "text/plain": [
       "  0%|          | 0/1 [00:00<?, ?it/s]"
      ]
     },
     "metadata": {},
     "output_type": "display_data"
    },
    {
     "name": "stderr",
     "output_type": "stream",
     "text": [
      "C:\\Users\\user\\AppData\\Local\\Temp\\ipykernel_12208\\3243781578.py:13: TqdmDeprecationWarning: This function will be removed in tqdm==5.0.0\n",
      "Please use `tqdm.notebook.tqdm` instead of `tqdm.tqdm_notebook`\n",
      "  for i in tqdm(range(len(total))):\n"
     ]
    },
    {
     "data": {
      "application/vnd.jupyter.widget-view+json": {
       "model_id": "b8abf46e80fd4d1aa94ea9c7560bc467",
       "version_major": 2,
       "version_minor": 0
      },
      "text/plain": [
       "  0%|          | 0/93 [00:00<?, ?it/s]"
      ]
     },
     "metadata": {},
     "output_type": "display_data"
    },
    {
     "ename": "AttributeError",
     "evalue": "ResultSet object has no attribute 'text'. You're probably treating a list of elements like a single element. Did you call find_all() when you meant to call find()?",
     "output_type": "error",
     "traceback": [
      "\u001b[1;31m---------------------------------------------------------------------------\u001b[0m",
      "\u001b[1;31mAttributeError\u001b[0m                            Traceback (most recent call last)",
      "\u001b[1;32mc:\\Study\\Teamproject\\first\\SSG.ipynb 셀 5\u001b[0m in \u001b[0;36m<cell line: 5>\u001b[1;34m()\u001b[0m\n\u001b[0;32m     <a href='vscode-notebook-cell:/c%3A/Study/Teamproject/first/SSG.ipynb#X12sZmlsZQ%3D%3D?line=10'>11</a>\u001b[0m total \u001b[39m=\u001b[39m soup\u001b[39m.\u001b[39mselect(\u001b[39m'\u001b[39m\u001b[39mli.cunit_t232\u001b[39m\u001b[39m'\u001b[39m)\n\u001b[0;32m     <a href='vscode-notebook-cell:/c%3A/Study/Teamproject/first/SSG.ipynb#X12sZmlsZQ%3D%3D?line=12'>13</a>\u001b[0m \u001b[39mfor\u001b[39;00m i \u001b[39min\u001b[39;00m tqdm(\u001b[39mrange\u001b[39m(\u001b[39mlen\u001b[39m(total))):\n\u001b[1;32m---> <a href='vscode-notebook-cell:/c%3A/Study/Teamproject/first/SSG.ipynb#X12sZmlsZQ%3D%3D?line=13'>14</a>\u001b[0m     brand \u001b[39m=\u001b[39m total[i]\u001b[39m.\u001b[39;49mfind_all(\u001b[39m'\u001b[39;49m\u001b[39mstrong.brd > em.tx_ko\u001b[39;49m\u001b[39m'\u001b[39;49m)\u001b[39m.\u001b[39;49mtext\n\u001b[0;32m     <a href='vscode-notebook-cell:/c%3A/Study/Teamproject/first/SSG.ipynb#X12sZmlsZQ%3D%3D?line=14'>15</a>\u001b[0m     title \u001b[39m=\u001b[39m total[i]\u001b[39m.\u001b[39mfind_all(\u001b[39m'\u001b[39m\u001b[39ma.clickable > em.tx_ko\u001b[39m\u001b[39m'\u001b[39m)\u001b[39m.\u001b[39mtext\n\u001b[0;32m     <a href='vscode-notebook-cell:/c%3A/Study/Teamproject/first/SSG.ipynb#X12sZmlsZQ%3D%3D?line=15'>16</a>\u001b[0m     price \u001b[39m=\u001b[39m total[i]\u001b[39m.\u001b[39mfind_all(\u001b[39m'\u001b[39m\u001b[39mdiv.opt_price > em.ssg_price\u001b[39m\u001b[39m'\u001b[39m)\u001b[39m.\u001b[39mtext\n",
      "File \u001b[1;32mc:\\Users\\user\\anaconda3\\lib\\site-packages\\bs4\\element.py:2289\u001b[0m, in \u001b[0;36mResultSet.__getattr__\u001b[1;34m(self, key)\u001b[0m\n\u001b[0;32m   2287\u001b[0m \u001b[39mdef\u001b[39;00m \u001b[39m__getattr__\u001b[39m(\u001b[39mself\u001b[39m, key):\n\u001b[0;32m   2288\u001b[0m     \u001b[39m\"\"\"Raise a helpful exception to explain a common code fix.\"\"\"\u001b[39;00m\n\u001b[1;32m-> 2289\u001b[0m     \u001b[39mraise\u001b[39;00m \u001b[39mAttributeError\u001b[39;00m(\n\u001b[0;32m   2290\u001b[0m         \u001b[39m\"\u001b[39m\u001b[39mResultSet object has no attribute \u001b[39m\u001b[39m'\u001b[39m\u001b[39m%s\u001b[39;00m\u001b[39m'\u001b[39m\u001b[39m. You\u001b[39m\u001b[39m'\u001b[39m\u001b[39mre probably treating a list of elements like a single element. Did you call find_all() when you meant to call find()?\u001b[39m\u001b[39m\"\u001b[39m \u001b[39m%\u001b[39m key\n\u001b[0;32m   2291\u001b[0m     )\n",
      "\u001b[1;31mAttributeError\u001b[0m: ResultSet object has no attribute 'text'. You're probably treating a list of elements like a single element. Did you call find_all() when you meant to call find()?"
     ]
    }
   ],
   "source": [
    "brand_list = []\n",
    "title_list = []  \n",
    "price_list = []\n",
    "\n",
    "for i in tqdm(range(2,3)):\n",
    "    page = 'https://www.ssg.com/search.ssg?target=all&query=%ED%96%A5%EC%88%98&ctgId=6000193837&ctgLv=2&sort=sale&page={}'.format(i)\n",
    "    driver.get(page)\n",
    "    time.sleep(2)\n",
    "\n",
    "    soup = bs(driver.page_source,'html.parser')\n",
    "    total = soup.select('li.cunit_t232')\n",
    "\n",
    "    for i in tqdm(range(len(total))):\n",
    "        brand = total[i].find_all('strong.brd > em.tx_ko').text\n",
    "        title = total[i].find_all('a.clickable > em.tx_ko').text\n",
    "        price = total[i].find_all('div.opt_price > em.ssg_price').text\n",
    "\n",
    "        brand_list.append(brand)\n",
    "        title_list.append(title)  \n",
    "        price_list.append(price)\n",
    "\n",
    "        time.sleep(2)\n",
    "\n",
    "len(brand_list)"
   ]
  },
  {
   "cell_type": "code",
   "execution_count": 17,
   "metadata": {},
   "outputs": [
    {
     "data": {
      "text/plain": [
       "['딥티크',\n",
       " '키엘',\n",
       " 'CHANEL',\n",
       " 'CHANEL',\n",
       " '이솝',\n",
       " '입생로랑 (YSL)',\n",
       " 'DIOR',\n",
       " '불가리(향수)',\n",
       " '구찌 뷰티',\n",
       " '돌체앤가바나 뷰티',\n",
       " '르 라보',\n",
       " '르 라보',\n",
       " '엘리자베스아덴',\n",
       " 'BYREDO',\n",
       " '딥티크',\n",
       " 'CHANEL',\n",
       " '딥티크',\n",
       " '딥디크(향수)',\n",
       " '산타 마리아 노벨라',\n",
       " '입생로랑 (YSL)',\n",
       " '크리드',\n",
       " '랑방 (향수)',\n",
       " '조 말론 런던(Jo Malone London)',\n",
       " '불가리(향수)',\n",
       " '르 라보',\n",
       " 'CHANEL',\n",
       " '조 말론 런던(Jo Malone London)',\n",
       " 'DIOR',\n",
       " '산타 마리아 노벨라',\n",
       " '산타 마리아 노벨라',\n",
       " '나르시소 로드리게즈',\n",
       " 'DIOR',\n",
       " '조 말론 런던(Jo Malone London)',\n",
       " '메종 프란시스 커정',\n",
       " '끌로에(향수)',\n",
       " '불가리(향수)',\n",
       " '메종 프란시스 커정',\n",
       " 'CHANEL',\n",
       " '조 말론 런던(Jo Malone London)',\n",
       " '클린',\n",
       " '랑방 (향수)',\n",
       " '조 말론 런던(Jo Malone London)',\n",
       " 'CHANEL',\n",
       " '랑방 (향수)',\n",
       " 'BYREDO',\n",
       " '조말론향수',\n",
       " '조 말론 런던(Jo Malone London)',\n",
       " 'CHANEL',\n",
       " '에르메스',\n",
       " '아쿠아디파르마(향수)',\n",
       " '르 라보',\n",
       " '조 말론 런던(Jo Malone London)',\n",
       " '조 말론 런던(Jo Malone London)',\n",
       " 'CHANEL',\n",
       " 'CHANEL',\n",
       " '캘빈클라인(CK)',\n",
       " '버버리(BURBERRY)',\n",
       " '겐조(KENZO)',\n",
       " '조 말론 런던(Jo Malone London)',\n",
       " '더바디샵',\n",
       " 'CHANEL',\n",
       " 'CHANEL',\n",
       " '랑콤',\n",
       " '필로소피',\n",
       " 'BYREDO',\n",
       " '조 말론 런던(Jo Malone London)',\n",
       " '조 말론 런던(Jo Malone London)',\n",
       " '크리드',\n",
       " 'DIOR(향수)',\n",
       " '조 말론 런던(Jo Malone London)',\n",
       " 'CHANEL',\n",
       " 'BYREDO',\n",
       " '돌체앤가바나 뷰티',\n",
       " '이솝',\n",
       " '아쿠아 디 파르마',\n",
       " '펜할리곤스',\n",
       " '더바디샵',\n",
       " 'CHANEL',\n",
       " '입생로랑 (YSL)',\n",
       " 'FERRARI(향수)',\n",
       " '메종마르지엘라',\n",
       " '딥티크',\n",
       " 'DIOR',\n",
       " '조 말론 런던(Jo Malone London)',\n",
       " '산타 마리아 노벨라',\n",
       " 'CHANEL',\n",
       " '르 라보',\n",
       " '펜할리곤스',\n",
       " '딥티크',\n",
       " '키엘',\n",
       " '르 라보',\n",
       " 'CHANEL',\n",
       " '조 말론 런던(Jo Malone London)']"
      ]
     },
     "execution_count": 17,
     "metadata": {},
     "output_type": "execute_result"
    }
   ],
   "source": [
    "brand_list"
   ]
  },
  {
   "cell_type": "code",
   "execution_count": 18,
   "metadata": {},
   "outputs": [
    {
     "data": {
      "text/plain": [
       "['오드퍼퓸 75ml 택1',\n",
       " '오리지널 머스크 블렌드  50ml',\n",
       " '코코 마드모아젤 오 드 빠르펭 35ml',\n",
       " '[샤넬] 코코 마드모아젤의 발자취를 따라 다양한 방식으로 과감하게 개성을 표현해 보세요.',\n",
       " '테싯 오 드 퍼퓸 50ml',\n",
       " '리브르 오 드 빠르펭 30ml',\n",
       " '미스 디올 블루밍 부케 오 드 뚜왈렛 30ml',\n",
       " '불가리 옴니아 아메시스트 EDT 65ml[무료배송]',\n",
       " '[SSG단독]블룸 EDP 롤러볼 7.4ml(+향수미니어처2종증정)',\n",
       " '[SSG단독] 돌체앤가바나 라이트 블루 오드뚜왈렛 25ml 세트',\n",
       " '(라벨링서비스)어나더 13 EDP 50ml',\n",
       " '(라벨링서비스)상탈 33 EDP 50ml',\n",
       " '5번가 EDP 125ml',\n",
       " '블랑쉬 / 발다프리크 EDP 50ml 구매 시 2ml 3종 + 상품권 1만원 증정',\n",
       " '오드뚜왈렛 100ml 택1',\n",
       " '코코 마드모아젤 오 드 빠르펭 50ml',\n",
       " '오드뚜왈렛 50ml 택1',\n",
       " '딥디크 플레르 드 뽀 오 드 퍼퓸 75ml',\n",
       " '[산타마리아노벨라] 프리지아 오 드 코롱 50ml + 멜로그라노 10ml (2ml 바이알 *5)',\n",
       " '리브르 오 드 뚜왈렛 30ml',\n",
       " '어벤투스 100ml',\n",
       " '랑방 에끌라 드 아르페쥬 EDP 100ML[무료배송]',\n",
       " '잉글리쉬 페어 앤 프리지아 코롱 30ml',\n",
       " '불가리 블루 뿌르옴므 EDT 100ml[BH] [선물포장가능]',\n",
       " '(라벨링서비스)떼 누아 29 EDP 50ml',\n",
       " 'N5 로(L’EAU) 오 드 뚜왈렛 35ml',\n",
       " '블랙베리 앤 베이 코롱 50ml',\n",
       " 'NEW 쟈도르 퍼퓸 도 오 드 퍼퓸 50ML',\n",
       " '[산타마리아노벨라] 프리지아 오 드 코롱 100ml',\n",
       " '[산타마리아노벨라] 프리지아 오 드 코롱 50ml',\n",
       " '나르시소 로드리게즈 포 허 퓨어 머스크 오드퍼퓸 30ml',\n",
       " '미스 디올 블루밍 부케 오 드 뚜왈렛 100ml',\n",
       " '잉글리쉬 페어 앤 프리지아 코롱 100ml',\n",
       " '바카라 루쥬 540 엑스트레 드 퍼퓸 70ml',\n",
       " '끌로에 오드퍼퓸 EDP 50ml',\n",
       " '불가리 옴니아 아메시스트 EDT 65ml[BH] [선물포장가능]',\n",
       " '바카라 루쥬 540 EDP 35ml',\n",
       " '샹스 오 땅드르 오 드 뚜왈렛35ml',\n",
       " '잉글리쉬 페어 앤 프리지아 코롱 50ml',\n",
       " '클래식 웜코튼 EDP 30ml[리뉴얼][BH] [선물포장가능]',\n",
       " '랑방 에끌라 드 아르페쥬 EDP 100ml[BH] [선물포장가능]',\n",
       " '라임 바질 앤 만다린 코롱 30ml',\n",
       " '코코 마드모아젤 오 드 빠르펭 100ml',\n",
       " '랑방 에끌라 드 아르페쥬 EDP 100ML',\n",
       " '블랑쉬 (BLANCHE) 오드퍼퓸 50ml',\n",
       " '조말론 블랙베리 앤 베이 코롱 30ml 쇼핑백증정',\n",
       " '라임 바질 앤 만다린 코롱 50ml',\n",
       " '코코 마드모아젤 로 프리베 스프레이 50ml',\n",
       " '트윌리 데르메스 오드퍼퓸 30ml',\n",
       " '아쿠아디파르마 로사 노빌레 헤어 미스트 50ml',\n",
       " '(라벨링서비스)어나더 13 EDP 100ml',\n",
       " '[상품권] 블랙베리 앤 베이 코롱 100ml',\n",
       " '피오니 앤 블러쉬 스웨이드 코롱 50ml',\n",
       " '블루 드 샤넬 오 드 빠르펭 100ml',\n",
       " '코코 마드모아젤 오 드 빠르펭 엥땅스 35ml',\n",
       " 'CK ONE 200ml',\n",
       " '버버리 위크앤드 포 맨 EDT 100ml',\n",
       " '겐조 뉴 플라워 바이 겐조 EDT 100ml',\n",
       " '피오니 앤 블러쉬 스웨이드 코롱 30ml',\n",
       " '화이트 머스크 후레그런스 미스트(98130)',\n",
       " '코코 마드모아젤 오 드 빠르펭 엥땅스 50ml',\n",
       " '코코 마드모아젤 오 드 빠르펭 엥땅스  100ml',\n",
       " '미라클 오 드 퍼퓸 30ml',\n",
       " '어메이징 그레이스 오드뚜왈렛 EDT 60ml 우먼 향수',\n",
       " '블랑쉬/모하비고스트 오드퍼퓸 100ml  + 12ml 트래블 사이즈 증정',\n",
       " '[상품권] 우드 세이지 앤 씨 솔트 코롱 100ml',\n",
       " '잉글리쉬 페어 앤 프리지아 플루티드 코롱 50ml',\n",
       " '실버 마운틴 워터 100ml',\n",
       " '디올 자도르 오드퍼퓸 100ML',\n",
       " '블랙베리 앤 베이 코롱 30ml',\n",
       " '알뤼르 옴므 에디씨옹 블랑슈 오 드 빠르펭 100ml',\n",
       " '헤어퍼퓸 - 블랑쉬 (BLANCHE)',\n",
       " '돌체앤가바나 돌체 로즈 오드뚜왈렛 50ml',\n",
       " '에레미아 오 드 퍼퓸 50mL',\n",
       " '매그놀리아 인피니타 오 드 퍼퓸 100ml',\n",
       " '루나 EDT 30ML세트(+루나 핸드크림 10ML증정)',\n",
       " '핑크 그레이프후룻 샤워젤 2종 기획세트 (886923)',\n",
       " '가브리엘 샤넬 에쌍스 오 드 빠르펭 35ml',\n",
       " '[10월] 리브르 오 드 빠르펭 50ml 세트(+향수 미니어처)',\n",
       " '페라리 블랙 EDT 125ml',\n",
       " '레이지 선데이 모닝 EDT 30ML(공식수입정품)',\n",
       " ' 딥티크 34번가 생 제르망',\n",
       " '미스 디올 블루밍 부케 오 드 뚜왈렛 30ml',\n",
       " '향수의 계절 가을~ 향기롭게 나들이준비~ 불가리, 조말론, 에르메스 外',\n",
       " '[산타마리아노벨라] 프리지아 오 드 코롱 50ml',\n",
       " '[샤넬] 코코 마드모아젤의 발자취를 따라 다양한 방식으로 과감하게 개성을 표현해 보세요.',\n",
       " '(라벨링서비스)상탈 33 EDP 50ml',\n",
       " '스포츠카 클럽 한정판 출시기념',\n",
       " '오드뚜왈렛 100ml 택1',\n",
       " '오리지널 머스크 블렌드  50ml',\n",
       " '(라벨링서비스)어나더 13 EDP 50ml',\n",
       " '코코 마드모아젤 오 드 빠르펭 35ml',\n",
       " '[상품권] 블랙베리 앤 베이 코롱 100ml']"
      ]
     },
     "execution_count": 18,
     "metadata": {},
     "output_type": "execute_result"
    }
   ],
   "source": [
    "title_list"
   ]
  },
  {
   "cell_type": "code",
   "execution_count": null,
   "metadata": {},
   "outputs": [],
   "source": []
  }
 ],
 "metadata": {
  "kernelspec": {
   "display_name": "Python 3.9.12 ('base')",
   "language": "python",
   "name": "python3"
  },
  "language_info": {
   "codemirror_mode": {
    "name": "ipython",
    "version": 3
   },
   "file_extension": ".py",
   "mimetype": "text/x-python",
   "name": "python",
   "nbconvert_exporter": "python",
   "pygments_lexer": "ipython3",
   "version": "3.9.12"
  },
  "orig_nbformat": 4,
  "vscode": {
   "interpreter": {
    "hash": "a077222d77dfe082b8f1dd562ad70e458ac2ab76993a0b248ab0476e32e9e8dd"
   }
  }
 },
 "nbformat": 4,
 "nbformat_minor": 2
}
