{
 "cells": [
  {
   "cell_type": "code",
   "execution_count": 1,
   "metadata": {},
   "outputs": [
    {
     "name": "stdout",
     "output_type": "stream",
     "text": [
      "Requirement already satisfied: wordcloud in c:\\users\\user\\anaconda3\\lib\\site-packages (1.8.2.2)\n",
      "Requirement already satisfied: numpy>=1.6.1 in c:\\users\\user\\anaconda3\\lib\\site-packages (from wordcloud) (1.21.5)\n",
      "Requirement already satisfied: pillow in c:\\users\\user\\anaconda3\\lib\\site-packages (from wordcloud) (9.0.1)\n",
      "Requirement already satisfied: matplotlib in c:\\users\\user\\anaconda3\\lib\\site-packages (from wordcloud) (3.5.1)\n",
      "Requirement already satisfied: pyparsing>=2.2.1 in c:\\users\\user\\anaconda3\\lib\\site-packages (from matplotlib->wordcloud) (3.0.4)\n",
      "Requirement already satisfied: cycler>=0.10 in c:\\users\\user\\anaconda3\\lib\\site-packages (from matplotlib->wordcloud) (0.11.0)\n",
      "Requirement already satisfied: kiwisolver>=1.0.1 in c:\\users\\user\\anaconda3\\lib\\site-packages (from matplotlib->wordcloud) (1.3.2)\n",
      "Requirement already satisfied: fonttools>=4.22.0 in c:\\users\\user\\anaconda3\\lib\\site-packages (from matplotlib->wordcloud) (4.25.0)\n",
      "Requirement already satisfied: python-dateutil>=2.7 in c:\\users\\user\\anaconda3\\lib\\site-packages (from matplotlib->wordcloud) (2.8.2)\n",
      "Requirement already satisfied: packaging>=20.0 in c:\\users\\user\\anaconda3\\lib\\site-packages (from matplotlib->wordcloud) (21.3)\n",
      "Requirement already satisfied: six>=1.5 in c:\\users\\user\\anaconda3\\lib\\site-packages (from python-dateutil>=2.7->matplotlib->wordcloud) (1.16.0)\n"
     ]
    }
   ],
   "source": [
    "!pip install wordcloud"
   ]
  },
  {
   "cell_type": "code",
   "execution_count": 2,
   "metadata": {},
   "outputs": [],
   "source": [
    "from wordcloud import WordCloud\n",
    "from collections import Counter #빈도분석\n",
    "import matplotlib.pyplot as plt #시각화 해주는 라이브러리"
   ]
  },
  {
   "cell_type": "code",
   "execution_count": 3,
   "metadata": {},
   "outputs": [],
   "source": [
    "from selenium import webdriver\n",
    "from webdriver_manager.chrome import ChromeDriverManager\n",
    "import pandas as pd\n",
    "import time\n",
    "from tqdm import tqdm_notebook as tqdm"
   ]
  },
  {
   "cell_type": "code",
   "execution_count": 4,
   "metadata": {},
   "outputs": [],
   "source": [
    "from bs4 import BeautifulSoup as bs\n",
    "import requests as req"
   ]
  },
  {
   "cell_type": "code",
   "execution_count": 6,
   "metadata": {},
   "outputs": [],
   "source": [
    "import pickle\n",
    "from PIL import Image\n",
    "import numpy as np"
   ]
  },
  {
   "cell_type": "code",
   "execution_count": 162,
   "metadata": {},
   "outputs": [],
   "source": [
    "stopwords = ['있다','하다','되다']\n",
    "\n",
    "def extract_noun(string):\n",
    "        nouns = okt.nouns(string)\n",
    "        return nouns\n",
    "\n",
    "def extract_Adjective(string):\n",
    "    Adjective = okt.pos(string)\n",
    "    Adjective_list = []\n",
    "    for word, tag in Adjective:\n",
    "        if((tag in 'Adjective') and (word not in stopwords) ):\n",
    "            Adjective_list.append(word)\n",
    "    return Adjective_list\n",
    "\n",
    "def extract_Verb(string):\n",
    "    Verb = okt.pos(string, stem=True, norm=True)\n",
    "    Verb_list = []\n",
    "    for word, tag in Verb:\n",
    "        if((tag in 'Verb') and (word not in stopwords)):\n",
    "            Verb_list.append(word)  \n",
    "    return Verb_list\n",
    "\n",
    "def extract_word(string):\n",
    "    noun = extract_noun(string)\n",
    "    Adjective = extract_Adjective(string)\n",
    "    Verb = extract_Verb(string)\n",
    "    word_list = []\n",
    "    for i in noun+Adjective+Verb:\n",
    "        word_list.append(i) \n",
    "    return word_list"
   ]
  },
  {
   "cell_type": "code",
   "execution_count": 7,
   "metadata": {},
   "outputs": [],
   "source": [
    "driver = webdriver.Chrome(ChromeDriverManager().install())"
   ]
  },
  {
   "cell_type": "code",
   "execution_count": 8,
   "metadata": {},
   "outputs": [],
   "source": [
    "driver.maximize_window()"
   ]
  },
  {
   "cell_type": "code",
   "execution_count": 78,
   "metadata": {},
   "outputs": [
    {
     "ename": "WebDriverException",
     "evalue": "Message: chrome not reachable\n  (Session info: chrome=105.0.5195.127)\n",
     "output_type": "error",
     "traceback": [
      "\u001b[1;31m---------------------------------------------------------------------------\u001b[0m",
      "\u001b[1;31mWebDriverException\u001b[0m                        Traceback (most recent call last)",
      "\u001b[1;32mc:\\Study\\Teamproject\\first\\mbti_wordcloud.ipynb 셀 9\u001b[0m in \u001b[0;36m<cell line: 1>\u001b[1;34m()\u001b[0m\n\u001b[1;32m----> <a href='vscode-notebook-cell:/c%3A/Study/Teamproject/first/mbti_wordcloud.ipynb#X43sZmlsZQ%3D%3D?line=0'>1</a>\u001b[0m driver\u001b[39m.\u001b[39;49mget(\u001b[39m'\u001b[39;49m\u001b[39mhttps://www.16personalities.com/ko/\u001b[39;49m\u001b[39m%E\u001b[39;49;00m\u001b[39mC\u001b[39;49m\u001b[39m%84%\u001b[39;49;00m\u001b[39mB1\u001b[39;49m\u001b[39m%E\u001b[39;49;00m\u001b[39mA\u001b[39;49m\u001b[39m%\u001b[39;49m\u001b[39mB2\u001b[39;49m\u001b[39m%\u001b[39;49m\u001b[39mA9\u001b[39;49m\u001b[39m%E\u001b[39;49;00m\u001b[39mC\u001b[39;49m\u001b[39m%\u001b[39;49m\u001b[39m9C\u001b[39;49m\u001b[39m%\u001b[39;49m\u001b[39mA0\u001b[39;49m\u001b[39m%E\u001b[39;49;00m\u001b[39mD\u001b[39;49m\u001b[39m%98%\u001b[39;49;00m\u001b[39m95-enfj\u001b[39;49m\u001b[39m'\u001b[39;49m)\n",
      "File \u001b[1;32mc:\\Users\\user\\anaconda3\\lib\\site-packages\\selenium\\webdriver\\remote\\webdriver.py:333\u001b[0m, in \u001b[0;36mWebDriver.get\u001b[1;34m(self, url)\u001b[0m\n\u001b[0;32m    329\u001b[0m \u001b[39mdef\u001b[39;00m \u001b[39mget\u001b[39m(\u001b[39mself\u001b[39m, url):\n\u001b[0;32m    330\u001b[0m     \u001b[39m\"\"\"\u001b[39;00m\n\u001b[0;32m    331\u001b[0m \u001b[39m    Loads a web page in the current browser session.\u001b[39;00m\n\u001b[0;32m    332\u001b[0m \u001b[39m    \"\"\"\u001b[39;00m\n\u001b[1;32m--> 333\u001b[0m     \u001b[39mself\u001b[39;49m\u001b[39m.\u001b[39;49mexecute(Command\u001b[39m.\u001b[39;49mGET, {\u001b[39m'\u001b[39;49m\u001b[39murl\u001b[39;49m\u001b[39m'\u001b[39;49m: url})\n",
      "File \u001b[1;32mc:\\Users\\user\\anaconda3\\lib\\site-packages\\selenium\\webdriver\\remote\\webdriver.py:321\u001b[0m, in \u001b[0;36mWebDriver.execute\u001b[1;34m(self, driver_command, params)\u001b[0m\n\u001b[0;32m    319\u001b[0m response \u001b[39m=\u001b[39m \u001b[39mself\u001b[39m\u001b[39m.\u001b[39mcommand_executor\u001b[39m.\u001b[39mexecute(driver_command, params)\n\u001b[0;32m    320\u001b[0m \u001b[39mif\u001b[39;00m response:\n\u001b[1;32m--> 321\u001b[0m     \u001b[39mself\u001b[39;49m\u001b[39m.\u001b[39;49merror_handler\u001b[39m.\u001b[39;49mcheck_response(response)\n\u001b[0;32m    322\u001b[0m     response[\u001b[39m'\u001b[39m\u001b[39mvalue\u001b[39m\u001b[39m'\u001b[39m] \u001b[39m=\u001b[39m \u001b[39mself\u001b[39m\u001b[39m.\u001b[39m_unwrap_value(\n\u001b[0;32m    323\u001b[0m         response\u001b[39m.\u001b[39mget(\u001b[39m'\u001b[39m\u001b[39mvalue\u001b[39m\u001b[39m'\u001b[39m, \u001b[39mNone\u001b[39;00m))\n\u001b[0;32m    324\u001b[0m     \u001b[39mreturn\u001b[39;00m response\n",
      "File \u001b[1;32mc:\\Users\\user\\anaconda3\\lib\\site-packages\\selenium\\webdriver\\remote\\errorhandler.py:242\u001b[0m, in \u001b[0;36mErrorHandler.check_response\u001b[1;34m(self, response)\u001b[0m\n\u001b[0;32m    240\u001b[0m         alert_text \u001b[39m=\u001b[39m value[\u001b[39m'\u001b[39m\u001b[39malert\u001b[39m\u001b[39m'\u001b[39m]\u001b[39m.\u001b[39mget(\u001b[39m'\u001b[39m\u001b[39mtext\u001b[39m\u001b[39m'\u001b[39m)\n\u001b[0;32m    241\u001b[0m     \u001b[39mraise\u001b[39;00m exception_class(message, screen, stacktrace, alert_text)\n\u001b[1;32m--> 242\u001b[0m \u001b[39mraise\u001b[39;00m exception_class(message, screen, stacktrace)\n",
      "\u001b[1;31mWebDriverException\u001b[0m: Message: chrome not reachable\n  (Session info: chrome=105.0.5195.127)\n"
     ]
    }
   ],
   "source": [
    "driver.get('https://www.16personalities.com/ko/%EC%84%B1%EA%B2%A9%EC%9C%A0%ED%98%95-infj')"
   ]
  },
  {
   "cell_type": "code",
   "execution_count": 41,
   "metadata": {},
   "outputs": [
    {
     "data": {
      "text/html": [
       "<div>\n",
       "<style scoped>\n",
       "    .dataframe tbody tr th:only-of-type {\n",
       "        vertical-align: middle;\n",
       "    }\n",
       "\n",
       "    .dataframe tbody tr th {\n",
       "        vertical-align: top;\n",
       "    }\n",
       "\n",
       "    .dataframe thead th {\n",
       "        text-align: right;\n",
       "    }\n",
       "</style>\n",
       "<table border=\"1\" class=\"dataframe\">\n",
       "  <thead>\n",
       "    <tr style=\"text-align: right;\">\n",
       "      <th></th>\n",
       "      <th>Unnamed: 0</th>\n",
       "      <th>제목</th>\n",
       "      <th>mbti</th>\n",
       "      <th>상세설명</th>\n",
       "    </tr>\n",
       "  </thead>\n",
       "  <tbody>\n",
       "    <tr>\n",
       "      <th>0</th>\n",
       "      <td>0</td>\n",
       "      <td>전략가</td>\n",
       "      <td>INTJ-A / INTJ-T</td>\n",
       "      <td>성격유형 : “전략가”사고 능력은 인간의 위대한 점 중 하나이다. 인간은 갈대처럼 ...</td>\n",
       "    </tr>\n",
       "    <tr>\n",
       "      <th>1</th>\n",
       "      <td>1</td>\n",
       "      <td>논리술사</td>\n",
       "      <td>INTP-A / INTP-T</td>\n",
       "      <td>성격유형 : “논리술사”질문하는 일을 멈추지 않는 것이 중요하다. 호기심은 그 자체...</td>\n",
       "    </tr>\n",
       "    <tr>\n",
       "      <th>2</th>\n",
       "      <td>2</td>\n",
       "      <td>통솔자</td>\n",
       "      <td>ENTJ-A / ENTJ-T</td>\n",
       "      <td>성격유형 : “통솔자”당신의 시간은 유한하다. 그러니 다른 사람의 삶을 사느라 시간...</td>\n",
       "    </tr>\n",
       "    <tr>\n",
       "      <th>3</th>\n",
       "      <td>3</td>\n",
       "      <td>변론가</td>\n",
       "      <td>ENTP-A / ENTP-T</td>\n",
       "      <td>성격유형 : “변론가”변론가(ENTP)는 두뇌 회전이 빠르고 대담한 성격으로 현재 ...</td>\n",
       "    </tr>\n",
       "    <tr>\n",
       "      <th>4</th>\n",
       "      <td>4</td>\n",
       "      <td>옹호자</td>\n",
       "      <td>INFJ-A / INFJ-T</td>\n",
       "      <td>성격유형 : “옹호자”사람을 대할 때는 그 사람의 잠재력을 봐야 하며, 다른 사람들...</td>\n",
       "    </tr>\n",
       "    <tr>\n",
       "      <th>5</th>\n",
       "      <td>5</td>\n",
       "      <td>중재자</td>\n",
       "      <td>INFP-A / INFP-T</td>\n",
       "      <td>소개중재자(INFP)는 언뜻 보기에 조용하고 자신을 내세우지 않는 것처럼 보이지만,...</td>\n",
       "    </tr>\n",
       "    <tr>\n",
       "      <th>6</th>\n",
       "      <td>6</td>\n",
       "      <td>선도자</td>\n",
       "      <td>ENFJ-A / ENFJ-T</td>\n",
       "      <td>성격유형 : “선도자”선도자(ENFJ)는 삶에서 위대한 사명을 위해 힘써야 한다는 ...</td>\n",
       "    </tr>\n",
       "    <tr>\n",
       "      <th>7</th>\n",
       "      <td>7</td>\n",
       "      <td>활동가</td>\n",
       "      <td>ENFP-A / ENFP-T</td>\n",
       "      <td>성격유형 : “활동가”당신이 생계를 위해 어떤 일을 하는지는 관심이 없다. 당신이 ...</td>\n",
       "    </tr>\n",
       "    <tr>\n",
       "      <th>8</th>\n",
       "      <td>8</td>\n",
       "      <td>현실주의자</td>\n",
       "      <td>ISTJ-A / ISTJ-T</td>\n",
       "      <td>성격유형 : “현실주의자”자신에게 주어진 능력을 활용하지 않는 것을 두려워해야 한다...</td>\n",
       "    </tr>\n",
       "    <tr>\n",
       "      <th>9</th>\n",
       "      <td>9</td>\n",
       "      <td>장인</td>\n",
       "      <td>ISTP-A / ISTP-T</td>\n",
       "      <td>성격유형 : “장인”나는 다른 삶을 살고 싶었다. 매일 똑같은 곳에서 똑같은 사람을...</td>\n",
       "    </tr>\n",
       "    <tr>\n",
       "      <th>10</th>\n",
       "      <td>10</td>\n",
       "      <td>경영자</td>\n",
       "      <td>ESTJ-A / ESTJ-T</td>\n",
       "      <td>성격유형 : “경영자”적절한 질서는 모든 것의 기초이다.EDMUND BURKE경영자...</td>\n",
       "    </tr>\n",
       "    <tr>\n",
       "      <th>11</th>\n",
       "      <td>11</td>\n",
       "      <td>사업가</td>\n",
       "      <td>ESTP-A / ESTP-T</td>\n",
       "      <td>성격유형 : “사업가”인생은 과감한 모험이 아니라면 아무것도 아닌 것이다.HELEN...</td>\n",
       "    </tr>\n",
       "    <tr>\n",
       "      <th>12</th>\n",
       "      <td>12</td>\n",
       "      <td>수호자</td>\n",
       "      <td>ISFJ-A / ISFJ-T</td>\n",
       "      <td>성격유형 : “수호자”사랑은 남과 나눌 때 커진다. 더 많은 사랑을 받는 유일한 방...</td>\n",
       "    </tr>\n",
       "    <tr>\n",
       "      <th>13</th>\n",
       "      <td>13</td>\n",
       "      <td>모험가</td>\n",
       "      <td>ISFP-A / ISFP-T</td>\n",
       "      <td>성격유형 : “모험가”나는 매일 변화한다. 잠을 자러 갈 때면 오늘 아침 일어났을 ...</td>\n",
       "    </tr>\n",
       "    <tr>\n",
       "      <th>14</th>\n",
       "      <td>14</td>\n",
       "      <td>집정관</td>\n",
       "      <td>ESFJ-A / ESFJ-T</td>\n",
       "      <td>성격유형 : “집정관”서로를 응원하고 기운을 북돋아 주어라. 긍정적인 에너지가 모두...</td>\n",
       "    </tr>\n",
       "    <tr>\n",
       "      <th>15</th>\n",
       "      <td>15</td>\n",
       "      <td>연예인</td>\n",
       "      <td>ESFP-A / ESFP-T</td>\n",
       "      <td>성격유형 : “연예인”주저하지 말고 매 순간을 즐겨라.엘튼 존연예인(ESFP)은 즉...</td>\n",
       "    </tr>\n",
       "  </tbody>\n",
       "</table>\n",
       "</div>"
      ],
      "text/plain": [
       "    Unnamed: 0     제목             mbti  \\\n",
       "0            0    전략가  INTJ-A / INTJ-T   \n",
       "1            1   논리술사  INTP-A / INTP-T   \n",
       "2            2    통솔자  ENTJ-A / ENTJ-T   \n",
       "3            3    변론가  ENTP-A / ENTP-T   \n",
       "4            4    옹호자  INFJ-A / INFJ-T   \n",
       "5            5    중재자  INFP-A / INFP-T   \n",
       "6            6    선도자  ENFJ-A / ENFJ-T   \n",
       "7            7    활동가  ENFP-A / ENFP-T   \n",
       "8            8  현실주의자  ISTJ-A / ISTJ-T   \n",
       "9            9     장인  ISTP-A / ISTP-T   \n",
       "10          10    경영자  ESTJ-A / ESTJ-T   \n",
       "11          11    사업가  ESTP-A / ESTP-T   \n",
       "12          12    수호자  ISFJ-A / ISFJ-T   \n",
       "13          13    모험가  ISFP-A / ISFP-T   \n",
       "14          14    집정관  ESFJ-A / ESFJ-T   \n",
       "15          15    연예인  ESFP-A / ESFP-T   \n",
       "\n",
       "                                                 상세설명  \n",
       "0   성격유형 : “전략가”사고 능력은 인간의 위대한 점 중 하나이다. 인간은 갈대처럼 ...  \n",
       "1   성격유형 : “논리술사”질문하는 일을 멈추지 않는 것이 중요하다. 호기심은 그 자체...  \n",
       "2   성격유형 : “통솔자”당신의 시간은 유한하다. 그러니 다른 사람의 삶을 사느라 시간...  \n",
       "3   성격유형 : “변론가”변론가(ENTP)는 두뇌 회전이 빠르고 대담한 성격으로 현재 ...  \n",
       "4   성격유형 : “옹호자”사람을 대할 때는 그 사람의 잠재력을 봐야 하며, 다른 사람들...  \n",
       "5   소개중재자(INFP)는 언뜻 보기에 조용하고 자신을 내세우지 않는 것처럼 보이지만,...  \n",
       "6   성격유형 : “선도자”선도자(ENFJ)는 삶에서 위대한 사명을 위해 힘써야 한다는 ...  \n",
       "7   성격유형 : “활동가”당신이 생계를 위해 어떤 일을 하는지는 관심이 없다. 당신이 ...  \n",
       "8   성격유형 : “현실주의자”자신에게 주어진 능력을 활용하지 않는 것을 두려워해야 한다...  \n",
       "9   성격유형 : “장인”나는 다른 삶을 살고 싶었다. 매일 똑같은 곳에서 똑같은 사람을...  \n",
       "10  성격유형 : “경영자”적절한 질서는 모든 것의 기초이다.EDMUND BURKE경영자...  \n",
       "11  성격유형 : “사업가”인생은 과감한 모험이 아니라면 아무것도 아닌 것이다.HELEN...  \n",
       "12  성격유형 : “수호자”사랑은 남과 나눌 때 커진다. 더 많은 사랑을 받는 유일한 방...  \n",
       "13  성격유형 : “모험가”나는 매일 변화한다. 잠을 자러 갈 때면 오늘 아침 일어났을 ...  \n",
       "14  성격유형 : “집정관”서로를 응원하고 기운을 북돋아 주어라. 긍정적인 에너지가 모두...  \n",
       "15  성격유형 : “연예인”주저하지 말고 매 순간을 즐겨라.엘튼 존연예인(ESFP)은 즉...  "
      ]
     },
     "execution_count": 41,
     "metadata": {},
     "output_type": "execute_result"
    }
   ],
   "source": [
    "mbti = pd.read_csv('mbti16가지유형_추가설명 - mbti16가지유형_추가설명.csv',encoding='utf-8')\n",
    "mbti"
   ]
  },
  {
   "cell_type": "code",
   "execution_count": 51,
   "metadata": {},
   "outputs": [],
   "source": [
    "import pickle"
   ]
  },
  {
   "cell_type": "code",
   "execution_count": 52,
   "metadata": {},
   "outputs": [],
   "source": [
    "from konlpy.tag import Okt\n",
    "okt = Okt()"
   ]
  },
  {
   "cell_type": "code",
   "execution_count": null,
   "metadata": {},
   "outputs": [],
   "source": [
    "c = mbti.iloc[6,3]\n",
    "c"
   ]
  },
  {
   "cell_type": "code",
   "execution_count": 265,
   "metadata": {},
   "outputs": [],
   "source": [
    "stopwords = ['있다.','하다','되다','고','말','며','등','것','이',\"전\",'않다','자신','사람','가다','있습니다',\"매우\",\"때\",\"이러한\",\"입니다\",\"가가\",\"때문\",\"아닙니다\",\"수\",\"수도\",\"있는\",\"또한\",\"있을\",\"많은\",\"있으며\",\"다른\",\"아니라\",\"술사\",\"니\",\"감\",\"곤\",\"데\",\"거나\",\"없는\",\"지니\",\"위\",\"위해\",\"없습니다\"]"
   ]
  },
  {
   "cell_type": "code",
   "execution_count": 266,
   "metadata": {},
   "outputs": [],
   "source": [
    "def extract_Noun(string):\n",
    "    Nouns = okt.pos(string)\n",
    "    Nouns_list = []\n",
    "    for word, tag in Nouns:\n",
    "        if((tag in 'Noun') and (word not in stopwords) ):\n",
    "            Nouns_list.append(word)\n",
    "    return Nouns_list\n",
    "\n",
    "# def extract_noun(string):\n",
    "#     nouns = okt.nouns(string)\n",
    "#     return nouns\n",
    "\n",
    "def extract_Adjective(string):\n",
    "    Adjective = okt.pos(string)\n",
    "    Adjective_list = []\n",
    "    for word, tag in Adjective:\n",
    "        if((tag in 'Adjective') and (word not in stopwords) ):\n",
    "            Adjective_list.append(word)\n",
    "    return Adjective_list\n",
    "\n",
    "def extract_Verb(string):\n",
    "    Verb = okt.pos(string, stem=True, norm=True)\n",
    "    Verb_list = []\n",
    "    for word, tag in Verb:\n",
    "        if((tag in 'Verb') and (word not in stopwords)):\n",
    "            Verb_list.append(word)  \n",
    "    return Verb_list\n",
    "\n",
    "def extract_word(string):\n",
    "    Noun = extract_Noun(string)\n",
    "    Adjective = extract_Adjective(string)\n",
    "    Verb = extract_Verb(string)\n",
    "    word_list = []\n",
    "    for i in Noun+Adjective+Verb:\n",
    "        word_list.append(i) \n",
    "    return word_list\n",
    "\n",
    "# def extract_word(string):\n",
    "#     noun = extract_noun(string)\n",
    "#     Adjective = extract_Adjective(string)\n",
    "#     Verb = extract_Verb(string)\n",
    "#     word_list = noun + Adjective + Verb\n",
    "#     return word_list"
   ]
  },
  {
   "cell_type": "code",
   "execution_count": 281,
   "metadata": {},
   "outputs": [],
   "source": [
    "a = mbti.iloc[0,3]\n",
    "a1 = mbti.iloc[1,3]\n",
    "a2 = mbti.iloc[2,3]\n",
    "a3 = mbti.iloc[3,3]\n",
    "a4 = mbti.iloc[4,3]\n",
    "a5 = mbti.iloc[5,3]\n",
    "a6 = mbti.iloc[6,3]\n",
    "a7 = mbti.iloc[7,3]\n",
    "a8 = mbti.iloc[8,3]\n",
    "a9 = mbti.iloc[9,3]\n",
    "a10 = mbti.iloc[10,3]\n",
    "a11 = mbti.iloc[11,3]\n",
    "a12 = mbti.iloc[12,3]\n",
    "a13 = mbti.iloc[13,3]\n",
    "a14 = mbti.iloc[14,3]\n",
    "a15 = mbti.iloc[15,3]"
   ]
  },
  {
   "cell_type": "code",
   "execution_count": 282,
   "metadata": {},
   "outputs": [
    {
     "name": "stdout",
     "output_type": "stream",
     "text": [
      "['성격', '유형', '전략', '사고', '능력', '인간', '점', '중', '하나', '인간', '갈대', '생각', '갈대', '블', '레즈', '파스칼', '최고', '일', '희귀', '성격', '면서', '능력', '전략', '의미', '알', '전략', '성적', '서도', '두뇌', '회전', '성격', '사고', '능력', '거짓말', '위선', '능력', '이로', '생각', '주변', '모든', '분석', '성향', '이해', '어려움', '개척', '정신', '전략', '모든', '의문', '제기', '성격', '현재', '상태', '유지', '일반', '통념', '전문', '지식', '의존', '비판', '성향', '전략', '방식', '일', '진행', '더', '나은', '방식', '찾기', '규칙', '반대', '무릅쓰', '일도', '마다', '사실', '오히려', '과정', '편입', '전략', '실제', '활용', '아이디어', '가치', '생각', '아이디어', '아이디어', '이용', '성공', '쟁취', '업무', '모든', '통찰', '논리', '의지', '규칙', '설정', '비판', '제기', '방해', '가차', '모습', '전략', '독립', '성격', '기대', '기', '아이디어', '추구', '전략', '독립성', '혼자', '행동', '일', '아마', '일', '일', '일반', '의견', '결정', '편입', '혼자', '행동', '성향', '의견', '욕구', '계획', '무시', '함', '무신경', '전략', '남', '생각', '사실', '감정', '지적', '성격', '편견', '사실', '전략', '감성', '전략', '남', '상처', '슬픔', '후회', '왜', '발생', '파악', '시간', '에너지', '투자', '결정', '감정', '중시', '감정', '지식', '대한', '갈망', '전략', '몽상가', '동시', '비관', '주의자', '의지', '지적', '능력', '목표', '성취', '동시', '대부분', '상상력', '냉소', '생각', '전략', '가의', '자존감', '대부분', '지식', '지적', '능력', '기반', '학교', '책벌레', '나', '범생', '소리', '듣기', '모욕', '특징', '코딩', '무술', '클래식', '음악', '관심', '분야', '라면', '분야', '최고', '능력', '사실', '알', '전략', '이유', '남', '지식', '확장', '일', '자체', '전략', '주의', '환경', '잡담', '일', '성격', '의미', '모습', '달리', '재치', '유머', '감각', '경우', '상대', '취약', '사교', '능력', '일반', '전략', '성격', '인사', '치레', '이성', '성공', '중시', '입', '이야기', '성격', '이기', '소설', '영화', '악당', '전략', '가의', '성격', '표현', '이유', '바로', '점', '일', '중시', '핵심', '이야기', '전략', '잡담', '빈말', '일반', '사교', '활동', '생각', '이로', '집중', '공격', '전략', '가끔', '대하', '일', '자체', '생각', '전략', '가도', '성격', '마찬가지', '소통', '다만', '가치관', '차라리', '혼자', '선택', '관심사', '집중', '자신감', '발산', '성격', '자신감', '직장', '동료', '관계', '친구', '연인', '도움', '기도', '체스', '경기', '삶', '전략', '모순', '성격', '상상력', '결단', '야망', '호기심', '집중', '성격', '이기', '모순', '전략', '가의', '성격', '이해', '생각', '전략', '가의', '사고방식', '생각', '모순', '이해', '전략', '체스', '경기', '운', '전략', '의존', '결정', '결정', '장단점', '심사숙고', '지적', '능력', '통찰', '이용', '승리', '방법', '위대한', '연약하지만', '외로운', '뛰어난', '빠른', '뛰어난', '자랑스러워하며', '인해', '끊임없이', '원하며', '있다고', '단순히', '새로운', '부으며', '불필요한', '쓸모없는', '강하며', '두려워하지', '좋아하지', '인해', '무심하다는', '풍부하지', '있기는', '예민한', '있기', '그런', '아니기', '대담한', '극심한', '있다면', '어떠한', '있다고', '게으르고', '부족하고', '특별할', '없다고', '아닌', '어떤', '있다는', '새로운', '완고할', '산만한', '불필요한', '시시한', '지루하거나', '재미없는', '진지해', '넘치며', '날카롭게', '재미있는', '많기', '따뜻하고', '부드러운', '겸손함과', '솔직하게', '솔직함을', '무의미하거나', '멍청하다고', '인해', '솔직함에만', '무례하거나', '불필요한', '아닌지', '원합니다', '비슷한', '그럴', '없다면', '뿐입니다', '같은', '가득한', '넘치면서도', '강하고', '넘치면서도', '차분하고', '많으면서도', '높은', '힘들다고', '있지만', '거대한', '같습니다', '인한', '힘든', '있다고', '지니다', '늘다', '자다', '꿰뚫다', '보다', '찾다', '겪다', '살아가다', '지니다', '찾아내다', '깨다', '즐기다', '내다', '그치다', '쏟다', '보이다', '따르다', '기다리다', '묻다', '내리다', '따르다', '보이다', '주다', '되어다', '느끼다', '내리다', '느끼다', '믿다', '두다', '받아들이다', '배우다', '보여주다', '즐기다', '참다', '보이다', '비꼬다', '바르다', '지니다', '보이다', '만나다', '싶다', '맺다', '사귀다', '삶다', '내리다', '생기다', '찾다', '믿다']\n"
     ]
    }
   ],
   "source": [
    "text_data = extract_word(a)\n",
    "text_data1 = extract_word(a1)\n",
    "text_data2 = extract_word(a2)\n",
    "text_data3 = extract_word(a3)\n",
    "text_data4 = extract_word(a4)\n",
    "text_data5 = extract_word(a5)\n",
    "text_data6 = extract_word(a6)\n",
    "text_data7 = extract_word(a7)\n",
    "text_data8 = extract_word(a8)\n",
    "text_data9 = extract_word(a9)\n",
    "text_data10 = extract_word(a10)\n",
    "text_data11 = extract_word(a11)\n",
    "text_data12 = extract_word(a12)\n",
    "text_data13 = extract_word(a13)\n",
    "text_data14 = extract_word(a14)\n",
    "text_data15 = extract_word(a15)\n",
    "\n",
    "print(text_data)"
   ]
  },
  {
   "cell_type": "code",
   "execution_count": 283,
   "metadata": {},
   "outputs": [],
   "source": [
    "count = Counter(text_data)\n",
    "count = pd.Series(count)\n",
    "count = count.sort_values(ascending=False).head(30)\n",
    "count1 = Counter(text_data1)\n",
    "count1 = pd.Series(count1)\n",
    "count1 = count1.sort_values(ascending=False).head(30)\n",
    "count2 = Counter(text_data2)\n",
    "count2 = pd.Series(count2)\n",
    "count2 = count2.sort_values(ascending=False).head(30)\n",
    "\n",
    "count3 = Counter(text_data3)\n",
    "count3 = pd.Series(count3)\n",
    "count3 = count3.sort_values(ascending=False).head(30)\n",
    "count4 = Counter(text_data4)\n",
    "count4 = pd.Series(count4)\n",
    "count4 = count4.sort_values(ascending=False).head(30)\n",
    "count5 = Counter(text_data5)\n",
    "count5 = pd.Series(count5)\n",
    "count5 = count5.sort_values(ascending=False).head(30)\n",
    "\n",
    "count6 = Counter(text_data6)\n",
    "count6 = pd.Series(count6)\n",
    "count6 = count.sort_values(ascending=False).head(30)\n",
    "count7 = Counter(text_data7)\n",
    "count7 = pd.Series(count7)\n",
    "count7 = count7.sort_values(ascending=False).head(30)\n",
    "count8 = Counter(text_data8)\n",
    "count8 = pd.Series(count8)\n",
    "count8 = count8.sort_values(ascending=False).head(30)\n",
    "\n",
    "count9 = Counter(text_data9)\n",
    "count9 = pd.Series(count9)\n",
    "count9 = count9.sort_values(ascending=False).head(30)\n",
    "count10 = Counter(text_data10)\n",
    "count10 = pd.Series(count10)\n",
    "count10 = count10.sort_values(ascending=False).head(30)\n",
    "count11 = Counter(text_data11)\n",
    "count11 = pd.Series(count11)\n",
    "count11 = count11.sort_values(ascending=False).head(30)\n",
    "\n",
    "count12 = Counter(text_data12)\n",
    "count12 = pd.Series(count12)\n",
    "count12 = count12.sort_values(ascending=False).head(30)\n",
    "count13 = Counter(text_data13)\n",
    "count13 = pd.Series(count13)\n",
    "count13 = count13.sort_values(ascending=False).head(30)\n",
    "count14 = Counter(text_data14)\n",
    "count14 = pd.Series(count14)\n",
    "count14 = count14.sort_values(ascending=False).head(30)\n",
    "\n",
    "count15 = Counter(text_data15)\n",
    "count15 = pd.Series(count15)\n",
    "count15 = count15.sort_values(ascending=False).head(30)"
   ]
  },
  {
   "cell_type": "code",
   "execution_count": 284,
   "metadata": {},
   "outputs": [],
   "source": [
    "mask_image = np.array(Image.open('C:\\Study\\Teamproject\\\\first\\향수1.jfif'))"
   ]
  },
  {
   "cell_type": "code",
   "execution_count": 320,
   "metadata": {},
   "outputs": [],
   "source": [
    "wordcloud = WordCloud(font_path = 'C:\\Windows\\Fonts\\\\batang.ttc',\n",
    "                        width = 700,\n",
    "                        height = 700,\n",
    "                        background_color = 'white',\n",
    "                        colormap = 'spring',\n",
    "                        mask = mask_image,\n",
    "                        random_state = 1).generate_from_frequencies(count15)\n",
    "                        # count : INFJ, count1 : INFP, count2:ENFJ"
   ]
  },
  {
   "cell_type": "code",
   "execution_count": 321,
   "metadata": {},
   "outputs": [
    {
     "data": {
      "image/png": "[encoded data removed]",
      "text/plain": [
       "<Figure size 720x720 with 1 Axes>"
      ]
     },
     "metadata": {
      "needs_background": "light"
     },
     "output_type": "display_data"
    }
   ],
   "source": [
    "plt.figure(figsize = (10,10))\n",
    "plt.imshow(wordcloud)\n",
    "plt.axis(\"off\")\n",
    "plt.title(\"WordFrequency\", size = 13)\n",
    "plt.show\n",
    "plt.savefig('ESFP.png')"
   ]
  },
  {
   "cell_type": "code",
   "execution_count": null,
   "metadata": {},
   "outputs": [],
   "source": []
  },
  {
   "cell_type": "code",
   "execution_count": null,
   "metadata": {},
   "outputs": [],
   "source": []
  }
 ],
 "metadata": {
  "kernelspec": {
   "display_name": "Python 3.9.12 ('base')",
   "language": "python",
   "name": "python3"
  },
  "language_info": {
   "codemirror_mode": {
    "name": "ipython",
    "version": 3
   },
   "file_extension": ".py",
   "mimetype": "text/x-python",
   "name": "python",
   "nbconvert_exporter": "python",
   "pygments_lexer": "ipython3",
   "version": "3.9.12"
  },
  "orig_nbformat": 4,
  "vscode": {
   "interpreter": {
    "hash": "a077222d77dfe082b8f1dd562ad70e458ac2ab76993a0b248ab0476e32e9e8dd"
   }
  }
 },
 "nbformat": 4,
 "nbformat_minor": 2
}
