{
 "cells": [
  {
   "cell_type": "code",
   "execution_count": 15,
   "id": "3474c091",
   "metadata": {},
   "outputs": [],
   "source": [
    "from selenium import webdriver\n",
    "from webdriver_manager.chrome import ChromeDriverManager\n",
    "import pandas as pd\n",
    "import time\n",
    "from bs4 import BeautifulSoup as bs\n",
    "import requests as req\n",
    "from selenium.webdriver.common.keys import Keys"
   ]
  },
  {
   "cell_type": "code",
   "execution_count": 16,
   "id": "9297226f",
   "metadata": {},
   "outputs": [
    {
     "name": "stderr",
     "output_type": "stream",
     "text": [
      "[WDM] - Downloading: 100%|██████████| 6.68M/6.68M [00:00<00:00, 8.62MB/s]\n"
     ]
    }
   ],
   "source": [
    "driver=webdriver.Chrome(ChromeDriverManager().install())\n",
    "driver.get('https://www.16personalities.com/ko/%EC%84%B1%EA%B2%A9%EC%9C%A0%ED%98%95-enfp')"
   ]
  },
  {
   "cell_type": "code",
   "execution_count": 17,
   "id": "5dfb3d73",
   "metadata": {},
   "outputs": [],
   "source": [
    "soup = bs(driver.page_source,'html.parser')\n",
    "search2 =soup.find_all('strong',class_='sub')"
   ]
  },
  {
   "cell_type": "code",
   "execution_count": 24,
   "id": "0329aa24",
   "metadata": {},
   "outputs": [
    {
     "name": "stdout",
     "output_type": "stream",
     "text": [
      "당신이 생계를 위해 어떤 일을 하는지는 관심이 없다. 당신이 추구하는 것은 무엇이고 가슴이 시키는 일을 해낼 수 있다고 생각하는지 궁금할 뿐이다.\n",
      "활동가(ENFP)는 진정으로 자유로운 영혼이라고 할 수 있으며 외향적이고 솔직하며 개방적인 성격입니다. 이들은 활기차고 낙관적인 태도로 삶을 대하며 다른 사람들 사이에서 돋보이곤 합니다. 그러나 신나는 삶을 사는 것처럼 보인다고 해서 즐거움만을 좇는 성격은 아니며, 다른 사람과 감정적으로 깊고 의미 있는 관계를 맺는 일을 추구합니다.\n",
      "활동가는 친절하고 사교적인 성격으로 다른 사람과의 관계를 맺는 일과 사교 활동을 즐깁니다. 하지만 사교적이고 느긋해 보이는 겉모습과 달리 깊은 내면을 지니고 있으며 상상력과 창의력이 풍부하고 호기심이 많은 성격입니다.\n",
      "활동가는 자기 성찰적인 모습을 보일 때가 있으며, 다른 일에 주의를 기울여야 할 때도 삶의 근본적인 의미와 중요성에 대해 생각하곤 합니다. 또한 모든 사물과 사람이 연결되어 있다고 믿으며 이러한 관계에 대한 통찰을 추구합니다.\n",
      "활동가는 자신의 상상력을 자극하는 일에 강한 열정을 보이며 이러한 열정은 다른 사람에게도 전달됩니다. 또한 긍정적인 에너지로 다른 사람들을 끌어들이고 지도자 역할을 맡게 될 때가 많습니다. 그러나 처음의 열망이 사그라들고 나면 일관성과 자제력을 유지하는 데 어려움을 겪거나 이전에 중요하게 생각했던 일을 더는 신경쓰지 않게 될 수도 있습니다.\n",
      "활동가는 인생의 즐거움과 깊은 의미를 동시에 추구하는 성격으로, 열정적인 이상주의자이자 다른 사람을 신경쓰지 않고 즐겁게 춤출 수 있는 자유로운 영혼이기도 합니다.\n",
      "활동가는 즐거움을 추구하는 동시에 다른 사람과 감정적으로 교류하고 싶어하며, 아끼는 사람들과 진솔하고 가슴 따뜻한 대화를 나누는 일을 중시합니다. 활동가는 모든 사람이 자신의 감정을 표현할 수 있어야 한다고 생각하며 공감 능력과 따뜻한 태도로 다른 사람이 마음을 열 수 있도록 돕습니다.\n",
      "하지만 활동가는 지레짐작하지 않도록 주의할 필요가 있습니다. 직관적인 성향으로 인해 다른 사람의 행동을 자신의 방식대로 해석할 때가 있기 때문입니다. 상대방이 원하는 것과 의도를 혼자서 파악하려고 하기보다는 직접 상대방에게 물어본다면 인간관계에서 오는 스트레스를 줄이는 데 도움이 될 것입니다.\n",
      "활동가는 진로를 정하기 전에 여러 사람과 관계를 맺고 다양한 감정과 아이디어를 충분히 고려하고 싶어합니다. 그리고 자신이 정한 분야에서 상상력과 공감 능력과 용기로 자신의 삶뿐만 아니라 주변 사람 모두를 즐겁게 하는 역할을 합니다.\n"
     ]
    }
   ],
   "source": [
    "content = soup.select('p')\n",
    "for i in content:\n",
    "     print(i.text)"
   ]
  },
  {
   "cell_type": "code",
   "execution_count": 27,
   "id": "bc819ac9",
   "metadata": {},
   "outputs": [],
   "source": [
    "import pickle\n",
    "with open('save.pkl','rb') as f:\n",
    "    data= pickle.load(f)"
   ]
  },
  {
   "cell_type": "code",
   "execution_count": null,
   "id": "29bba288",
   "metadata": {},
   "outputs": [],
   "source": []
  }
 ],
 "metadata": {
  "kernelspec": {
   "display_name": "Python 3 (ipykernel)",
   "language": "python",
   "name": "python3"
  },
  "language_info": {
   "codemirror_mode": {
    "name": "ipython",
    "version": 3
   },
   "file_extension": ".py",
   "mimetype": "text/x-python",
   "name": "python",
   "nbconvert_exporter": "python",
   "pygments_lexer": "ipython3",
   "version": "3.9.12"
  }
 },
 "nbformat": 4,
 "nbformat_minor": 5
}
