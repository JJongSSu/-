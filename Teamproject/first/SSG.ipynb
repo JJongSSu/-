{
 "cells": [
  {
   "cell_type": "code",
   "execution_count": 2,
   "metadata": {},
   "outputs": [],
   "source": [
    "from selenium import webdriver\n",
    "from webdriver_manager.chrome import ChromeDriverManager\n",
    "import pandas as pd\n",
    "import time\n",
    "from tqdm import tqdm_notebook as tqdm\n",
    "from bs4 import BeautifulSoup as bs\n",
    "import requests as req\n",
    "from selenium.webdriver.common.keys import Keys"
   ]
  },
  {
   "cell_type": "code",
   "execution_count": 7,
   "metadata": {},
   "outputs": [],
   "source": [
    "driver = webdriver.Chrome(ChromeDriverManager().install())"
   ]
  },
  {
   "cell_type": "code",
   "execution_count": 8,
   "metadata": {},
   "outputs": [],
   "source": [
    "driver.maximize_window()"
   ]
  },
  {
   "cell_type": "code",
   "execution_count": 9,
   "metadata": {},
   "outputs": [],
   "source": [
    "driver.get('https://www.ssg.com/search.ssg?target=all&query=%ED%96%A5%EC%88%98&ctgId=6000193837&ctgLv=2&sort=sale')"
   ]
  },
  {
   "cell_type": "code",
   "execution_count": 15,
   "metadata": {},
   "outputs": [
    {
     "name": "stderr",
     "output_type": "stream",
     "text": [
      "C:\\Users\\user\\AppData\\Local\\Temp\\ipykernel_12208\\2879010436.py:5: TqdmDeprecationWarning: This function will be removed in tqdm==5.0.0\n",
      "Please use `tqdm.notebook.tqdm` instead of `tqdm.tqdm_notebook`\n",
      "  for i in tqdm(range(2)):\n"
     ]
    },
    {
     "data": {
      "application/vnd.jupyter.widget-view+json": {
       "model_id": "82350e7fc0bb479785c96967dfd340ba",
       "version_major": 2,
       "version_minor": 0
      },
      "text/plain": [
       "  0%|          | 0/2 [00:00<?, ?it/s]"
      ]
     },
     "metadata": {},
     "output_type": "display_data"
    },
    {
     "name": "stderr",
     "output_type": "stream",
     "text": [
      "C:\\Users\\user\\AppData\\Local\\Temp\\ipykernel_12208\\2879010436.py:13: TqdmDeprecationWarning: This function will be removed in tqdm==5.0.0\n",
      "Please use `tqdm.notebook.tqdm` instead of `tqdm.tqdm_notebook`\n",
      "  for i in tqdm(range(len(total))):\n"
     ]
    },
    {
     "data": {
      "application/vnd.jupyter.widget-view+json": {
       "model_id": "5f9778b21e614bde88d3d22b410a75ed",
       "version_major": 2,
       "version_minor": 0
      },
      "text/plain": [
       "0it [00:00, ?it/s]"
      ]
     },
     "metadata": {},
     "output_type": "display_data"
    },
    {
     "data": {
      "application/vnd.jupyter.widget-view+json": {
       "model_id": "219fd728923e4f05ab2b20a220ee952b",
       "version_major": 2,
       "version_minor": 0
      },
      "text/plain": [
       "  0%|          | 0/93 [00:00<?, ?it/s]"
      ]
     },
     "metadata": {},
     "output_type": "display_data"
    },
    {
     "ename": "KeyboardInterrupt",
     "evalue": "",
     "output_type": "error",
     "traceback": [
      "\u001b[1;31m---------------------------------------------------------------------------\u001b[0m",
      "\u001b[1;31mKeyboardInterrupt\u001b[0m                         Traceback (most recent call last)",
      "\u001b[1;32mc:\\Study\\Teamproject\\first\\SSG.ipynb 셀 5\u001b[0m in \u001b[0;36m<cell line: 5>\u001b[1;34m()\u001b[0m\n\u001b[0;32m     <a href='vscode-notebook-cell:/c%3A/Study/Teamproject/first/SSG.ipynb#X12sZmlsZQ%3D%3D?line=18'>19</a>\u001b[0m         title_list\u001b[39m.\u001b[39mappend(title)  \n\u001b[0;32m     <a href='vscode-notebook-cell:/c%3A/Study/Teamproject/first/SSG.ipynb#X12sZmlsZQ%3D%3D?line=19'>20</a>\u001b[0m         price_list\u001b[39m.\u001b[39mappend(price)\n\u001b[1;32m---> <a href='vscode-notebook-cell:/c%3A/Study/Teamproject/first/SSG.ipynb#X12sZmlsZQ%3D%3D?line=21'>22</a>\u001b[0m         time\u001b[39m.\u001b[39;49msleep(\u001b[39m2\u001b[39;49m)\n\u001b[0;32m     <a href='vscode-notebook-cell:/c%3A/Study/Teamproject/first/SSG.ipynb#X12sZmlsZQ%3D%3D?line=23'>24</a>\u001b[0m \u001b[39mlen\u001b[39m(brand_list)\n",
      "\u001b[1;31mKeyboardInterrupt\u001b[0m: "
     ]
    }
   ],
   "source": [
    "brand_list = []\n",
    "title_list = []  \n",
    "price_list = []\n",
    "\n",
    "for i in tqdm(range(2)):\n",
    "    page = 'https://www.ssg.com/search.ssg?target=all&query=%ED%96%A5%EC%88%98&ctgId=6000193837&ctgLv=2&sort=sale&page={}'.format(i)\n",
    "    driver.get(page)\n",
    "    time.sleep(2)\n",
    "\n",
    "    soup = bs(driver.page_source,'html.parser')\n",
    "    total = soup.select('li.cunit_t232')\n",
    "\n",
    "    for i in tqdm(range(len(total))):\n",
    "        brand = total[i].select('strong.brd > em.tx_ko')[0].text\n",
    "        title = total[i].select('a.clickable > em.tx_ko')[0].text\n",
    "        price = total[i].select('div.opt_price > em.ssg_price')[0].text\n",
    "\n",
    "        brand_list.append(brand)\n",
    "        title_list.append(title)  \n",
    "        price_list.append(price)\n",
    "\n",
    "        time.sleep(2)\n",
    "\n",
    "len(brand_list)"
   ]
  },
  {
   "cell_type": "code",
   "execution_count": null,
   "metadata": {},
   "outputs": [],
   "source": []
  }
 ],
 "metadata": {
  "kernelspec": {
   "display_name": "Python 3.9.12 ('base')",
   "language": "python",
   "name": "python3"
  },
  "language_info": {
   "codemirror_mode": {
    "name": "ipython",
    "version": 3
   },
   "file_extension": ".py",
   "mimetype": "text/x-python",
   "name": "python",
   "nbconvert_exporter": "python",
   "pygments_lexer": "ipython3",
   "version": "3.9.12"
  },
  "orig_nbformat": 4,
  "vscode": {
   "interpreter": {
    "hash": "a077222d77dfe082b8f1dd562ad70e458ac2ab76993a0b248ab0476e32e9e8dd"
   }
  }
 },
 "nbformat": 4,
 "nbformat_minor": 2
}
