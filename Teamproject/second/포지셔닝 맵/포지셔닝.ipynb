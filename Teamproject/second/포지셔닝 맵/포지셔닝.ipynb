{
  "cells": [
    {
      "cell_type": "code",
      "execution_count": 1,
      "metadata": {
        "id": "4rpxo67agyEz"
      },
      "outputs": [],
      "source": [
        "import pandas as pd\n",
        "import numpy as np\n",
        "import seaborn as sns\n",
        "import matplotlib.pyplot as plt\n",
        "import matplotlib as mpl\n",
        "import matplotlib.font_manager as fm\n",
        "\n",
        "from sklearn.preprocessing import MinMaxScaler\n"
      ]
    },
    {
      "cell_type": "code",
      "execution_count": 2,
      "metadata": {
        "id": "1SxlSUWogyE2"
      },
      "outputs": [],
      "source": [
        "scaler1 = MinMaxScaler()\n",
        "scaler2 = MinMaxScaler()"
      ]
    },
    {
      "cell_type": "code",
      "execution_count": 9,
      "metadata": {
        "id": "wc2EKsPzgyE2"
      },
      "outputs": [],
      "source": [
        "name_list =[\"막걸리_느린마을\",\"막걸리_복순도가\",\"막걸리_죽향도가\"]\n",
        "\n",
        "x_text = '단|달'\n",
        "y_text = '톡'"
      ]
    },
    {
      "cell_type": "code",
      "execution_count": 10,
      "metadata": {
        "id": "gOOyFTq5gyE3"
      },
      "outputs": [],
      "source": [
        "x_list = []\n",
        "y_list = []\n",
        "for name in name_list:\n",
        "    data = pd.read_csv(f\"{name}.csv\", encoding='utf-8-sig')\n",
        "    data.drop_duplicates(['text'],ignore_index=True, inplace=True) # 중복 제거\n",
        "    data.dropna(inplace=True)\n",
        "    # globals()[f\"{name}\"]\n",
        "    x_list.append(len(data[data.text.str.contains(x_text)])/len(data))\n",
        "    y_list.append(len(data[data.text.str.contains(y_text)])/len(data))\n"
      ]
    },
    {
      "cell_type": "code",
      "execution_count": 11,
      "metadata": {
        "id": "Xow_5wZegyE3"
      },
      "outputs": [],
      "source": [
        "x = np.array(x_list).reshape(-1,1)\n",
        "y = np.array(y_list).reshape(-1,1)"
      ]
    },
    {
      "cell_type": "code",
      "execution_count": 12,
      "metadata": {
        "id": "yhhyCumYgyE4"
      },
      "outputs": [],
      "source": [
        "scaled_x = scaler1.fit_transform(x)\n",
        "scaled_y = scaler1.fit_transform(y)"
      ]
    },
    {
      "cell_type": "code",
      "execution_count": 14,
      "metadata": {
        "id": "YU9gtak_gyE4"
      },
      "outputs": [],
      "source": [
        "target_list = [\"막걸리_느린마을\",\"막걸리_복순도가\",\"막걸리_죽향도가\"]"
      ]
    },
    {
      "cell_type": "code",
      "execution_count": 15,
      "metadata": {
        "id": "Xy71Fap1gyE4"
      },
      "outputs": [],
      "source": [
        "plt.rcParams['axes.unicode_minus'] = False\n",
        "\n",
        "font_name = fm.FontProperties(fname='C:/Windows/Fonts/malgun.ttf').get_name()\n",
        "\n",
        "plt.rc('font', family=font_name) \n",
        "plt.rcParams[\"figure.figsize\"] = (5, 5)\n",
        "plt.rcParams['lines.linewidth'] = 2\n",
        "plt.rcParams['lines.color'] = 'r'"
      ]
    },
    {
      "cell_type": "code",
      "execution_count": 16,
      "metadata": {
        "id": "Cf4wZvv2gyE4",
        "outputId": "cd05213b-700a-426a-bb42-b56d8a976357"
      },
      "outputs": [
        {
          "data": {
            "image/png": "[encoded data removed]",
            "text/plain": [
              "<Figure size 500x500 with 1 Axes>"
            ]
          },
          "metadata": {},
          "output_type": "display_data"
        }
      ],
      "source": [
        "font = {'family' : font_name,\n",
        "        'weight' : 'bold',\n",
        "        'size'   : 10}\n",
        "\n",
        "plt.plot()\n",
        "plt.rc('font', **font)\n",
        "plt.xlim(-0.25,1.25)\n",
        "plt.ylim(-0.25,1.25)\n",
        "plt.text(1.2,0.55,x_text)\n",
        "plt.text(0.55,1.2,y_text)\n",
        "plt.annotate('',\n",
        "             ha = 'center', va = 'bottom',\n",
        "             xytext = (-0.25, 0.5),\n",
        "             xy = (1.25, 0.5),\n",
        "             arrowprops = {'edgecolor':'black', \n",
        "              'arrowstyle':'->',\n",
        "              'lw' : 2\n",
        "              })\n",
        "\n",
        "plt.annotate('',\n",
        "             ha = 'center', va = 'bottom',\n",
        "             xytext = (0.5, -0.25),\n",
        "             xy = (0.5, 1.25),\n",
        "             arrowprops = {'edgecolor':'black', \n",
        "              'arrowstyle':'->',\n",
        "              'lw' : 2\n",
        "              })\n",
        "plt.grid(True, color='gray', alpha=1, linestyle='--')\n",
        "plt.xticks([0,0.25,0.75,1], alpha=0)\n",
        "plt.yticks([0,0.25,0.75,1], alpha=0)\n",
        "plt.tick_params(axis='both', pad=0, length=0)\n",
        "\n",
        "plt.gca().spines['right'].set_visible(False) #오른쪽 테두리 제거\n",
        "plt.gca().spines['top'].set_visible(False) #위 테두리 제거\n",
        "plt.gca().spines['left'].set_visible(False) #왼쪽 테두리 제거\n",
        "plt.gca().spines['bottom'].set_visible(False) #왼쪽 테두리 제거\n",
        "for target in target_list:\n",
        "    target_index = name_list.index(target)\n",
        "    target_x = scaled_x[target_index]\n",
        "    target_y = scaled_y[target_index]\n",
        "    plt.scatter(target_x,target_y)\n",
        "    plt.text(target_x, target_y, name_list[target_index], size=10)\n",
        "    \n"
      ]
    },
    {
      "cell_type": "code",
      "execution_count": null,
      "metadata": {
        "id": "vrrjM_h3gyE5"
      },
      "outputs": [],
      "source": []
    }
  ],
  "metadata": {
    "colab": {
      "provenance": []
    },
    "kernelspec": {
      "display_name": "Python 3",
      "language": "python",
      "name": "python3"
    },
    "language_info": {
      "codemirror_mode": {
        "name": "ipython",
        "version": 3
      },
      "file_extension": ".py",
      "mimetype": "text/x-python",
      "name": "python",
      "nbconvert_exporter": "python",
      "pygments_lexer": "ipython3",
      "version": "3.8.9"
    },
    "orig_nbformat": 4,
    "vscode": {
      "interpreter": {
        "hash": "6a926afa313b26ae1264fdcf81c726a97e69f6ba2ba780f6aa901948710f8d6e"
      }
    }
  },
  "nbformat": 4,
  "nbformat_minor": 0
}
