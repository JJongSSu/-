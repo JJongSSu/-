{
 "cells": [
  {
   "cell_type": "code",
   "execution_count": null,
   "metadata": {},
   "outputs": [],
   "source": [
    "import json\n",
    "\n",
    "class KnuSL():\n",
    "\n",
    "\tdef data_list(wordname):\t\n",
    "\t\twith open('SentiWord_info.json', encoding='utf-8-sig', mode='r') as f:\n",
    "\t\t\tdata = json.load(f)\n",
    "\t\tresult = ['None','None']\t\n",
    "\t\tfor i in range(0, len(data)):\n",
    "\t\t\tif data[i]['word'] == wordname:\n",
    "\t\t\t\tresult.pop()\n",
    "\t\t\t\tresult.pop()\n",
    "\t\t\t\tresult.append(data[i]['word_root'])\n",
    "\t\t\t\tresult.append(data[i]['polarity'])\t\n",
    "\t\t\n",
    "\t\tr_word = result[0]\n",
    "\t\ts_word = result[1]\n",
    "\t\t\t\t\t\t\t\n",
    "\t\tprint('어근 : ' + r_word)\n",
    "\t\tprint('극성 : ' + s_word)\t\t\n",
    "\t\t\n",
    "\t\t\n",
    "\t\treturn r_word, s_word\n",
    "\n",
    "if __name__ == \"__main__\":\n",
    "\t\n",
    "\tksl = KnuSL\n",
    "\t\n",
    "\tprint(\"\\nKNU 한국어 감성사전입니다~ :)\")\n",
    "\tprint(\"사전에 단어가 없는 경우 결과가 None으로 나타납니다!!!\")\n",
    "\tprint(\"종료하시려면 #을 입력해주세요!!!\")\n",
    "\tprint(\"-2:매우 부정, -1:부정, 0:중립 or Unkwon, 1:긍정, 2:매우 긍정\")\n",
    "\tprint(\"\\n\")\t\n",
    "\n",
    "\twhile(True):\n",
    "\t\twordname = input(\"word : \")\n",
    "\t\twordname = wordname.strip(\" \")\t\t\n",
    "\t\tif wordname != \"#\":\n",
    "\t\t\tprint(ksl.data_list(wordname))\n",
    "\t\t\tprint(\"\\n\")\t\n",
    "\t\t\t\t\n",
    "\n",
    "\t\telif wordname == \"#\":\n",
    "\t\t\tprint(\"\\n이용해주셔서 감사합니다~ :)\")\n",
    "\t\t\tbreak"
   ]
  },
  {
   "cell_type": "code",
   "execution_count": null,
   "metadata": {},
   "outputs": [],
   "source": []
  },
  {
   "cell_type": "code",
   "execution_count": null,
   "metadata": {},
   "outputs": [],
   "source": []
  },
  {
   "cell_type": "code",
   "execution_count": null,
   "metadata": {},
   "outputs": [],
   "source": []
  }
 ],
 "metadata": {
  "kernelspec": {
   "display_name": "Python 3.8.9 64-bit",
   "language": "python",
   "name": "python3"
  },
  "language_info": {
   "name": "python",
   "version": "3.8.9"
  },
  "orig_nbformat": 4,
  "vscode": {
   "interpreter": {
    "hash": "6a926afa313b26ae1264fdcf81c726a97e69f6ba2ba780f6aa901948710f8d6e"
   }
  }
 },
 "nbformat": 4,
 "nbformat_minor": 2
}
