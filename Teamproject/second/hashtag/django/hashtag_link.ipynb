{
 "cells": [
  {
   "cell_type": "code",
   "execution_count": null,
   "metadata": {},
   "outputs": [],
   "source": [
    "from django import template\n",
    "\n",
    "register = template.Library()\n",
    "\n",
    "@register.filter\n",
    "def hashtag_check(article):\n",
    "    '''\n",
    "    article의 content를 파싱해서 #으로 시작하는 단어들을 \n",
    "    a태그로 감싸줍니다. \n",
    "    ex) {{ article|hashtag_check }}\n",
    "    '''\n",
    "    content = article.content\n",
    "    hashtags = article.hashtags.all() # #디장고 #오늘\n",
    "\n",
    "    for hashtag in hashtags:\n",
    "        # #디장고 => <a href=\"\">#디장고 </a>\n",
    "        content = content.replace(\n",
    "            hashtag.content,\n",
    "            f'<a href=\"/articles/{hashtag.pk}/hashtag/\">{hashtag.content}</a>'\n",
    "        )\n",
    "\n",
    "    return content"
   ]
  }
 ],
 "metadata": {
  "language_info": {
   "name": "python"
  },
  "orig_nbformat": 4
 },
 "nbformat": 4,
 "nbformat_minor": 2
}
