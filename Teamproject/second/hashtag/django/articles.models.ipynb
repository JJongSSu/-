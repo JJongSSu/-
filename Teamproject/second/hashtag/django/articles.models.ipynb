{
 "cells": [
  {
   "cell_type": "code",
   "execution_count": 3,
   "metadata": {},
   "outputs": [
    {
     "name": "stderr",
     "output_type": "stream",
     "text": [
      "ERROR: unknown command \"django\"\n",
      "\n"
     ]
    }
   ],
   "source": [
    "!pip django"
   ]
  },
  {
   "cell_type": "code",
   "execution_count": 2,
   "metadata": {},
   "outputs": [
    {
     "ename": "ModuleNotFoundError",
     "evalue": "No module named 'django'",
     "output_type": "error",
     "traceback": [
      "\u001b[1;31m---------------------------------------------------------------------------\u001b[0m",
      "\u001b[1;31mModuleNotFoundError\u001b[0m                       Traceback (most recent call last)",
      "Cell \u001b[1;32mIn [2], line 1\u001b[0m\n\u001b[1;32m----> 1\u001b[0m \u001b[39mfrom\u001b[39;00m \u001b[39mdjango\u001b[39;00m\u001b[39m.\u001b[39;00m\u001b[39mdb\u001b[39;00m \u001b[39mimport\u001b[39;00m models\n\u001b[0;32m      2\u001b[0m \u001b[39mfrom\u001b[39;00m \u001b[39mdjango\u001b[39;00m\u001b[39m.\u001b[39;00m\u001b[39mconf\u001b[39;00m \u001b[39mimport\u001b[39;00m settings\n",
      "\u001b[1;31mModuleNotFoundError\u001b[0m: No module named 'django'"
     ]
    }
   ],
   "source": [
    "from django.db import models\n",
    "from django.conf import settings"
   ]
  },
  {
   "cell_type": "code",
   "execution_count": null,
   "metadata": {},
   "outputs": [],
   "source": [
    "# Create your models here.\n",
    "class Hashtag(models.Model):\n",
    "    content = models.TextField(unique=True)\n",
    "\n",
    "\n",
    "class Article(models.Model):\n",
    "    hashtags = models.ManyToManyField( 'Hashtag', related_name='articles', blank=True,    ) #blank=true 는 유효성 검사에서 제외하겠다.\n",
    "    title = models.CharField(max_length=10)\n",
    "    content = models.TextField()\n",
    "    created_at = models.DateTimeField(auto_now_add=True)\n",
    "    updated_at = models.DateTimeField(auto_now=True)\n",
    "    user = models.ForeignKey(settings.AUTH_USER_MODEL, on_delete=models.CASCADE)\n",
    "    like_users = models.ManyToManyField(\n",
    "        settings.AUTH_USER_MODEL,\n",
    "        related_name='like_articles',\n",
    "        through='Like',\n",
    "        )\n",
    "\n",
    "\n",
    "    def __str__(self):\n",
    "        return self.title\n",
    "\n",
    "\n",
    "class Comment(models.Model):\n",
    "    article = models.ForeignKey(Article, on_delete=models.CASCADE)\n",
    "    user = models.ForeignKey(settings.AUTH_USER_MODEL, on_delete=models.CASCADE)\n",
    "    content = models.CharField(max_length=200)\n",
    "    created_at = models.DateTimeField(auto_now_add=True)\n",
    "    updated_at = models.DateTimeField(auto_now=True)\n",
    "\n",
    "    def __str__(self):\n",
    "        return self.content\n",
    "\n",
    "\n",
    "class Like(models.Model):\n",
    "    '''\n",
    "    좋아요 기능을 위한 article과 유저 사이의 중개테이블\n",
    "    '''\n",
    "    article = models.ForeignKey('Article', on_delete=models.CASCADE)\n",
    "    user = models.ForeignKey(settings.AUTH_USER_MODEL, on_delete=models.CASCADE)\n",
    "    created_at = models.DateTimeField(auto_now_add=True) "
   ]
  }
 ],
 "metadata": {
  "kernelspec": {
   "display_name": "Python 3.8.9 64-bit",
   "language": "python",
   "name": "python3"
  },
  "language_info": {
   "codemirror_mode": {
    "name": "ipython",
    "version": 3
   },
   "file_extension": ".py",
   "mimetype": "text/x-python",
   "name": "python",
   "nbconvert_exporter": "python",
   "pygments_lexer": "ipython3",
   "version": "3.8.9"
  },
  "orig_nbformat": 4,
  "vscode": {
   "interpreter": {
    "hash": "6a926afa313b26ae1264fdcf81c726a97e69f6ba2ba780f6aa901948710f8d6e"
   }
  }
 },
 "nbformat": 4,
 "nbformat_minor": 2
}
