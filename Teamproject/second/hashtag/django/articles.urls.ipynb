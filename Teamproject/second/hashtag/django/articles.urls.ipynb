{
 "cells": [
  {
   "cell_type": "code",
   "execution_count": null,
   "metadata": {},
   "outputs": [],
   "source": [
    "from django.urls import path\n",
    "from . import views\n",
    "\n",
    "\n",
    "app_name = 'articles'\n",
    "urlpatterns = [\n",
    "    path('', views.index, name='index'),\n",
    "    path('create/', views.create, name='create'),\n",
    "    path('<int:pk>/', views.detail, name='detail'),\n",
    "    path('<int:pk>/delete/', views.delete, name='delete'),\n",
    "    path('<int:pk>/update/', views.update, name='update'),\n",
    "    path('<int:pk>/comments/', views.comments_create, name='comments_create'),\n",
    "    path('<int:article_pk>/comments/<int:comment_pk>/delete/', views.comments_delete, name='comments_delete'),\n",
    "    \n",
    "    #like\n",
    "    path('<int:pk>/like/', views.like, name='like'),\n",
    "\n",
    "    #hashtag\n",
    "    path('<int:hash_pk>/hashtag/', views.hashtag, name=\"hashtag\"),\n",
    "]\n"
   ]
  }
 ],
 "metadata": {
  "language_info": {
   "name": "python"
  },
  "orig_nbformat": 4
 },
 "nbformat": 4,
 "nbformat_minor": 2
}
