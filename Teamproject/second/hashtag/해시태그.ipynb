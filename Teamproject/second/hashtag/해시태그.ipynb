{
  "cells": [
    {
      "cell_type": "code",
      "execution_count": 316,
      "metadata": {
        "id": "OZ_13Uv94mjU"
      },
      "outputs": [],
      "source": [
        "import pandas as pd\n",
        "import numpy as np\n",
        "from modules import *\n",
        "from nltk.corpus import stopwords\n",
        "from nltk.stem.porter import *\n",
        "from nltk import word_tokenize\n",
        "from konlpy.tag import Okt\n",
        "from nltk.util import everygrams"
      ]
    },
    {
      "cell_type": "code",
      "execution_count": 317,
      "metadata": {
        "id": "nFTBbcRb4mjX"
      },
      "outputs": [],
      "source": [
        "#원하는 태그 추출 & 불용어 제거\n",
        "okt = Okt()\n",
        "\n",
        "#불용어\n",
        "stopwords = pd.read_csv('ko-stopwords.csv') #한국어불용어사전 불러오기\n",
        "stopwords=list(stopwords['stopwords']) \n",
        "stopwords.extend(['에서','고','이다','는','한','씨', \"것\",\"거\",\"게\",\"데\",\"이다\",\"건\",\"고\",\"되다\",\"되어다\",\"걸\",\"기\",\n",
        "                  \"시\",\"네\",\"듯\",\"랍니\",\"중이\",\"얘\",\"스\",\"도도\", \"나\",\"수\",\"개\",\"내\",\"기\",\"제\",\"저\",\"인\",\"있다\",\"이렇다\",\n",
        "                  \"그렇다\",\"번\",\"위\",\"팅\",\"분\",\"인\",\"링\",\"란\",\"포\",\"두\", \"진짜\", \"하다\" ,\"이다\" ,\"가다\", \"이제\" ,\"들다\",\n",
        "                 '에서','고','이다','젛','뇨','껀데','뭘'\n",
        "                 ,'최고','느리다','마을','최고','항상','포장','재다','말다','목','넘김','만족하다','정말','역시','아주','감사하다','오다','자주','요','늘','넘다','않다','더','병','다','숙성','나다','술','드리다','마트','꼼꼼하다','잇다'\n",
        "                 ,'복','순도','용','비싸다','가격','많다','강하다','보내다','추천','보고','쏘다','느낌','사다','처음','많이','톡','생각','엄청','날','아니다'\n",
        "                 ,'믿다', '구입', '사먹다', '한번', '싶다', '콤', '완전', '제품', '재', '해주다', '말', '사람','특별하다','언제나','빨르다','두번째','전','계속','달'\n",
        "                 ,'추석', '인생', '최애', '명절', '해', '중', '생각나다', '시원하다', '다르다', '알다', '가족', '정도', '기대', '친구', '괜찮다', '부모님', '지인', '아직'\n",
        "                 ,'만족스럽다', '빼다', '상품', '굿', '못', '도', '기분', '다시', '주다', '즐기다', '맞다', '맛보다', '제일', '집', '입맛', '모르다', '먹기'\n",
        "                 ,'조심하다', '따다', '차다', '엄마', '예정', '만족', '감', '일반', '파다', '막', '근데', '별로', '적당하다','예전', '가끔', '유명하다', '만', '뚜껑', '매우', '기대하다', '의사', '한잔', '신선하다', '느끼다', '그냥', '아쉽다'\n",
        "                 ,'오픈', '쎄다', '여자', '호불호', '꼭', '벌써', '버리다', '이렇게', '돼다', '크다', '느껴지다','고급', '종종', '어울리다', '알', '남편', '빨리', '어른', '소문', '아버지', '마시기', '할인', '살다' \n",
        "                 ,'풍부하다', '모임', '해드리다', '빠지다', '나서다', '원래', '아빠', '걸리다', '안', '도착', '없이'\n",
        "                 ,'하루', '딱이다', '상태', '향', '후', '설', '주변', '사서', '때문', '반하다', '연말'\n",
        "                 ,'해봤다', '강추', '찾다', '자꾸', '살짝', '몇번', '빨', '요즘', '신세계', '사진', '생일'\n",
        "                 ,'빠르다', '자다', '구매', '마시다', '받다', '보다', '없다', '새다', '숙취', '아스파탐', '대포', '넘어가다','주가'\n",
        "                 ,'지나다', '무', '머리', '편하다', '아프다', '두다', '인터넷', '택배', '숙성하다', '일주일', '봄', '배달', '만들다', '애용', '냉장고' \n",
        "                 ,'여름', '잔', '앞', '며칠', '팔다', '달라지다', '가장', '변하다', '번창', '안전하다', '젤', '배상면', '건강하다', '굿굿'\n",
        "                 ,'따르다', '이용', '확실하다', '날짜', '시중', '들어가다', '첨가', '유통', '아이스팩', '제조', '넣다', '생', '다양하다','종류','들어가다','전통주','마켓','술술','후기','사보다','부담','여러가지','리뷰','블루'\n",
        "                 ,'인기','궁금하다','대상','무난','취향','적다','단','평이','이용','터지다','맘'\n",
        "                 ]\n",
        "                 +'장인어른 일품 파손 싸다 술맛 비다 착하다 명인 증류 안동소주 안동 뒤끝 박다 신랑 비다 뒤끝 품질 짜다 용이 외국인 지고 지다 높다 어르신 신분 명인 보이다 준비 쇼핑 밤 서울 실향 스컬 낮다 가볍다 섞다 귀엽다 명랑 버전 꼼꼼 볼 대중 패키지 높다 하이 널 타 써다 집들이 실향 원주 긋다 술맛 술집 패키지 결의 증류주 섞다 타 이름 인공 약 높다 감기 대중 인위 짜다 막걸리 대접 볼 관심 타 남다 기회 하이 볼 섞다 향기 도주 집들이 독하다 이름 파티 어떻다 워낙 보기 마치다 가미 다기 수고 맛잇을걱닡아 모으다 햡 담날 대박 물맛 안되다 읺았어 짜다 빠져들다 소비 안나 이색 보리 빨랏 부족하다 화이팅 편 감홍 쇼핑 대다 도자기 생신 술맛 지다 높다 개봉 준비 깊다 볼 외국 아버님 조명 이벤트 용이 얼 눈 신분 보기 작다 내기 불빛 사은 비주 즐겁다 준비 생신 아깝다 주신 싸다 품 아버님 비쥬 조명도 반응 켜다 고맙다 동학 저렴하다 청 서비스 술잔 소주 강쇠주 오메 기술 조선 대비 요리 사용 데우다 조사 쓰다 감사 음식 알콜 경험 청주 강쇠 가성 전주 모주 뜨다 신기하다 화주 좋아하다 주문 예쁘다 이쁘다 얼음 산 토닉 워터 빨대 깨지다 빙 탄복 박스 약하다 국산 오프너 위트 소백산 제공 분위기 아내 크리스마스 마음 마루 베베 솔직하다 초보자 와이프 작성 위트 디자인 굳다 달다 시큼하다 달달 선물 깔끔하다 뒤 비비 이 있 하 것 들 그 되 수 이 보 않 없 나 사람 주 아니 등 같 우리 때 년 가 한 지 대하 오 말 일 그렇 위하 기한 달라 첫날 첨 주말 걱정 전이 이유 해보다 저번 보지 함 기대다 상 비 베스트 도수 음 존맛 개인'.split()\n",
        "                 ) #불용어 추가\n",
        "stopwords=set(stopwords) # 중복제거    \n",
        "\n",
        "# 형태소 분석 함수 만들기\n",
        "def okt_pos_tagging2(string):\n",
        "    pos_words = okt.pos(string, stem=True, norm=True) # 형태소 분석. 단어는 사전형으로 바꿔주기\n",
        "    words = [word for word, tag in pos_words if tag \n",
        "             in ['Noun', 'Adjective', 'Verb','Adverb'] if word not in stopwords ]\n",
        "\n",
        "    # n_gram 만들기\n",
        "    egram = list(everygrams(words, min_len=1, max_len=1))\n",
        "    egram_token = [' '.join(grams) for grams in egram]\n",
        "\n",
        "    return egram_token\n",
        "\n",
        "def okt_pos_tagging(string):\n",
        "    pos_words = okt.pos(string, stem=True, norm=True) # 형태소 분석. 단어는 사전형으로 바꿔주기\n",
        "    words = [word for word, tag in pos_words if tag \n",
        "             in ['Noun', 'Adjective', 'Verb','Adverb'] if word not in stopwords ]\n",
        "\n",
        "    return words\n"
      ]
    },
    {
      "cell_type": "code",
      "execution_count": 318,
      "metadata": {
        "id": "WWpn8EJ14mjX"
      },
      "outputs": [],
      "source": [
        "# 불러올 csv 이름 리스트\n",
        "# 전체 리뷰를 불러온후 tf-idf 분석\n",
        "# name_list =[\"술 리뷰(복순도가)\",\"느린마을 막걸리\",\"술 리뷰(죽향도가)\"]\n",
        "# name_list =[\"금이산농원_복숭아와인\",\"덕유양조_산머루주\",\"배상면주가_빙탄복\",\"산내들_소백산스위트와인\",\"컨츄리와인_영동포도와인\"]\n",
        "# name_list =[\"청주_고헌정_동학1957_특선\",\"청주_양촌양조_무농약_우렁이쌀\",\"청주_오메기맑은술\",\"청주_우포의아침\",\"탁주_모주\",\"탁주_이화주\"]\n",
        "name_list =[\"증류주_감홍로_40도\",\"증류주_금설_35도\",\"증류주_더한매실원주_13도\",\"증류주_도원결의_15도\",\"증류주_도원결의_25도\",\"증류주_도원결의_40도\"\n",
        "            ,\"증류주_박재서명인_안동소주_22도\",\"증류주_박재서명인_안동소주_35도\",\"증류주_박재서명인_안동소주_45도\",\"증류주_서울의밤_17도\",\"증류주_서울의밤_25도\"\n",
        "            ,\"증류주_안동소주_일품_21도\",\"증류주_안동소주_일품_40도\"]"
      ]
    },
    {
      "cell_type": "code",
      "execution_count": 319,
      "metadata": {
        "id": "TTgVNZWu4mjY"
      },
      "outputs": [
        {
          "name": "stderr",
          "output_type": "stream",
          "text": [
            "C:\\Users\\user\\AppData\\Local\\Temp\\ipykernel_16648\\4028454450.py:14: FutureWarning: The default value of regex will change from True to False in a future version.\n",
            "  data.doc = data.doc.str.replace(\"[^가-힣 ]\",\" \") # 한글만 남기고 특수문자, 숫자, 영어 삭제\n",
            "C:\\Users\\user\\AppData\\Local\\Temp\\ipykernel_16648\\4028454450.py:15: FutureWarning: The default value of regex will change from True to False in a future version.\n",
            "  data.doc = data.doc.str.replace(\"\\s+\", \" \") # white space 삭제\n",
            "C:\\Users\\user\\AppData\\Local\\Temp\\ipykernel_16648\\4028454450.py:14: FutureWarning: The default value of regex will change from True to False in a future version.\n",
            "  data.doc = data.doc.str.replace(\"[^가-힣 ]\",\" \") # 한글만 남기고 특수문자, 숫자, 영어 삭제\n",
            "C:\\Users\\user\\AppData\\Local\\Temp\\ipykernel_16648\\4028454450.py:15: FutureWarning: The default value of regex will change from True to False in a future version.\n",
            "  data.doc = data.doc.str.replace(\"\\s+\", \" \") # white space 삭제\n",
            "C:\\Users\\user\\AppData\\Local\\Temp\\ipykernel_16648\\4028454450.py:14: FutureWarning: The default value of regex will change from True to False in a future version.\n",
            "  data.doc = data.doc.str.replace(\"[^가-힣 ]\",\" \") # 한글만 남기고 특수문자, 숫자, 영어 삭제\n",
            "C:\\Users\\user\\AppData\\Local\\Temp\\ipykernel_16648\\4028454450.py:15: FutureWarning: The default value of regex will change from True to False in a future version.\n",
            "  data.doc = data.doc.str.replace(\"\\s+\", \" \") # white space 삭제\n",
            "C:\\Users\\user\\AppData\\Local\\Temp\\ipykernel_16648\\4028454450.py:14: FutureWarning: The default value of regex will change from True to False in a future version.\n",
            "  data.doc = data.doc.str.replace(\"[^가-힣 ]\",\" \") # 한글만 남기고 특수문자, 숫자, 영어 삭제\n",
            "C:\\Users\\user\\AppData\\Local\\Temp\\ipykernel_16648\\4028454450.py:15: FutureWarning: The default value of regex will change from True to False in a future version.\n",
            "  data.doc = data.doc.str.replace(\"\\s+\", \" \") # white space 삭제\n",
            "C:\\Users\\user\\AppData\\Local\\Temp\\ipykernel_16648\\4028454450.py:14: FutureWarning: The default value of regex will change from True to False in a future version.\n",
            "  data.doc = data.doc.str.replace(\"[^가-힣 ]\",\" \") # 한글만 남기고 특수문자, 숫자, 영어 삭제\n",
            "C:\\Users\\user\\AppData\\Local\\Temp\\ipykernel_16648\\4028454450.py:15: FutureWarning: The default value of regex will change from True to False in a future version.\n",
            "  data.doc = data.doc.str.replace(\"\\s+\", \" \") # white space 삭제\n",
            "C:\\Users\\user\\AppData\\Local\\Temp\\ipykernel_16648\\4028454450.py:14: FutureWarning: The default value of regex will change from True to False in a future version.\n",
            "  data.doc = data.doc.str.replace(\"[^가-힣 ]\",\" \") # 한글만 남기고 특수문자, 숫자, 영어 삭제\n",
            "C:\\Users\\user\\AppData\\Local\\Temp\\ipykernel_16648\\4028454450.py:15: FutureWarning: The default value of regex will change from True to False in a future version.\n",
            "  data.doc = data.doc.str.replace(\"\\s+\", \" \") # white space 삭제\n",
            "C:\\Users\\user\\AppData\\Local\\Temp\\ipykernel_16648\\4028454450.py:14: FutureWarning: The default value of regex will change from True to False in a future version.\n",
            "  data.doc = data.doc.str.replace(\"[^가-힣 ]\",\" \") # 한글만 남기고 특수문자, 숫자, 영어 삭제\n",
            "C:\\Users\\user\\AppData\\Local\\Temp\\ipykernel_16648\\4028454450.py:15: FutureWarning: The default value of regex will change from True to False in a future version.\n",
            "  data.doc = data.doc.str.replace(\"\\s+\", \" \") # white space 삭제\n",
            "C:\\Users\\user\\AppData\\Local\\Temp\\ipykernel_16648\\4028454450.py:14: FutureWarning: The default value of regex will change from True to False in a future version.\n",
            "  data.doc = data.doc.str.replace(\"[^가-힣 ]\",\" \") # 한글만 남기고 특수문자, 숫자, 영어 삭제\n",
            "C:\\Users\\user\\AppData\\Local\\Temp\\ipykernel_16648\\4028454450.py:15: FutureWarning: The default value of regex will change from True to False in a future version.\n",
            "  data.doc = data.doc.str.replace(\"\\s+\", \" \") # white space 삭제\n",
            "C:\\Users\\user\\AppData\\Local\\Temp\\ipykernel_16648\\4028454450.py:14: FutureWarning: The default value of regex will change from True to False in a future version.\n",
            "  data.doc = data.doc.str.replace(\"[^가-힣 ]\",\" \") # 한글만 남기고 특수문자, 숫자, 영어 삭제\n",
            "C:\\Users\\user\\AppData\\Local\\Temp\\ipykernel_16648\\4028454450.py:15: FutureWarning: The default value of regex will change from True to False in a future version.\n",
            "  data.doc = data.doc.str.replace(\"\\s+\", \" \") # white space 삭제\n",
            "C:\\Users\\user\\AppData\\Local\\Temp\\ipykernel_16648\\4028454450.py:14: FutureWarning: The default value of regex will change from True to False in a future version.\n",
            "  data.doc = data.doc.str.replace(\"[^가-힣 ]\",\" \") # 한글만 남기고 특수문자, 숫자, 영어 삭제\n",
            "C:\\Users\\user\\AppData\\Local\\Temp\\ipykernel_16648\\4028454450.py:15: FutureWarning: The default value of regex will change from True to False in a future version.\n",
            "  data.doc = data.doc.str.replace(\"\\s+\", \" \") # white space 삭제\n",
            "C:\\Users\\user\\AppData\\Local\\Temp\\ipykernel_16648\\4028454450.py:14: FutureWarning: The default value of regex will change from True to False in a future version.\n",
            "  data.doc = data.doc.str.replace(\"[^가-힣 ]\",\" \") # 한글만 남기고 특수문자, 숫자, 영어 삭제\n",
            "C:\\Users\\user\\AppData\\Local\\Temp\\ipykernel_16648\\4028454450.py:15: FutureWarning: The default value of regex will change from True to False in a future version.\n",
            "  data.doc = data.doc.str.replace(\"\\s+\", \" \") # white space 삭제\n",
            "C:\\Users\\user\\AppData\\Local\\Temp\\ipykernel_16648\\4028454450.py:14: FutureWarning: The default value of regex will change from True to False in a future version.\n",
            "  data.doc = data.doc.str.replace(\"[^가-힣 ]\",\" \") # 한글만 남기고 특수문자, 숫자, 영어 삭제\n",
            "C:\\Users\\user\\AppData\\Local\\Temp\\ipykernel_16648\\4028454450.py:15: FutureWarning: The default value of regex will change from True to False in a future version.\n",
            "  data.doc = data.doc.str.replace(\"\\s+\", \" \") # white space 삭제\n",
            "C:\\Users\\user\\AppData\\Local\\Temp\\ipykernel_16648\\4028454450.py:14: FutureWarning: The default value of regex will change from True to False in a future version.\n",
            "  data.doc = data.doc.str.replace(\"[^가-힣 ]\",\" \") # 한글만 남기고 특수문자, 숫자, 영어 삭제\n",
            "C:\\Users\\user\\AppData\\Local\\Temp\\ipykernel_16648\\4028454450.py:15: FutureWarning: The default value of regex will change from True to False in a future version.\n",
            "  data.doc = data.doc.str.replace(\"\\s+\", \" \") # white space 삭제\n"
          ]
        }
      ],
      "source": [
        "all_data = pd.DataFrame()\n",
        "\n",
        "for name in name_list:\n",
        "    try: \n",
        "        data = pd.read_csv(f\"{name}.csv\", encoding='utf-8-sig')\n",
        "    except:\n",
        "        data = pd.read_csv(f\"{name}.csv\", encoding='cp949')\n",
        "    # 전처리\n",
        "    data.drop_duplicates(['text'],ignore_index=True, inplace=True) # 중복 제거\n",
        "    try:\n",
        "        data.columns = ['date', 'star','doc']\n",
        "    except:\n",
        "        data.columns = ['date', 'star','doc','name']\n",
        "    data.doc = data.doc.str.replace(\"[^가-힣 ]\",\" \") # 한글만 남기고 특수문자, 숫자, 영어 삭제\n",
        "    data.doc = data.doc.str.replace(\"\\s+\", \" \") # white space 삭제\n",
        "    data.doc = data.doc.str.replace(\"럽고목\",\"럽고 목\")\n",
        "    data.doc = data.doc.str.replace(\"부 드럽\",\"부드럽\")\n",
        "    data.doc = data.doc.str.replace(\"가성\", \"가성비\")\n",
        "    data.dropna(inplace=True)\n",
        "    data.reset_index(drop=True, inplace=True)\n",
        "    # globals()[\"감홍로 40도\"] 등으로 데이터 프레임 저장됨\n",
        "    globals()[f\"{name}\"] = data\n",
        "    all_data = pd.concat([all_data,data],axis=0)\n"
      ]
    },
    {
      "cell_type": "code",
      "execution_count": 320,
      "metadata": {
        "id": "cs2wG5044mjY",
        "outputId": "93c98046-bf87-49b5-a70f-e639c0f3da8e"
      },
      "outputs": [
        {
          "data": {
            "text/html": [
              "<div>\n",
              "<style scoped>\n",
              "    .dataframe tbody tr th:only-of-type {\n",
              "        vertical-align: middle;\n",
              "    }\n",
              "\n",
              "    .dataframe tbody tr th {\n",
              "        vertical-align: top;\n",
              "    }\n",
              "\n",
              "    .dataframe thead th {\n",
              "        text-align: right;\n",
              "    }\n",
              "</style>\n",
              "<table border=\"1\" class=\"dataframe\">\n",
              "  <thead>\n",
              "    <tr style=\"text-align: right;\">\n",
              "      <th></th>\n",
              "      <th>date</th>\n",
              "      <th>star</th>\n",
              "      <th>doc</th>\n",
              "    </tr>\n",
              "  </thead>\n",
              "  <tbody>\n",
              "    <tr>\n",
              "      <th>0</th>\n",
              "      <td>2022-11-27</td>\n",
              "      <td>5</td>\n",
              "      <td>선물로 구입했는데 빠르고 안전하게 왔어요 감사합니다</td>\n",
              "    </tr>\n",
              "    <tr>\n",
              "      <th>1</th>\n",
              "      <td>2022-11-24</td>\n",
              "      <td>5</td>\n",
              "      <td>선물로 드렸어요 너무 만족하셨답니다</td>\n",
              "    </tr>\n",
              "    <tr>\n",
              "      <th>2</th>\n",
              "      <td>2022-11-22</td>\n",
              "      <td>5</td>\n",
              "      <td>포장 꼼꼼하고 고급져보임</td>\n",
              "    </tr>\n",
              "    <tr>\n",
              "      <th>3</th>\n",
              "      <td>2022-10-27</td>\n",
              "      <td>5</td>\n",
              "      <td>선물용으로 좋아요</td>\n",
              "    </tr>\n",
              "    <tr>\n",
              "      <th>4</th>\n",
              "      <td>2022-10-14</td>\n",
              "      <td>4</td>\n",
              "      <td>배송 빠르고 선물용으로 샀는데 좋아보입니다</td>\n",
              "    </tr>\n",
              "    <tr>\n",
              "      <th>...</th>\n",
              "      <td>...</td>\n",
              "      <td>...</td>\n",
              "      <td>...</td>\n",
              "    </tr>\n",
              "    <tr>\n",
              "      <th>3703</th>\n",
              "      <td>2021-05-11</td>\n",
              "      <td>5</td>\n",
              "      <td>도수에비해 부드러운 목넘김과 맛있음</td>\n",
              "    </tr>\n",
              "    <tr>\n",
              "      <th>3704</th>\n",
              "      <td>2021-04-26</td>\n",
              "      <td>5</td>\n",
              "      <td>선물했는데 아주 좋아해줬어요</td>\n",
              "    </tr>\n",
              "    <tr>\n",
              "      <th>3705</th>\n",
              "      <td>2021-03-18</td>\n",
              "      <td>5</td>\n",
              "      <td>포장보고 사진을 안찍을수가 없네요 완벽해요 원래 마시던 거라 싸게잘샀습니다 많이파세용</td>\n",
              "    </tr>\n",
              "    <tr>\n",
              "      <th>3706</th>\n",
              "      <td>2021-04-09</td>\n",
              "      <td>5</td>\n",
              "      <td>매번 만족합니다 번창하세요</td>\n",
              "    </tr>\n",
              "    <tr>\n",
              "      <th>3707</th>\n",
              "      <td>2021-04-05</td>\n",
              "      <td>5</td>\n",
              "      <td>포장이 완전 튼튼합니다 술맛은 남편이좋아했어요</td>\n",
              "    </tr>\n",
              "  </tbody>\n",
              "</table>\n",
              "<p>47183 rows × 3 columns</p>\n",
              "</div>"
            ],
            "text/plain": [
              "            date  star                                              doc\n",
              "0     2022-11-27     5                     선물로 구입했는데 빠르고 안전하게 왔어요 감사합니다\n",
              "1     2022-11-24     5                              선물로 드렸어요 너무 만족하셨답니다\n",
              "2     2022-11-22     5                                    포장 꼼꼼하고 고급져보임\n",
              "3     2022-10-27     5                                        선물용으로 좋아요\n",
              "4     2022-10-14     4                          배송 빠르고 선물용으로 샀는데 좋아보입니다\n",
              "...          ...   ...                                              ...\n",
              "3703  2021-05-11     5                              도수에비해 부드러운 목넘김과 맛있음\n",
              "3704  2021-04-26     5                                  선물했는데 아주 좋아해줬어요\n",
              "3705  2021-03-18     5  포장보고 사진을 안찍을수가 없네요 완벽해요 원래 마시던 거라 싸게잘샀습니다 많이파세용\n",
              "3706  2021-04-09     5                                   매번 만족합니다 번창하세요\n",
              "3707  2021-04-05     5                        포장이 완전 튼튼합니다 술맛은 남편이좋아했어요\n",
              "\n",
              "[47183 rows x 3 columns]"
            ]
          },
          "execution_count": 320,
          "metadata": {},
          "output_type": "execute_result"
        }
      ],
      "source": [
        "all_data"
      ]
    },
    {
      "cell_type": "code",
      "execution_count": 321,
      "metadata": {
        "id": "vsDwX1xL4mjZ"
      },
      "outputs": [
        {
          "name": "stderr",
          "output_type": "stream",
          "text": [
            "c:\\Users\\user\\AppData\\Local\\Programs\\Python\\Python38\\lib\\site-packages\\sklearn\\feature_extraction\\text.py:524: UserWarning: The parameter 'token_pattern' will not be used since 'tokenizer' is not None'\n",
            "  warnings.warn(\n"
          ]
        }
      ],
      "source": [
        "from sklearn.feature_extraction.text import TfidfVectorizer\n",
        "\n",
        "tfidf = TfidfVectorizer(tokenizer=okt_pos_tagging)\n",
        "tfidf_fit = tfidf.fit(all_data.doc)\n"
      ]
    },
    {
      "cell_type": "code",
      "execution_count": 322,
      "metadata": {},
      "outputs": [
        {
          "name": "stderr",
          "output_type": "stream",
          "text": [
            "c:\\Users\\user\\AppData\\Local\\Programs\\Python\\Python38\\lib\\site-packages\\sklearn\\utils\\deprecation.py:87: FutureWarning: Function get_feature_names is deprecated; get_feature_names is deprecated in 1.0 and will be removed in 1.2. Please use get_feature_names_out instead.\n",
            "  warnings.warn(msg, category=FutureWarning)\n"
          ]
        }
      ],
      "source": [
        "# 특징을 추출할 문서의 tf-idf를 구함\n",
        "# \"술 리뷰(복순도가)\" : 110,\"느린마을 막걸리\" : 130,\"술 리뷰(죽향도가)\" : 300\n",
        "a = \"증류주_감홍로_40도\"\n",
        "bow_rep_tfidf = tfidf_fit.transform(globals()[a].doc)\n",
        "word_count = pd.DataFrame({\n",
        "    '단어': tfidf.get_feature_names(),\n",
        "    'tf-idf': bow_rep_tfidf.sum(axis=0).flat,\n",
        "    'idf': tfidf.idf_\n",
        "})"
      ]
    },
    {
      "cell_type": "code",
      "execution_count": 323,
      "metadata": {},
      "outputs": [
        {
          "name": "stderr",
          "output_type": "stream",
          "text": [
            "C:\\Users\\user\\AppData\\Local\\Temp\\ipykernel_16648\\846828606.py:5: UserWarning: Boolean Series key will be reindexed to match DataFrame index.\n",
            "  word_count.sort_values('tf-idf',ascending=False).head(50)[word_count['idf']>3.5][word_count['tf-idf'] * (len(all_data)/len(globals()[a]))>200]\n"
          ]
        },
        {
          "data": {
            "text/html": [
              "<div>\n",
              "<style scoped>\n",
              "    .dataframe tbody tr th:only-of-type {\n",
              "        vertical-align: middle;\n",
              "    }\n",
              "\n",
              "    .dataframe tbody tr th {\n",
              "        vertical-align: top;\n",
              "    }\n",
              "\n",
              "    .dataframe thead th {\n",
              "        text-align: right;\n",
              "    }\n",
              "</style>\n",
              "<table border=\"1\" class=\"dataframe\">\n",
              "  <thead>\n",
              "    <tr style=\"text-align: right;\">\n",
              "      <th></th>\n",
              "      <th>단어</th>\n",
              "      <th>tf-idf</th>\n",
              "      <th>idf</th>\n",
              "    </tr>\n",
              "  </thead>\n",
              "  <tbody>\n",
              "    <tr>\n",
              "      <th>453</th>\n",
              "      <td>계피</td>\n",
              "      <td>18.960056</td>\n",
              "      <td>8.206462</td>\n",
              "    </tr>\n",
              "    <tr>\n",
              "      <th>464</th>\n",
              "      <td>고급스럽다</td>\n",
              "      <td>15.745428</td>\n",
              "      <td>5.107658</td>\n",
              "    </tr>\n",
              "    <tr>\n",
              "      <th>2939</th>\n",
              "      <td>명주</td>\n",
              "      <td>15.162864</td>\n",
              "      <td>7.557118</td>\n",
              "    </tr>\n",
              "    <tr>\n",
              "      <th>3711</th>\n",
              "      <td>부드럽다</td>\n",
              "      <td>9.027649</td>\n",
              "      <td>4.095120</td>\n",
              "    </tr>\n",
              "    <tr>\n",
              "      <th>6085</th>\n",
              "      <td>위스키</td>\n",
              "      <td>5.611266</td>\n",
              "      <td>6.982687</td>\n",
              "    </tr>\n",
              "    <tr>\n",
              "      <th>5337</th>\n",
              "      <td>약주</td>\n",
              "      <td>5.235097</td>\n",
              "      <td>8.024141</td>\n",
              "    </tr>\n",
              "    <tr>\n",
              "      <th>5338</th>\n",
              "      <td>약초</td>\n",
              "      <td>4.684653</td>\n",
              "      <td>9.682369</td>\n",
              "    </tr>\n",
              "    <tr>\n",
              "      <th>6845</th>\n",
              "      <td>점</td>\n",
              "      <td>4.248126</td>\n",
              "      <td>6.886613</td>\n",
              "    </tr>\n",
              "  </tbody>\n",
              "</table>\n",
              "</div>"
            ],
            "text/plain": [
              "         단어     tf-idf       idf\n",
              "453      계피  18.960056  8.206462\n",
              "464   고급스럽다  15.745428  5.107658\n",
              "2939     명주  15.162864  7.557118\n",
              "3711   부드럽다   9.027649  4.095120\n",
              "6085    위스키   5.611266  6.982687\n",
              "5337     약주   5.235097  8.024141\n",
              "5338     약초   4.684653  9.682369\n",
              "6845      점   4.248126  6.886613"
            ]
          },
          "execution_count": 323,
          "metadata": {},
          "output_type": "execute_result"
        }
      ],
      "source": [
        "# idf 가 높을수록 잘 안나오는 단어\n",
        "# tf-idf 가 높을수록 중요한 단어\n",
        "# 두값을 적절히 조정해서 특징 추출\n",
        "\n",
        "word_count.sort_values('tf-idf',ascending=False).head(50)[word_count['idf']>3.5][word_count['tf-idf'] * (len(all_data)/len(globals()[a]))>200]"
      ]
    },
    {
      "cell_type": "code",
      "execution_count": 324,
      "metadata": {},
      "outputs": [
        {
          "name": "stderr",
          "output_type": "stream",
          "text": [
            "c:\\Users\\user\\AppData\\Local\\Programs\\Python\\Python38\\lib\\site-packages\\sklearn\\utils\\deprecation.py:87: FutureWarning: Function get_feature_names is deprecated; get_feature_names is deprecated in 1.0 and will be removed in 1.2. Please use get_feature_names_out instead.\n",
            "  warnings.warn(msg, category=FutureWarning)\n",
            "C:\\Users\\user\\AppData\\Local\\Temp\\ipykernel_16648\\142374347.py:15: UserWarning: Boolean Series key will be reindexed to match DataFrame index.\n",
            "  df = word_count.sort_values('tf-idf',ascending=False).head(50)[word_count['idf']>3.5][word_count['tf-idf'] * (len(all_data)/len(globals()[a[i]]))>200]\n",
            "C:\\Users\\user\\AppData\\Local\\Temp\\ipykernel_16648\\142374347.py:17: UserWarning: Boolean Series key will be reindexed to match DataFrame index.\n",
            "  word_count.sort_values('tf-idf',ascending=False).head(50)[word_count['idf']>3.5][word_count['tf-idf'] * (len(all_data)/len(globals()[a[i]]))>200].to_csv(f'증류주_특징{i}.csv')\n"
          ]
        },
        {
          "data": {
            "text/plain": [
              "['계피', '고급스럽다', '명주', '부드럽다', '위스키', '약주', '약초', '점']"
            ]
          },
          "execution_count": 324,
          "metadata": {},
          "output_type": "execute_result"
        }
      ],
      "source": [
        "a = [\"증류주_감홍로_40도\",\"증류주_금설_35도\",\"증류주_더한매실원주_13도\",\"증류주_도원결의_15도\",\"증류주_도원결의_25도\",\"증류주_도원결의_40도\"\n",
        "        ,\"증류주_박재서명인_안동소주_22도\",\"증류주_박재서명인_안동소주_35도\",\"증류주_박재서명인_안동소주_45도\",\"증류주_서울의밤_17도\",\"증류주_서울의밤_25도\"\n",
        "        ,\"증류주_안동소주_일품_21도\",\"증류주_안동소주_일품_40도\"]\n",
        "Tags = {\"gamhonglo\": [],\"geumsul\": [],\"masil\": [],\"dowon15\": [],\"dowon25\": [],\"dowon40\": [],\"andong22\": [],\"andong35\": [],\"andong45\": []\n",
        "        ,\"seoul17\": [],\"seoul25\": [],\"ilpum21\": [],\"ilpum40\": []}\n",
        "keys = [\"gamhonglo\",\"geumsul\",\"masil\",\"dowon15\",\"dowon25\",\"dowon40\",\"andong22\",\"andong35\",\"andong45\",\"seoul17\",\"seoul25\",\"ilpum21\",\"ilpum40\"]\n",
        "for i in range(len(a)):\n",
        "    bow_rep_tfidf = tfidf_fit.transform(globals()[a[i]].doc)\n",
        "    word_count = pd.DataFrame({\n",
        "        '단어': tfidf.get_feature_names(),\n",
        "        'tf-idf': bow_rep_tfidf.sum(axis=0).flat,\n",
        "        'idf': tfidf.idf_\n",
        "    })\n",
        "    \n",
        "    df = word_count.sort_values('tf-idf',ascending=False).head(50)[word_count['idf']>3.5][word_count['tf-idf'] * (len(all_data)/len(globals()[a[i]]))>200]\n",
        "\n",
        "    word_count.sort_values('tf-idf',ascending=False).head(50)[word_count['idf']>3.5][word_count['tf-idf'] * (len(all_data)/len(globals()[a[i]]))>200].to_csv(f'증류주_특징{i}.csv')\n",
        "\n",
        "    # for i in range(len(Tags)):\n",
        "    for j in df['단어']:\n",
        "        Tags[keys[i]].append(j)\n",
        "Tags['gamhonglo']"
      ]
    },
    {
      "cell_type": "code",
      "execution_count": 325,
      "metadata": {},
      "outputs": [],
      "source": [
        "# a = [\"청주_고헌정_동학1957_특선\",\"청주_양촌양조_무농약_우렁이쌀\",\"청주_오메기맑은술\",\"청주_우포의아침\",\"탁주_모주\",\"탁주_이화주\"]\n",
        "# Tags = {\"donghak\": [],\"yangchon\": [],\"omegi\": [],\"upo\": [],\"moju\": [],\"ihwa\": []}\n",
        "# keys = [\"donghak\",\"yangchon\",\"omegi\",\"upo\",\"moju\",\"ihwa\"]\n",
        "# for i in range(len(a)):\n",
        "#     bow_rep_tfidf = tfidf_fit.transform(globals()[a[i]].doc)\n",
        "#     word_count = pd.DataFrame({\n",
        "#         '단어': tfidf.get_feature_names(),\n",
        "#         'tf-idf': bow_rep_tfidf.sum(axis=0).flat,\n",
        "#         'idf': tfidf.idf_\n",
        "#     })\n",
        "    \n",
        "#     df = word_count.sort_values('tf-idf',ascending=False).head(50)[word_count['idf']>3.5][word_count['tf-idf'] * (len(all_data)/len(globals()[a[i]]))>50]\n",
        "\n",
        "#     word_count.sort_values('tf-idf',ascending=False).head(50)[word_count['idf']>3.5][word_count['tf-idf'] * (len(all_data)/len(globals()[a[i]]))>50].to_csv(f'청주_모주_특징{i}.csv')\n",
        "\n",
        "#     # for i in range(len(Tags)):\n",
        "#     for j in df['단어']:\n",
        "#         Tags[keys[i]].append(j)\n",
        "# Tags['donghak']"
      ]
    },
    {
      "cell_type": "code",
      "execution_count": 326,
      "metadata": {},
      "outputs": [],
      "source": [
        "# # 특징을 추출할 문서의 tf-idf를 구함\n",
        "# # a = [\"술 리뷰(복순도가)\",\"느린마을 막걸리\",\"술 리뷰(죽향도가)\"]\n",
        "# # Tags = {\"boksundoga\": [],\"maeul\": [],\"jukhyang\": []}\n",
        "# # keys = [\"boksundoga\",\"maeul\",\"jukhyang\"]\n",
        "\n",
        "# a = [\"금이산농원_복숭아와인\",\"덕유양조_산머루주\",\"배상면주가_빙탄복\",\"산내들_소백산스위트와인\",\"컨츄리와인_영동포도와인\"]\n",
        "# Tags = {\"nongwon\": [],\"duckyang\": [],\"baesang\": [],\"sobak\": [],\"yungdong\": []}\n",
        "# keys = [\"nongwon\",\"duckyang\",\"baesang\",\"sobak\",\"yungdong\"]\n",
        "# for i in range(len(a)):\n",
        "#     bow_rep_tfidf = tfidf_fit.transform(globals()[a[i]].doc)\n",
        "#     word_count = pd.DataFrame({\n",
        "#         '단어': tfidf.get_feature_names(),\n",
        "#         'tf-idf': bow_rep_tfidf.sum(axis=0).flat,\n",
        "#         'idf': tfidf.idf_\n",
        "#     })\n",
        "    \n",
        "#     df = word_count.sort_values('tf-idf',ascending=False).head(50)[word_count['idf']>3.5][word_count['tf-idf'] * (len(all_data)/len(globals()[a[i]]))>110]\n",
        "\n",
        "#     word_count.sort_values('tf-idf',ascending=False).head(50)[word_count['idf']>3.5][word_count['tf-idf'] * (len(all_data)/len(globals()[a[i]]))>110].to_csv(f'과실주_특징{i}.csv')\n",
        "\n",
        "#     # for i in range(len(Tags)):\n",
        "#     for j in df['단어']:\n",
        "#         Tags[keys[i]].append(j)\n",
        "# Tags['nongwon']"
      ]
    },
    {
      "cell_type": "code",
      "execution_count": 327,
      "metadata": {},
      "outputs": [
        {
          "data": {
            "text/plain": [
              "['금가루', '젤리', '금', '인삼', '고급스럽다', '부드럽다', '반짝반짝', '홍삼']"
            ]
          },
          "execution_count": 327,
          "metadata": {},
          "output_type": "execute_result"
        }
      ],
      "source": [
        "Tags['geumsul']"
      ]
    },
    {
      "cell_type": "code",
      "execution_count": 328,
      "metadata": {},
      "outputs": [
        {
          "data": {
            "text/html": [
              "<div>\n",
              "<style scoped>\n",
              "    .dataframe tbody tr th:only-of-type {\n",
              "        vertical-align: middle;\n",
              "    }\n",
              "\n",
              "    .dataframe tbody tr th {\n",
              "        vertical-align: top;\n",
              "    }\n",
              "\n",
              "    .dataframe thead th {\n",
              "        text-align: right;\n",
              "    }\n",
              "</style>\n",
              "<table border=\"1\" class=\"dataframe\">\n",
              "  <thead>\n",
              "    <tr style=\"text-align: right;\">\n",
              "      <th></th>\n",
              "      <th>단어</th>\n",
              "      <th>tf-idf</th>\n",
              "      <th>idf</th>\n",
              "    </tr>\n",
              "  </thead>\n",
              "  <tbody>\n",
              "    <tr>\n",
              "      <th>0</th>\n",
              "      <td>계피</td>\n",
              "      <td>18.960056</td>\n",
              "      <td>8.206462</td>\n",
              "    </tr>\n",
              "    <tr>\n",
              "      <th>1</th>\n",
              "      <td>고급스럽다</td>\n",
              "      <td>15.745428</td>\n",
              "      <td>5.107658</td>\n",
              "    </tr>\n",
              "    <tr>\n",
              "      <th>2</th>\n",
              "      <td>명주</td>\n",
              "      <td>15.162864</td>\n",
              "      <td>7.557118</td>\n",
              "    </tr>\n",
              "    <tr>\n",
              "      <th>3</th>\n",
              "      <td>부드럽다</td>\n",
              "      <td>9.027649</td>\n",
              "      <td>4.095120</td>\n",
              "    </tr>\n",
              "    <tr>\n",
              "      <th>4</th>\n",
              "      <td>위스키</td>\n",
              "      <td>5.611266</td>\n",
              "      <td>6.982687</td>\n",
              "    </tr>\n",
              "    <tr>\n",
              "      <th>5</th>\n",
              "      <td>약주</td>\n",
              "      <td>5.235097</td>\n",
              "      <td>8.024141</td>\n",
              "    </tr>\n",
              "    <tr>\n",
              "      <th>6</th>\n",
              "      <td>약초</td>\n",
              "      <td>4.684653</td>\n",
              "      <td>9.682369</td>\n",
              "    </tr>\n",
              "    <tr>\n",
              "      <th>7</th>\n",
              "      <td>점</td>\n",
              "      <td>4.248126</td>\n",
              "      <td>6.886613</td>\n",
              "    </tr>\n",
              "  </tbody>\n",
              "</table>\n",
              "</div>"
            ],
            "text/plain": [
              "      단어     tf-idf       idf\n",
              "0     계피  18.960056  8.206462\n",
              "1  고급스럽다  15.745428  5.107658\n",
              "2     명주  15.162864  7.557118\n",
              "3   부드럽다   9.027649  4.095120\n",
              "4    위스키   5.611266  6.982687\n",
              "5     약주   5.235097  8.024141\n",
              "6     약초   4.684653  9.682369\n",
              "7      점   4.248126  6.886613"
            ]
          },
          "execution_count": 328,
          "metadata": {},
          "output_type": "execute_result"
        }
      ],
      "source": [
        "# df0 = pd.read_csv('막걸리_특징0.csv')\n",
        "# del df0['Unnamed: 0']\n",
        "# df1 = pd.read_csv('막걸리_특징1.csv')\n",
        "# del df1['Unnamed: 0']\n",
        "# df2 = pd.read_csv('막걸리_특징2.csv')\n",
        "# del df2['Unnamed: 0']\n",
        "# df0"
      ]
    },
    {
      "cell_type": "code",
      "execution_count": 336,
      "metadata": {},
      "outputs": [],
      "source": [
        "# a : 리스트\n",
        "for i in range(len(keys)):\n",
        "    globals()['df{}'.format(i)] = pd.read_csv(f'증류주_특징{i}.csv')\n",
        "    del globals()['df{}'.format(i)]['Unnamed: 0']\n",
        "\n",
        "# a = []\n",
        "# for i in range(len(keys)):\n",
        "#     a.append('df'+str(i))\n",
        "#     a[i] = pd.read_csv(f'증류주_특징{i}.csv')\n",
        "#     del a[i]['Unnamed: 0']\n",
        "\n",
        "# a[0]"
      ]
    },
    {
      "cell_type": "code",
      "execution_count": 339,
      "metadata": {},
      "outputs": [
        {
          "data": {
            "text/html": [
              "<div>\n",
              "<style scoped>\n",
              "    .dataframe tbody tr th:only-of-type {\n",
              "        vertical-align: middle;\n",
              "    }\n",
              "\n",
              "    .dataframe tbody tr th {\n",
              "        vertical-align: top;\n",
              "    }\n",
              "\n",
              "    .dataframe thead th {\n",
              "        text-align: right;\n",
              "    }\n",
              "</style>\n",
              "<table border=\"1\" class=\"dataframe\">\n",
              "  <thead>\n",
              "    <tr style=\"text-align: right;\">\n",
              "      <th></th>\n",
              "      <th>단어</th>\n",
              "      <th>tf-idf</th>\n",
              "      <th>idf</th>\n",
              "    </tr>\n",
              "  </thead>\n",
              "  <tbody>\n",
              "    <tr>\n",
              "      <th>0</th>\n",
              "      <td>고급스럽다</td>\n",
              "      <td>386.697287</td>\n",
              "      <td>5.107658</td>\n",
              "    </tr>\n",
              "    <tr>\n",
              "      <th>1</th>\n",
              "      <td>부드럽다</td>\n",
              "      <td>163.891211</td>\n",
              "      <td>4.095120</td>\n",
              "    </tr>\n",
              "    <tr>\n",
              "      <th>2</th>\n",
              "      <td>장인어른</td>\n",
              "      <td>61.790857</td>\n",
              "      <td>7.088981</td>\n",
              "    </tr>\n",
              "  </tbody>\n",
              "</table>\n",
              "</div>"
            ],
            "text/plain": [
              "      단어      tf-idf       idf\n",
              "0  고급스럽다  386.697287  5.107658\n",
              "1   부드럽다  163.891211  4.095120\n",
              "2   장인어른   61.790857  7.088981"
            ]
          },
          "execution_count": 339,
          "metadata": {},
          "output_type": "execute_result"
        }
      ],
      "source": [
        "df8"
      ]
    },
    {
      "cell_type": "code",
      "execution_count": 331,
      "metadata": {},
      "outputs": [],
      "source": [
        "def getHashTagString(list_of_tags):\n",
        "\thashTagString = \"\"\n",
        "\n",
        "\tfor tag in list_of_tags:\n",
        "\t\thashTagString += \" #\" + tag\n",
        "\n",
        "\treturn hashTagString"
      ]
    },
    {
      "cell_type": "code",
      "execution_count": 333,
      "metadata": {},
      "outputs": [
        {
          "name": "stdout",
          "output_type": "stream",
          "text": [
            "#계피 #고급스럽다 #명주\n",
            "#금가루 #젤리 #금\n",
            "#매실주 #매실 #부드럽다\n",
            "#복숭아 #부드럽다 #은은하다\n",
            "#복숭아 #은은하다 #부드럽다\n",
            "#복숭아 #부드럽다 #은은하다\n",
            "#부드럽다 #희다\n",
            "#부드럽다 #누룩\n",
            "#고급스럽다 #부드럽다 #장인어른\n",
            "#부드럽다 #은은하다 #매실\n",
            "#부드럽다 #은은하다 #매실\n",
            "#부드럽다\n",
            "#부드럽다 #더락\n"
          ]
        }
      ],
      "source": [
        "print(getHashTagString(Tags['gamhonglo'][0:3])[:].strip())\n",
        "print(getHashTagString(Tags['geumsul'][0:3])[:].strip())\n",
        "print(getHashTagString(Tags['masil'][0:3])[:].strip())\n",
        "print(getHashTagString(Tags['dowon15'][0:3])[:].strip())\n",
        "print(getHashTagString(Tags['dowon25'][0:3])[:].strip())\n",
        "print(getHashTagString(Tags['dowon40'][0:3])[:].strip())\n",
        "print(getHashTagString(Tags['andong22'][0:3])[:].strip())\n",
        "print(getHashTagString(Tags['andong35'][0:3])[:].strip())\n",
        "print(getHashTagString(Tags['andong45'][0:3])[:].strip())\n",
        "print(getHashTagString(Tags['seoul17'][0:3])[:].strip())\n",
        "print(getHashTagString(Tags['seoul25'][0:3])[:].strip())\n",
        "print(getHashTagString(Tags['ilpum21'][0:3])[:].strip())\n",
        "print(getHashTagString(Tags['ilpum40'][0:3])[:].strip())"
      ]
    },
    {
      "cell_type": "code",
      "execution_count": null,
      "metadata": {},
      "outputs": [],
      "source": [
        "# print(getHashTagString(Tags['donghak'][0:3])[:].strip())\n",
        "# print(getHashTagString(Tags['yangchon'][0:3])[:].strip())\n",
        "# print(getHashTagString(Tags['omegi'][0:3])[:].strip())\n",
        "# print(getHashTagString(Tags['upo'][0:3])[:].strip())\n",
        "# print(getHashTagString(Tags['moju'][0:3])[:].strip())\n",
        "# print(getHashTagString(Tags['ihwa'][0:3])[:].strip())\n",
        "\n",
        "# print(getHashTagString(Tags['nongwon'][0:3])[:].strip())\n",
        "# print(getHashTagString(Tags['duckyang'][0:3])[:].strip())\n",
        "# print(getHashTagString(Tags['baesang'][0:3])[:].strip())\n",
        "# print(getHashTagString(Tags['sobak'][0:3])[:].strip())\n",
        "# print(getHashTagString(Tags['yungdong'][0:3])[:].strip())\n",
        "\n",
        "# print(getHashTagString(Tags['boksundoga'][0:3])[:].strip())\n",
        "# print(getHashTagString(Tags['maeul'][0:3])[:].strip())\n",
        "# print(getHashTagString(Tags['jukhyang'][0:3])[:].strip())"
      ]
    }
  ],
  "metadata": {
    "colab": {
      "provenance": []
    },
    "kernelspec": {
      "display_name": "Python 3.8.9 64-bit",
      "language": "python",
      "name": "python3"
    },
    "language_info": {
      "codemirror_mode": {
        "name": "ipython",
        "version": 3
      },
      "file_extension": ".py",
      "mimetype": "text/x-python",
      "name": "python",
      "nbconvert_exporter": "python",
      "pygments_lexer": "ipython3",
      "version": "3.8.9"
    },
    "orig_nbformat": 4,
    "vscode": {
      "interpreter": {
        "hash": "6a926afa313b26ae1264fdcf81c726a97e69f6ba2ba780f6aa901948710f8d6e"
      }
    }
  },
  "nbformat": 4,
  "nbformat_minor": 0
}
