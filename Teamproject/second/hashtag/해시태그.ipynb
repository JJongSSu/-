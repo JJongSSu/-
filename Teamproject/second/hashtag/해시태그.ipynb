{
  "cells": [
    {
      "cell_type": "code",
      "execution_count": 226,
      "metadata": {
        "id": "OZ_13Uv94mjU"
      },
      "outputs": [],
      "source": [
        "import pandas as pd\n",
        "import numpy as np\n",
        "from modules import *\n",
        "from nltk.corpus import stopwords\n",
        "from nltk.stem.porter import *\n",
        "from nltk import word_tokenize\n",
        "from konlpy.tag import Okt\n",
        "from nltk.util import everygrams"
      ]
    },
    {
      "cell_type": "code",
      "execution_count": 227,
      "metadata": {
        "id": "nFTBbcRb4mjX"
      },
      "outputs": [],
      "source": [
        "#원하는 태그 추출 & 불용어 제거\n",
        "okt = Okt()\n",
        "\n",
        "#불용어\n",
        "stopwords = pd.read_csv('ko-stopwords.csv') #한국어불용어사전 불러오기\n",
        "stopwords=list(stopwords['stopwords']) \n",
        "stopwords.extend(['에서','고','이다','는','한','씨', \"것\",\"거\",\"게\",\"데\",\"이다\",\"건\",\"고\",\"되다\",\"되어다\",\"걸\",\"기\",\n",
        "                  \"시\",\"네\",\"듯\",\"랍니\",\"중이\",\"얘\",\"스\",\"도도\", \"나\",\"수\",\"개\",\"내\",\"기\",\"제\",\"저\",\"인\",\"있다\",\"이렇다\",\n",
        "                  \"그렇다\",\"번\",\"위\",\"팅\",\"분\",\"인\",\"링\",\"란\",\"포\",\"두\", \"진짜\", \"하다\" ,\"이다\" ,\"가다\", \"이제\" ,\"들다\",\n",
        "                 '에서','고','이다','젛','뇨','껀데','뭘'\n",
        "                 ,'최고','느리다','마을','최고','항상','포장','재다','말다','목','넘김','만족하다','정말','역시','아주','감사하다','오다','자주','요','늘','넘다','않다','더','병','다','숙성','나다','술','드리다','마트','꼼꼼하다','잇다'\n",
        "                 ,'복','순도','용','비싸다','가격','많다','강하다','보내다','추천','보고','쏘다','느낌','사다','처음','많이','톡','생각','엄청','날','아니다'\n",
        "                 ,'믿다', '구입', '사먹다', '한번', '싶다', '콤', '완전', '제품', '재', '해주다', '말', '사람','특별하다','언제나','빨르다','두번째','전','계속','달'\n",
        "                 ,'추석', '인생', '최애', '명절', '해', '중', '생각나다', '시원하다', '다르다', '알다', '가족', '정도', '기대', '친구', '괜찮다', '부모님', '지인', '아직'\n",
        "                 ,'만족스럽다', '빼다', '상품', '굿', '못', '도', '기분', '다시', '주다', '즐기다', '맞다', '맛보다', '제일', '집', '입맛', '모르다', '먹기'\n",
        "                 ,'조심하다', '따다', '차다', '엄마', '예정', '만족', '감', '일반', '파다', '막', '근데', '별로', '적당하다','예전', '가끔', '유명하다', '만', '뚜껑', '매우', '기대하다', '의사', '한잔', '신선하다', '느끼다', '그냥', '아쉽다'\n",
        "                 ,'오픈', '쎄다', '여자', '호불호', '꼭', '벌써', '버리다', '이렇게', '돼다', '크다', '느껴지다','고급', '종종', '어울리다', '알', '남편', '빨리', '어른', '소문', '아버지', '마시기', '할인', '살다' \n",
        "                 ,'풍부하다', '모임', '해드리다', '빠지다', '나서다', '원래', '아빠', '걸리다', '안', '도착', '없이'\n",
        "                 ,'하루', '딱이다', '상태', '향', '후', '설', '주변', '사서', '때문', '반하다', '연말'\n",
        "                 ,'해봤다', '강추', '찾다', '자꾸', '살짝', '몇번', '빨', '요즘', '신세계', '사진', '생일'\n",
        "                 ,'빠르다', '자다', '구매', '마시다', '받다', '보다', '없다', '새다', '숙취', '아스파탐', '대포', '넘어가다','주가'\n",
        "                 ,'지나다', '무', '머리', '편하다', '아프다', '두다', '인터넷', '택배', '숙성하다', '일주일', '봄', '배달', '만들다', '애용', '냉장고' \n",
        "                 ,'여름', '잔', '앞', '며칠', '팔다', '달라지다', '가장', '변하다', '번창', '안전하다', '젤', '배상면', '건강하다', '굿굿'\n",
        "                 ,'따르다', '이용', '확실하다', '날짜', '시중', '들어가다', '첨가', '유통', '아이스팩', '제조', '넣다', '생', '다양하다','종류','들어가다','전통주','마켓','술술','후기','사보다','부담','여러가지','리뷰','블루'\n",
        "                 ,'인기','궁금하다','대상','무난','취향','적다','단','평이','이용','터지다','맘'\n",
        "                 ]\n",
        "                 +'동학 저렴하다 청 서비스 술잔 소주 강쇠주 오메 기술 조선 대비 요리 사용 데우다 조사 쓰다 감사 음식 알콜 경험 청주 강쇠 가성 전주 모주 뜨다 신기하다 화주 좋아하다 주문 예쁘다 이쁘다 얼음 산 토닉 워터 빨대 깨지다 빙 탄복 박스 약하다 국산 오프너 위트 소백산 제공 분위기 아내 크리스마스 마음 마루 베베 솔직하다 초보자 와이프 작성 위트 디자인 굳다 달다 시큼하다 달달 선물 깔끔하다 뒤 비비 이 있 하 것 들 그 되 수 이 보 않 없 나 사람 주 아니 등 같 우리 때 년 가 한 지 대하 오 말 일 그렇 위하 기한 달라 첫날 첨 주말 걱정 전이 이유 해보다 저번 보지 함 기대다 상 비 베스트 도수 음 존맛 개인'.split()\n",
        "                 ) #불용어 추가\n",
        "stopwords=set(stopwords) # 중복제거    \n",
        "\n",
        "# 형태소 분석 함수 만들기\n",
        "def okt_pos_tagging2(string):\n",
        "    pos_words = okt.pos(string, stem=True, norm=True) # 형태소 분석. 단어는 사전형으로 바꿔주기\n",
        "    words = [word for word, tag in pos_words if tag \n",
        "             in ['Noun', 'Adjective', 'Verb','Adverb'] if word not in stopwords ]\n",
        "\n",
        "    # n_gram 만들기\n",
        "    egram = list(everygrams(words, min_len=1, max_len=1))\n",
        "    egram_token = [' '.join(grams) for grams in egram]\n",
        "\n",
        "    return egram_token\n",
        "\n",
        "def okt_pos_tagging(string):\n",
        "    pos_words = okt.pos(string, stem=True, norm=True) # 형태소 분석. 단어는 사전형으로 바꿔주기\n",
        "    words = [word for word, tag in pos_words if tag \n",
        "             in ['Noun', 'Adjective', 'Verb','Adverb'] if word not in stopwords ]\n",
        "\n",
        "    return words\n"
      ]
    },
    {
      "cell_type": "code",
      "execution_count": 228,
      "metadata": {
        "id": "WWpn8EJ14mjX"
      },
      "outputs": [],
      "source": [
        "# 불러올 csv 이름 리스트\n",
        "# 전체 리뷰를 불러온후 tf-idf 분석\n",
        "# name_list =[\"술 리뷰(복순도가)\",\"느린마을 막걸리\",\"술 리뷰(죽향도가)\"]\n",
        "# name_list =[\"금이산농원_복숭아와인\",\"덕유양조_산머루주\",\"배상면주가_빙탄복\",\"산내들_소백산스위트와인\",\"컨츄리와인_영동포도와인\"]\n",
        "name_list =[\"청주_고헌정_동학1957_특선\",\"청주_양촌양조_무농약_우렁이쌀\",\"청주_오메기맑은술\",\"청주_우포의아침\",\"탁주_모주\",\"탁주_이화주\"]"
      ]
    },
    {
      "cell_type": "code",
      "execution_count": 229,
      "metadata": {
        "id": "TTgVNZWu4mjY"
      },
      "outputs": [
        {
          "name": "stderr",
          "output_type": "stream",
          "text": [
            "C:\\Users\\user\\AppData\\Local\\Temp\\ipykernel_16648\\4028454450.py:14: FutureWarning: The default value of regex will change from True to False in a future version.\n",
            "  data.doc = data.doc.str.replace(\"[^가-힣 ]\",\" \") # 한글만 남기고 특수문자, 숫자, 영어 삭제\n",
            "C:\\Users\\user\\AppData\\Local\\Temp\\ipykernel_16648\\4028454450.py:15: FutureWarning: The default value of regex will change from True to False in a future version.\n",
            "  data.doc = data.doc.str.replace(\"\\s+\", \" \") # white space 삭제\n",
            "C:\\Users\\user\\AppData\\Local\\Temp\\ipykernel_16648\\4028454450.py:14: FutureWarning: The default value of regex will change from True to False in a future version.\n",
            "  data.doc = data.doc.str.replace(\"[^가-힣 ]\",\" \") # 한글만 남기고 특수문자, 숫자, 영어 삭제\n",
            "C:\\Users\\user\\AppData\\Local\\Temp\\ipykernel_16648\\4028454450.py:15: FutureWarning: The default value of regex will change from True to False in a future version.\n",
            "  data.doc = data.doc.str.replace(\"\\s+\", \" \") # white space 삭제\n",
            "C:\\Users\\user\\AppData\\Local\\Temp\\ipykernel_16648\\4028454450.py:14: FutureWarning: The default value of regex will change from True to False in a future version.\n",
            "  data.doc = data.doc.str.replace(\"[^가-힣 ]\",\" \") # 한글만 남기고 특수문자, 숫자, 영어 삭제\n",
            "C:\\Users\\user\\AppData\\Local\\Temp\\ipykernel_16648\\4028454450.py:15: FutureWarning: The default value of regex will change from True to False in a future version.\n",
            "  data.doc = data.doc.str.replace(\"\\s+\", \" \") # white space 삭제\n",
            "C:\\Users\\user\\AppData\\Local\\Temp\\ipykernel_16648\\4028454450.py:14: FutureWarning: The default value of regex will change from True to False in a future version.\n",
            "  data.doc = data.doc.str.replace(\"[^가-힣 ]\",\" \") # 한글만 남기고 특수문자, 숫자, 영어 삭제\n",
            "C:\\Users\\user\\AppData\\Local\\Temp\\ipykernel_16648\\4028454450.py:15: FutureWarning: The default value of regex will change from True to False in a future version.\n",
            "  data.doc = data.doc.str.replace(\"\\s+\", \" \") # white space 삭제\n",
            "C:\\Users\\user\\AppData\\Local\\Temp\\ipykernel_16648\\4028454450.py:14: FutureWarning: The default value of regex will change from True to False in a future version.\n",
            "  data.doc = data.doc.str.replace(\"[^가-힣 ]\",\" \") # 한글만 남기고 특수문자, 숫자, 영어 삭제\n",
            "C:\\Users\\user\\AppData\\Local\\Temp\\ipykernel_16648\\4028454450.py:15: FutureWarning: The default value of regex will change from True to False in a future version.\n",
            "  data.doc = data.doc.str.replace(\"\\s+\", \" \") # white space 삭제\n",
            "C:\\Users\\user\\AppData\\Local\\Temp\\ipykernel_16648\\4028454450.py:14: FutureWarning: The default value of regex will change from True to False in a future version.\n",
            "  data.doc = data.doc.str.replace(\"[^가-힣 ]\",\" \") # 한글만 남기고 특수문자, 숫자, 영어 삭제\n",
            "C:\\Users\\user\\AppData\\Local\\Temp\\ipykernel_16648\\4028454450.py:15: FutureWarning: The default value of regex will change from True to False in a future version.\n",
            "  data.doc = data.doc.str.replace(\"\\s+\", \" \") # white space 삭제\n"
          ]
        }
      ],
      "source": [
        "all_data = pd.DataFrame()\n",
        "\n",
        "for name in name_list:\n",
        "    try: \n",
        "        data = pd.read_csv(f\"{name}.csv\", encoding='utf-8-sig')\n",
        "    except:\n",
        "        data = pd.read_csv(f\"{name}.csv\", encoding='cp949')\n",
        "    # 전처리\n",
        "    data.drop_duplicates(['text'],ignore_index=True, inplace=True) # 중복 제거\n",
        "    try:\n",
        "        data.columns = ['date', 'star','doc']\n",
        "    except:\n",
        "        data.columns = ['date', 'star','doc','name']\n",
        "    data.doc = data.doc.str.replace(\"[^가-힣 ]\",\" \") # 한글만 남기고 특수문자, 숫자, 영어 삭제\n",
        "    data.doc = data.doc.str.replace(\"\\s+\", \" \") # white space 삭제\n",
        "    data.doc = data.doc.str.replace(\"럽고목\",\"럽고 목\")\n",
        "    data.doc = data.doc.str.replace(\"부 드럽\",\"부드럽\")\n",
        "    data.doc = data.doc.str.replace(\"가성\", \"가성비\")\n",
        "    data.dropna(inplace=True)\n",
        "    data.reset_index(drop=True, inplace=True)\n",
        "    # globals()[\"감홍로 40도\"] 등으로 데이터 프레임 저장됨\n",
        "    globals()[f\"{name}\"] = data\n",
        "    all_data = pd.concat([all_data,data],axis=0)\n"
      ]
    },
    {
      "cell_type": "code",
      "execution_count": 230,
      "metadata": {
        "id": "cs2wG5044mjY",
        "outputId": "93c98046-bf87-49b5-a70f-e639c0f3da8e"
      },
      "outputs": [
        {
          "data": {
            "text/html": [
              "<div>\n",
              "<style scoped>\n",
              "    .dataframe tbody tr th:only-of-type {\n",
              "        vertical-align: middle;\n",
              "    }\n",
              "\n",
              "    .dataframe tbody tr th {\n",
              "        vertical-align: top;\n",
              "    }\n",
              "\n",
              "    .dataframe thead th {\n",
              "        text-align: right;\n",
              "    }\n",
              "</style>\n",
              "<table border=\"1\" class=\"dataframe\">\n",
              "  <thead>\n",
              "    <tr style=\"text-align: right;\">\n",
              "      <th></th>\n",
              "      <th>date</th>\n",
              "      <th>star</th>\n",
              "      <th>doc</th>\n",
              "      <th>name</th>\n",
              "    </tr>\n",
              "  </thead>\n",
              "  <tbody>\n",
              "    <tr>\n",
              "      <th>0</th>\n",
              "      <td>2022-11-12</td>\n",
              "      <td>5</td>\n",
              "      <td>몇 달 전에 맛보고 생각나 다시 구매한 술입니다그동안 술을 바꿔가며 여러 청주를 마...</td>\n",
              "      <td>NaN</td>\n",
              "    </tr>\n",
              "    <tr>\n",
              "      <th>1</th>\n",
              "      <td>2022-11-16</td>\n",
              "      <td>5</td>\n",
              "      <td>먼저 미안하게도 구매확정에 대해 인지하지 못해서 자동구매확정이 되었네요 개를 주문했...</td>\n",
              "      <td>NaN</td>\n",
              "    </tr>\n",
              "    <tr>\n",
              "      <th>2</th>\n",
              "      <td>2022-11-26</td>\n",
              "      <td>5</td>\n",
              "      <td>전통주도 종류별로 많고 맛도 다양해서 좋네요빠른배송과 꼼꼼한 포장으로 잘 받았습니다</td>\n",
              "      <td>NaN</td>\n",
              "    </tr>\n",
              "    <tr>\n",
              "      <th>3</th>\n",
              "      <td>2022-11-23</td>\n",
              "      <td>5</td>\n",
              "      <td>가족들하고 맛있게 잘 먹었어요술 잘 마시는 분들은 끝도없이 들어가겠어요</td>\n",
              "      <td>NaN</td>\n",
              "    </tr>\n",
              "    <tr>\n",
              "      <th>4</th>\n",
              "      <td>2022-11-26</td>\n",
              "      <td>5</td>\n",
              "      <td>막걸리 유통기한도 길고 포장도 엄청 꼼꼼히 해주셨어요 맛있어요</td>\n",
              "      <td>NaN</td>\n",
              "    </tr>\n",
              "    <tr>\n",
              "      <th>...</th>\n",
              "      <td>...</td>\n",
              "      <td>...</td>\n",
              "      <td>...</td>\n",
              "      <td>...</td>\n",
              "    </tr>\n",
              "    <tr>\n",
              "      <th>1611</th>\n",
              "      <td>2017-10-01</td>\n",
              "      <td>5</td>\n",
              "      <td>그냥 먹어도 그냥 물에 타 먹어도 그냥단 새롭다능</td>\n",
              "      <td>술샘 이화주 8도</td>\n",
              "    </tr>\n",
              "    <tr>\n",
              "      <th>1612</th>\n",
              "      <td>2017-09-18</td>\n",
              "      <td>5</td>\n",
              "      <td>아버지께서 벌써 반통 비우셨네요</td>\n",
              "      <td>술샘 이화주 8도</td>\n",
              "    </tr>\n",
              "    <tr>\n",
              "      <th>1613</th>\n",
              "      <td>2017-09-10</td>\n",
              "      <td>5</td>\n",
              "      <td>아버지선물로 드렸는데 좋아하시네요 좋습니다</td>\n",
              "      <td>술샘 이화주 8도</td>\n",
              "    </tr>\n",
              "    <tr>\n",
              "      <th>1614</th>\n",
              "      <td>2017-09-11</td>\n",
              "      <td>5</td>\n",
              "      <td>간강한 맛 좋네요</td>\n",
              "      <td>술샘 이화주 8도</td>\n",
              "    </tr>\n",
              "    <tr>\n",
              "      <th>1615</th>\n",
              "      <td>2017-09-07</td>\n",
              "      <td>5</td>\n",
              "      <td>배송도 빠르고 제품도 괜찮아요</td>\n",
              "      <td>술샘 이화주 8도</td>\n",
              "    </tr>\n",
              "  </tbody>\n",
              "</table>\n",
              "<p>5829 rows × 4 columns</p>\n",
              "</div>"
            ],
            "text/plain": [
              "            date  star                                                doc  \\\n",
              "0     2022-11-12     5  몇 달 전에 맛보고 생각나 다시 구매한 술입니다그동안 술을 바꿔가며 여러 청주를 마...   \n",
              "1     2022-11-16     5  먼저 미안하게도 구매확정에 대해 인지하지 못해서 자동구매확정이 되었네요 개를 주문했...   \n",
              "2     2022-11-26     5    전통주도 종류별로 많고 맛도 다양해서 좋네요빠른배송과 꼼꼼한 포장으로 잘 받았습니다    \n",
              "3     2022-11-23     5            가족들하고 맛있게 잘 먹었어요술 잘 마시는 분들은 끝도없이 들어가겠어요   \n",
              "4     2022-11-26     5                 막걸리 유통기한도 길고 포장도 엄청 꼼꼼히 해주셨어요 맛있어요   \n",
              "...          ...   ...                                                ...   \n",
              "1611  2017-10-01     5                        그냥 먹어도 그냥 물에 타 먹어도 그냥단 새롭다능   \n",
              "1612  2017-09-18     5                                 아버지께서 벌써 반통 비우셨네요    \n",
              "1613  2017-09-10     5                            아버지선물로 드렸는데 좋아하시네요 좋습니다   \n",
              "1614  2017-09-11     5                                          간강한 맛 좋네요   \n",
              "1615  2017-09-07     5                                   배송도 빠르고 제품도 괜찮아요   \n",
              "\n",
              "           name  \n",
              "0           NaN  \n",
              "1           NaN  \n",
              "2           NaN  \n",
              "3           NaN  \n",
              "4           NaN  \n",
              "...         ...  \n",
              "1611  술샘 이화주 8도  \n",
              "1612  술샘 이화주 8도  \n",
              "1613  술샘 이화주 8도  \n",
              "1614  술샘 이화주 8도  \n",
              "1615  술샘 이화주 8도  \n",
              "\n",
              "[5829 rows x 4 columns]"
            ]
          },
          "execution_count": 230,
          "metadata": {},
          "output_type": "execute_result"
        }
      ],
      "source": [
        "all_data"
      ]
    },
    {
      "cell_type": "code",
      "execution_count": 231,
      "metadata": {
        "id": "vsDwX1xL4mjZ"
      },
      "outputs": [
        {
          "name": "stderr",
          "output_type": "stream",
          "text": [
            "c:\\Users\\user\\AppData\\Local\\Programs\\Python\\Python38\\lib\\site-packages\\sklearn\\feature_extraction\\text.py:524: UserWarning: The parameter 'token_pattern' will not be used since 'tokenizer' is not None'\n",
            "  warnings.warn(\n"
          ]
        }
      ],
      "source": [
        "from sklearn.feature_extraction.text import TfidfVectorizer\n",
        "\n",
        "tfidf = TfidfVectorizer(tokenizer=okt_pos_tagging)\n",
        "tfidf_fit = tfidf.fit(all_data.doc)\n"
      ]
    },
    {
      "cell_type": "code",
      "execution_count": 232,
      "metadata": {},
      "outputs": [
        {
          "name": "stderr",
          "output_type": "stream",
          "text": [
            "c:\\Users\\user\\AppData\\Local\\Programs\\Python\\Python38\\lib\\site-packages\\sklearn\\utils\\deprecation.py:87: FutureWarning: Function get_feature_names is deprecated; get_feature_names is deprecated in 1.0 and will be removed in 1.2. Please use get_feature_names_out instead.\n",
            "  warnings.warn(msg, category=FutureWarning)\n"
          ]
        }
      ],
      "source": [
        "# 특징을 추출할 문서의 tf-idf를 구함\n",
        "# \"술 리뷰(복순도가)\" : 110,\"느린마을 막걸리\" : 130,\"술 리뷰(죽향도가)\" : 300\n",
        "a = \"청주_고헌정_동학1957_특선\"\n",
        "bow_rep_tfidf = tfidf_fit.transform(globals()[a].doc)\n",
        "word_count = pd.DataFrame({\n",
        "    '단어': tfidf.get_feature_names(),\n",
        "    'tf-idf': bow_rep_tfidf.sum(axis=0).flat,\n",
        "    'idf': tfidf.idf_\n",
        "})"
      ]
    },
    {
      "cell_type": "code",
      "execution_count": 233,
      "metadata": {},
      "outputs": [
        {
          "name": "stderr",
          "output_type": "stream",
          "text": [
            "C:\\Users\\user\\AppData\\Local\\Temp\\ipykernel_16648\\751632845.py:5: UserWarning: Boolean Series key will be reindexed to match DataFrame index.\n",
            "  word_count.sort_values('tf-idf',ascending=False).head(50)[word_count['idf']>3.5][word_count['tf-idf'] * (len(all_data)/len(globals()[a]))>50]\n"
          ]
        },
        {
          "data": {
            "text/html": [
              "<div>\n",
              "<style scoped>\n",
              "    .dataframe tbody tr th:only-of-type {\n",
              "        vertical-align: middle;\n",
              "    }\n",
              "\n",
              "    .dataframe tbody tr th {\n",
              "        vertical-align: top;\n",
              "    }\n",
              "\n",
              "    .dataframe thead th {\n",
              "        text-align: right;\n",
              "    }\n",
              "</style>\n",
              "<table border=\"1\" class=\"dataframe\">\n",
              "  <thead>\n",
              "    <tr style=\"text-align: right;\">\n",
              "      <th></th>\n",
              "      <th>단어</th>\n",
              "      <th>tf-idf</th>\n",
              "      <th>idf</th>\n",
              "    </tr>\n",
              "  </thead>\n",
              "  <tbody>\n",
              "    <tr>\n",
              "      <th>1539</th>\n",
              "      <td>부드럽다</td>\n",
              "      <td>66.150791</td>\n",
              "      <td>3.526587</td>\n",
              "    </tr>\n",
              "    <tr>\n",
              "      <th>1688</th>\n",
              "      <td>사케</td>\n",
              "      <td>15.161386</td>\n",
              "      <td>5.576428</td>\n",
              "    </tr>\n",
              "    <tr>\n",
              "      <th>20</th>\n",
              "      <td>가볍다</td>\n",
              "      <td>13.543217</td>\n",
              "      <td>5.576428</td>\n",
              "    </tr>\n",
              "  </tbody>\n",
              "</table>\n",
              "</div>"
            ],
            "text/plain": [
              "        단어     tf-idf       idf\n",
              "1539  부드럽다  66.150791  3.526587\n",
              "1688    사케  15.161386  5.576428\n",
              "20     가볍다  13.543217  5.576428"
            ]
          },
          "execution_count": 233,
          "metadata": {},
          "output_type": "execute_result"
        }
      ],
      "source": [
        "# idf 가 높을수록 잘 안나오는 단어\n",
        "# tf-idf 가 높을수록 중요한 단어\n",
        "# 두값을 적절히 조정해서 특징 추출\n",
        "\n",
        "word_count.sort_values('tf-idf',ascending=False).head(50)[word_count['idf']>3.5][word_count['tf-idf'] * (len(all_data)/len(globals()[a]))>50]"
      ]
    },
    {
      "cell_type": "code",
      "execution_count": 234,
      "metadata": {},
      "outputs": [
        {
          "name": "stderr",
          "output_type": "stream",
          "text": [
            "c:\\Users\\user\\AppData\\Local\\Programs\\Python\\Python38\\lib\\site-packages\\sklearn\\utils\\deprecation.py:87: FutureWarning: Function get_feature_names is deprecated; get_feature_names is deprecated in 1.0 and will be removed in 1.2. Please use get_feature_names_out instead.\n",
            "  warnings.warn(msg, category=FutureWarning)\n",
            "C:\\Users\\user\\AppData\\Local\\Temp\\ipykernel_16648\\2793170590.py:12: UserWarning: Boolean Series key will be reindexed to match DataFrame index.\n",
            "  df = word_count.sort_values('tf-idf',ascending=False).head(50)[word_count['idf']>3.5][word_count['tf-idf'] * (len(all_data)/len(globals()[a[i]]))>50]\n",
            "C:\\Users\\user\\AppData\\Local\\Temp\\ipykernel_16648\\2793170590.py:14: UserWarning: Boolean Series key will be reindexed to match DataFrame index.\n",
            "  word_count.sort_values('tf-idf',ascending=False).head(50)[word_count['idf']>3.5][word_count['tf-idf'] * (len(all_data)/len(globals()[a[i]]))>50].to_csv(f'청주_모주_특징{i}.csv')\n"
          ]
        },
        {
          "data": {
            "text/plain": [
              "['부드럽다', '사케', '가볍다']"
            ]
          },
          "execution_count": 234,
          "metadata": {},
          "output_type": "execute_result"
        }
      ],
      "source": [
        "a = [\"청주_고헌정_동학1957_특선\",\"청주_양촌양조_무농약_우렁이쌀\",\"청주_오메기맑은술\",\"청주_우포의아침\",\"탁주_모주\",\"탁주_이화주\"]\n",
        "Tags = {\"donghak\": [],\"yangchon\": [],\"omegi\": [],\"upo\": [],\"moju\": [],\"ihwa\": []}\n",
        "keys = [\"donghak\",\"yangchon\",\"omegi\",\"upo\",\"moju\",\"ihwa\"]\n",
        "for i in range(len(a)):\n",
        "    bow_rep_tfidf = tfidf_fit.transform(globals()[a[i]].doc)\n",
        "    word_count = pd.DataFrame({\n",
        "        '단어': tfidf.get_feature_names(),\n",
        "        'tf-idf': bow_rep_tfidf.sum(axis=0).flat,\n",
        "        'idf': tfidf.idf_\n",
        "    })\n",
        "    \n",
        "    df = word_count.sort_values('tf-idf',ascending=False).head(50)[word_count['idf']>3.5][word_count['tf-idf'] * (len(all_data)/len(globals()[a[i]]))>50]\n",
        "\n",
        "    word_count.sort_values('tf-idf',ascending=False).head(50)[word_count['idf']>3.5][word_count['tf-idf'] * (len(all_data)/len(globals()[a[i]]))>50].to_csv(f'청주_모주_특징{i}.csv')\n",
        "\n",
        "    # for i in range(len(Tags)):\n",
        "    for j in df['단어']:\n",
        "        Tags[keys[i]].append(j)\n",
        "Tags['donghak']"
      ]
    },
    {
      "cell_type": "code",
      "execution_count": 235,
      "metadata": {},
      "outputs": [],
      "source": [
        "# # 특징을 추출할 문서의 tf-idf를 구함\n",
        "# # a = [\"술 리뷰(복순도가)\",\"느린마을 막걸리\",\"술 리뷰(죽향도가)\"]\n",
        "# # Tags = {\"boksundoga\": [],\"maeul\": [],\"jukhyang\": []}\n",
        "# # keys = [\"boksundoga\",\"maeul\",\"jukhyang\"]\n",
        "\n",
        "# a = [\"금이산농원_복숭아와인\",\"덕유양조_산머루주\",\"배상면주가_빙탄복\",\"산내들_소백산스위트와인\",\"컨츄리와인_영동포도와인\"]\n",
        "# Tags = {\"nongwon\": [],\"duckyang\": [],\"baesang\": [],\"sobak\": [],\"yungdong\": []}\n",
        "# keys = [\"nongwon\",\"duckyang\",\"baesang\",\"sobak\",\"yungdong\"]\n",
        "# for i in range(len(a)):\n",
        "#     bow_rep_tfidf = tfidf_fit.transform(globals()[a[i]].doc)\n",
        "#     word_count = pd.DataFrame({\n",
        "#         '단어': tfidf.get_feature_names(),\n",
        "#         'tf-idf': bow_rep_tfidf.sum(axis=0).flat,\n",
        "#         'idf': tfidf.idf_\n",
        "#     })\n",
        "    \n",
        "#     df = word_count.sort_values('tf-idf',ascending=False).head(50)[word_count['idf']>3.5][word_count['tf-idf'] * (len(all_data)/len(globals()[a[i]]))>110]\n",
        "\n",
        "#     word_count.sort_values('tf-idf',ascending=False).head(50)[word_count['idf']>3.5][word_count['tf-idf'] * (len(all_data)/len(globals()[a[i]]))>110].to_csv(f'과실주_특징{i}.csv')\n",
        "\n",
        "#     # for i in range(len(Tags)):\n",
        "#     for j in df['단어']:\n",
        "#         Tags[keys[i]].append(j)\n",
        "# Tags['nongwon']"
      ]
    },
    {
      "cell_type": "code",
      "execution_count": 236,
      "metadata": {},
      "outputs": [
        {
          "data": {
            "text/plain": [
              "['부드럽다', '약주', '백세주']"
            ]
          },
          "execution_count": 236,
          "metadata": {},
          "output_type": "execute_result"
        }
      ],
      "source": [
        "Tags['yangchon']"
      ]
    },
    {
      "cell_type": "code",
      "execution_count": 237,
      "metadata": {},
      "outputs": [
        {
          "data": {
            "text/html": [
              "<div>\n",
              "<style scoped>\n",
              "    .dataframe tbody tr th:only-of-type {\n",
              "        vertical-align: middle;\n",
              "    }\n",
              "\n",
              "    .dataframe tbody tr th {\n",
              "        vertical-align: top;\n",
              "    }\n",
              "\n",
              "    .dataframe thead th {\n",
              "        text-align: right;\n",
              "    }\n",
              "</style>\n",
              "<table border=\"1\" class=\"dataframe\">\n",
              "  <thead>\n",
              "    <tr style=\"text-align: right;\">\n",
              "      <th></th>\n",
              "      <th>단어</th>\n",
              "      <th>tf-idf</th>\n",
              "      <th>idf</th>\n",
              "    </tr>\n",
              "  </thead>\n",
              "  <tbody>\n",
              "    <tr>\n",
              "      <th>0</th>\n",
              "      <td>부드럽다</td>\n",
              "      <td>66.150791</td>\n",
              "      <td>3.526587</td>\n",
              "    </tr>\n",
              "    <tr>\n",
              "      <th>1</th>\n",
              "      <td>사케</td>\n",
              "      <td>15.161386</td>\n",
              "      <td>5.576428</td>\n",
              "    </tr>\n",
              "    <tr>\n",
              "      <th>2</th>\n",
              "      <td>가볍다</td>\n",
              "      <td>13.543217</td>\n",
              "      <td>5.576428</td>\n",
              "    </tr>\n",
              "  </tbody>\n",
              "</table>\n",
              "</div>"
            ],
            "text/plain": [
              "     단어     tf-idf       idf\n",
              "0  부드럽다  66.150791  3.526587\n",
              "1    사케  15.161386  5.576428\n",
              "2   가볍다  13.543217  5.576428"
            ]
          },
          "execution_count": 237,
          "metadata": {},
          "output_type": "execute_result"
        }
      ],
      "source": [
        "df0 = pd.read_csv('청주_모주_특징0.csv')\n",
        "del df0['Unnamed: 0']\n",
        "df1 = pd.read_csv('청주_모주_특징1.csv')\n",
        "del df1['Unnamed: 0']\n",
        "df2 = pd.read_csv('청주_모주_특징2.csv')\n",
        "del df2['Unnamed: 0']\n",
        "df3 = pd.read_csv('청주_모주_특징3.csv')\n",
        "del df3['Unnamed: 0']\n",
        "df4 = pd.read_csv('청주_모주_특징4.csv')\n",
        "del df4['Unnamed: 0']\n",
        "df5 = pd.read_csv('청주_모주_특징5.csv')\n",
        "del df5['Unnamed: 0']\n",
        "\n",
        "df0"
      ]
    },
    {
      "cell_type": "code",
      "execution_count": 238,
      "metadata": {},
      "outputs": [
        {
          "data": {
            "text/html": [
              "<div>\n",
              "<style scoped>\n",
              "    .dataframe tbody tr th:only-of-type {\n",
              "        vertical-align: middle;\n",
              "    }\n",
              "\n",
              "    .dataframe tbody tr th {\n",
              "        vertical-align: top;\n",
              "    }\n",
              "\n",
              "    .dataframe thead th {\n",
              "        text-align: right;\n",
              "    }\n",
              "</style>\n",
              "<table border=\"1\" class=\"dataframe\">\n",
              "  <thead>\n",
              "    <tr style=\"text-align: right;\">\n",
              "      <th></th>\n",
              "      <th>단어</th>\n",
              "      <th>tf-idf</th>\n",
              "      <th>idf</th>\n",
              "    </tr>\n",
              "  </thead>\n",
              "  <tbody>\n",
              "    <tr>\n",
              "      <th>0</th>\n",
              "      <td>부드럽다</td>\n",
              "      <td>29.231682</td>\n",
              "      <td>3.526587</td>\n",
              "    </tr>\n",
              "    <tr>\n",
              "      <th>1</th>\n",
              "      <td>약주</td>\n",
              "      <td>8.582859</td>\n",
              "      <td>5.933103</td>\n",
              "    </tr>\n",
              "    <tr>\n",
              "      <th>2</th>\n",
              "      <td>백세주</td>\n",
              "      <td>5.590365</td>\n",
              "      <td>7.031715</td>\n",
              "    </tr>\n",
              "  </tbody>\n",
              "</table>\n",
              "</div>"
            ],
            "text/plain": [
              "     단어     tf-idf       idf\n",
              "0  부드럽다  29.231682  3.526587\n",
              "1    약주   8.582859  5.933103\n",
              "2   백세주   5.590365  7.031715"
            ]
          },
          "execution_count": 238,
          "metadata": {},
          "output_type": "execute_result"
        }
      ],
      "source": [
        "df1"
      ]
    },
    {
      "cell_type": "code",
      "execution_count": 239,
      "metadata": {},
      "outputs": [
        {
          "data": {
            "text/html": [
              "<div>\n",
              "<style scoped>\n",
              "    .dataframe tbody tr th:only-of-type {\n",
              "        vertical-align: middle;\n",
              "    }\n",
              "\n",
              "    .dataframe tbody tr th {\n",
              "        vertical-align: top;\n",
              "    }\n",
              "\n",
              "    .dataframe thead th {\n",
              "        text-align: right;\n",
              "    }\n",
              "</style>\n",
              "<table border=\"1\" class=\"dataframe\">\n",
              "  <thead>\n",
              "    <tr style=\"text-align: right;\">\n",
              "      <th></th>\n",
              "      <th>단어</th>\n",
              "      <th>tf-idf</th>\n",
              "      <th>idf</th>\n",
              "    </tr>\n",
              "  </thead>\n",
              "  <tbody>\n",
              "    <tr>\n",
              "      <th>0</th>\n",
              "      <td>부드럽다</td>\n",
              "      <td>55.320974</td>\n",
              "      <td>3.526587</td>\n",
              "    </tr>\n",
              "    <tr>\n",
              "      <th>1</th>\n",
              "      <td>제주도</td>\n",
              "      <td>22.094058</td>\n",
              "      <td>5.700480</td>\n",
              "    </tr>\n",
              "    <tr>\n",
              "      <th>2</th>\n",
              "      <td>와인</td>\n",
              "      <td>20.280304</td>\n",
              "      <td>5.758749</td>\n",
              "    </tr>\n",
              "    <tr>\n",
              "      <th>3</th>\n",
              "      <td>화이트와인</td>\n",
              "      <td>15.087080</td>\n",
              "      <td>5.981893</td>\n",
              "    </tr>\n",
              "    <tr>\n",
              "      <th>4</th>\n",
              "      <td>단맛</td>\n",
              "      <td>12.816981</td>\n",
              "      <td>5.055652</td>\n",
              "    </tr>\n",
              "  </tbody>\n",
              "</table>\n",
              "</div>"
            ],
            "text/plain": [
              "      단어     tf-idf       idf\n",
              "0   부드럽다  55.320974  3.526587\n",
              "1    제주도  22.094058  5.700480\n",
              "2     와인  20.280304  5.758749\n",
              "3  화이트와인  15.087080  5.981893\n",
              "4     단맛  12.816981  5.055652"
            ]
          },
          "execution_count": 239,
          "metadata": {},
          "output_type": "execute_result"
        }
      ],
      "source": [
        "df2"
      ]
    },
    {
      "cell_type": "code",
      "execution_count": 240,
      "metadata": {},
      "outputs": [
        {
          "data": {
            "text/html": [
              "<div>\n",
              "<style scoped>\n",
              "    .dataframe tbody tr th:only-of-type {\n",
              "        vertical-align: middle;\n",
              "    }\n",
              "\n",
              "    .dataframe tbody tr th {\n",
              "        vertical-align: top;\n",
              "    }\n",
              "\n",
              "    .dataframe thead th {\n",
              "        text-align: right;\n",
              "    }\n",
              "</style>\n",
              "<table border=\"1\" class=\"dataframe\">\n",
              "  <thead>\n",
              "    <tr style=\"text-align: right;\">\n",
              "      <th></th>\n",
              "      <th>단어</th>\n",
              "      <th>tf-idf</th>\n",
              "      <th>idf</th>\n",
              "    </tr>\n",
              "  </thead>\n",
              "  <tbody>\n",
              "    <tr>\n",
              "      <th>0</th>\n",
              "      <td>부드럽다</td>\n",
              "      <td>21.910287</td>\n",
              "      <td>3.526587</td>\n",
              "    </tr>\n",
              "    <tr>\n",
              "      <th>1</th>\n",
              "      <td>사케</td>\n",
              "      <td>9.315562</td>\n",
              "      <td>5.576428</td>\n",
              "    </tr>\n",
              "    <tr>\n",
              "      <th>2</th>\n",
              "      <td>가볍다</td>\n",
              "      <td>4.645555</td>\n",
              "      <td>5.576428</td>\n",
              "    </tr>\n",
              "    <tr>\n",
              "      <th>3</th>\n",
              "      <td>따뜻하다</td>\n",
              "      <td>4.117553</td>\n",
              "      <td>6.780401</td>\n",
              "    </tr>\n",
              "  </tbody>\n",
              "</table>\n",
              "</div>"
            ],
            "text/plain": [
              "     단어     tf-idf       idf\n",
              "0  부드럽다  21.910287  3.526587\n",
              "1    사케   9.315562  5.576428\n",
              "2   가볍다   4.645555  5.576428\n",
              "3  따뜻하다   4.117553  6.780401"
            ]
          },
          "execution_count": 240,
          "metadata": {},
          "output_type": "execute_result"
        }
      ],
      "source": [
        "df3"
      ]
    },
    {
      "cell_type": "code",
      "execution_count": 241,
      "metadata": {},
      "outputs": [
        {
          "data": {
            "text/html": [
              "<div>\n",
              "<style scoped>\n",
              "    .dataframe tbody tr th:only-of-type {\n",
              "        vertical-align: middle;\n",
              "    }\n",
              "\n",
              "    .dataframe tbody tr th {\n",
              "        vertical-align: top;\n",
              "    }\n",
              "\n",
              "    .dataframe thead th {\n",
              "        text-align: right;\n",
              "    }\n",
              "</style>\n",
              "<table border=\"1\" class=\"dataframe\">\n",
              "  <thead>\n",
              "    <tr style=\"text-align: right;\">\n",
              "      <th></th>\n",
              "      <th>단어</th>\n",
              "      <th>tf-idf</th>\n",
              "      <th>idf</th>\n",
              "    </tr>\n",
              "  </thead>\n",
              "  <tbody>\n",
              "    <tr>\n",
              "      <th>0</th>\n",
              "      <td>음료</td>\n",
              "      <td>9.514760</td>\n",
              "      <td>6.626250</td>\n",
              "    </tr>\n",
              "    <tr>\n",
              "      <th>1</th>\n",
              "      <td>막걸리</td>\n",
              "      <td>5.171283</td>\n",
              "      <td>3.859631</td>\n",
              "    </tr>\n",
              "    <tr>\n",
              "      <th>2</th>\n",
              "      <td>음료수</td>\n",
              "      <td>4.782423</td>\n",
              "      <td>7.368187</td>\n",
              "    </tr>\n",
              "    <tr>\n",
              "      <th>3</th>\n",
              "      <td>진하다</td>\n",
              "      <td>3.594269</td>\n",
              "      <td>5.527638</td>\n",
              "    </tr>\n",
              "    <tr>\n",
              "      <th>4</th>\n",
              "      <td>낮다</td>\n",
              "      <td>3.158810</td>\n",
              "      <td>6.675040</td>\n",
              "    </tr>\n",
              "  </tbody>\n",
              "</table>\n",
              "</div>"
            ],
            "text/plain": [
              "    단어    tf-idf       idf\n",
              "0   음료  9.514760  6.626250\n",
              "1  막걸리  5.171283  3.859631\n",
              "2  음료수  4.782423  7.368187\n",
              "3  진하다  3.594269  5.527638\n",
              "4   낮다  3.158810  6.675040"
            ]
          },
          "execution_count": 241,
          "metadata": {},
          "output_type": "execute_result"
        }
      ],
      "source": [
        "df4"
      ]
    },
    {
      "cell_type": "code",
      "execution_count": 242,
      "metadata": {},
      "outputs": [
        {
          "data": {
            "text/html": [
              "<div>\n",
              "<style scoped>\n",
              "    .dataframe tbody tr th:only-of-type {\n",
              "        vertical-align: middle;\n",
              "    }\n",
              "\n",
              "    .dataframe tbody tr th {\n",
              "        vertical-align: top;\n",
              "    }\n",
              "\n",
              "    .dataframe thead th {\n",
              "        text-align: right;\n",
              "    }\n",
              "</style>\n",
              "<table border=\"1\" class=\"dataframe\">\n",
              "  <thead>\n",
              "    <tr style=\"text-align: right;\">\n",
              "      <th></th>\n",
              "      <th>단어</th>\n",
              "      <th>tf-idf</th>\n",
              "      <th>idf</th>\n",
              "    </tr>\n",
              "  </thead>\n",
              "  <tbody>\n",
              "    <tr>\n",
              "      <th>0</th>\n",
              "      <td>막걸리</td>\n",
              "      <td>91.091134</td>\n",
              "      <td>3.859631</td>\n",
              "    </tr>\n",
              "    <tr>\n",
              "      <th>1</th>\n",
              "      <td>요거트</td>\n",
              "      <td>51.397384</td>\n",
              "      <td>4.694039</td>\n",
              "    </tr>\n",
              "    <tr>\n",
              "      <th>2</th>\n",
              "      <td>특이하다</td>\n",
              "      <td>31.341199</td>\n",
              "      <td>5.511889</td>\n",
              "    </tr>\n",
              "    <tr>\n",
              "      <th>3</th>\n",
              "      <td>부드럽다</td>\n",
              "      <td>26.270160</td>\n",
              "      <td>3.526587</td>\n",
              "    </tr>\n",
              "    <tr>\n",
              "      <th>4</th>\n",
              "      <td>색다르다</td>\n",
              "      <td>21.216747</td>\n",
              "      <td>5.981893</td>\n",
              "    </tr>\n",
              "    <tr>\n",
              "      <th>5</th>\n",
              "      <td>과일</td>\n",
              "      <td>20.386697</td>\n",
              "      <td>5.466080</td>\n",
              "    </tr>\n",
              "    <tr>\n",
              "      <th>6</th>\n",
              "      <td>딸기</td>\n",
              "      <td>16.034749</td>\n",
              "      <td>6.205036</td>\n",
              "    </tr>\n",
              "    <tr>\n",
              "      <th>7</th>\n",
              "      <td>새롭다</td>\n",
              "      <td>16.031006</td>\n",
              "      <td>5.933103</td>\n",
              "    </tr>\n",
              "    <tr>\n",
              "      <th>8</th>\n",
              "      <td>독특하다</td>\n",
              "      <td>14.714407</td>\n",
              "      <td>6.059854</td>\n",
              "    </tr>\n",
              "  </tbody>\n",
              "</table>\n",
              "</div>"
            ],
            "text/plain": [
              "     단어     tf-idf       idf\n",
              "0   막걸리  91.091134  3.859631\n",
              "1   요거트  51.397384  4.694039\n",
              "2  특이하다  31.341199  5.511889\n",
              "3  부드럽다  26.270160  3.526587\n",
              "4  색다르다  21.216747  5.981893\n",
              "5    과일  20.386697  5.466080\n",
              "6    딸기  16.034749  6.205036\n",
              "7   새롭다  16.031006  5.933103\n",
              "8  독특하다  14.714407  6.059854"
            ]
          },
          "execution_count": 242,
          "metadata": {},
          "output_type": "execute_result"
        }
      ],
      "source": [
        "df5"
      ]
    },
    {
      "cell_type": "code",
      "execution_count": 243,
      "metadata": {},
      "outputs": [],
      "source": [
        "def getHashTagString(list_of_tags):\n",
        "\thashTagString = \"\"\n",
        "\n",
        "\tfor tag in list_of_tags:\n",
        "\t\thashTagString += \" #\" + tag\n",
        "\n",
        "\treturn hashTagString"
      ]
    },
    {
      "cell_type": "code",
      "execution_count": 244,
      "metadata": {},
      "outputs": [
        {
          "data": {
            "text/plain": [
              "['부드럽다', '사케', '가볍다']"
            ]
          },
          "execution_count": 244,
          "metadata": {},
          "output_type": "execute_result"
        }
      ],
      "source": [
        "Tags['donghak']"
      ]
    },
    {
      "cell_type": "code",
      "execution_count": 245,
      "metadata": {},
      "outputs": [
        {
          "data": {
            "text/plain": [
              "'#부드럽다 #사케 #가볍다'"
            ]
          },
          "execution_count": 245,
          "metadata": {},
          "output_type": "execute_result"
        }
      ],
      "source": [
        "getHashTagString(Tags['donghak'][0:3])[:].strip()"
      ]
    },
    {
      "cell_type": "code",
      "execution_count": 246,
      "metadata": {},
      "outputs": [
        {
          "data": {
            "text/plain": [
              "'#부드럽다 #약주 #백세주'"
            ]
          },
          "execution_count": 246,
          "metadata": {},
          "output_type": "execute_result"
        }
      ],
      "source": [
        "getHashTagString(Tags['yangchon'][0:3])[:].strip()"
      ]
    },
    {
      "cell_type": "code",
      "execution_count": 247,
      "metadata": {},
      "outputs": [
        {
          "data": {
            "text/plain": [
              "'#부드럽다 #제주도 #와인'"
            ]
          },
          "execution_count": 247,
          "metadata": {},
          "output_type": "execute_result"
        }
      ],
      "source": [
        "getHashTagString(Tags['omegi'][0:3])[:].strip()"
      ]
    },
    {
      "cell_type": "code",
      "execution_count": 248,
      "metadata": {},
      "outputs": [
        {
          "data": {
            "text/plain": [
              "'#부드럽다 #사케 #가볍다'"
            ]
          },
          "execution_count": 248,
          "metadata": {},
          "output_type": "execute_result"
        }
      ],
      "source": [
        "getHashTagString(Tags['upo'][0:3])[:].strip()"
      ]
    },
    {
      "cell_type": "code",
      "execution_count": 249,
      "metadata": {},
      "outputs": [
        {
          "data": {
            "text/plain": [
              "'#음료 #막걸리 #음료수'"
            ]
          },
          "execution_count": 249,
          "metadata": {},
          "output_type": "execute_result"
        }
      ],
      "source": [
        "getHashTagString(Tags['moju'][0:3])[:].strip()"
      ]
    },
    {
      "cell_type": "code",
      "execution_count": 250,
      "metadata": {},
      "outputs": [
        {
          "data": {
            "text/plain": [
              "'#막걸리 #요거트 #특이하다'"
            ]
          },
          "execution_count": 250,
          "metadata": {},
          "output_type": "execute_result"
        }
      ],
      "source": [
        "getHashTagString(Tags['ihwa'][0:3])[:].strip()"
      ]
    },
    {
      "cell_type": "code",
      "execution_count": null,
      "metadata": {},
      "outputs": [],
      "source": []
    }
  ],
  "metadata": {
    "colab": {
      "provenance": []
    },
    "kernelspec": {
      "display_name": "Python 3.8.9 64-bit",
      "language": "python",
      "name": "python3"
    },
    "language_info": {
      "codemirror_mode": {
        "name": "ipython",
        "version": 3
      },
      "file_extension": ".py",
      "mimetype": "text/x-python",
      "name": "python",
      "nbconvert_exporter": "python",
      "pygments_lexer": "ipython3",
      "version": "3.8.9"
    },
    "orig_nbformat": 4,
    "vscode": {
      "interpreter": {
        "hash": "6a926afa313b26ae1264fdcf81c726a97e69f6ba2ba780f6aa901948710f8d6e"
      }
    }
  },
  "nbformat": 4,
  "nbformat_minor": 0
}
