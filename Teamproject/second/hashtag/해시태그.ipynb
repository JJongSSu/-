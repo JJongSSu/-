{
  "cells": [
    {
      "cell_type": "code",
      "execution_count": 45,
      "metadata": {
        "id": "OZ_13Uv94mjU"
      },
      "outputs": [],
      "source": [
        "import pandas as pd\n",
        "import numpy as np\n",
        "from modules import *\n",
        "from nltk.corpus import stopwords\n",
        "from nltk.stem.porter import *\n",
        "from nltk import word_tokenize\n",
        "from konlpy.tag import Okt\n",
        "from nltk.util import everygrams"
      ]
    },
    {
      "cell_type": "code",
      "execution_count": 46,
      "metadata": {
        "id": "nFTBbcRb4mjX"
      },
      "outputs": [],
      "source": [
        "#원하는 태그 추출 & 불용어 제거\n",
        "okt = Okt()\n",
        "\n",
        "#불용어\n",
        "stopwords = pd.read_csv('ko-stopwords.csv') #한국어불용어사전 불러오기\n",
        "stopwords=list(stopwords['stopwords']) \n",
        "stopwords.extend(['에서','고','이다','는','한','씨', \"것\",\"거\",\"게\",\"데\",\"이다\",\"건\",\"고\",\"되다\",\"되어다\",\"걸\",\"기\",\n",
        "                  \"시\",\"네\",\"듯\",\"랍니\",\"중이\",\"얘\",\"스\",\"도도\", \"나\",\"수\",\"개\",\"내\",\"기\",\"제\",\"저\",\"인\",\"있다\",\"이렇다\",\n",
        "                  \"그렇다\",\"번\",\"위\",\"팅\",\"분\",\"인\",\"링\",\"란\",\"포\",\"두\", \"진짜\", \"하다\" ,\"이다\" ,\"가다\", \"이제\" ,\"들다\",\n",
        "                 '에서','고','이다','젛','뇨','껀데','뭘'\n",
        "                 ,'최고','느리다','마을','최고','항상','포장','재다','말다','목','넘김','만족하다','정말','역시','아주','감사하다','오다','자주','요','늘','넘다','않다','더','병','다','숙성','나다','술','드리다','마트','꼼꼼하다','잇다'\n",
        "                 ,'복','순도','용','비싸다','가격','많다','강하다','보내다','추천','보고','쏘다','느낌','사다','처음','많이','톡','생각','엄청','날','아니다'\n",
        "                 ,'믿다', '구입', '사먹다', '한번', '싶다', '콤', '완전', '제품', '재', '해주다', '말', '사람','특별하다','언제나','빨르다','두번째','전','계속','달'\n",
        "                 ,'추석', '인생', '최애', '명절', '해', '중', '생각나다', '시원하다', '다르다', '알다', '가족', '정도', '기대', '친구', '괜찮다', '부모님', '지인', '아직'\n",
        "                 ,'만족스럽다', '빼다', '상품', '굿', '못', '도', '기분', '다시', '주다', '즐기다', '맞다', '맛보다', '제일', '집', '입맛', '모르다', '먹기'\n",
        "                 ,'조심하다', '따다', '차다', '엄마', '예정', '만족', '감', '일반', '파다', '막', '근데', '별로', '적당하다','예전', '가끔', '유명하다', '만', '뚜껑', '매우', '기대하다', '의사', '한잔', '신선하다', '느끼다', '그냥', '아쉽다'\n",
        "                 ,'오픈', '쎄다', '여자', '호불호', '꼭', '벌써', '버리다', '이렇게', '돼다', '크다', '느껴지다','고급', '종종', '어울리다', '알', '남편', '빨리', '어른', '소문', '아버지', '마시기', '할인', '살다' \n",
        "                 ,'풍부하다', '모임', '해드리다', '빠지다', '나서다', '원래', '아빠', '걸리다', '안', '도착', '없이'\n",
        "                 ,'하루', '딱이다', '상태', '향', '후', '설', '주변', '사서', '때문', '반하다', '연말'\n",
        "                 ,'해봤다', '강추', '찾다', '자꾸', '살짝', '몇번', '빨', '요즘', '신세계', '사진', '생일'\n",
        "                 ,'빠르다', '자다', '구매', '마시다', '받다', '보다', '없다', '새다', '숙취', '아스파탐', '대포', '넘어가다','주가'\n",
        "                 ,'지나다', '무', '머리', '편하다', '아프다', '두다', '인터넷', '택배', '숙성하다', '일주일', '봄', '배달', '만들다', '애용', '냉장고' \n",
        "                 ,'여름', '잔', '앞', '며칠', '팔다', '달라지다', '가장', '변하다', '번창', '안전하다', '젤', '배상면', '건강하다', '굿굿'\n",
        "                 ,'따르다', '이용', '확실하다', '날짜', '시중', '들어가다', '첨가', '유통', '아이스팩', '제조', '넣다', '생', '다양하다','종류','들어가다','전통주','마켓','술술','후기','사보다','부담','여러가지','리뷰','블루'\n",
        "                 ,'인기','궁금하다','대상','무난','취향','적다','단','평이','이용','터지다','맘'\n",
        "                 ]\n",
        "                 +'달다 시큼하다 달달 선물 깔끔하다 뒤 비비 이 있 하 것 들 그 되 수 이 보 않 없 나 사람 주 아니 등 같 우리 때 년 가 한 지 대하 오 말 일 그렇 위하 기한 달라 첫날 첨 주말 걱정 전이 이유 해보다 저번 보지 함 기대다 상 비 베스트 도수 음 존맛 개인'.split()\n",
        "                 ) #불용어 추가\n",
        "stopwords=set(stopwords) # 중복제거    \n",
        "\n",
        "# 형태소 분석 함수 만들기\n",
        "def okt_pos_tagging2(string):\n",
        "    pos_words = okt.pos(string, stem=True, norm=True) # 형태소 분석. 단어는 사전형으로 바꿔주기\n",
        "    words = [word for word, tag in pos_words if tag \n",
        "             in ['Noun', 'Adjective', 'Verb','Adverb'] if word not in stopwords ]\n",
        "\n",
        "    # n_gram 만들기\n",
        "    egram = list(everygrams(words, min_len=1, max_len=1))\n",
        "    egram_token = [' '.join(grams) for grams in egram]\n",
        "\n",
        "    return egram_token\n",
        "\n",
        "def okt_pos_tagging(string):\n",
        "    pos_words = okt.pos(string, stem=True, norm=True) # 형태소 분석. 단어는 사전형으로 바꿔주기\n",
        "    words = [word for word, tag in pos_words if tag \n",
        "             in ['Noun', 'Adjective', 'Verb','Adverb'] if word not in stopwords ]\n",
        "\n",
        "    return words\n"
      ]
    },
    {
      "cell_type": "code",
      "execution_count": 47,
      "metadata": {
        "id": "WWpn8EJ14mjX"
      },
      "outputs": [],
      "source": [
        "# 불러올 csv 이름 리스트\n",
        "# 전체 리뷰를 불러온후 tf-idf 분석\n",
        "name_list =[\"술 리뷰(복순도가)\",\"느린마을 막걸리\",\"술 리뷰(죽향도가)\"]"
      ]
    },
    {
      "cell_type": "code",
      "execution_count": 48,
      "metadata": {
        "id": "TTgVNZWu4mjY"
      },
      "outputs": [
        {
          "name": "stderr",
          "output_type": "stream",
          "text": [
            "C:\\Users\\user\\AppData\\Local\\Temp\\ipykernel_22420\\421399407.py:11: FutureWarning: The default value of regex will change from True to False in a future version.\n",
            "  data.doc = data.doc.str.replace(\"[^가-힣 ]\",\" \") # 한글만 남기고 특수문자, 숫자, 영어 삭제\n",
            "C:\\Users\\user\\AppData\\Local\\Temp\\ipykernel_22420\\421399407.py:12: FutureWarning: The default value of regex will change from True to False in a future version.\n",
            "  data.doc = data.doc.str.replace(\"\\s+\", \" \") # white space 삭제\n",
            "C:\\Users\\user\\AppData\\Local\\Temp\\ipykernel_22420\\421399407.py:11: FutureWarning: The default value of regex will change from True to False in a future version.\n",
            "  data.doc = data.doc.str.replace(\"[^가-힣 ]\",\" \") # 한글만 남기고 특수문자, 숫자, 영어 삭제\n",
            "C:\\Users\\user\\AppData\\Local\\Temp\\ipykernel_22420\\421399407.py:12: FutureWarning: The default value of regex will change from True to False in a future version.\n",
            "  data.doc = data.doc.str.replace(\"\\s+\", \" \") # white space 삭제\n",
            "C:\\Users\\user\\AppData\\Local\\Temp\\ipykernel_22420\\421399407.py:11: FutureWarning: The default value of regex will change from True to False in a future version.\n",
            "  data.doc = data.doc.str.replace(\"[^가-힣 ]\",\" \") # 한글만 남기고 특수문자, 숫자, 영어 삭제\n",
            "C:\\Users\\user\\AppData\\Local\\Temp\\ipykernel_22420\\421399407.py:12: FutureWarning: The default value of regex will change from True to False in a future version.\n",
            "  data.doc = data.doc.str.replace(\"\\s+\", \" \") # white space 삭제\n"
          ]
        }
      ],
      "source": [
        "all_data = pd.DataFrame()\n",
        "\n",
        "for name in name_list:\n",
        "    data = pd.read_csv(f\"{name}.csv\", encoding='utf-8-sig')\n",
        "    # 전처리\n",
        "    data.drop_duplicates(['text'],ignore_index=True, inplace=True) # 중복 제거\n",
        "    try:\n",
        "        data.columns = ['date', 'star','doc']\n",
        "    except:\n",
        "        data.columns = ['date', 'star','doc','name']\n",
        "    data.doc = data.doc.str.replace(\"[^가-힣 ]\",\" \") # 한글만 남기고 특수문자, 숫자, 영어 삭제\n",
        "    data.doc = data.doc.str.replace(\"\\s+\", \" \") # white space 삭제\n",
        "    data.doc = data.doc.str.replace(\"럽고목\",\"럽고 목\")\n",
        "    data.doc = data.doc.str.replace(\"부 드럽\",\"부드럽\")\n",
        "    data.doc = data.doc.str.replace(\"가성\", \"가성비\")\n",
        "    data.dropna(inplace=True)\n",
        "    data.reset_index(drop=True, inplace=True)\n",
        "    # globals()[\"감홍로 40도\"] 등으로 데이터 프레임 저장됨\n",
        "    globals()[f\"{name}\"] = data\n",
        "    all_data = pd.concat([all_data,data],axis=0)\n"
      ]
    },
    {
      "cell_type": "code",
      "execution_count": 49,
      "metadata": {
        "id": "cs2wG5044mjY",
        "outputId": "93c98046-bf87-49b5-a70f-e639c0f3da8e"
      },
      "outputs": [
        {
          "data": {
            "text/html": [
              "<div>\n",
              "<style scoped>\n",
              "    .dataframe tbody tr th:only-of-type {\n",
              "        vertical-align: middle;\n",
              "    }\n",
              "\n",
              "    .dataframe tbody tr th {\n",
              "        vertical-align: top;\n",
              "    }\n",
              "\n",
              "    .dataframe thead th {\n",
              "        text-align: right;\n",
              "    }\n",
              "</style>\n",
              "<table border=\"1\" class=\"dataframe\">\n",
              "  <thead>\n",
              "    <tr style=\"text-align: right;\">\n",
              "      <th></th>\n",
              "      <th>date</th>\n",
              "      <th>star</th>\n",
              "      <th>doc</th>\n",
              "    </tr>\n",
              "  </thead>\n",
              "  <tbody>\n",
              "    <tr>\n",
              "      <th>0</th>\n",
              "      <td>2022-10-31</td>\n",
              "      <td>5</td>\n",
              "      <td>지인으로부터 알게된 복순도가 막걸리처음 먹는순간 너무 맛있어서 깜짝놀랐어요원래 술을...</td>\n",
              "    </tr>\n",
              "    <tr>\n",
              "      <th>1</th>\n",
              "      <td>2022-11-17</td>\n",
              "      <td>5</td>\n",
              "      <td>그냥 차게 마셔도 군내나 잔여물 찌꺼기 느낌이 거의 없이 깔끔담백하고 샴페인처럼 톡...</td>\n",
              "    </tr>\n",
              "    <tr>\n",
              "      <th>2</th>\n",
              "      <td>2022-10-19</td>\n",
              "      <td>5</td>\n",
              "      <td>지인이 비싼데 고급지고 맛있는 막걸리가있다고 해서하도 궁금하여 한번 시켜봤어요배송도...</td>\n",
              "    </tr>\n",
              "    <tr>\n",
              "      <th>3</th>\n",
              "      <td>2022-10-28</td>\n",
              "      <td>3</td>\n",
              "      <td>본인은 맛있었는데 아버지는 너무 삭힌거같다는 평이네요 새콤함이 좀 있긴함근데 막걸리...</td>\n",
              "    </tr>\n",
              "    <tr>\n",
              "      <th>4</th>\n",
              "      <td>2022-10-13</td>\n",
              "      <td>5</td>\n",
              "      <td>복순도가 맛있다고 한참전에 소문만 들었지 먹어본것은 올해가 처음이네요 평소에도 달달...</td>\n",
              "    </tr>\n",
              "    <tr>\n",
              "      <th>...</th>\n",
              "      <td>...</td>\n",
              "      <td>...</td>\n",
              "      <td>...</td>\n",
              "    </tr>\n",
              "    <tr>\n",
              "      <th>5674</th>\n",
              "      <td>2020-04-03</td>\n",
              "      <td>5</td>\n",
              "      <td>다양한술을 집에서 편하게 주문가능하기에 자주 주문합니다이번에도 즐겁게 마시겠읍니다</td>\n",
              "    </tr>\n",
              "    <tr>\n",
              "      <th>5675</th>\n",
              "      <td>2020-04-03</td>\n",
              "      <td>5</td>\n",
              "      <td>빠른 배송 감사합니당</td>\n",
              "    </tr>\n",
              "    <tr>\n",
              "      <th>5676</th>\n",
              "      <td>2020-03-31</td>\n",
              "      <td>5</td>\n",
              "      <td>단맛은 있는데 꿀 단맛이어서 나쁘지 않아요 기분 나쁘지 않은 단맛이에요 인공감미료가...</td>\n",
              "    </tr>\n",
              "    <tr>\n",
              "      <th>5677</th>\n",
              "      <td>2020-03-26</td>\n",
              "      <td>5</td>\n",
              "      <td>맛이 달고 청량감이 좋아요</td>\n",
              "    </tr>\n",
              "    <tr>\n",
              "      <th>5678</th>\n",
              "      <td>2020-03-23</td>\n",
              "      <td>5</td>\n",
              "      <td>시중에서 흔히 볼 수 없었는데 적당한 당도가 좋았습니다</td>\n",
              "    </tr>\n",
              "  </tbody>\n",
              "</table>\n",
              "<p>44589 rows × 3 columns</p>\n",
              "</div>"
            ],
            "text/plain": [
              "            date  star                                                doc\n",
              "0     2022-10-31     5  지인으로부터 알게된 복순도가 막걸리처음 먹는순간 너무 맛있어서 깜짝놀랐어요원래 술을...\n",
              "1     2022-11-17     5  그냥 차게 마셔도 군내나 잔여물 찌꺼기 느낌이 거의 없이 깔끔담백하고 샴페인처럼 톡...\n",
              "2     2022-10-19     5  지인이 비싼데 고급지고 맛있는 막걸리가있다고 해서하도 궁금하여 한번 시켜봤어요배송도...\n",
              "3     2022-10-28     3  본인은 맛있었는데 아버지는 너무 삭힌거같다는 평이네요 새콤함이 좀 있긴함근데 막걸리...\n",
              "4     2022-10-13     5  복순도가 맛있다고 한참전에 소문만 들었지 먹어본것은 올해가 처음이네요 평소에도 달달...\n",
              "...          ...   ...                                                ...\n",
              "5674  2020-04-03     5     다양한술을 집에서 편하게 주문가능하기에 자주 주문합니다이번에도 즐겁게 마시겠읍니다 \n",
              "5675  2020-04-03     5                                        빠른 배송 감사합니당\n",
              "5676  2020-03-31     5  단맛은 있는데 꿀 단맛이어서 나쁘지 않아요 기분 나쁘지 않은 단맛이에요 인공감미료가...\n",
              "5677  2020-03-26     5                                     맛이 달고 청량감이 좋아요\n",
              "5678  2020-03-23     5                     시중에서 흔히 볼 수 없었는데 적당한 당도가 좋았습니다\n",
              "\n",
              "[44589 rows x 3 columns]"
            ]
          },
          "execution_count": 49,
          "metadata": {},
          "output_type": "execute_result"
        }
      ],
      "source": [
        "all_data"
      ]
    },
    {
      "cell_type": "code",
      "execution_count": 50,
      "metadata": {
        "id": "vsDwX1xL4mjZ"
      },
      "outputs": [
        {
          "name": "stderr",
          "output_type": "stream",
          "text": [
            "c:\\Users\\user\\AppData\\Local\\Programs\\Python\\Python38\\lib\\site-packages\\sklearn\\feature_extraction\\text.py:524: UserWarning: The parameter 'token_pattern' will not be used since 'tokenizer' is not None'\n",
            "  warnings.warn(\n"
          ]
        }
      ],
      "source": [
        "from sklearn.feature_extraction.text import TfidfVectorizer\n",
        "\n",
        "tfidf = TfidfVectorizer(tokenizer=okt_pos_tagging)\n",
        "tfidf_fit = tfidf.fit(all_data.doc)\n"
      ]
    },
    {
      "cell_type": "code",
      "execution_count": 51,
      "metadata": {},
      "outputs": [
        {
          "name": "stderr",
          "output_type": "stream",
          "text": [
            "c:\\Users\\user\\AppData\\Local\\Programs\\Python\\Python38\\lib\\site-packages\\sklearn\\utils\\deprecation.py:87: FutureWarning: Function get_feature_names is deprecated; get_feature_names is deprecated in 1.0 and will be removed in 1.2. Please use get_feature_names_out instead.\n",
            "  warnings.warn(msg, category=FutureWarning)\n"
          ]
        }
      ],
      "source": [
        "# 특징을 추출할 문서의 tf-idf를 구함\n",
        "# \"술 리뷰(복순도가)\" : 110,\"느린마을 막걸리\" : 130,\"술 리뷰(죽향도가)\" : 300\n",
        "a = \"술 리뷰(죽향도가)\"\n",
        "bow_rep_tfidf = tfidf_fit.transform(globals()[a].doc)\n",
        "word_count = pd.DataFrame({\n",
        "    '단어': tfidf.get_feature_names(),\n",
        "    'tf-idf': bow_rep_tfidf.sum(axis=0).flat,\n",
        "    'idf': tfidf.idf_\n",
        "})"
      ]
    },
    {
      "cell_type": "code",
      "execution_count": 52,
      "metadata": {},
      "outputs": [
        {
          "name": "stderr",
          "output_type": "stream",
          "text": [
            "C:\\Users\\user\\AppData\\Local\\Temp\\ipykernel_22420\\693789458.py:5: UserWarning: Boolean Series key will be reindexed to match DataFrame index.\n",
            "  word_count.sort_values('tf-idf',ascending=False).head(50)[word_count['idf']>3.5][word_count['tf-idf'] * (len(all_data)/len(globals()[a]))>300]\n"
          ]
        },
        {
          "data": {
            "text/html": [
              "<div>\n",
              "<style scoped>\n",
              "    .dataframe tbody tr th:only-of-type {\n",
              "        vertical-align: middle;\n",
              "    }\n",
              "\n",
              "    .dataframe tbody tr th {\n",
              "        vertical-align: top;\n",
              "    }\n",
              "\n",
              "    .dataframe thead th {\n",
              "        text-align: right;\n",
              "    }\n",
              "</style>\n",
              "<table border=\"1\" class=\"dataframe\">\n",
              "  <thead>\n",
              "    <tr style=\"text-align: right;\">\n",
              "      <th></th>\n",
              "      <th>단어</th>\n",
              "      <th>tf-idf</th>\n",
              "      <th>idf</th>\n",
              "    </tr>\n",
              "  </thead>\n",
              "  <tbody>\n",
              "    <tr>\n",
              "      <th>1204</th>\n",
              "      <td>꿀</td>\n",
              "      <td>128.425042</td>\n",
              "      <td>6.140744</td>\n",
              "    </tr>\n",
              "    <tr>\n",
              "      <th>1813</th>\n",
              "      <td>단맛</td>\n",
              "      <td>86.328464</td>\n",
              "      <td>5.024410</td>\n",
              "    </tr>\n",
              "    <tr>\n",
              "      <th>59</th>\n",
              "      <td>가볍다</td>\n",
              "      <td>69.786810</td>\n",
              "      <td>5.718813</td>\n",
              "    </tr>\n",
              "    <tr>\n",
              "      <th>1212</th>\n",
              "      <td>꿀맛</td>\n",
              "      <td>53.245492</td>\n",
              "      <td>6.807425</td>\n",
              "    </tr>\n",
              "    <tr>\n",
              "      <th>1872</th>\n",
              "      <td>달콤하다</td>\n",
              "      <td>41.274320</td>\n",
              "      <td>5.716303</td>\n",
              "    </tr>\n",
              "  </tbody>\n",
              "</table>\n",
              "</div>"
            ],
            "text/plain": [
              "        단어      tf-idf       idf\n",
              "1204     꿀  128.425042  6.140744\n",
              "1813    단맛   86.328464  5.024410\n",
              "59     가볍다   69.786810  5.718813\n",
              "1212    꿀맛   53.245492  6.807425\n",
              "1872  달콤하다   41.274320  5.716303"
            ]
          },
          "execution_count": 52,
          "metadata": {},
          "output_type": "execute_result"
        }
      ],
      "source": [
        "# idf 가 높을수록 잘 안나오는 단어\n",
        "# tf-idf 가 높을수록 중요한 단어\n",
        "# 두값을 적절히 조정해서 특징 추출\n",
        "\n",
        "word_count.sort_values('tf-idf',ascending=False).head(50)[word_count['idf']>3.5][word_count['tf-idf'] * (len(all_data)/len(globals()[a]))>300]"
      ]
    },
    {
      "cell_type": "code",
      "execution_count": 53,
      "metadata": {},
      "outputs": [
        {
          "name": "stderr",
          "output_type": "stream",
          "text": [
            "c:\\Users\\user\\AppData\\Local\\Programs\\Python\\Python38\\lib\\site-packages\\sklearn\\utils\\deprecation.py:87: FutureWarning: Function get_feature_names is deprecated; get_feature_names is deprecated in 1.0 and will be removed in 1.2. Please use get_feature_names_out instead.\n",
            "  warnings.warn(msg, category=FutureWarning)\n",
            "C:\\Users\\user\\AppData\\Local\\Temp\\ipykernel_22420\\1894880630.py:13: UserWarning: Boolean Series key will be reindexed to match DataFrame index.\n",
            "  df = word_count.sort_values('tf-idf',ascending=False).head(50)[word_count['idf']>3.5][word_count['tf-idf'] * (len(all_data)/len(globals()[a[i]]))>110]\n",
            "C:\\Users\\user\\AppData\\Local\\Temp\\ipykernel_22420\\1894880630.py:15: UserWarning: Boolean Series key will be reindexed to match DataFrame index.\n",
            "  word_count.sort_values('tf-idf',ascending=False).head(50)[word_count['idf']>3.5][word_count['tf-idf'] * (len(all_data)/len(globals()[a[i]]))>110].to_csv(f'막걸리_특징{i}.csv')\n"
          ]
        },
        {
          "data": {
            "text/plain": [
              "['샴페인',\n",
              " '와인',\n",
              " '스파클링',\n",
              " '신맛',\n",
              " '상큼',\n",
              " '청량감',\n",
              " '고급스럽다',\n",
              " '달콤하다',\n",
              " '저렴하다',\n",
              " '가볍다',\n",
              " '단맛',\n",
              " '요구르트',\n",
              " '진하다',\n",
              " '산미',\n",
              " '사이다',\n",
              " '청량하다']"
            ]
          },
          "execution_count": 53,
          "metadata": {},
          "output_type": "execute_result"
        }
      ],
      "source": [
        "# 특징을 추출할 문서의 tf-idf를 구함\n",
        "a = [\"술 리뷰(복순도가)\",\"느린마을 막걸리\",\"술 리뷰(죽향도가)\"]\n",
        "Tags = {\"boksundoga\": [],\"maeul\": [],\"jukhyang\": []}\n",
        "keys = [\"boksundoga\",\"maeul\",\"jukhyang\"]\n",
        "for i in range(len(a)):\n",
        "    bow_rep_tfidf = tfidf_fit.transform(globals()[a[i]].doc)\n",
        "    word_count = pd.DataFrame({\n",
        "        '단어': tfidf.get_feature_names(),\n",
        "        'tf-idf': bow_rep_tfidf.sum(axis=0).flat,\n",
        "        'idf': tfidf.idf_\n",
        "    })\n",
        "    \n",
        "    df = word_count.sort_values('tf-idf',ascending=False).head(50)[word_count['idf']>3.5][word_count['tf-idf'] * (len(all_data)/len(globals()[a[i]]))>110]\n",
        "\n",
        "    word_count.sort_values('tf-idf',ascending=False).head(50)[word_count['idf']>3.5][word_count['tf-idf'] * (len(all_data)/len(globals()[a[i]]))>110].to_csv(f'막걸리_특징{i}.csv')\n",
        "\n",
        "    # for i in range(len(Tags)):\n",
        "    for j in df['단어']:\n",
        "        Tags[keys[i]].append(j)\n",
        "Tags['boksundoga']"
      ]
    },
    {
      "cell_type": "code",
      "execution_count": 54,
      "metadata": {},
      "outputs": [
        {
          "data": {
            "text/plain": [
              "['우유', '단맛', '순하다', '진하다', '저렴하다', '달콤하다']"
            ]
          },
          "execution_count": 54,
          "metadata": {},
          "output_type": "execute_result"
        }
      ],
      "source": [
        "Tags['maeul']"
      ]
    },
    {
      "cell_type": "code",
      "execution_count": 55,
      "metadata": {},
      "outputs": [
        {
          "data": {
            "text/html": [
              "<div>\n",
              "<style scoped>\n",
              "    .dataframe tbody tr th:only-of-type {\n",
              "        vertical-align: middle;\n",
              "    }\n",
              "\n",
              "    .dataframe tbody tr th {\n",
              "        vertical-align: top;\n",
              "    }\n",
              "\n",
              "    .dataframe thead th {\n",
              "        text-align: right;\n",
              "    }\n",
              "</style>\n",
              "<table border=\"1\" class=\"dataframe\">\n",
              "  <thead>\n",
              "    <tr style=\"text-align: right;\">\n",
              "      <th></th>\n",
              "      <th>단어</th>\n",
              "      <th>tf-idf</th>\n",
              "      <th>idf</th>\n",
              "    </tr>\n",
              "  </thead>\n",
              "  <tbody>\n",
              "    <tr>\n",
              "      <th>0</th>\n",
              "      <td>샴페인</td>\n",
              "      <td>276.712619</td>\n",
              "      <td>5.257959</td>\n",
              "    </tr>\n",
              "    <tr>\n",
              "      <th>1</th>\n",
              "      <td>와인</td>\n",
              "      <td>152.668669</td>\n",
              "      <td>5.625332</td>\n",
              "    </tr>\n",
              "    <tr>\n",
              "      <th>2</th>\n",
              "      <td>스파클링</td>\n",
              "      <td>143.323855</td>\n",
              "      <td>5.900130</td>\n",
              "    </tr>\n",
              "    <tr>\n",
              "      <th>3</th>\n",
              "      <td>신맛</td>\n",
              "      <td>124.380568</td>\n",
              "      <td>5.894124</td>\n",
              "    </tr>\n",
              "    <tr>\n",
              "      <th>4</th>\n",
              "      <td>상큼</td>\n",
              "      <td>109.713859</td>\n",
              "      <td>6.125535</td>\n",
              "    </tr>\n",
              "    <tr>\n",
              "      <th>5</th>\n",
              "      <td>청량감</td>\n",
              "      <td>96.968381</td>\n",
              "      <td>6.262847</td>\n",
              "    </tr>\n",
              "    <tr>\n",
              "      <th>6</th>\n",
              "      <td>고급스럽다</td>\n",
              "      <td>93.293592</td>\n",
              "      <td>6.280315</td>\n",
              "    </tr>\n",
              "    <tr>\n",
              "      <th>7</th>\n",
              "      <td>달콤하다</td>\n",
              "      <td>88.297537</td>\n",
              "      <td>5.716303</td>\n",
              "    </tr>\n",
              "    <tr>\n",
              "      <th>8</th>\n",
              "      <td>저렴하다</td>\n",
              "      <td>75.468060</td>\n",
              "      <td>5.988237</td>\n",
              "    </tr>\n",
              "    <tr>\n",
              "      <th>9</th>\n",
              "      <td>가볍다</td>\n",
              "      <td>74.315034</td>\n",
              "      <td>5.718813</td>\n",
              "    </tr>\n",
              "    <tr>\n",
              "      <th>10</th>\n",
              "      <td>단맛</td>\n",
              "      <td>72.197036</td>\n",
              "      <td>5.024410</td>\n",
              "    </tr>\n",
              "    <tr>\n",
              "      <th>11</th>\n",
              "      <td>요구르트</td>\n",
              "      <td>68.038002</td>\n",
              "      <td>6.605398</td>\n",
              "    </tr>\n",
              "    <tr>\n",
              "      <th>12</th>\n",
              "      <td>진하다</td>\n",
              "      <td>63.641853</td>\n",
              "      <td>5.781009</td>\n",
              "    </tr>\n",
              "    <tr>\n",
              "      <th>13</th>\n",
              "      <td>산미</td>\n",
              "      <td>60.845284</td>\n",
              "      <td>6.599319</td>\n",
              "    </tr>\n",
              "    <tr>\n",
              "      <th>14</th>\n",
              "      <td>사이다</td>\n",
              "      <td>58.388036</td>\n",
              "      <td>6.587271</td>\n",
              "    </tr>\n",
              "    <tr>\n",
              "      <th>15</th>\n",
              "      <td>청량하다</td>\n",
              "      <td>55.524599</td>\n",
              "      <td>6.837730</td>\n",
              "    </tr>\n",
              "  </tbody>\n",
              "</table>\n",
              "</div>"
            ],
            "text/plain": [
              "       단어      tf-idf       idf\n",
              "0     샴페인  276.712619  5.257959\n",
              "1      와인  152.668669  5.625332\n",
              "2    스파클링  143.323855  5.900130\n",
              "3      신맛  124.380568  5.894124\n",
              "4      상큼  109.713859  6.125535\n",
              "5     청량감   96.968381  6.262847\n",
              "6   고급스럽다   93.293592  6.280315\n",
              "7    달콤하다   88.297537  5.716303\n",
              "8    저렴하다   75.468060  5.988237\n",
              "9     가볍다   74.315034  5.718813\n",
              "10     단맛   72.197036  5.024410\n",
              "11   요구르트   68.038002  6.605398\n",
              "12    진하다   63.641853  5.781009\n",
              "13     산미   60.845284  6.599319\n",
              "14    사이다   58.388036  6.587271\n",
              "15   청량하다   55.524599  6.837730"
            ]
          },
          "execution_count": 55,
          "metadata": {},
          "output_type": "execute_result"
        }
      ],
      "source": [
        "df0 = pd.read_csv('막걸리_특징0.csv')\n",
        "del df0['Unnamed: 0']\n",
        "df0"
      ]
    },
    {
      "cell_type": "code",
      "execution_count": 56,
      "metadata": {},
      "outputs": [
        {
          "data": {
            "text/html": [
              "<div>\n",
              "<style scoped>\n",
              "    .dataframe tbody tr th:only-of-type {\n",
              "        vertical-align: middle;\n",
              "    }\n",
              "\n",
              "    .dataframe tbody tr th {\n",
              "        vertical-align: top;\n",
              "    }\n",
              "\n",
              "    .dataframe thead th {\n",
              "        text-align: right;\n",
              "    }\n",
              "</style>\n",
              "<table border=\"1\" class=\"dataframe\">\n",
              "  <thead>\n",
              "    <tr style=\"text-align: right;\">\n",
              "      <th></th>\n",
              "      <th>단어</th>\n",
              "      <th>tf-idf</th>\n",
              "      <th>idf</th>\n",
              "    </tr>\n",
              "  </thead>\n",
              "  <tbody>\n",
              "    <tr>\n",
              "      <th>0</th>\n",
              "      <td>우유</td>\n",
              "      <td>139.606341</td>\n",
              "      <td>5.906172</td>\n",
              "    </tr>\n",
              "    <tr>\n",
              "      <th>1</th>\n",
              "      <td>단맛</td>\n",
              "      <td>139.341277</td>\n",
              "      <td>5.024410</td>\n",
              "    </tr>\n",
              "    <tr>\n",
              "      <th>2</th>\n",
              "      <td>순하다</td>\n",
              "      <td>110.109386</td>\n",
              "      <td>6.088494</td>\n",
              "    </tr>\n",
              "    <tr>\n",
              "      <th>3</th>\n",
              "      <td>진하다</td>\n",
              "      <td>101.585146</td>\n",
              "      <td>5.781009</td>\n",
              "    </tr>\n",
              "    <tr>\n",
              "      <th>4</th>\n",
              "      <td>저렴하다</td>\n",
              "      <td>69.243969</td>\n",
              "      <td>5.988237</td>\n",
              "    </tr>\n",
              "    <tr>\n",
              "      <th>5</th>\n",
              "      <td>달콤하다</td>\n",
              "      <td>58.001643</td>\n",
              "      <td>5.716303</td>\n",
              "    </tr>\n",
              "  </tbody>\n",
              "</table>\n",
              "</div>"
            ],
            "text/plain": [
              "     단어      tf-idf       idf\n",
              "0    우유  139.606341  5.906172\n",
              "1    단맛  139.341277  5.024410\n",
              "2   순하다  110.109386  6.088494\n",
              "3   진하다  101.585146  5.781009\n",
              "4  저렴하다   69.243969  5.988237\n",
              "5  달콤하다   58.001643  5.716303"
            ]
          },
          "execution_count": 56,
          "metadata": {},
          "output_type": "execute_result"
        }
      ],
      "source": [
        "df1 = pd.read_csv('막걸리_특징1.csv')\n",
        "del df1['Unnamed: 0']\n",
        "df1"
      ]
    },
    {
      "cell_type": "code",
      "execution_count": 57,
      "metadata": {},
      "outputs": [
        {
          "data": {
            "text/html": [
              "<div>\n",
              "<style scoped>\n",
              "    .dataframe tbody tr th:only-of-type {\n",
              "        vertical-align: middle;\n",
              "    }\n",
              "\n",
              "    .dataframe tbody tr th {\n",
              "        vertical-align: top;\n",
              "    }\n",
              "\n",
              "    .dataframe thead th {\n",
              "        text-align: right;\n",
              "    }\n",
              "</style>\n",
              "<table border=\"1\" class=\"dataframe\">\n",
              "  <thead>\n",
              "    <tr style=\"text-align: right;\">\n",
              "      <th></th>\n",
              "      <th>단어</th>\n",
              "      <th>tf-idf</th>\n",
              "      <th>idf</th>\n",
              "    </tr>\n",
              "  </thead>\n",
              "  <tbody>\n",
              "    <tr>\n",
              "      <th>0</th>\n",
              "      <td>꿀</td>\n",
              "      <td>128.425042</td>\n",
              "      <td>6.140744</td>\n",
              "    </tr>\n",
              "    <tr>\n",
              "      <th>1</th>\n",
              "      <td>단맛</td>\n",
              "      <td>86.328464</td>\n",
              "      <td>5.024410</td>\n",
              "    </tr>\n",
              "    <tr>\n",
              "      <th>2</th>\n",
              "      <td>가볍다</td>\n",
              "      <td>69.786810</td>\n",
              "      <td>5.718813</td>\n",
              "    </tr>\n",
              "    <tr>\n",
              "      <th>3</th>\n",
              "      <td>꿀맛</td>\n",
              "      <td>53.245492</td>\n",
              "      <td>6.807425</td>\n",
              "    </tr>\n",
              "    <tr>\n",
              "      <th>4</th>\n",
              "      <td>달콤하다</td>\n",
              "      <td>41.274320</td>\n",
              "      <td>5.716303</td>\n",
              "    </tr>\n",
              "    <tr>\n",
              "      <th>5</th>\n",
              "      <td>저렴하다</td>\n",
              "      <td>35.333979</td>\n",
              "      <td>5.988237</td>\n",
              "    </tr>\n",
              "    <tr>\n",
              "      <th>6</th>\n",
              "      <td>순하다</td>\n",
              "      <td>30.326612</td>\n",
              "      <td>6.088494</td>\n",
              "    </tr>\n",
              "    <tr>\n",
              "      <th>7</th>\n",
              "      <td>꿀향</td>\n",
              "      <td>29.616413</td>\n",
              "      <td>7.773439</td>\n",
              "    </tr>\n",
              "    <tr>\n",
              "      <th>8</th>\n",
              "      <td>은은하다</td>\n",
              "      <td>26.376577</td>\n",
              "      <td>7.298546</td>\n",
              "    </tr>\n",
              "    <tr>\n",
              "      <th>9</th>\n",
              "      <td>벌꿀</td>\n",
              "      <td>21.125004</td>\n",
              "      <td>7.967595</td>\n",
              "    </tr>\n",
              "    <tr>\n",
              "      <th>10</th>\n",
              "      <td>진하다</td>\n",
              "      <td>20.837354</td>\n",
              "      <td>5.781009</td>\n",
              "    </tr>\n",
              "    <tr>\n",
              "      <th>11</th>\n",
              "      <td>가성</td>\n",
              "      <td>20.586489</td>\n",
              "      <td>6.814916</td>\n",
              "    </tr>\n",
              "  </tbody>\n",
              "</table>\n",
              "</div>"
            ],
            "text/plain": [
              "      단어      tf-idf       idf\n",
              "0      꿀  128.425042  6.140744\n",
              "1     단맛   86.328464  5.024410\n",
              "2    가볍다   69.786810  5.718813\n",
              "3     꿀맛   53.245492  6.807425\n",
              "4   달콤하다   41.274320  5.716303\n",
              "5   저렴하다   35.333979  5.988237\n",
              "6    순하다   30.326612  6.088494\n",
              "7     꿀향   29.616413  7.773439\n",
              "8   은은하다   26.376577  7.298546\n",
              "9     벌꿀   21.125004  7.967595\n",
              "10   진하다   20.837354  5.781009\n",
              "11    가성   20.586489  6.814916"
            ]
          },
          "execution_count": 57,
          "metadata": {},
          "output_type": "execute_result"
        }
      ],
      "source": [
        "df2 = pd.read_csv('막걸리_특징2.csv')\n",
        "del df2['Unnamed: 0']\n",
        "df2"
      ]
    },
    {
      "cell_type": "code",
      "execution_count": 58,
      "metadata": {},
      "outputs": [],
      "source": [
        "def getHashTagString(list_of_tags):\n",
        "\thashTagString = \"\"\n",
        "\n",
        "\tfor tag in list_of_tags:\n",
        "\t\thashTagString += \" #\" + tag\n",
        "\n",
        "\treturn hashTagString"
      ]
    },
    {
      "cell_type": "code",
      "execution_count": 59,
      "metadata": {},
      "outputs": [
        {
          "data": {
            "text/plain": [
              "['샴페인',\n",
              " '와인',\n",
              " '스파클링',\n",
              " '신맛',\n",
              " '상큼',\n",
              " '청량감',\n",
              " '고급스럽다',\n",
              " '달콤하다',\n",
              " '저렴하다',\n",
              " '가볍다',\n",
              " '단맛',\n",
              " '요구르트',\n",
              " '진하다',\n",
              " '산미',\n",
              " '사이다',\n",
              " '청량하다']"
            ]
          },
          "execution_count": 59,
          "metadata": {},
          "output_type": "execute_result"
        }
      ],
      "source": [
        "Tags['boksundoga']"
      ]
    },
    {
      "cell_type": "code",
      "execution_count": 63,
      "metadata": {},
      "outputs": [
        {
          "data": {
            "text/plain": [
              "' #샴페인 #와인 #스파클링'"
            ]
          },
          "execution_count": 63,
          "metadata": {},
          "output_type": "execute_result"
        }
      ],
      "source": [
        "getHashTagString(Tags['boksundoga'][0:3])[:]"
      ]
    },
    {
      "cell_type": "code",
      "execution_count": 64,
      "metadata": {},
      "outputs": [
        {
          "data": {
            "text/plain": [
              "' #우유 #단맛 #순하다'"
            ]
          },
          "execution_count": 64,
          "metadata": {},
          "output_type": "execute_result"
        }
      ],
      "source": [
        "getHashTagString(Tags['maeul'][0:3])[:]"
      ]
    },
    {
      "cell_type": "code",
      "execution_count": 65,
      "metadata": {},
      "outputs": [
        {
          "data": {
            "text/plain": [
              "' #꿀 #단맛 #가볍다'"
            ]
          },
          "execution_count": 65,
          "metadata": {},
          "output_type": "execute_result"
        }
      ],
      "source": [
        "getHashTagString(Tags['jukhyang'][0:3])[:]"
      ]
    },
    {
      "cell_type": "code",
      "execution_count": null,
      "metadata": {},
      "outputs": [],
      "source": []
    }
  ],
  "metadata": {
    "colab": {
      "provenance": []
    },
    "kernelspec": {
      "display_name": "Python 3.8.9 64-bit",
      "language": "python",
      "name": "python3"
    },
    "language_info": {
      "codemirror_mode": {
        "name": "ipython",
        "version": 3
      },
      "file_extension": ".py",
      "mimetype": "text/x-python",
      "name": "python",
      "nbconvert_exporter": "python",
      "pygments_lexer": "ipython3",
      "version": "3.8.9"
    },
    "orig_nbformat": 4,
    "vscode": {
      "interpreter": {
        "hash": "6a926afa313b26ae1264fdcf81c726a97e69f6ba2ba780f6aa901948710f8d6e"
      }
    }
  },
  "nbformat": 4,
  "nbformat_minor": 0
}
