{
 "cells": [
  {
   "cell_type": "code",
   "execution_count": 2,
   "id": "62ea6c1e",
   "metadata": {},
   "outputs": [],
   "source": [
    "from selenium import webdriver\n",
    "from webdriver_manager.chrome import ChromeDriverManager\n",
    "driver = webdriver.Chrome(ChromeDriverManager().install())\n",
    "from bs4 import BeautifulSoup as bs\n",
    "import time\n",
    "from selenium.webdriver.common.action_chains import ActionChains\n",
    "from selenium.webdriver.common.keys import Keys\n",
    "import pandas as pd\n",
    "from tqdm import tqdm_notebook as tqdm"
   ]
  },
  {
   "cell_type": "code",
   "execution_count": 5,
   "id": "47222c78",
   "metadata": {},
   "outputs": [],
   "source": [
    "page_her = 'https://perfumegraphy.com/product/list.html?cate_no=375'"
   ]
  },
  {
   "cell_type": "code",
   "execution_count": 6,
   "id": "814b95ac",
   "metadata": {},
   "outputs": [],
   "source": [
    "actions = ActionChains(driver)\n",
    "driver.get(page_her)\n",
    "driver.maximize_window()\n",
    "actions.perform()"
   ]
  },
  {
   "cell_type": "code",
   "execution_count": 7,
   "id": "95755426",
   "metadata": {},
   "outputs": [
    {
     "name": "stderr",
     "output_type": "stream",
     "text": [
      "C:\\Users\\user\\AppData\\Local\\Temp\\ipykernel_6840\\3845067077.py:11: TqdmDeprecationWarning: This function will be removed in tqdm==5.0.0\n",
      "Please use `tqdm.notebook.tqdm` instead of `tqdm.tqdm_notebook`\n",
      "  for i in tqdm(range(1,21)):\n"
     ]
    },
    {
     "data": {
      "application/vnd.jupyter.widget-view+json": {
       "model_id": "d5e0afdb3ee7408ea3e92f7ea5cfa6d8",
       "version_major": 2,
       "version_minor": 0
      },
      "text/plain": [
       "  0%|          | 0/20 [00:00<?, ?it/s]"
      ]
     },
     "metadata": {},
     "output_type": "display_data"
    },
    {
     "data": {
      "application/vnd.jupyter.widget-view+json": {
       "model_id": "dab6c79aa15e4178b906f3dab1634b08",
       "version_major": 2,
       "version_minor": 0
      },
      "text/plain": [
       "  0%|          | 0/20 [00:00<?, ?it/s]"
      ]
     },
     "metadata": {},
     "output_type": "display_data"
    },
    {
     "data": {
      "application/vnd.jupyter.widget-view+json": {
       "model_id": "92b0307b5c434c5fb8b4d204c719aa7c",
       "version_major": 2,
       "version_minor": 0
      },
      "text/plain": [
       "  0%|          | 0/20 [00:00<?, ?it/s]"
      ]
     },
     "metadata": {},
     "output_type": "display_data"
    },
    {
     "data": {
      "application/vnd.jupyter.widget-view+json": {
       "model_id": "772a217c0b464e35b992e597670b2e0a",
       "version_major": 2,
       "version_minor": 0
      },
      "text/plain": [
       "  0%|          | 0/20 [00:00<?, ?it/s]"
      ]
     },
     "metadata": {},
     "output_type": "display_data"
    },
    {
     "data": {
      "application/vnd.jupyter.widget-view+json": {
       "model_id": "acb2d303666e4424bd29bb4c08c662c6",
       "version_major": 2,
       "version_minor": 0
      },
      "text/plain": [
       "  0%|          | 0/20 [00:00<?, ?it/s]"
      ]
     },
     "metadata": {},
     "output_type": "display_data"
    },
    {
     "data": {
      "application/vnd.jupyter.widget-view+json": {
       "model_id": "0ff159633a024f00b282a2ce11b767c5",
       "version_major": 2,
       "version_minor": 0
      },
      "text/plain": [
       "  0%|          | 0/20 [00:00<?, ?it/s]"
      ]
     },
     "metadata": {},
     "output_type": "display_data"
    },
    {
     "data": {
      "application/vnd.jupyter.widget-view+json": {
       "model_id": "04376dee0e53436b8f557807cfb661e4",
       "version_major": 2,
       "version_minor": 0
      },
      "text/plain": [
       "  0%|          | 0/20 [00:00<?, ?it/s]"
      ]
     },
     "metadata": {},
     "output_type": "display_data"
    },
    {
     "data": {
      "application/vnd.jupyter.widget-view+json": {
       "model_id": "5935cc6238d041dd8bf77c401772caa6",
       "version_major": 2,
       "version_minor": 0
      },
      "text/plain": [
       "  0%|          | 0/20 [00:00<?, ?it/s]"
      ]
     },
     "metadata": {},
     "output_type": "display_data"
    },
    {
     "data": {
      "application/vnd.jupyter.widget-view+json": {
       "model_id": "3a8fe4294e6e45b89f8525a98e90824e",
       "version_major": 2,
       "version_minor": 0
      },
      "text/plain": [
       "  0%|          | 0/20 [00:00<?, ?it/s]"
      ]
     },
     "metadata": {},
     "output_type": "display_data"
    },
    {
     "data": {
      "application/vnd.jupyter.widget-view+json": {
       "model_id": "0be91f8915ed4d778682fc5dea1f2c8a",
       "version_major": 2,
       "version_minor": 0
      },
      "text/plain": [
       "  0%|          | 0/20 [00:00<?, ?it/s]"
      ]
     },
     "metadata": {},
     "output_type": "display_data"
    },
    {
     "data": {
      "application/vnd.jupyter.widget-view+json": {
       "model_id": "b54d653752b14ef1866e9c2820120d89",
       "version_major": 2,
       "version_minor": 0
      },
      "text/plain": [
       "  0%|          | 0/20 [00:00<?, ?it/s]"
      ]
     },
     "metadata": {},
     "output_type": "display_data"
    },
    {
     "data": {
      "application/vnd.jupyter.widget-view+json": {
       "model_id": "b3e91c1d81904986b92fdbb9ce767cc0",
       "version_major": 2,
       "version_minor": 0
      },
      "text/plain": [
       "  0%|          | 0/20 [00:00<?, ?it/s]"
      ]
     },
     "metadata": {},
     "output_type": "display_data"
    },
    {
     "data": {
      "application/vnd.jupyter.widget-view+json": {
       "model_id": "4c4c5097b12b4f1891c86caddec939e3",
       "version_major": 2,
       "version_minor": 0
      },
      "text/plain": [
       "  0%|          | 0/20 [00:00<?, ?it/s]"
      ]
     },
     "metadata": {},
     "output_type": "display_data"
    },
    {
     "data": {
      "application/vnd.jupyter.widget-view+json": {
       "model_id": "5dee4c59c78d44fb873c6185634c4ddc",
       "version_major": 2,
       "version_minor": 0
      },
      "text/plain": [
       "  0%|          | 0/20 [00:00<?, ?it/s]"
      ]
     },
     "metadata": {},
     "output_type": "display_data"
    },
    {
     "data": {
      "application/vnd.jupyter.widget-view+json": {
       "model_id": "ed2b76eb1af94519940acc6a6c9594d1",
       "version_major": 2,
       "version_minor": 0
      },
      "text/plain": [
       "  0%|          | 0/20 [00:00<?, ?it/s]"
      ]
     },
     "metadata": {},
     "output_type": "display_data"
    },
    {
     "data": {
      "application/vnd.jupyter.widget-view+json": {
       "model_id": "9f20d458d1f141848efc91cb1a6ac44e",
       "version_major": 2,
       "version_minor": 0
      },
      "text/plain": [
       "  0%|          | 0/20 [00:00<?, ?it/s]"
      ]
     },
     "metadata": {},
     "output_type": "display_data"
    },
    {
     "data": {
      "application/vnd.jupyter.widget-view+json": {
       "model_id": "288af1d170234be6883528feb00c4cb4",
       "version_major": 2,
       "version_minor": 0
      },
      "text/plain": [
       "  0%|          | 0/20 [00:00<?, ?it/s]"
      ]
     },
     "metadata": {},
     "output_type": "display_data"
    }
   ],
   "source": [
    "name_list=[]\n",
    "price_list=[]\n",
    "brand_list=[]\n",
    "stars_list=[]\n",
    "exp_list=[]\n",
    "for i in range(1,18):\n",
    "    page_url = 'https://perfumegraphy.com/product/list.html?cate_no=375&page={}'.format(i)\n",
    "    driver.get(page_url)\n",
    "    time.sleep(2)\n",
    "    soup = bs(driver.page_source,'html.parser')\n",
    "    for i in tqdm(range(1,21)):\n",
    "        try:\n",
    "            exp = driver.find_element_by_css_selector('#contents > div.xans-element-.xans-product.xans-product-normalpackage > div.xans-element-.xans-product.xans-product-listnormal.ec-base-product.prdArea1.on > ul > li:nth-child({}) > div.description > ul > li.summary'.format(i))\n",
    "            exp_list.append(exp.text)\n",
    "            button = driver.find_element_by_css_selector('#contents > div.xans-element-.xans-product.xans-product-normalpackage > div.xans-element-.xans-product.xans-product-listnormal.ec-base-product.prdArea1.on > ul > li:nth-child({}) > div.description > strong > a > span'.format(i))\n",
    "            button.click()\n",
    "            soup = bs(driver.page_source,'html.parser')\n",
    "            name = driver.find_element_by_css_selector('#contents > div.xans-element-.xans-product.xans-product-detail > div.detailArea > div.fixOpt > div.infoArea > div.cont.sb > div.xans-element-.xans-product.xans-product-detaildesign > table:nth-child(1) > tbody > tr.tit.t1.xans-record- > td > span')\n",
    "            name_list.append(name.text)\n",
    "            price = driver.find_element_by_css_selector('#span_product_price_text')\n",
    "            price_list.append(price.text)\n",
    "            brand = driver.find_element_by_css_selector('#contents > div.xans-element-.xans-product.xans-product-detail > div.detailArea > div.fixOpt > div.infoArea > div.brand-category > a > span.brand-title')\n",
    "            brand_list.append(brand.text)\n",
    "            stars = driver.find_element_by_css_selector('#contents > div.xans-element-.xans-product.xans-product-detail > div.detailArea > div.fixOpt > div.infoArea > div.cont.sb > div.xans-element-.xans-product.xans-product-detaildesign > table:nth-child(1) > tbody > tr:nth-child(6) > td > span > span > div')\n",
    "            stars_list.append(stars.text)\n",
    "            time.sleep(2)\n",
    "            driver.get(page_url)\n",
    "        except:\n",
    "            pass"
   ]
  },
  {
   "cell_type": "code",
   "execution_count": 8,
   "id": "fe08b5f7",
   "metadata": {},
   "outputs": [
    {
     "data": {
      "text/plain": [
       "336"
      ]
     },
     "execution_count": 8,
     "metadata": {},
     "output_type": "execute_result"
    }
   ],
   "source": [
    "len(name_list)"
   ]
  },
  {
   "cell_type": "code",
   "execution_count": 9,
   "id": "b83d53ec",
   "metadata": {},
   "outputs": [
    {
     "data": {
      "text/plain": [
       "336"
      ]
     },
     "execution_count": 9,
     "metadata": {},
     "output_type": "execute_result"
    }
   ],
   "source": [
    "len(price_list)"
   ]
  },
  {
   "cell_type": "code",
   "execution_count": 10,
   "id": "0a97a3ce",
   "metadata": {},
   "outputs": [
    {
     "data": {
      "text/plain": [
       "336"
      ]
     },
     "execution_count": 10,
     "metadata": {},
     "output_type": "execute_result"
    }
   ],
   "source": [
    "len(brand_list)"
   ]
  },
  {
   "cell_type": "code",
   "execution_count": 11,
   "id": "f9786ea4",
   "metadata": {},
   "outputs": [
    {
     "data": {
      "text/plain": [
       "336"
      ]
     },
     "execution_count": 11,
     "metadata": {},
     "output_type": "execute_result"
    }
   ],
   "source": [
    "len(stars_list)"
   ]
  },
  {
   "cell_type": "code",
   "execution_count": 12,
   "id": "976ec281",
   "metadata": {},
   "outputs": [
    {
     "data": {
      "text/plain": [
       "336"
      ]
     },
     "execution_count": 12,
     "metadata": {},
     "output_type": "execute_result"
    }
   ],
   "source": [
    "len(exp_list)"
   ]
  },
  {
   "cell_type": "code",
   "execution_count": 13,
   "id": "df99639f",
   "metadata": {},
   "outputs": [],
   "source": [
    "name =pd.Series(name_list)\n",
    "price =pd.Series(price_list)\n",
    "brand =pd.Series(brand_list)\n",
    "stars =pd.Series(stars_list)\n",
    "exp = pd.Series(exp_list)"
   ]
  },
  {
   "cell_type": "code",
   "execution_count": 14,
   "id": "3cfbd307",
   "metadata": {},
   "outputs": [
    {
     "data": {
      "text/html": [
       "<div>\n",
       "<style scoped>\n",
       "    .dataframe tbody tr th:only-of-type {\n",
       "        vertical-align: middle;\n",
       "    }\n",
       "\n",
       "    .dataframe tbody tr th {\n",
       "        vertical-align: top;\n",
       "    }\n",
       "\n",
       "    .dataframe thead th {\n",
       "        text-align: right;\n",
       "    }\n",
       "</style>\n",
       "<table border=\"1\" class=\"dataframe\">\n",
       "  <thead>\n",
       "    <tr style=\"text-align: right;\">\n",
       "      <th></th>\n",
       "      <th>0</th>\n",
       "      <th>1</th>\n",
       "      <th>2</th>\n",
       "      <th>3</th>\n",
       "      <th>4</th>\n",
       "    </tr>\n",
       "  </thead>\n",
       "  <tbody>\n",
       "    <tr>\n",
       "      <th>0</th>\n",
       "      <td>조말론 포피 앤 바알리 코롱</td>\n",
       "      <td>조말론</td>\n",
       "      <td>보리수의 달콤함 위로 블랙커런트 이슬이 스며드는 양귀비, 한 폭의 낭만을 완성짓는 향기</td>\n",
       "      <td>83,800원 21.7% 할인</td>\n",
       "      <td>4.9</td>\n",
       "    </tr>\n",
       "    <tr>\n",
       "      <th>1</th>\n",
       "      <td>몽클레르 뿌르 옴므 오 드 퍼퓸</td>\n",
       "      <td>몽클레르</td>\n",
       "      <td>사이프러스의 시원한 상록수잎과 시더우드가 만나 퍼지는, 겨울 한기를 품은 자연의 향기</td>\n",
       "      <td>110,000원 8.3% 할인</td>\n",
       "      <td>0.0</td>\n",
       "    </tr>\n",
       "    <tr>\n",
       "      <th>2</th>\n",
       "      <td>메종 마르지엘라 스프링타임 인 어 파크</td>\n",
       "      <td>메종 마르지엘라</td>\n",
       "      <td>풍성하게 핀 하얀 꽃나무 아래서 가까워진 봄을 알아차리게 하는 향기</td>\n",
       "      <td>80,900원 9.1% 할인</td>\n",
       "      <td>5.0</td>\n",
       "    </tr>\n",
       "    <tr>\n",
       "      <th>3</th>\n",
       "      <td>딥디크 오카피탈 오 드 퍼퓸 75ml</td>\n",
       "      <td>딥티크</td>\n",
       "      <td>가시돋힌 장미의 줄기를 타고 흘러내리는 파츌리, 장미의 이면을 드러낸 독보적인 분위...</td>\n",
       "      <td>191,800원 18.4% 할인</td>\n",
       "      <td>5.0</td>\n",
       "    </tr>\n",
       "    <tr>\n",
       "      <th>4</th>\n",
       "      <td>프레드릭엠 오베드상 오 드 퍼퓸 75ml</td>\n",
       "      <td>프레드릭엠</td>\n",
       "      <td>살갗의 가장 여린 속살을 떠올리게 하는 야릇한 포근함</td>\n",
       "      <td>56,000원 50.0% 할인</td>\n",
       "      <td>4.7</td>\n",
       "    </tr>\n",
       "    <tr>\n",
       "      <th>...</th>\n",
       "      <td>...</td>\n",
       "      <td>...</td>\n",
       "      <td>...</td>\n",
       "      <td>...</td>\n",
       "      <td>...</td>\n",
       "    </tr>\n",
       "    <tr>\n",
       "      <th>331</th>\n",
       "      <td>발렌티노 발렌티나 우먼 오 드 퍼퓸 80ml</td>\n",
       "      <td>발렌티노</td>\n",
       "      <td>첫 데이트에 가장 잘 어울릴 것 같은 여성스러운 향기</td>\n",
       "      <td>135,000원 15.6% 할인</td>\n",
       "      <td>4.8</td>\n",
       "    </tr>\n",
       "    <tr>\n",
       "      <th>332</th>\n",
       "      <td>발렌티노 발렌티나 블러쉬 오 드 퍼퓸 50/80ml</td>\n",
       "      <td>발렌티노</td>\n",
       "      <td>달콤한 체리향과 화사한 로즈의 풍미에 스웨이드의 묵직함을 담아낸 향기</td>\n",
       "      <td>97,000원 19.8% 할인</td>\n",
       "      <td>5.0</td>\n",
       "    </tr>\n",
       "    <tr>\n",
       "      <th>333</th>\n",
       "      <td>바이레도 라튤립 오 드 퍼퓸 50/100ml</td>\n",
       "      <td>바이레도</td>\n",
       "      <td>촉촉한 튤립을 감싸고 있는 하얀 수건, 청순미의 극치</td>\n",
       "      <td>198,500원 17.3% 할인</td>\n",
       "      <td>4.8</td>\n",
       "    </tr>\n",
       "    <tr>\n",
       "      <th>334</th>\n",
       "      <td>바이레도 선데이즈드 오 드 퍼퓸 50/100ml</td>\n",
       "      <td>바이레도</td>\n",
       "      <td>설탕을 버무린 오렌지맛 코튼캔디가 석양에 스르르 녹는향기</td>\n",
       "      <td>191,750원 20.1% 할인</td>\n",
       "      <td>4.6</td>\n",
       "    </tr>\n",
       "    <tr>\n",
       "      <th>335</th>\n",
       "      <td>바이레도 로즈 오브 노 맨즈 랜드 오 드 퍼퓸 50ml</td>\n",
       "      <td>바이레도</td>\n",
       "      <td>바이레도가 그린 선명한 로즈, 라즈베리 이슬이 차가운 장미를 녹이며 깨어나는 싱그런 향기</td>\n",
       "      <td>198,500원 17.3% 할인</td>\n",
       "      <td>5.0</td>\n",
       "    </tr>\n",
       "  </tbody>\n",
       "</table>\n",
       "<p>336 rows × 5 columns</p>\n",
       "</div>"
      ],
      "text/plain": [
       "                                  0         1  \\\n",
       "0                   조말론 포피 앤 바알리 코롱       조말론   \n",
       "1                 몽클레르 뿌르 옴므 오 드 퍼퓸      몽클레르   \n",
       "2             메종 마르지엘라 스프링타임 인 어 파크  메종 마르지엘라   \n",
       "3              딥디크 오카피탈 오 드 퍼퓸 75ml       딥티크   \n",
       "4            프레드릭엠 오베드상 오 드 퍼퓸 75ml     프레드릭엠   \n",
       "..                              ...       ...   \n",
       "331        발렌티노 발렌티나 우먼 오 드 퍼퓸 80ml      발렌티노   \n",
       "332    발렌티노 발렌티나 블러쉬 오 드 퍼퓸 50/80ml      발렌티노   \n",
       "333        바이레도 라튤립 오 드 퍼퓸 50/100ml      바이레도   \n",
       "334      바이레도 선데이즈드 오 드 퍼퓸 50/100ml      바이레도   \n",
       "335  바이레도 로즈 오브 노 맨즈 랜드 오 드 퍼퓸 50ml      바이레도   \n",
       "\n",
       "                                                     2                  3    4  \n",
       "0     보리수의 달콤함 위로 블랙커런트 이슬이 스며드는 양귀비, 한 폭의 낭만을 완성짓는 향기   83,800원 21.7% 할인  4.9  \n",
       "1      사이프러스의 시원한 상록수잎과 시더우드가 만나 퍼지는, 겨울 한기를 품은 자연의 향기   110,000원 8.3% 할인  0.0  \n",
       "2                풍성하게 핀 하얀 꽃나무 아래서 가까워진 봄을 알아차리게 하는 향기    80,900원 9.1% 할인  5.0  \n",
       "3    가시돋힌 장미의 줄기를 타고 흘러내리는 파츌리, 장미의 이면을 드러낸 독보적인 분위...  191,800원 18.4% 할인  5.0  \n",
       "4                        살갗의 가장 여린 속살을 떠올리게 하는 야릇한 포근함   56,000원 50.0% 할인  4.7  \n",
       "..                                                 ...                ...  ...  \n",
       "331                      첫 데이트에 가장 잘 어울릴 것 같은 여성스러운 향기  135,000원 15.6% 할인  4.8  \n",
       "332             달콤한 체리향과 화사한 로즈의 풍미에 스웨이드의 묵직함을 담아낸 향기   97,000원 19.8% 할인  5.0  \n",
       "333                      촉촉한 튤립을 감싸고 있는 하얀 수건, 청순미의 극치  198,500원 17.3% 할인  4.8  \n",
       "334                    설탕을 버무린 오렌지맛 코튼캔디가 석양에 스르르 녹는향기  191,750원 20.1% 할인  4.6  \n",
       "335  바이레도가 그린 선명한 로즈, 라즈베리 이슬이 차가운 장미를 녹이며 깨어나는 싱그런 향기  198,500원 17.3% 할인  5.0  \n",
       "\n",
       "[336 rows x 5 columns]"
      ]
     },
     "execution_count": 14,
     "metadata": {},
     "output_type": "execute_result"
    }
   ],
   "source": [
    "df_forher = pd.concat([name,brand,exp,price,stars],axis=1)\n",
    "df_forher"
   ]
  },
  {
   "cell_type": "code",
   "execution_count": 15,
   "id": "77784734",
   "metadata": {},
   "outputs": [],
   "source": [
    "df_forher.to_csv('ForHer.csv')"
   ]
  },
  {
   "cell_type": "code",
   "execution_count": 3,
   "id": "7692694a",
   "metadata": {},
   "outputs": [],
   "source": [
    "page_review = 'https://perfumegraphy.com/board/%EA%B3%A0%EA%B0%9D%EB%A6%AC%EB%B7%B0/4/'\n",
    "actions = ActionChains(driver)\n",
    "driver.get(page_review)\n",
    "actions.perform()\n",
    "page_url = 'https://perfumegraphy.com/board/%EA%B3%A0%EA%B0%9D%EB%A6%AC%EB%B7%B0/4/?crema-reviews-3-page=1'\n",
    "driver.get(page_url)\n",
    "soup = bs(driver.page_source,'html.parser')\n",
    "time.sleep(3)\n",
    "date = soup.find_all('li','review_list_v2.review_list_v2--collapsed.renewed_review..js-review-container')\n",
    "for i in range(len(date)) :\n",
    "    print((link[i][1]))"
   ]
  },
  {
   "cell_type": "code",
   "execution_count": null,
   "id": "62c6d7ed",
   "metadata": {},
   "outputs": [],
   "source": []
  }
 ],
 "metadata": {
  "kernelspec": {
   "display_name": "Python 3 (ipykernel)",
   "language": "python",
   "name": "python3"
  },
  "language_info": {
   "codemirror_mode": {
    "name": "ipython",
    "version": 3
   },
   "file_extension": ".py",
   "mimetype": "text/x-python",
   "name": "python",
   "nbconvert_exporter": "python",
   "pygments_lexer": "ipython3",
   "version": "3.9.12"
  }
 },
 "nbformat": 4,
 "nbformat_minor": 5
}
