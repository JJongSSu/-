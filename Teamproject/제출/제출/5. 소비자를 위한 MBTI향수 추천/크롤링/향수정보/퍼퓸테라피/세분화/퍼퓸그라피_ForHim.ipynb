{
 "cells": [
  {
   "cell_type": "code",
   "execution_count": 2,
   "id": "90d1c515",
   "metadata": {},
   "outputs": [],
   "source": [
    "from selenium import webdriver\n",
    "from webdriver_manager.chrome import ChromeDriverManager\n",
    "driver = webdriver.Chrome(ChromeDriverManager().install())\n",
    "from bs4 import BeautifulSoup as bs\n",
    "import time\n",
    "from selenium.webdriver.common.action_chains import ActionChains\n",
    "from selenium.webdriver.common.keys import Keys\n",
    "import pandas as pd\n",
    "from tqdm import tqdm_notebook as tqdm"
   ]
  },
  {
   "cell_type": "code",
   "execution_count": 3,
   "id": "70b6976c",
   "metadata": {},
   "outputs": [],
   "source": [
    "page_him = 'https://perfumegraphy.com/product/list.html?cate_no=377'"
   ]
  },
  {
   "cell_type": "code",
   "execution_count": 4,
   "id": "187400b6",
   "metadata": {},
   "outputs": [],
   "source": [
    "actions = ActionChains(driver)\n",
    "driver.get(page_him)\n",
    "driver.maximize_window()\n",
    "actions.perform()"
   ]
  },
  {
   "cell_type": "code",
   "execution_count": 5,
   "id": "e9900897",
   "metadata": {},
   "outputs": [
    {
     "name": "stderr",
     "output_type": "stream",
     "text": [
      "C:\\Users\\user\\AppData\\Local\\Temp\\ipykernel_14292\\521112947.py:11: TqdmDeprecationWarning: This function will be removed in tqdm==5.0.0\n",
      "Please use `tqdm.notebook.tqdm` instead of `tqdm.tqdm_notebook`\n",
      "  for i in tqdm(range(1,21)):\n"
     ]
    },
    {
     "data": {
      "application/vnd.jupyter.widget-view+json": {
       "model_id": "bd3a35039d76431ea308da47d6c0d24e",
       "version_major": 2,
       "version_minor": 0
      },
      "text/plain": [
       "  0%|          | 0/20 [00:00<?, ?it/s]"
      ]
     },
     "metadata": {},
     "output_type": "display_data"
    },
    {
     "data": {
      "application/vnd.jupyter.widget-view+json": {
       "model_id": "37ef22565c3843e3b807c70eda8edc82",
       "version_major": 2,
       "version_minor": 0
      },
      "text/plain": [
       "  0%|          | 0/20 [00:00<?, ?it/s]"
      ]
     },
     "metadata": {},
     "output_type": "display_data"
    },
    {
     "data": {
      "application/vnd.jupyter.widget-view+json": {
       "model_id": "ce706baffa1949548c116893ced3d9cf",
       "version_major": 2,
       "version_minor": 0
      },
      "text/plain": [
       "  0%|          | 0/20 [00:00<?, ?it/s]"
      ]
     },
     "metadata": {},
     "output_type": "display_data"
    },
    {
     "data": {
      "application/vnd.jupyter.widget-view+json": {
       "model_id": "785acac80f1b4e88a6645ab445e771c8",
       "version_major": 2,
       "version_minor": 0
      },
      "text/plain": [
       "  0%|          | 0/20 [00:00<?, ?it/s]"
      ]
     },
     "metadata": {},
     "output_type": "display_data"
    },
    {
     "data": {
      "application/vnd.jupyter.widget-view+json": {
       "model_id": "ab74375bcd7b43cdb631628c5d95a9a4",
       "version_major": 2,
       "version_minor": 0
      },
      "text/plain": [
       "  0%|          | 0/20 [00:00<?, ?it/s]"
      ]
     },
     "metadata": {},
     "output_type": "display_data"
    },
    {
     "data": {
      "application/vnd.jupyter.widget-view+json": {
       "model_id": "4b8e080b0915476da1945f8a33755763",
       "version_major": 2,
       "version_minor": 0
      },
      "text/plain": [
       "  0%|          | 0/20 [00:00<?, ?it/s]"
      ]
     },
     "metadata": {},
     "output_type": "display_data"
    },
    {
     "data": {
      "application/vnd.jupyter.widget-view+json": {
       "model_id": "2e749c4ee1854be4b92893336b2e548d",
       "version_major": 2,
       "version_minor": 0
      },
      "text/plain": [
       "  0%|          | 0/20 [00:00<?, ?it/s]"
      ]
     },
     "metadata": {},
     "output_type": "display_data"
    },
    {
     "data": {
      "application/vnd.jupyter.widget-view+json": {
       "model_id": "b1b584d08a284aa9b22ffd3c5edb09ea",
       "version_major": 2,
       "version_minor": 0
      },
      "text/plain": [
       "  0%|          | 0/20 [00:00<?, ?it/s]"
      ]
     },
     "metadata": {},
     "output_type": "display_data"
    },
    {
     "data": {
      "application/vnd.jupyter.widget-view+json": {
       "model_id": "62ee7d24866a4a4390c2d28ca52fdb2b",
       "version_major": 2,
       "version_minor": 0
      },
      "text/plain": [
       "  0%|          | 0/20 [00:00<?, ?it/s]"
      ]
     },
     "metadata": {},
     "output_type": "display_data"
    },
    {
     "data": {
      "application/vnd.jupyter.widget-view+json": {
       "model_id": "d9410e15272840949276ef3fb70f6ad4",
       "version_major": 2,
       "version_minor": 0
      },
      "text/plain": [
       "  0%|          | 0/20 [00:00<?, ?it/s]"
      ]
     },
     "metadata": {},
     "output_type": "display_data"
    },
    {
     "data": {
      "application/vnd.jupyter.widget-view+json": {
       "model_id": "003af228f846427cae0f17ee53590269",
       "version_major": 2,
       "version_minor": 0
      },
      "text/plain": [
       "  0%|          | 0/20 [00:00<?, ?it/s]"
      ]
     },
     "metadata": {},
     "output_type": "display_data"
    },
    {
     "data": {
      "application/vnd.jupyter.widget-view+json": {
       "model_id": "cf14b902983346b48746b225b5996822",
       "version_major": 2,
       "version_minor": 0
      },
      "text/plain": [
       "  0%|          | 0/20 [00:00<?, ?it/s]"
      ]
     },
     "metadata": {},
     "output_type": "display_data"
    }
   ],
   "source": [
    "name_list=[]\n",
    "price_list=[]\n",
    "brand_list=[]\n",
    "stars_list=[]\n",
    "exp_list=[]\n",
    "for i in range(1,13):\n",
    "    page_url = 'https://perfumegraphy.com/product/list.html?cate_no=377&page={}'.format(i)\n",
    "    driver.get(page_url)\n",
    "    time.sleep(2)\n",
    "    soup = bs(driver.page_source,'html.parser')\n",
    "    for i in tqdm(range(1,21)):\n",
    "        try:\n",
    "            exp = driver.find_element_by_css_selector('#contents > div.xans-element-.xans-product.xans-product-normalpackage > div.xans-element-.xans-product.xans-product-listnormal.ec-base-product.prdArea1.on > ul > li:nth-child({}) > div.description > ul > li.summary'.format(i))\n",
    "            exp_list.append(exp.text)\n",
    "            button = driver.find_element_by_css_selector('#contents > div.xans-element-.xans-product.xans-product-normalpackage > div.xans-element-.xans-product.xans-product-listnormal.ec-base-product.prdArea1.on > ul > li:nth-child({}) > div.description > strong > a > span'.format(i))\n",
    "            button.click()\n",
    "            soup = bs(driver.page_source,'html.parser')\n",
    "            name = driver.find_element_by_css_selector('#contents > div.xans-element-.xans-product.xans-product-detail > div.detailArea > div.fixOpt > div.infoArea > div.cont.sb > div.xans-element-.xans-product.xans-product-detaildesign > table:nth-child(1) > tbody > tr.tit.t1.xans-record- > td > span')\n",
    "            name_list.append(name.text)\n",
    "            price = driver.find_element_by_css_selector('#span_product_price_text')\n",
    "            price_list.append(price.text)\n",
    "            brand = driver.find_element_by_css_selector('#contents > div.xans-element-.xans-product.xans-product-detail > div.detailArea > div.fixOpt > div.infoArea > div.brand-category > a > span.brand-title')\n",
    "            brand_list.append(brand.text)\n",
    "            stars = driver.find_element_by_css_selector('#contents > div.xans-element-.xans-product.xans-product-detail > div.detailArea > div.fixOpt > div.infoArea > div.cont.sb > div.xans-element-.xans-product.xans-product-detaildesign > table:nth-child(1) > tbody > tr:nth-child(6) > td > span > span > div')\n",
    "            stars_list.append(stars.text)\n",
    "            time.sleep(2)\n",
    "            driver.get(page_url)\n",
    "        except:\n",
    "            pass"
   ]
  },
  {
   "cell_type": "code",
   "execution_count": 7,
   "id": "17d9d109",
   "metadata": {},
   "outputs": [
    {
     "data": {
      "text/plain": [
       "230"
      ]
     },
     "execution_count": 7,
     "metadata": {},
     "output_type": "execute_result"
    }
   ],
   "source": [
    "len(name_list)\n"
   ]
  },
  {
   "cell_type": "code",
   "execution_count": 8,
   "id": "3e79f846",
   "metadata": {},
   "outputs": [
    {
     "data": {
      "text/plain": [
       "230"
      ]
     },
     "execution_count": 8,
     "metadata": {},
     "output_type": "execute_result"
    }
   ],
   "source": [
    "len(price_list)\n"
   ]
  },
  {
   "cell_type": "code",
   "execution_count": 9,
   "id": "8029e89e",
   "metadata": {},
   "outputs": [
    {
     "data": {
      "text/plain": [
       "230"
      ]
     },
     "execution_count": 9,
     "metadata": {},
     "output_type": "execute_result"
    }
   ],
   "source": [
    "len(brand_list)"
   ]
  },
  {
   "cell_type": "code",
   "execution_count": 10,
   "id": "b9f76ec8",
   "metadata": {},
   "outputs": [
    {
     "data": {
      "text/plain": [
       "230"
      ]
     },
     "execution_count": 10,
     "metadata": {},
     "output_type": "execute_result"
    }
   ],
   "source": [
    "len(stars_list)"
   ]
  },
  {
   "cell_type": "code",
   "execution_count": 11,
   "id": "b524b20e",
   "metadata": {},
   "outputs": [
    {
     "data": {
      "text/plain": [
       "230"
      ]
     },
     "execution_count": 11,
     "metadata": {},
     "output_type": "execute_result"
    }
   ],
   "source": [
    "len(exp_list)"
   ]
  },
  {
   "cell_type": "code",
   "execution_count": 12,
   "id": "d7da5e04",
   "metadata": {},
   "outputs": [],
   "source": [
    "name =pd.Series(name_list)\n",
    "price =pd.Series(price_list)\n",
    "brand =pd.Series(brand_list)\n",
    "stars =pd.Series(stars_list)\n",
    "exp = pd.Series(exp_list)\n"
   ]
  },
  {
   "cell_type": "code",
   "execution_count": 13,
   "id": "c03f79ca",
   "metadata": {},
   "outputs": [
    {
     "data": {
      "text/html": [
       "<div>\n",
       "<style scoped>\n",
       "    .dataframe tbody tr th:only-of-type {\n",
       "        vertical-align: middle;\n",
       "    }\n",
       "\n",
       "    .dataframe tbody tr th {\n",
       "        vertical-align: top;\n",
       "    }\n",
       "\n",
       "    .dataframe thead th {\n",
       "        text-align: right;\n",
       "    }\n",
       "</style>\n",
       "<table border=\"1\" class=\"dataframe\">\n",
       "  <thead>\n",
       "    <tr style=\"text-align: right;\">\n",
       "      <th></th>\n",
       "      <th>0</th>\n",
       "      <th>1</th>\n",
       "      <th>2</th>\n",
       "      <th>3</th>\n",
       "      <th>4</th>\n",
       "    </tr>\n",
       "  </thead>\n",
       "  <tbody>\n",
       "    <tr>\n",
       "      <th>0</th>\n",
       "      <td>조말론 포피 앤 바알리 코롱</td>\n",
       "      <td>조말론</td>\n",
       "      <td>보리수의 달콤함 위로 블랙커런트 이슬이 스며드는 양귀비, 한 폭의 낭만을 완성짓는 향기</td>\n",
       "      <td>83,800원 21.7% 할인</td>\n",
       "      <td>4.9</td>\n",
       "    </tr>\n",
       "    <tr>\n",
       "      <th>1</th>\n",
       "      <td>몽클레르 뿌르 옴므 오 드 퍼퓸</td>\n",
       "      <td>몽클레르</td>\n",
       "      <td>사이프러스의 시원한 상록수잎과 시더우드가 만나 퍼지는, 겨울 한기를 품은 자연의 향기</td>\n",
       "      <td>110,000원 8.3% 할인</td>\n",
       "      <td>0.0</td>\n",
       "    </tr>\n",
       "    <tr>\n",
       "      <th>2</th>\n",
       "      <td>아쿠아 디 파르마 미르토 디 파나레아 오 드 뚜왈렛</td>\n",
       "      <td>아쿠아 디 파르마</td>\n",
       "      <td>청량한 비누향수의 대명사, 아쿠아 디 파르마 베스트셀러</td>\n",
       "      <td>73,000원 30.5% 할인</td>\n",
       "      <td>4.8</td>\n",
       "    </tr>\n",
       "    <tr>\n",
       "      <th>3</th>\n",
       "      <td>메종 마르지엘라 커피 브레이크</td>\n",
       "      <td>메종 마르지엘라</td>\n",
       "      <td>에스프레소 위로 하얀 선을 그리는 우유처럼, 한껏 편안하고 단정한 무드의 자상한 커...</td>\n",
       "      <td>80,900원 9.1% 할인</td>\n",
       "      <td>5.0</td>\n",
       "    </tr>\n",
       "    <tr>\n",
       "      <th>4</th>\n",
       "      <td>딥디크 오카피탈 오 드 퍼퓸 75ml</td>\n",
       "      <td>딥티크</td>\n",
       "      <td>가시돋힌 장미의 줄기를 타고 흘러내리는 파츌리, 장미의 이면을 드러낸 독보적인 분위...</td>\n",
       "      <td>191,800원 18.4% 할인</td>\n",
       "      <td>5.0</td>\n",
       "    </tr>\n",
       "    <tr>\n",
       "      <th>...</th>\n",
       "      <td>...</td>\n",
       "      <td>...</td>\n",
       "      <td>...</td>\n",
       "      <td>...</td>\n",
       "      <td>...</td>\n",
       "    </tr>\n",
       "    <tr>\n",
       "      <th>225</th>\n",
       "      <td>바이레도 선데이즈드 오 드 퍼퓸 50/100ml</td>\n",
       "      <td>바이레도</td>\n",
       "      <td>설탕을 버무린 오렌지맛 코튼캔디가 석양에 스르르 녹는향기</td>\n",
       "      <td>191,750원 20.1% 할인</td>\n",
       "      <td>4.6</td>\n",
       "    </tr>\n",
       "    <tr>\n",
       "      <th>226</th>\n",
       "      <td>바이레도 로즈 오브 노 맨즈 랜드 오 드 퍼퓸 50ml</td>\n",
       "      <td>바이레도</td>\n",
       "      <td>바이레도가 그린 선명한 로즈, 라즈베리 이슬이 차가운 장미를 녹이며 깨어나는 싱그런 향기</td>\n",
       "      <td>198,500원 17.3% 할인</td>\n",
       "      <td>5.0</td>\n",
       "    </tr>\n",
       "    <tr>\n",
       "      <th>227</th>\n",
       "      <td>메종 마르지엘라 레플리카 플라잉 100ml</td>\n",
       "      <td>메종 마르지엘라</td>\n",
       "      <td>네롤리와 오렌지로 석양을 만든 잔잔한 비누향기</td>\n",
       "      <td>175,000원 30.0% 할인</td>\n",
       "      <td>4.6</td>\n",
       "    </tr>\n",
       "    <tr>\n",
       "      <th>228</th>\n",
       "      <td>메종 마르지엘라 뮤직 페스티벌 100ml</td>\n",
       "      <td>메종 마르지엘라</td>\n",
       "      <td>우드 소극장, 희뿌연 먼지 사이를 뚫고 강렬하게 퍼지는 가죽끈의 열정적인 바이브</td>\n",
       "      <td>145,000원 17.1% 할인</td>\n",
       "      <td>4.9</td>\n",
       "    </tr>\n",
       "    <tr>\n",
       "      <th>229</th>\n",
       "      <td>퍼퓸드말리 고돌핀 75/125ml</td>\n",
       "      <td>퍼퓸 드 말리</td>\n",
       "      <td>습기 찬 장작에 불을 붙인 그을음에 레더와 샤프란을 태우는 듯한 향기</td>\n",
       "      <td>198,000원 41.8% 할인</td>\n",
       "      <td>5.0</td>\n",
       "    </tr>\n",
       "  </tbody>\n",
       "</table>\n",
       "<p>230 rows × 5 columns</p>\n",
       "</div>"
      ],
      "text/plain": [
       "                                  0          1  \\\n",
       "0                   조말론 포피 앤 바알리 코롱        조말론   \n",
       "1                 몽클레르 뿌르 옴므 오 드 퍼퓸       몽클레르   \n",
       "2      아쿠아 디 파르마 미르토 디 파나레아 오 드 뚜왈렛  아쿠아 디 파르마   \n",
       "3                  메종 마르지엘라 커피 브레이크   메종 마르지엘라   \n",
       "4              딥디크 오카피탈 오 드 퍼퓸 75ml        딥티크   \n",
       "..                              ...        ...   \n",
       "225      바이레도 선데이즈드 오 드 퍼퓸 50/100ml       바이레도   \n",
       "226  바이레도 로즈 오브 노 맨즈 랜드 오 드 퍼퓸 50ml       바이레도   \n",
       "227         메종 마르지엘라 레플리카 플라잉 100ml   메종 마르지엘라   \n",
       "228          메종 마르지엘라 뮤직 페스티벌 100ml   메종 마르지엘라   \n",
       "229              퍼퓸드말리 고돌핀 75/125ml    퍼퓸 드 말리   \n",
       "\n",
       "                                                     2                  3    4  \n",
       "0     보리수의 달콤함 위로 블랙커런트 이슬이 스며드는 양귀비, 한 폭의 낭만을 완성짓는 향기   83,800원 21.7% 할인  4.9  \n",
       "1      사이프러스의 시원한 상록수잎과 시더우드가 만나 퍼지는, 겨울 한기를 품은 자연의 향기   110,000원 8.3% 할인  0.0  \n",
       "2                       청량한 비누향수의 대명사, 아쿠아 디 파르마 베스트셀러   73,000원 30.5% 할인  4.8  \n",
       "3    에스프레소 위로 하얀 선을 그리는 우유처럼, 한껏 편안하고 단정한 무드의 자상한 커...    80,900원 9.1% 할인  5.0  \n",
       "4    가시돋힌 장미의 줄기를 타고 흘러내리는 파츌리, 장미의 이면을 드러낸 독보적인 분위...  191,800원 18.4% 할인  5.0  \n",
       "..                                                 ...                ...  ...  \n",
       "225                    설탕을 버무린 오렌지맛 코튼캔디가 석양에 스르르 녹는향기  191,750원 20.1% 할인  4.6  \n",
       "226  바이레도가 그린 선명한 로즈, 라즈베리 이슬이 차가운 장미를 녹이며 깨어나는 싱그런 향기  198,500원 17.3% 할인  5.0  \n",
       "227                          네롤리와 오렌지로 석양을 만든 잔잔한 비누향기  175,000원 30.0% 할인  4.6  \n",
       "228       우드 소극장, 희뿌연 먼지 사이를 뚫고 강렬하게 퍼지는 가죽끈의 열정적인 바이브  145,000원 17.1% 할인  4.9  \n",
       "229             습기 찬 장작에 불을 붙인 그을음에 레더와 샤프란을 태우는 듯한 향기  198,000원 41.8% 할인  5.0  \n",
       "\n",
       "[230 rows x 5 columns]"
      ]
     },
     "execution_count": 13,
     "metadata": {},
     "output_type": "execute_result"
    }
   ],
   "source": [
    "df_forhim = pd.concat([name,brand,exp,price,stars],axis=1)\n",
    "df_forhim"
   ]
  },
  {
   "cell_type": "code",
   "execution_count": 14,
   "id": "89e4cfdb",
   "metadata": {},
   "outputs": [],
   "source": [
    "df_forhim.to_csv('ForHim.csv')"
   ]
  },
  {
   "cell_type": "code",
   "execution_count": null,
   "id": "a41e3416",
   "metadata": {},
   "outputs": [],
   "source": []
  }
 ],
 "metadata": {
  "kernelspec": {
   "display_name": "Python 3.9.12 ('base')",
   "language": "python",
   "name": "python3"
  },
  "language_info": {
   "codemirror_mode": {
    "name": "ipython",
    "version": 3
   },
   "file_extension": ".py",
   "mimetype": "text/x-python",
   "name": "python",
   "nbconvert_exporter": "python",
   "pygments_lexer": "ipython3",
   "version": "3.9.12"
  },
  "vscode": {
   "interpreter": {
    "hash": "a077222d77dfe082b8f1dd562ad70e458ac2ab76993a0b248ab0476e32e9e8dd"
   }
  }
 },
 "nbformat": 4,
 "nbformat_minor": 5
}
