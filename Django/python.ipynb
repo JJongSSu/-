{
 "cells": [
  {
   "cell_type": "code",
   "execution_count": 2,
   "metadata": {},
   "outputs": [
    {
     "data": {
      "text/plain": [
       "['False',\n",
       " 'None',\n",
       " 'True',\n",
       " '__peg_parser__',\n",
       " 'and',\n",
       " 'as',\n",
       " 'assert',\n",
       " 'async',\n",
       " 'await',\n",
       " 'break',\n",
       " 'class',\n",
       " 'continue',\n",
       " 'def',\n",
       " 'del',\n",
       " 'elif',\n",
       " 'else',\n",
       " 'except',\n",
       " 'finally',\n",
       " 'for',\n",
       " 'from',\n",
       " 'global',\n",
       " 'if',\n",
       " 'import',\n",
       " 'in',\n",
       " 'is',\n",
       " 'lambda',\n",
       " 'nonlocal',\n",
       " 'not',\n",
       " 'or',\n",
       " 'pass',\n",
       " 'raise',\n",
       " 'return',\n",
       " 'try',\n",
       " 'while',\n",
       " 'with',\n",
       " 'yield']"
      ]
     },
     "execution_count": 2,
     "metadata": {},
     "output_type": "execute_result"
    }
   ],
   "source": [
    "import keyword\n",
    "keyword.kwlist"
   ]
  },
  {
   "cell_type": "code",
   "execution_count": 7,
   "metadata": {},
   "outputs": [
    {
     "data": {
      "text/plain": [
       "['alpha', 'bravo', 'delta', 'hotel', 'india']"
      ]
     },
     "execution_count": 7,
     "metadata": {},
     "output_type": "execute_result"
    }
   ],
   "source": [
    "#문자열 길이가 5인 것들만 리스트 형태로 출력\n",
    "list = ['alpha','bravo','charlie','delta','echo','foxtrot','golf','hotel','india']\n",
    "a=[i for i in list if len(i)==5]\n",
    "# for i in list:\n",
    "#     if(len(i)==5):\n",
    "#         a.append(i)\n",
    "#     else:\n",
    "#         pass\n",
    "a"
   ]
  },
  {
   "cell_type": "code",
   "execution_count": 2,
   "metadata": {},
   "outputs": [
    {
     "name": "stdout",
     "output_type": "stream",
     "text": [
      "5000\n",
      "2600\n",
      "4\n",
      "4\n"
     ]
    }
   ],
   "source": [
    "# 자동 판매기 프로그램\n",
    "a = int(input(\"투입한 돈 : \"))\n",
    "b = int(input(\"상품 가격 : \"))\n",
    "c = (a-b)//500\n",
    "d = ((a-b)%500)//100\n",
    "print(a)\n",
    "print(b)\n",
    "print(c)\n",
    "print(d)"
   ]
  },
  {
   "cell_type": "code",
   "execution_count": 18,
   "metadata": {},
   "outputs": [
    {
     "name": "stdout",
     "output_type": "stream",
     "text": [
      "1월 판매실적 : 59,870,000\n",
      "2월 판매실적 : 39,860,000\n",
      "3월 판매실적 : 78,930,000\n"
     ]
    }
   ],
   "source": [
    "# 판매실적 금액에 천단위마다 ',' 넣기\n",
    "sales = {'1월':59870000, '2월':39860000, '3월':78930000}\n",
    "key_value = sales.keys()\n",
    "\n",
    "for keys in key_value:\n",
    "    num = str(sales[keys])\n",
    "    value = num[::-1]\n",
    "    ret=''\n",
    "    for i,c in enumerate(value):\n",
    "        i+=1\n",
    "        if i != len(value) and i%3==0:\n",
    "            ret += (c+',')\n",
    "        else:\n",
    "            ret += c\n",
    "    ret = ret[::-1]\n",
    "    print('%s 판매실적 : %s' %(keys,ret))"
   ]
  },
  {
   "cell_type": "code",
   "execution_count": 36,
   "metadata": {},
   "outputs": [
    {
     "name": "stdout",
     "output_type": "stream",
     "text": [
      "1월 판매실적 : 59,870,000원\n",
      "2월 판매실적 : 39,860,000원\n",
      "3월 판매실적 : 78,930,000원\n"
     ]
    }
   ],
   "source": [
    "sales = {'1월':59870000, '2월':39860000, '3월':78930000}\n",
    "item = sales.items()\n",
    "for key, value in item:\n",
    "    print(key+\" 판매실적 : \"+format(value,\",d\")+\"원\")"
   ]
  },
  {
   "cell_type": "code",
   "execution_count": 39,
   "metadata": {},
   "outputs": [
    {
     "name": "stdout",
     "output_type": "stream",
     "text": [
      "1월 판매실적 : 59,870,000원\n",
      "2월 판매실적 : 39,860,000원\n",
      "3월 판매실적 : 78,930,000원\n"
     ]
    }
   ],
   "source": [
    "sales = {'1월':59870000, '2월':39860000, '3월':78930000}\n",
    "item = sales.items()\n",
    "for key, value in item:\n",
    "    print(f\"{key} 판매실적 : {value:,d}원\")"
   ]
  },
  {
   "cell_type": "code",
   "execution_count": 47,
   "metadata": {},
   "outputs": [
    {
     "name": "stdout",
     "output_type": "stream",
     "text": [
      "50000원권 15117502매\n",
      "10000원권 1매\n",
      "5000원권 1매\n",
      "1000원권 1매\n",
      "500원 1개\n",
      "100원 0개\n",
      "50원 1개\n",
      "10원 0개\n"
     ]
    }
   ],
   "source": [
    "li=[50000,10000,5000,1000,500,100,50,10]\n",
    "na=int(input('금액을 입력하시오. : '))\n",
    "for i in li :\n",
    "    m=na//i\n",
    "    na=na%i\n",
    "    if(i>=1000):\n",
    "        print(f\"{i}원권 {m}매\")\n",
    "    else:\n",
    "        print(f\"{i}원 {m}개\")"
   ]
  },
  {
   "cell_type": "code",
   "execution_count": 2,
   "metadata": {},
   "outputs": [
    {
     "name": "stdout",
     "output_type": "stream",
     "text": [
      "파이썬 클래스 이해\n",
      "파이썬 클래스 이해\n"
     ]
    }
   ],
   "source": [
    "# 파이썬 클래스 구현\n",
    "class MyClass:\n",
    "    # 클래스 멤버변수\n",
    "    var = '파이썬 클래스 이해'\n",
    "    \n",
    "    # 클래스 메소드(함수)\n",
    "    def studyHello(self):\n",
    "        print(self.var)\n",
    "    \n",
    "obj = MyClass()\n",
    "print(obj.var)\n",
    "obj.studyHello()"
   ]
  },
  {
   "cell_type": "code",
   "execution_count": 3,
   "metadata": {},
   "outputs": [
    {
     "name": "stdout",
     "output_type": "stream",
     "text": [
      "30\n",
      "-10\n"
     ]
    }
   ],
   "source": [
    "class Add:\n",
    "    def add(self, num1, num2):\n",
    "        return num1+num2\n",
    "\n",
    "class Calulator(Add):\n",
    "    def sub(self, num1, num2):\n",
    "        return num1 - num2\n",
    "\n",
    "obj = Calulator()\n",
    "print(obj.add(10,20))\n",
    "print(obj.sub(10,20))"
   ]
  },
  {
   "cell_type": "code",
   "execution_count": null,
   "metadata": {},
   "outputs": [],
   "source": []
  },
  {
   "cell_type": "code",
   "execution_count": null,
   "metadata": {},
   "outputs": [],
   "source": []
  },
  {
   "cell_type": "code",
   "execution_count": null,
   "metadata": {},
   "outputs": [],
   "source": []
  },
  {
   "cell_type": "code",
   "execution_count": null,
   "metadata": {},
   "outputs": [],
   "source": []
  },
  {
   "cell_type": "code",
   "execution_count": null,
   "metadata": {},
   "outputs": [],
   "source": []
  },
  {
   "cell_type": "code",
   "execution_count": null,
   "metadata": {},
   "outputs": [],
   "source": []
  },
  {
   "cell_type": "code",
   "execution_count": null,
   "metadata": {},
   "outputs": [],
   "source": []
  },
  {
   "cell_type": "code",
   "execution_count": null,
   "metadata": {},
   "outputs": [],
   "source": []
  }
 ],
 "metadata": {
  "kernelspec": {
   "display_name": "Python 3",
   "language": "python",
   "name": "python3"
  },
  "language_info": {
   "codemirror_mode": {
    "name": "ipython",
    "version": 3
   },
   "file_extension": ".py",
   "mimetype": "text/x-python",
   "name": "python",
   "nbconvert_exporter": "python",
   "pygments_lexer": "ipython3",
   "version": "3.8.9"
  },
  "orig_nbformat": 4,
  "vscode": {
   "interpreter": {
    "hash": "6a926afa313b26ae1264fdcf81c726a97e69f6ba2ba780f6aa901948710f8d6e"
   }
  }
 },
 "nbformat": 4,
 "nbformat_minor": 2
}
