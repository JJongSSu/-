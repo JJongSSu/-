{
 "cells": [
  {
   "cell_type": "markdown",
   "metadata": {},
   "source": [
    "#### 네이버 카페 크롤러\n",
    "가입이 필수인 카페들은 조건을 만족시켜줘야 함\n",
    "1. 크롬 드라이버 제어(크롬창 켜기)\n",
    "2. 네이버 로그인(아이디 입력 -< 비밀번호 입력 -> 로그인 버튼 클릭 순서로 작업 진행)"
   ]
  },
  {
   "cell_type": "code",
   "execution_count": 40,
   "metadata": {},
   "outputs": [
    {
     "name": "stdout",
     "output_type": "stream",
     "text": [
      "Defaulting to user installation because normal site-packages is not writeable\n",
      "Requirement already satisfied: bs4 in c:\\users\\user\\appdata\\roaming\\python\\python38\\site-packages (0.0.1)\n",
      "Requirement already satisfied: beautifulsoup4 in c:\\users\\user\\appdata\\roaming\\python\\python38\\site-packages (from bs4) (4.11.1)\n",
      "Requirement already satisfied: soupsieve>1.2 in c:\\users\\user\\appdata\\roaming\\python\\python38\\site-packages (from beautifulsoup4->bs4) (2.3.2.post1)\n"
     ]
    }
   ],
   "source": [
    "!pip install bs4"
   ]
  },
  {
   "cell_type": "code",
   "execution_count": 41,
   "metadata": {},
   "outputs": [
    {
     "name": "stdout",
     "output_type": "stream",
     "text": [
      "Defaulting to user installation because normal site-packages is not writeable\n",
      "Requirement already satisfied: selenium in c:\\users\\user\\appdata\\roaming\\python\\python38\\site-packages (3.141.0)\n",
      "Requirement already satisfied: urllib3 in c:\\users\\user\\appdata\\roaming\\python\\python38\\site-packages (from selenium) (1.26.12)\n"
     ]
    }
   ],
   "source": [
    "!pip install selenium"
   ]
  },
  {
   "cell_type": "code",
   "execution_count": 42,
   "metadata": {},
   "outputs": [
    {
     "name": "stdout",
     "output_type": "stream",
     "text": [
      "Defaulting to user installation because normal site-packages is not writeable\n",
      "Requirement already satisfied: bs4 in c:\\users\\user\\appdata\\roaming\\python\\python38\\site-packages (0.0.1)\n",
      "Requirement already satisfied: beautifulsoup4 in c:\\users\\user\\appdata\\roaming\\python\\python38\\site-packages (from bs4) (4.11.1)\n",
      "Requirement already satisfied: soupsieve>1.2 in c:\\users\\user\\appdata\\roaming\\python\\python38\\site-packages (from beautifulsoup4->bs4) (2.3.2.post1)\n",
      "Defaulting to user installation because normal site-packages is not writeable\n",
      "Requirement already satisfied: webdriver_manager in c:\\users\\user\\appdata\\roaming\\python\\python38\\site-packages (3.8.4)\n",
      "Requirement already satisfied: tqdm in c:\\users\\user\\appdata\\roaming\\python\\python38\\site-packages (from webdriver_manager) (4.64.1)\n",
      "Requirement already satisfied: requests in c:\\users\\user\\appdata\\roaming\\python\\python38\\site-packages (from webdriver_manager) (2.28.1)\n",
      "Requirement already satisfied: python-dotenv in c:\\users\\user\\appdata\\roaming\\python\\python38\\site-packages (from webdriver_manager) (0.21.0)\n",
      "Requirement already satisfied: idna<4,>=2.5 in c:\\users\\user\\appdata\\roaming\\python\\python38\\site-packages (from requests->webdriver_manager) (3.4)\n",
      "Requirement already satisfied: charset-normalizer<3,>=2 in c:\\users\\user\\appdata\\roaming\\python\\python38\\site-packages (from requests->webdriver_manager) (2.1.1)\n",
      "Requirement already satisfied: certifi>=2017.4.17 in c:\\programdata\\miniconda3\\envs\\pythonproject\\lib\\site-packages (from requests->webdriver_manager) (2022.9.24)\n",
      "Requirement already satisfied: urllib3<1.27,>=1.21.1 in c:\\users\\user\\appdata\\roaming\\python\\python38\\site-packages (from requests->webdriver_manager) (1.26.12)\n",
      "Requirement already satisfied: colorama in c:\\users\\user\\appdata\\roaming\\python\\python38\\site-packages (from tqdm->webdriver_manager) (0.4.6)\n",
      "Defaulting to user installation because normal site-packages is not writeable\n",
      "Requirement already satisfied: selenium==3.141.0 in c:\\users\\user\\appdata\\roaming\\python\\python38\\site-packages (3.141.0)\n",
      "Requirement already satisfied: urllib3 in c:\\users\\user\\appdata\\roaming\\python\\python38\\site-packages (from selenium==3.141.0) (1.26.12)\n"
     ]
    }
   ],
   "source": [
    "!pip install bs4\n",
    "!pip install webdriver_manager\n",
    "!pip install selenium==3.141.0"
   ]
  },
  {
   "cell_type": "code",
   "execution_count": 43,
   "metadata": {},
   "outputs": [
    {
     "name": "stdout",
     "output_type": "stream",
     "text": [
      "Defaulting to user installation because normal site-packages is not writeable\n",
      "Requirement already satisfied: webdriver_manager in c:\\users\\user\\appdata\\roaming\\python\\python38\\site-packages (3.8.4)\n",
      "Requirement already satisfied: python-dotenv in c:\\users\\user\\appdata\\roaming\\python\\python38\\site-packages (from webdriver_manager) (0.21.0)\n",
      "Requirement already satisfied: tqdm in c:\\users\\user\\appdata\\roaming\\python\\python38\\site-packages (from webdriver_manager) (4.64.1)\n",
      "Requirement already satisfied: requests in c:\\users\\user\\appdata\\roaming\\python\\python38\\site-packages (from webdriver_manager) (2.28.1)\n",
      "Requirement already satisfied: idna<4,>=2.5 in c:\\users\\user\\appdata\\roaming\\python\\python38\\site-packages (from requests->webdriver_manager) (3.4)\n",
      "Requirement already satisfied: urllib3<1.27,>=1.21.1 in c:\\users\\user\\appdata\\roaming\\python\\python38\\site-packages (from requests->webdriver_manager) (1.26.12)\n",
      "Requirement already satisfied: certifi>=2017.4.17 in c:\\programdata\\miniconda3\\envs\\pythonproject\\lib\\site-packages (from requests->webdriver_manager) (2022.9.24)\n",
      "Requirement already satisfied: charset-normalizer<3,>=2 in c:\\users\\user\\appdata\\roaming\\python\\python38\\site-packages (from requests->webdriver_manager) (2.1.1)\n",
      "Requirement already satisfied: colorama in c:\\users\\user\\appdata\\roaming\\python\\python38\\site-packages (from tqdm->webdriver_manager) (0.4.6)\n"
     ]
    }
   ],
   "source": [
    "!pip install webdriver_manager"
   ]
  },
  {
   "cell_type": "code",
   "execution_count": 44,
   "metadata": {},
   "outputs": [],
   "source": [
    "from selenium import webdriver\n",
    "from selenium.webdriver.support.ui import WebDriverWait\n",
    "from selenium.webdriver.support import expected_conditions as EC\n",
    "from selenium.webdriver.chrome.options import Options\n",
    "from selenium.webdriver.common.by import By\n",
    "import time\n",
    "import csv\n",
    "import pandas as pd\n",
    "import random\n",
    "from bs4 import BeautifulSoup as bs"
   ]
  },
  {
   "cell_type": "code",
   "execution_count": 45,
   "metadata": {},
   "outputs": [
    {
     "name": "stdout",
     "output_type": "stream",
     "text": [
      "Defaulting to user installation because normal site-packages is not writeable\n",
      "Requirement already satisfied: pandas in c:\\users\\user\\appdata\\roaming\\python\\python38\\site-packages (1.5.1)\n",
      "Requirement already satisfied: numpy>=1.20.3 in c:\\users\\user\\appdata\\roaming\\python\\python38\\site-packages (from pandas) (1.23.4)\n",
      "Requirement already satisfied: python-dateutil>=2.8.1 in c:\\users\\user\\appdata\\roaming\\python\\python38\\site-packages (from pandas) (2.8.2)\n",
      "Requirement already satisfied: pytz>=2020.1 in c:\\users\\user\\appdata\\roaming\\python\\python38\\site-packages (from pandas) (2022.6)\n",
      "Requirement already satisfied: six>=1.5 in c:\\users\\user\\appdata\\roaming\\python\\python38\\site-packages (from python-dateutil>=2.8.1->pandas) (1.16.0)\n"
     ]
    }
   ],
   "source": [
    "!pip install pandas"
   ]
  },
  {
   "cell_type": "code",
   "execution_count": 56,
   "metadata": {},
   "outputs": [
    {
     "name": "stderr",
     "output_type": "stream",
     "text": [
      "C:\\Users\\user\\AppData\\Local\\Temp\\ipykernel_11496\\161475440.py:10: DeprecationWarning: use options instead of chrome_options\n",
      "  driver = webdriver.Chrome(executable_path=chrome_path, chrome_options=chrome_options)\n"
     ]
    }
   ],
   "source": [
    "#크롬 드라이버 제어\n",
    "chrome_options = Options()\n",
    "chrome_options.add_argument('--no-sandbox')\n",
    "chrome_options.add_argument('--disable-dex-shm-usage')\n",
    "\n",
    "# 현재 컴퓨터 크롬 드라이버 위치\n",
    "chrome_path = 'chromedriver.exe'    # 본인의 크롬 드라이버 위치 입력\n",
    "\n",
    "# 자동화된 크롬 창 실행\n",
    "driver = webdriver.Chrome(executable_path=chrome_path, chrome_options=chrome_options)\n"
   ]
  },
  {
   "cell_type": "code",
   "execution_count": 57,
   "metadata": {},
   "outputs": [],
   "source": [
    "# 네이버 로그인 페이지 접속\n",
    "login_url = 'https://nid.naver.com/nidlogin.login?mode=form&url=https%3A%2F%2Fwww.naver.com'\n",
    "driver.get(login_url)\n",
    "driver.implicitly_wait(10)\n",
    "\n",
    "# 본인의 아이디, 비밀번호를 각 변수에 저장\n",
    "my_id = 'dlwnsrl8964'\n",
    "my_pw = 'dustnrh31322!'\n",
    "\n",
    "# 보통 사이트에서는 send_key 사용하는데 네이버는 자동입력방지 기능 때문에 다른 방법 사용\n",
    "# 아이디, 비밀번호 입력 (네이버에 로그인 할 경우 'send_keys()' 함수가 아니라 'execute_script()' 사용)\n",
    "#네이버에서 send_key()를 쓰면 로그인에서 자동입력방지기능이 나타남.\n",
    "driver.execute_script(\"document.getElementsByName('id')[0].value = \\'\" + my_id + \"\\'\")\n",
    "driver.execute_script(\"document.getElementsByName('pw')[0].value = \\'\" + my_pw + \"\\'\")\n",
    "time.sleep(1)\n",
    "\n",
    "# 로그인 버튼 클릭\n",
    "driver.find_element('id','log.login').click()\n",
    "time.sleep(1)"
   ]
  },
  {
   "cell_type": "code",
   "execution_count": 58,
   "metadata": {},
   "outputs": [],
   "source": [
    "# 카페 접속\n",
    "time.sleep(2)\n",
    "moms_url = 'https://cafe.naver.com/firenze'\n",
    "driver.get(moms_url)\n",
    "time.sleep(1)\n",
    "\n",
    "# 원하는 게시판 클릭\n",
    "driver.find_element('xpath','//*[@id=\"menuLink123\"]').click()\n",
    "time.sleep(1)\n",
    "\n",
    "# 프레임 전환\n",
    "driver.switch_to.frame('cafe_main')\n",
    "time.sleep(1)"
   ]
  },
  {
   "cell_type": "markdown",
   "metadata": {},
   "source": [
    "### 게시물 크롤링\n",
    "1. 첫번째 게시물 클릭 : XPath 활용\n",
    "2. 크롤링할 개수 지정\n",
    "3. 크롤링"
   ]
  },
  {
   "cell_type": "code",
   "execution_count": 49,
   "metadata": {},
   "outputs": [],
   "source": [
    "import tqdm as tqdm"
   ]
  },
  {
   "cell_type": "code",
   "execution_count": 50,
   "metadata": {},
   "outputs": [
    {
     "name": "stdout",
     "output_type": "stream",
     "text": [
      "Defaulting to user installation because normal site-packages is not writeable\n",
      "Requirement already satisfied: lxml in c:\\users\\user\\appdata\\roaming\\python\\python38\\site-packages (4.9.1)\n"
     ]
    }
   ],
   "source": [
    "!pip install lxml"
   ]
  },
  {
   "cell_type": "code",
   "execution_count": 51,
   "metadata": {},
   "outputs": [
    {
     "name": "stderr",
     "output_type": "stream",
     "text": [
      "C:\\Users\\user\\AppData\\Local\\Temp\\ipykernel_11496\\708298747.py:98: DeprecationWarning: use options instead of chrome_options\n",
      "  driver = webdriver.Chrome(executable_path=chrome_path, chrome_options=chrome_options)\n"
     ]
    }
   ],
   "source": [
    "# 제목, 본문, 댓글, 날짜 list 생성\n",
    "titles = []\n",
    "contents = []\n",
    "reviews = []\n",
    "dates = []\n",
    "count_views = 0\n",
    "\n",
    "# 1번\n",
    "driver.find_element('xpath','//*[@id=\"main-area\"]/div[4]/table/tbody/tr[1]/td[1]/div[2]/div/a').click()\n",
    "\n",
    "# 2번 : for문으로 지정한 게시물 개수까지 돌림\n",
    "# 많은 양 크롤링할 경우 메모리 과부하로 크롤링이 멈출 수 있음\n",
    "# 이 때 이미 받은 data들이 날아가지 않도록 for문을 이용해 지정\n",
    "for i in range(1):  # 새로 창 열기\n",
    "    for i in range(10): # 한 번에 몇개의 게시물을 크롤링할 것인가, 컴퓨터 성능에 따라 개수 달라짐(~5000개)\n",
    "        driver.implicitly_wait(30)\n",
    "        # 제목 수집\n",
    "        time.sleep(random.uniform(0.5,1))   # 크롤링하다가 막히는 걸 방지하기 위해 최대한 사람처럼 보이게 만들어 줌 \n",
    "        title = driver.find_element('xpath','//*[@id=\"app\"]/div/div/div[2]/div[1]/div[1]/div/h3').text\n",
    "        titles.append(title)\n",
    "\n",
    "        # 본문 수집\n",
    "        # 3가지 경우 발생 : 기본적인 본문, 사진으로만 구성된 본문, 수정을 통해 다른 선택자 생김\n",
    "        try:\n",
    "            content = driver.find_element(By.CSS_SELECTOR,'div.se-module.se-module-text').text\n",
    "            contents.append(content)\n",
    "        except:\n",
    "            try:\n",
    "                content = driver.find_element(By.CSS_SELECTOR,'div.ContentRenderer').text\n",
    "                contents.append(content)\n",
    "                # 다른 선택자가 생긴 경우\n",
    "            except:\n",
    "                content=[]  # 본문이 사진으로만 구성된 경우 빈칸으로 가져옴(사진 가져오게 할 수도 있음)\n",
    "                contents.append(content)\n",
    "\n",
    "        # 댓글 수집(댓글이 있는 경우, 없는 경우)\n",
    "        soup = bs(driver.page_source, 'lxml') # 현재 페이지 HTML 정보 가지오 오기\n",
    "        iscomment = soup.find_all('span', class_='text_comment')\n",
    "        if (len(iscomment)==0):   # 댓글 없는 경우\n",
    "            review = []\n",
    "        else:   # 댓글 있는 경우\n",
    "            WebDriverWait(driver, 15).until(EC.presence_of_all_elements_located((By.CLASS_NAME, 'text_comment')))\n",
    "            # 웹드라이버를 통해 브라우저에서 최대 15초 기다려주고, text_comment(댓글 선택)\n",
    "            soup = bs(driver.page_source, 'lxml')\n",
    "            iscomment = soup.find_all('span', class_='text_comment')\n",
    "            review = []\n",
    "            for i in iscomment:\n",
    "                review.append([i.get_text()])   # iscomment 할당한 text_comment에서 text만 review에 append\n",
    "\n",
    "        reviews.append(review)\n",
    "\n",
    "        # 날짜 수집\n",
    "        date = driver.find_element(By.XPATH,'//*[@id=\"app\"]/div/div/div[2]/div[1]/div[2]/div/div[2]/span[1]').text\n",
    "        dates.append(date)\n",
    "\n",
    "        # count_views 크롤링 진행상황(50개마다 출력)\n",
    "        count_views = count_views + 1\n",
    "        if (count_views%50==0):\n",
    "            print(\"{}개 게시물 크롤링 완료\".format(count_views))\n",
    "        else:\n",
    "            pass\n",
    "\n",
    "        # 다음글 클릭(다음글 버튼 클릭해서 연속적으로 크롤링)\n",
    "        try:\n",
    "            driver.find_element(By.CSS_SELECTOR,'#app > div > div > div.ArticleTopBtns > div.right_area > a.BaseButton.btn_next.BaseButton--skinGray.size_default').click()\n",
    "            driver.implicitly_wait(20)\n",
    "\n",
    "        except: # 다음글 버튼 사라지는 문제점 발생, 크롬 close 후 다시 open\n",
    "            current_url = driver.current_url    # 다음글 버튼이 사라져서 크롤링이 멈춘 url 가져오기\n",
    "            driver.close()\n",
    "\n",
    "            # 크롬창 다시열기\n",
    "            driver = webdriver.Chrome(executable_path=chrome_path, chrome_options=chrome_options)\n",
    "\n",
    "            # 재로그인\n",
    "            login_url = 'https://nid.naver.com/nidlogin.login?mode=form&url=https%3A%2F%2Fwww.naver.com'\n",
    "            driver.get(login_url)\n",
    "            driver.implicitly_wait(10)\n",
    "\n",
    "            driver.execute_script(\"document.getElementsByName('id')[0].value = \\'\" + my_id + \"\\'\")\n",
    "            driver.execute_script(\"document.getElementsByName('pw')[0].value = \\'\" + my_pw + \"\\'\")\n",
    "            time.sleep(1)\n",
    "\n",
    "            driver.find_element('id','log.login').click()\n",
    "            time.sleep(1)\n",
    "\n",
    "            driver.get(current_url)\n",
    "            driver.switch_to.frame('cafe_main')\n",
    "            time.sleep(4)\n",
    "\n",
    "    # 크롬이 다시 열릴 때 가지고 올 다음글 링크(herf 추출)\n",
    "    link = driver.find_element(By.XPATH,'//*[@id=\"app\"]/div/div/div[1]/div[2]/a[1]').get_attribute('href')\n",
    "\n",
    "    # 현재 크롬창 닫기\n",
    "    driver.close()\n",
    "\n",
    "    # 다시 열기\n",
    "    driver = webdriver.Chrome(executable_path=chrome_path, chrome_options=chrome_options)\n",
    "\n",
    "    # 재로그인\n",
    "    login_url = 'https://nid.naver.com/nidlogin.login?mode=form&url=https%3A%2F%2Fwww.naver.com'\n",
    "    driver.get(login_url)\n",
    "    driver.implicitly_wait(10)\n",
    "\n",
    "    driver.execute_script(\"document.getElementsByName('id')[0].value = \\'\" + my_id + \"\\'\")\n",
    "    driver.execute_script(\"document.getElementsByName('pw')[0].value = \\'\" + my_pw + \"\\'\")\n",
    "    time.sleep(1)\n",
    "\n",
    "    driver.find_element('id','log.login').click()\n",
    "    time.sleep(1)\n",
    "\n",
    "    # 다음 링크부터 가져오기\n",
    "    driver.get(link)\n",
    "    driver.switch_to.frame('cafe_main')\n",
    "\n",
    "# 크롬 창 닫기\n",
    "driver.quit()\n"
   ]
  },
  {
   "cell_type": "code",
   "execution_count": 52,
   "metadata": {},
   "outputs": [
    {
     "name": "stdout",
     "output_type": "stream",
     "text": [
      "10\n",
      "10\n",
      "10\n",
      "10\n"
     ]
    }
   ],
   "source": [
    "# 제목 리뷰 댓글이 잘 크롤링 되었는지 확인_게시물 개수를 의미함\n",
    "print(len(titles))\n",
    "print(len(contents))\n",
    "print(len(reviews))\n",
    "print(len(dates))"
   ]
  },
  {
   "cell_type": "code",
   "execution_count": 53,
   "metadata": {},
   "outputs": [
    {
     "name": "stdout",
     "output_type": "stream",
     "text": [
      "['안녕하세요! \\n급하게 여행을 취소하게 되어 양도하고자 합니다.\\n11.14.(월)~11.18.(금) 4박5일이예요.\\n441유로 결제했는데 350유로에 양도할게요.\\n체크인 전에 미리 짐맡길 수 있는 서비스 포함되어 있습니다. \\n카카오톡(munjeong629)으로 연락주세요.', '안녕하세요!\\n급하게 여행을 취소하게 되어 양도하려고 해요.. ㅠㅠ\\n11월 16일 11시 2명이예요.\\n카카오톡(munjeong629)으로 연락주세요!', '원가 400유로 짜리 티켓입니다. 리셀로 460에 샀구요.\\n리셀가 기준 반값으로 230유로 \\n혹은 그에 준하는 원화로 팔게요.\\n118구역 중앙 3열이구요. \\n00부터 시작해서 실질 5열인거 같습니다.\\n구단 홈페이지 좌석 3D뷰 사진과 좌석 정보 첨부할게요.\\n쪽지로 카톡 아이디 남겨주시면 연락드릴게요.', '60GB 한달짜리 30불에 샀어요\\n대락 52기가 25일 남았네요\\n서울 직거래 가능하고 2만원 생각해요\\n호주 교통카드인 오팔카드도 있는데 4불 내외로 들어있고 필요하시면 같이드릴게요\\n11월 여행가시는분 있으시면 미리 사두셔서 공항에서  시간아끼심 좋을거 같습니다', '파리에 가서 몽파르나스 타워 전망대를 올라가려고 35800원에 2인 구입했는데\\n다른 일정들 때문에 못가고 돌아왔어요. \\n20% 할인하여 28000원에 판매합니다. \\n2023년 12월 안에만 사용하면 된다고 합니다. ', '관심있으신 분 댓주세요.\\n취소가 불가하대서 ㅠㅠㅠ \\n이름변경 1회에 된다는거 같아서,,\\n일단 댓주세요!', '무비스타 유심 30기가쯤 남았고 11/28일까지 사용할 수 있습니다\\n원하시는 분 있으시면 나눔할께요\\n지역은 광명인데 택배는 착불로 보내드릴 수 있어요 ', '지금 인터라켄가고있는데..\\n어이쿠 내무부님..독일..성 보러올라가는데도. 귀가아프다는..\\n낼 융프라우 가려는데. 혹시..고산병약 여유있거나하신분있을까욥. ㅜ\\n차량이있어서 인터라켄 시내는갈수있어요 \\n아님낼인터라켄가는분중..있는분계시려나요ㅜ', '안녕하세요\\n한국 문학책 판매합니다 :)\\n시집 /\\n삶이 자꾸 아프다고 말할 때 - 김재진 (5유로)\\n천장에 야광별을 하나씩 붙였다 - 박지용 (5유로)\\n한 사람을 사랑했네 - 이정하 (3유로)\\n소설 /\\n살인자의 기억법 - 김영하 (7유로)\\n산문 /\\n여행의 이유 - 김영하 (7유로)\\n파리에서 오늘 10/9, 내일 10/10 또는\\n크로아티아 자그렙에서 10/11 금요일 거래 가능합니다\\n(10/14 월요일 다시 파리 돌아오는 스케쥴이라 일정 조율 가능합니다)', '아테네 유적지 티켓 패스\\n5일권 티켓 패키지 구매했는데\\n방문 일정이 안돼서 티켓 양도합니다:)\\n11/11~11/12 양일간 사용가능합니다\\n아크로폴리스 포함 7곳 방문가능합니다.\\n10일 저녁 또는 11일 일찍 데려가주세요 ㅎㅎㅎㅎ\\n아래사진은 방문가능한 곳입니다.']\n"
     ]
    }
   ],
   "source": [
    "print(contents)\n"
   ]
  },
  {
   "cell_type": "code",
   "execution_count": 54,
   "metadata": {},
   "outputs": [],
   "source": [
    "# 데이터 합치기\n",
    "data = {'time': dates,'title':titles,'content':contents, 'review':reviews}\n",
    "df = pd.DataFrame(data)"
   ]
  },
  {
   "cell_type": "code",
   "execution_count": 55,
   "metadata": {},
   "outputs": [
    {
     "data": {
      "text/html": [
       "<div>\n",
       "<style scoped>\n",
       "    .dataframe tbody tr th:only-of-type {\n",
       "        vertical-align: middle;\n",
       "    }\n",
       "\n",
       "    .dataframe tbody tr th {\n",
       "        vertical-align: top;\n",
       "    }\n",
       "\n",
       "    .dataframe thead th {\n",
       "        text-align: right;\n",
       "    }\n",
       "</style>\n",
       "<table border=\"1\" class=\"dataframe\">\n",
       "  <thead>\n",
       "    <tr style=\"text-align: right;\">\n",
       "      <th></th>\n",
       "      <th>time</th>\n",
       "      <th>title</th>\n",
       "      <th>content</th>\n",
       "      <th>review</th>\n",
       "    </tr>\n",
       "  </thead>\n",
       "  <tbody>\n",
       "    <tr>\n",
       "      <th>0</th>\n",
       "      <td>2022.11.10. 13:41</td>\n",
       "      <td>런던 제드웰피카딜리서커스 숙소 양도(11.14.~11.18.)</td>\n",
       "      <td>안녕하세요! \\n급하게 여행을 취소하게 되어 양도하고자 합니다.\\n11.14.(월)...</td>\n",
       "      <td>[]</td>\n",
       "    </tr>\n",
       "    <tr>\n",
       "      <th>1</th>\n",
       "      <td>2022.11.10. 13:36</td>\n",
       "      <td>해리포터 스튜디오 11.16.(수) 11시 2명 양도합니다.</td>\n",
       "      <td>안녕하세요!\\n급하게 여행을 취소하게 되어 양도하려고 해요.. ㅠㅠ\\n11월 16일...</td>\n",
       "      <td>[]</td>\n",
       "    </tr>\n",
       "    <tr>\n",
       "      <th>2</th>\n",
       "      <td>2022.11.10. 13:35</td>\n",
       "      <td>13일 PSG 홈 경기 티켓 싸게 팝니다</td>\n",
       "      <td>원가 400유로 짜리 티켓입니다. 리셀로 460에 샀구요.\\n리셀가 기준 반값으로 ...</td>\n",
       "      <td>[]</td>\n",
       "    </tr>\n",
       "    <tr>\n",
       "      <th>3</th>\n",
       "      <td>2022.11.10. 11:20</td>\n",
       "      <td>호주 optus 유심 50기가</td>\n",
       "      <td>60GB 한달짜리 30불에 샀어요\\n대락 52기가 25일 남았네요\\n서울 직거래 가...</td>\n",
       "      <td>[]</td>\n",
       "    </tr>\n",
       "    <tr>\n",
       "      <th>4</th>\n",
       "      <td>2022.11.10. 10:42</td>\n",
       "      <td>파리 - 몽파르나스 타워 입장권</td>\n",
       "      <td>파리에 가서 몽파르나스 타워 전망대를 올라가려고 35800원에 2인 구입했는데\\n다...</td>\n",
       "      <td>[]</td>\n",
       "    </tr>\n",
       "    <tr>\n",
       "      <th>5</th>\n",
       "      <td>2022.11.10. 09:46</td>\n",
       "      <td>11.24. 14:30 스페인 그라나다 알함브라 나사리궁 2매 양도해요</td>\n",
       "      <td>관심있으신 분 댓주세요.\\n취소가 불가하대서 ㅠㅠㅠ \\n이름변경 1회에 된다는거 같...</td>\n",
       "      <td>[]</td>\n",
       "    </tr>\n",
       "    <tr>\n",
       "      <th>6</th>\n",
       "      <td>2022.11.10. 06:14</td>\n",
       "      <td>무비스타 유심 나눔해요</td>\n",
       "      <td>무비스타 유심 30기가쯤 남았고 11/28일까지 사용할 수 있습니다\\n원하시는 분 ...</td>\n",
       "      <td>[[저 가능 할까요?!], [쪽지로 주소 전번 보내주시면 착불로 보낼드릴께요], [...</td>\n",
       "    </tr>\n",
       "    <tr>\n",
       "      <th>7</th>\n",
       "      <td>2022.11.10. 04:24</td>\n",
       "      <td>고산병약 나눔받거나 사고싶어요</td>\n",
       "      <td>지금 인터라켄가고있는데..\\n어이쿠 내무부님..독일..성 보러올라가는데도. 귀가아프...</td>\n",
       "      <td>[]</td>\n",
       "    </tr>\n",
       "    <tr>\n",
       "      <th>8</th>\n",
       "      <td>2022.11.09. 23:04</td>\n",
       "      <td>한국 시집, 소설, 산문 판매합니다 (프랑스 파리/크로아티아 자그렙)</td>\n",
       "      <td>안녕하세요\\n한국 문학책 판매합니다 :)\\n시집 /\\n삶이 자꾸 아프다고 말할 때 ...</td>\n",
       "      <td>[]</td>\n",
       "    </tr>\n",
       "    <tr>\n",
       "      <th>9</th>\n",
       "      <td>2022.11.09. 20:22</td>\n",
       "      <td>아테네 티켓 패키지 입장권 2장 나눔(11/11-11/12 2일 사용권)</td>\n",
       "      <td>아테네 유적지 티켓 패스\\n5일권 티켓 패키지 구매했는데\\n방문 일정이 안돼서 티켓...</td>\n",
       "      <td>[]</td>\n",
       "    </tr>\n",
       "  </tbody>\n",
       "</table>\n",
       "</div>"
      ],
      "text/plain": [
       "                time                                     title  \\\n",
       "0  2022.11.10. 13:41        런던 제드웰피카딜리서커스 숙소 양도(11.14.~11.18.)   \n",
       "1  2022.11.10. 13:36         해리포터 스튜디오 11.16.(수) 11시 2명 양도합니다.   \n",
       "2  2022.11.10. 13:35                    13일 PSG 홈 경기 티켓 싸게 팝니다   \n",
       "3  2022.11.10. 11:20                          호주 optus 유심 50기가   \n",
       "4  2022.11.10. 10:42                         파리 - 몽파르나스 타워 입장권   \n",
       "5  2022.11.10. 09:46   11.24. 14:30 스페인 그라나다 알함브라 나사리궁 2매 양도해요   \n",
       "6  2022.11.10. 06:14                              무비스타 유심 나눔해요   \n",
       "7  2022.11.10. 04:24                          고산병약 나눔받거나 사고싶어요   \n",
       "8  2022.11.09. 23:04    한국 시집, 소설, 산문 판매합니다 (프랑스 파리/크로아티아 자그렙)   \n",
       "9  2022.11.09. 20:22  아테네 티켓 패키지 입장권 2장 나눔(11/11-11/12 2일 사용권)   \n",
       "\n",
       "                                             content  \\\n",
       "0  안녕하세요! \\n급하게 여행을 취소하게 되어 양도하고자 합니다.\\n11.14.(월)...   \n",
       "1  안녕하세요!\\n급하게 여행을 취소하게 되어 양도하려고 해요.. ㅠㅠ\\n11월 16일...   \n",
       "2  원가 400유로 짜리 티켓입니다. 리셀로 460에 샀구요.\\n리셀가 기준 반값으로 ...   \n",
       "3  60GB 한달짜리 30불에 샀어요\\n대락 52기가 25일 남았네요\\n서울 직거래 가...   \n",
       "4  파리에 가서 몽파르나스 타워 전망대를 올라가려고 35800원에 2인 구입했는데\\n다...   \n",
       "5  관심있으신 분 댓주세요.\\n취소가 불가하대서 ㅠㅠㅠ \\n이름변경 1회에 된다는거 같...   \n",
       "6  무비스타 유심 30기가쯤 남았고 11/28일까지 사용할 수 있습니다\\n원하시는 분 ...   \n",
       "7  지금 인터라켄가고있는데..\\n어이쿠 내무부님..독일..성 보러올라가는데도. 귀가아프...   \n",
       "8  안녕하세요\\n한국 문학책 판매합니다 :)\\n시집 /\\n삶이 자꾸 아프다고 말할 때 ...   \n",
       "9  아테네 유적지 티켓 패스\\n5일권 티켓 패키지 구매했는데\\n방문 일정이 안돼서 티켓...   \n",
       "\n",
       "                                              review  \n",
       "0                                                 []  \n",
       "1                                                 []  \n",
       "2                                                 []  \n",
       "3                                                 []  \n",
       "4                                                 []  \n",
       "5                                                 []  \n",
       "6  [[저 가능 할까요?!], [쪽지로 주소 전번 보내주시면 착불로 보낼드릴께요], [...  \n",
       "7                                                 []  \n",
       "8                                                 []  \n",
       "9                                                 []  "
      ]
     },
     "execution_count": 55,
     "metadata": {},
     "output_type": "execute_result"
    }
   ],
   "source": [
    "df"
   ]
  },
  {
   "cell_type": "code",
   "execution_count": null,
   "metadata": {},
   "outputs": [],
   "source": []
  },
  {
   "cell_type": "code",
   "execution_count": null,
   "metadata": {},
   "outputs": [],
   "source": []
  },
  {
   "cell_type": "code",
   "execution_count": null,
   "metadata": {},
   "outputs": [],
   "source": []
  },
  {
   "cell_type": "code",
   "execution_count": null,
   "metadata": {},
   "outputs": [],
   "source": []
  },
  {
   "cell_type": "code",
   "execution_count": null,
   "metadata": {},
   "outputs": [],
   "source": []
  },
  {
   "cell_type": "code",
   "execution_count": null,
   "metadata": {},
   "outputs": [],
   "source": []
  }
 ],
 "metadata": {
  "kernelspec": {
   "display_name": "Python 3 (ipykernel)",
   "language": "python",
   "name": "python3"
  },
  "language_info": {
   "codemirror_mode": {
    "name": "ipython",
    "version": 3
   },
   "file_extension": ".py",
   "mimetype": "text/x-python",
   "name": "python",
   "nbconvert_exporter": "python",
   "pygments_lexer": "ipython3",
   "version": "3.8.13"
  },
  "vscode": {
   "interpreter": {
    "hash": "b41067d333ae5a9f55b6c28201bd8f20eb97371436f57b1f1425e7e396b7af99"
   }
  }
 },
 "nbformat": 4,
 "nbformat_minor": 2
}
