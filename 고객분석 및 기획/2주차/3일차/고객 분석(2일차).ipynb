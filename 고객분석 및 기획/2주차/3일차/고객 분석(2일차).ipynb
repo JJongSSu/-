{
 "cells": [
  {
   "cell_type": "markdown",
   "metadata": {},
   "source": [
    "#### 네이버 카페 크롤러\n",
    "가입이 필수인 카페들은 조건을 만족시켜줘야 함\n",
    "1. 크롬 드라이버 제어(크롬창 켜기)\n",
    "2. 네이버 로그인(아이디 입력 -< 비밀번호 입력 -> 로그인 버튼 클릭 순서로 작업 진행)"
   ]
  },
  {
   "cell_type": "code",
   "execution_count": 44,
   "metadata": {},
   "outputs": [],
   "source": [
    "from selenium import webdriver\n",
    "from selenium.webdriver.support.ui import WebDriverWait\n",
    "from selenium.webdriver.support import expected_conditions as EC\n",
    "from selenium.webdriver.chrome.options import Options\n",
    "from selenium.webdriver.common.by import By\n",
    "import time\n",
    "import csv\n",
    "import pandas as pd\n",
    "import random\n",
    "from bs4 import BeautifulSoup as bs"
   ]
  },
  {
   "cell_type": "code",
   "execution_count": 46,
   "metadata": {},
   "outputs": [
    {
     "name": "stderr",
     "output_type": "stream",
     "text": [
      "C:\\Users\\user\\AppData\\Local\\Temp\\ipykernel_19260\\161475440.py:10: DeprecationWarning: use options instead of chrome_options\n",
      "  driver = webdriver.Chrome(executable_path=chrome_path, chrome_options=chrome_options)\n"
     ]
    }
   ],
   "source": [
    "#크롬 드라이버 제어\n",
    "chrome_options = Options()\n",
    "chrome_options.add_argument('--no-sandbox')\n",
    "chrome_options.add_argument('--disable-dex-shm-usage')\n",
    "\n",
    "# 현재 컴퓨터 크롬 드라이버 위치\n",
    "chrome_path = 'chromedriver.exe'    # 본인의 크롬 드라이버 위치 입력\n",
    "\n",
    "# 자동화된 크롬 창 실행\n",
    "driver = webdriver.Chrome(executable_path=chrome_path, chrome_options=chrome_options)\n"
   ]
  },
  {
   "cell_type": "code",
   "execution_count": 47,
   "metadata": {},
   "outputs": [],
   "source": [
    "# 네이버 로그인 페이지 접속\n",
    "login_url = 'https://nid.naver.com/nidlogin.login?mode=form&url=https%3A%2F%2Fwww.naver.com'\n",
    "driver.get(login_url)\n",
    "driver.implicitly_wait(10)\n",
    "\n",
    "# 본인의 아이디, 비밀번호를 각 변수에 저장\n",
    "my_id = 'dlwnsrl8964'\n",
    "my_pw = 'dustnrh31322!'\n",
    "\n",
    "# 보통 사이트에서는 send_key 사용하는데 네이버는 자동입력방지 기능 때문에 다른 방법 사용\n",
    "# 아이디, 비밀번호 입력 (네이버에 로그인 할 경우 'send_keys()' 함수가 아니라 'execute_script()' 사용)\n",
    "#네이버에서 send_key()를 쓰면 로그인에서 자동입력방지기능이 나타남.\n",
    "driver.execute_script(\"document.getElementsByName('id')[0].value = \\'\" + my_id + \"\\'\")\n",
    "driver.execute_script(\"document.getElementsByName('pw')[0].value = \\'\" + my_pw + \"\\'\")\n",
    "time.sleep(1)\n",
    "\n",
    "# 로그인 버튼 클릭\n",
    "driver.find_element('id','log.login').click()\n",
    "time.sleep(1)"
   ]
  },
  {
   "cell_type": "code",
   "execution_count": 48,
   "metadata": {},
   "outputs": [],
   "source": [
    "# 카페 접속\n",
    "time.sleep(2)\n",
    "moms_url = 'https://cafe.naver.com/firenze'\n",
    "driver.get(moms_url)\n",
    "time.sleep(1)\n",
    "\n",
    "# 원하는 게시판 클릭\n",
    "driver.find_element('xpath','//*[@id=\"menuLink123\"]').click()\n",
    "time.sleep(1)\n",
    "\n",
    "# 프레임 전환\n",
    "driver.switch_to.frame('cafe_main')\n",
    "time.sleep(1)"
   ]
  },
  {
   "cell_type": "markdown",
   "metadata": {},
   "source": [
    "### 게시물 크롤링\n",
    "1. 첫번째 게시물 클릭 : XPath 활용\n",
    "2. 크롤링할 개수 지정\n",
    "3. 크롤링"
   ]
  },
  {
   "cell_type": "code",
   "execution_count": 49,
   "metadata": {},
   "outputs": [],
   "source": [
    "import tqdm as tqdm"
   ]
  },
  {
   "cell_type": "code",
   "execution_count": 50,
   "metadata": {},
   "outputs": [
    {
     "name": "stdout",
     "output_type": "stream",
     "text": [
      "Defaulting to user installation because normal site-packages is not writeable\n",
      "Requirement already satisfied: lxml in c:\\users\\user\\appdata\\roaming\\python\\python38\\site-packages (4.9.1)\n"
     ]
    }
   ],
   "source": [
    "!pip install lxml"
   ]
  },
  {
   "cell_type": "code",
   "execution_count": 51,
   "metadata": {},
   "outputs": [
    {
     "ename": "InvalidSessionIdException",
     "evalue": "Message: invalid session id\n",
     "output_type": "error",
     "traceback": [
      "\u001b[1;31m---------------------------------------------------------------------------\u001b[0m",
      "\u001b[1;31mInvalidSessionIdException\u001b[0m                 Traceback (most recent call last)",
      "Cell \u001b[1;32mIn [51], line 16\u001b[0m\n\u001b[0;32m     14\u001b[0m \u001b[39mfor\u001b[39;00m i \u001b[39min\u001b[39;00m \u001b[39mrange\u001b[39m(\u001b[39m1\u001b[39m):  \u001b[39m# 새로 창 열기\u001b[39;00m\n\u001b[0;32m     15\u001b[0m     \u001b[39mfor\u001b[39;00m i \u001b[39min\u001b[39;00m \u001b[39mrange\u001b[39m(\u001b[39m30\u001b[39m): \u001b[39m# 한 번에 몇개의 게시물을 크롤링할 것인가, 컴퓨터 성능에 따라 개수 달라짐(~5000개)\u001b[39;00m\n\u001b[1;32m---> 16\u001b[0m         driver\u001b[39m.\u001b[39;49mimplicitly_wait(\u001b[39m30\u001b[39;49m)\n\u001b[0;32m     17\u001b[0m         \u001b[39m# 제목 수집\u001b[39;00m\n\u001b[0;32m     18\u001b[0m         time\u001b[39m.\u001b[39msleep(random\u001b[39m.\u001b[39muniform(\u001b[39m0.5\u001b[39m,\u001b[39m1\u001b[39m))   \u001b[39m# 크롤링하다가 막히는 걸 방지하기 위해 최대한 사람처럼 보이게 만들어 줌 \u001b[39;00m\n",
      "File \u001b[1;32m~\\AppData\\Roaming\\Python\\Python38\\site-packages\\selenium\\webdriver\\remote\\webdriver.py:911\u001b[0m, in \u001b[0;36mWebDriver.implicitly_wait\u001b[1;34m(self, time_to_wait)\u001b[0m\n\u001b[0;32m    898\u001b[0m \u001b[39m\"\"\"\u001b[39;00m\n\u001b[0;32m    899\u001b[0m \u001b[39mSets a sticky timeout to implicitly wait for an element to be found,\u001b[39;00m\n\u001b[0;32m    900\u001b[0m \u001b[39m   or a command to complete. This method only needs to be called one\u001b[39;00m\n\u001b[1;32m   (...)\u001b[0m\n\u001b[0;32m    908\u001b[0m \u001b[39m    driver.implicitly_wait(30)\u001b[39;00m\n\u001b[0;32m    909\u001b[0m \u001b[39m\"\"\"\u001b[39;00m\n\u001b[0;32m    910\u001b[0m \u001b[39mif\u001b[39;00m \u001b[39mself\u001b[39m\u001b[39m.\u001b[39mw3c:\n\u001b[1;32m--> 911\u001b[0m     \u001b[39mself\u001b[39;49m\u001b[39m.\u001b[39;49mexecute(Command\u001b[39m.\u001b[39;49mSET_TIMEOUTS, {\n\u001b[0;32m    912\u001b[0m         \u001b[39m'\u001b[39;49m\u001b[39mimplicit\u001b[39;49m\u001b[39m'\u001b[39;49m: \u001b[39mint\u001b[39;49m(\u001b[39mfloat\u001b[39;49m(time_to_wait) \u001b[39m*\u001b[39;49m \u001b[39m1000\u001b[39;49m)})\n\u001b[0;32m    913\u001b[0m \u001b[39melse\u001b[39;00m:\n\u001b[0;32m    914\u001b[0m     \u001b[39mself\u001b[39m\u001b[39m.\u001b[39mexecute(Command\u001b[39m.\u001b[39mIMPLICIT_WAIT, {\n\u001b[0;32m    915\u001b[0m         \u001b[39m'\u001b[39m\u001b[39mms\u001b[39m\u001b[39m'\u001b[39m: \u001b[39mfloat\u001b[39m(time_to_wait) \u001b[39m*\u001b[39m \u001b[39m1000\u001b[39m})\n",
      "File \u001b[1;32m~\\AppData\\Roaming\\Python\\Python38\\site-packages\\selenium\\webdriver\\remote\\webdriver.py:321\u001b[0m, in \u001b[0;36mWebDriver.execute\u001b[1;34m(self, driver_command, params)\u001b[0m\n\u001b[0;32m    319\u001b[0m response \u001b[39m=\u001b[39m \u001b[39mself\u001b[39m\u001b[39m.\u001b[39mcommand_executor\u001b[39m.\u001b[39mexecute(driver_command, params)\n\u001b[0;32m    320\u001b[0m \u001b[39mif\u001b[39;00m response:\n\u001b[1;32m--> 321\u001b[0m     \u001b[39mself\u001b[39;49m\u001b[39m.\u001b[39;49merror_handler\u001b[39m.\u001b[39;49mcheck_response(response)\n\u001b[0;32m    322\u001b[0m     response[\u001b[39m'\u001b[39m\u001b[39mvalue\u001b[39m\u001b[39m'\u001b[39m] \u001b[39m=\u001b[39m \u001b[39mself\u001b[39m\u001b[39m.\u001b[39m_unwrap_value(\n\u001b[0;32m    323\u001b[0m         response\u001b[39m.\u001b[39mget(\u001b[39m'\u001b[39m\u001b[39mvalue\u001b[39m\u001b[39m'\u001b[39m, \u001b[39mNone\u001b[39;00m))\n\u001b[0;32m    324\u001b[0m     \u001b[39mreturn\u001b[39;00m response\n",
      "File \u001b[1;32m~\\AppData\\Roaming\\Python\\Python38\\site-packages\\selenium\\webdriver\\remote\\errorhandler.py:242\u001b[0m, in \u001b[0;36mErrorHandler.check_response\u001b[1;34m(self, response)\u001b[0m\n\u001b[0;32m    240\u001b[0m         alert_text \u001b[39m=\u001b[39m value[\u001b[39m'\u001b[39m\u001b[39malert\u001b[39m\u001b[39m'\u001b[39m]\u001b[39m.\u001b[39mget(\u001b[39m'\u001b[39m\u001b[39mtext\u001b[39m\u001b[39m'\u001b[39m)\n\u001b[0;32m    241\u001b[0m     \u001b[39mraise\u001b[39;00m exception_class(message, screen, stacktrace, alert_text)\n\u001b[1;32m--> 242\u001b[0m \u001b[39mraise\u001b[39;00m exception_class(message, screen, stacktrace)\n",
      "\u001b[1;31mInvalidSessionIdException\u001b[0m: Message: invalid session id\n"
     ]
    }
   ],
   "source": [
    "# 제목, 본문, 댓글, 날짜 list 생성\n",
    "titles = []\n",
    "contents = []\n",
    "reviews = []\n",
    "dates = []\n",
    "count_views = 0\n",
    "\n",
    "# 1번\n",
    "driver.find_element(By.XPATH,'//*[@id=\"main-area\"]/div[4]/table/tbody/tr[1]/td[1]/div[2]/div/a').click()\n",
    "\n",
    "# 2번 : for문으로 지정한 게시물 개수까지 돌림\n",
    "# 많은 양 크롤링할 경우 메모리 과부하로 크롤링이 멈출 수 있음\n",
    "# 이 때 이미 받은 data들이 날아가지 않도록 for문을 이용해 지정\n",
    "for i in range(1):  # 새로 창 열기\n",
    "    for i in range(30): # 한 번에 몇개의 게시물을 크롤링할 것인가, 컴퓨터 성능에 따라 개수 달라짐(~5000개)\n",
    "        driver.implicitly_wait(30)\n",
    "        # 제목 수집\n",
    "        time.sleep(random.uniform(0.5,1))   # 크롤링하다가 막히는 걸 방지하기 위해 최대한 사람처럼 보이게 만들어 줌 \n",
    "        title = driver.find_element(By.XPATH,'//*[@id=\"app\"]/div/div/div[2]/div[1]/div[1]/div/h3').text\n",
    "        titles.append(title)\n",
    "\n",
    "        # 본문 수집\n",
    "        # 3가지 경우 발생 : 기본적인 본문, 사진으로만 구성된 본문, 수정을 통해 다른 선택자 생김\n",
    "        try:\n",
    "            content = driver.find_element(By.CSS_SELECTOR,'div.se-module.se-module-text')\n",
    "            contents.append(content)\n",
    "        except:\n",
    "            try:\n",
    "                content = driver.find_element(By.CSS_SELECTOR,'div.ContentRenderer')\n",
    "                contents.append(content)\n",
    "                # 다른 선택자가 생긴 경우\n",
    "            except:\n",
    "                content=[]  # 본문이 사진으로만 구성된 경우 빈칸으로 가져옴(사진 가져오게 할 수도 있음)\n",
    "                contents.append(content)\n",
    "\n",
    "        # 댓글 수집(댓글이 있는 경우, 없는 경우)\n",
    "        soup = bs(driver.page_source, 'lxml') # 현재 페이지 HTML 정보 가지오 오기\n",
    "        iscomment = soup.find_all('span', class_='text_comment')\n",
    "        if (len(iscomment)==0):   # 댓글 없는 경우\n",
    "            review = []\n",
    "        else:   # 댓글 있는 경우\n",
    "            WebDriverWait(driver, 15).until(EC.presence_of_all_elements_located((By.CLASS_NAME, 'text_comment')))\n",
    "            # 웹드라이버를 통해 브라우저에서 최대 15초 기다려주고, text_comment(댓글 선택)\n",
    "            soup = bs(driver.page_source, 'lxml')\n",
    "            iscomment = soup.find_all('span', class_='text_comment')\n",
    "            review = []\n",
    "            for i in iscomment:\n",
    "                review.append([i.get_text()])   # iscomment 할당한 text_comment에서 text만 review에 append\n",
    "\n",
    "        reviews.append(review)\n",
    "\n",
    "        # 날짜 수집\n",
    "        date = driver.find_element(By.XPATH,'//*[@id=\"app\"]/div/div/div[2]/div[1]/div[2]/div/div[2]/span[1]').text\n",
    "        dates.append(date)\n",
    "\n",
    "        # count_views 크롤링 진행상황(50개마다 출력)\n",
    "        count_views = count_views + 1\n",
    "        if (count_views%50==0):\n",
    "            print(\"{}개 게시물 크롤링 완료\".format(count_views))\n",
    "        else:\n",
    "            pass\n",
    "\n",
    "        # 다음글 클릭(다음글 버튼 클릭해서 연속적으로 크롤링)\n",
    "        try:\n",
    "            driver.find_element(By.CSS_SELECTOR,'#app > div > div > div.ArticleTopBtns > div.right_area > a.BaseButton.btn_next.BaseButton--skinGray.size_default')\n",
    "            driver.implicitly_wait(20)\n",
    "\n",
    "        except: # 다음글 버튼 사라지는 문제점 발생, 크롬 close 후 다시 open\n",
    "            current_url = driver.current_url    # 다음글 버튼이 사라져서 크롤링이 멈춘 url 가져오기\n",
    "            driver.close()\n",
    "\n",
    "            # 크롬창 다시열기\n",
    "            driver = webdriver.Chrome(executable_path=chrome_path, chrome_options=chrome_options)\n",
    "\n",
    "            # 재로그인\n",
    "            login_url = 'https://nid.naver.com/nidlogin.login?mode=form&url=https%3A%2F%2Fwww.naver.com'\n",
    "            driver.get(login_url)\n",
    "            driver.implicitly_wait(10)\n",
    "\n",
    "            driver.execute_script(\"document.getElementsByName('id')[0].value = \\'\" + my_id + \"\\'\")\n",
    "            driver.execute_script(\"document.getElementsByName('pw')[0].value = \\'\" + my_pw + \"\\'\")\n",
    "            time.sleep(1)\n",
    "\n",
    "            driver.find_element('id','log.login').click()\n",
    "            time.sleep(1)\n",
    "\n",
    "            driver.get(current_url)\n",
    "            driver.switch_to.frame('cafe_main')\n",
    "            time.sleep(4)\n",
    "\n",
    "        # 크롬이 다시 열릴 때 가지고 올 다음글 링크(herf 추출)\n",
    "        link = driver.find_element(By.XPATH,'//*[@id=\"app\"]/div/div/div[1]/div[2]/a[1]').get_attribute('href')\n",
    "\n",
    "        # 현재 크롬창 닫기\n",
    "        driver.close()\n",
    "\n",
    "    # 다시 열기\n",
    "    driver = webdriver.Chrome(executable_path=chrome_path, chrome_options=chrome_options)\n",
    "\n",
    "    # 재로그인\n",
    "    login_url = 'https://nid.naver.com/nidlogin.login?mode=form&url=https%3A%2F%2Fwww.naver.com'\n",
    "    driver.get(login_url)\n",
    "    driver.implicitly_wait(10)\n",
    "\n",
    "    driver.execute_script(\"document.getElementsByName('id')[0].value = \\'\" + my_id + \"\\'\")\n",
    "    driver.execute_script(\"document.getElementsByName('pw')[0].value = \\'\" + my_pw + \"\\'\")\n",
    "    time.sleep(1)\n",
    "\n",
    "    driver.find_element('id','log.login').click()\n",
    "    time.sleep(1)\n",
    "\n",
    "    # 다음 링크부터 가져오기\n",
    "    driver.get(link)\n",
    "    driver.switch_to.frame('cafe_main')\n",
    "\n",
    "# 크롬 창 닫기\n",
    "driver.quit()\n"
   ]
  },
  {
   "cell_type": "code",
   "execution_count": null,
   "metadata": {},
   "outputs": [],
   "source": []
  },
  {
   "cell_type": "code",
   "execution_count": null,
   "metadata": {},
   "outputs": [],
   "source": [
    "\n"
   ]
  },
  {
   "cell_type": "code",
   "execution_count": null,
   "metadata": {},
   "outputs": [],
   "source": []
  },
  {
   "cell_type": "code",
   "execution_count": null,
   "metadata": {},
   "outputs": [],
   "source": []
  },
  {
   "cell_type": "code",
   "execution_count": null,
   "metadata": {},
   "outputs": [],
   "source": []
  },
  {
   "cell_type": "code",
   "execution_count": null,
   "metadata": {},
   "outputs": [],
   "source": []
  },
  {
   "cell_type": "code",
   "execution_count": null,
   "metadata": {},
   "outputs": [],
   "source": []
  },
  {
   "cell_type": "code",
   "execution_count": null,
   "metadata": {},
   "outputs": [],
   "source": []
  },
  {
   "cell_type": "code",
   "execution_count": null,
   "metadata": {},
   "outputs": [],
   "source": []
  },
  {
   "cell_type": "code",
   "execution_count": null,
   "metadata": {},
   "outputs": [],
   "source": []
  }
 ],
 "metadata": {
  "kernelspec": {
   "display_name": "Python 3.8.13 ('pythonProject')",
   "language": "python",
   "name": "python3"
  },
  "language_info": {
   "codemirror_mode": {
    "name": "ipython",
    "version": 3
   },
   "file_extension": ".py",
   "mimetype": "text/x-python",
   "name": "python",
   "nbconvert_exporter": "python",
   "pygments_lexer": "ipython3",
   "version": "3.8.13"
  },
  "orig_nbformat": 4,
  "vscode": {
   "interpreter": {
    "hash": "b41067d333ae5a9f55b6c28201bd8f20eb97371436f57b1f1425e7e396b7af99"
   }
  }
 },
 "nbformat": 4,
 "nbformat_minor": 2
}
