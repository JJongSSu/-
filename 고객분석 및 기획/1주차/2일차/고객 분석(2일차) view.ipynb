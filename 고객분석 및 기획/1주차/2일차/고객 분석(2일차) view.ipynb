{
 "cells": [
  {
   "cell_type": "code",
   "execution_count": 13,
   "metadata": {},
   "outputs": [
    {
     "name": "stdout",
     "output_type": "stream",
     "text": [
      "Name: certifi\n",
      "Version: 2022.9.24\n",
      "Summary: Python package for providing Mozilla's CA Bundle.\n",
      "Home-page: https://github.com/certifi/python-certifi\n",
      "Author: Kenneth Reitz\n",
      "Author-email: me@kennethreitz.com\n",
      "License: MPL-2.0\n",
      "Location: c:\\programdata\\miniconda3\\envs\\pythonproject\\lib\\site-packages\n",
      "Requires: \n",
      "Required-by: requests\n"
     ]
    }
   ],
   "source": [
    "!pip show certifi"
   ]
  },
  {
   "cell_type": "code",
   "execution_count": 14,
   "metadata": {},
   "outputs": [],
   "source": [
    "from selenium import webdriver\n",
    "import time\n",
    "from bs4 import BeautifulSoup as bs\n",
    "import csv\n",
    "import requests\n",
    "import pandas as pd\n",
    "import re\n",
    "from selenium.webdriver.common.desired_capabilities import DesiredCapabilities #다음화면으로 빨리 넘어갈때\n",
    "from selenium.common.exceptions import UnexpectedAlertPresentException #selenium 이용시 Alert을 제어\n",
    "import urllib.request\n",
    "import random\n",
    "from selenium.webdriver.chrome.options import Options\n"
   ]
  },
  {
   "cell_type": "code",
   "execution_count": 15,
   "metadata": {},
   "outputs": [],
   "source": [
    "# view는 스크롤을 계속 내리는 코드를 작성해줘야 됨\n",
    "# 스크롤을 끝까지 내린 후 링크를 모두 수집\n",
    "# 수집한 링크를 하나씩 들어가서 데이터 수집\n",
    "# 월별로 최대 1000개 크롤링 가능\n"
   ]
  },
  {
   "cell_type": "code",
   "execution_count": 16,
   "metadata": {},
   "outputs": [
    {
     "name": "stdout",
     "output_type": "stream",
     "text": [
      "['을지로인스타술집', '신당인스타술집', '을지로이색술집', '신당이색술집', '을지로감성술집', '신당감성술집', '을지로컨셉술집', '신당컨셉술집']\n"
     ]
    }
   ],
   "source": [
    "# 크롤링 시작과 끝 날짜(달 별로 크롤링)\n",
    "first_days = pd.date_range('2021/01/01','2021/01/31', freq='MS')   # 각 달의 첫 날\n",
    "last_days = pd.date_range('2021/01/01','2021/01/31', freq='M')  # 각 달의 마지막 날\n",
    "\n",
    "# keyword_list = ['인스타술집','이색술집','감성술집', '담금술집', '분위기술집', '정글포차', '인테리어술집', '새로운술집', '감성주점', '컨셉술집'] # 검색키워드 추가\n",
    "# 지역 선정 방법 어떻게??\n",
    "# keyword를 한줄로 검색해서 크롤링\n",
    "\n",
    "keyword_main = ['인스타술집','이색술집','감성술집', '컨셉술집']\n",
    "keyword_sub = ['을지로', '신당']\n",
    "keyword_list = []\n",
    "for i in keyword_main:\n",
    "    for j in keyword_sub:\n",
    "        keyword_list.append(j+i)\n",
    "print(keyword_list)"
   ]
  },
  {
   "cell_type": "code",
   "execution_count": 17,
   "metadata": {},
   "outputs": [],
   "source": [
    "# 크롬드라이버 제어\n",
    "chrome_options = Options()\n",
    "chrome_options.add_argument('--no-sandbox') #bypass OS security model\n",
    "chrome_options.add_argument('--disable-dex-shm-usage')#overcome limited resource problems\n",
    "# options.add_argument('--headless') # 브라우저 백그라운드 모드\n",
    "\n",
    "chrome_path = 'chromedriver.exe' #현재 컴퓨터의 크롬드라이버 위치\n"
   ]
  },
  {
   "cell_type": "code",
   "execution_count": 18,
   "metadata": {},
   "outputs": [
    {
     "name": "stderr",
     "output_type": "stream",
     "text": [
      "C:\\Users\\user\\AppData\\Local\\Temp\\ipykernel_11776\\1590242383.py:8: DeprecationWarning: use options instead of chrome_options\n",
      "  driver = webdriver.Chrome(executable_path=chrome_path, chrome_options=chrome_options)\n"
     ]
    },
    {
     "name": "stdout",
     "output_type": "stream",
     "text": [
      "을지로인스타술집 키워드 2021년 1월 12 개 블로그 url 주소 수집\n",
      "신당인스타술집 키워드 2021년 1월 8 개 블로그 url 주소 수집\n",
      "을지로이색술집 키워드 2021년 1월 4 개 블로그 url 주소 수집\n",
      "신당이색술집 키워드 2021년 1월 6 개 블로그 url 주소 수집\n",
      "을지로감성술집 키워드 2021년 1월 71 개 블로그 url 주소 수집\n",
      "신당감성술집 키워드 2021년 1월 10 개 블로그 url 주소 수집\n",
      "을지로컨셉술집 키워드 2021년 1월 30 개 블로그 url 주소 수집\n",
      "신당컨셉술집 키워드 2021년 1월 9 개 블로그 url 주소 수집\n"
     ]
    }
   ],
   "source": [
    "# 블로그 주소 수집\n",
    "blog_url_list = []\n",
    "\n",
    "# 네이버에 키워드 검색\n",
    "for keyword in keyword_list:\n",
    "    url = 'https://search.naver.com/search.naver?sm=tab_hty.top&where=blog&query={}&oquery={}'.format(keyword, keyword)\n",
    "\n",
    "    driver = webdriver.Chrome(executable_path=chrome_path, chrome_options=chrome_options)\n",
    "    driver.implicitly_wait(3)\n",
    "\n",
    "    driver.get(url)\n",
    "    time.sleep(3)\n",
    "\n",
    "    url_want = 990  # 월별 1000개까지만 가능하기 때문에 개수 설정\n",
    "\n",
    "    driver.find_element('xpath','//*[@id=\"snb\"]/div[1]/div/div[2]/a').click() #검색 옵션 클릭\n",
    "\n",
    "    # 날짜 지정\n",
    "    for k in range(len(first_days)):\n",
    "        try:\n",
    "            # 시작과 끝의 년월일 설정\n",
    "            driver.find_element('xpath','//*[@id=\"snb\"]/div[2]/ul/li[3]/div/div[1]/a[9]/i').click() #직접 입력\n",
    "            driver.find_element('xpath','//*[@id=\"snb\"]/div[2]/ul/li[3]/div/div[2]/div[2]/div[1]/div/div/div/ul/li[{0}]'.format(first_days.year[k]-2002)).click()\n",
    "            driver.find_element('xpath','//*[@id=\"snb\"]/div[2]/ul/li[3]/div/div[2]/div[2]/div[2]/div/div/div/ul/li[{0}]/a'.format(first_days.month[k])).click()\n",
    "            driver.find_element('xpath','//*[@id=\"snb\"]/div[2]/ul/li[3]/div/div[2]/div[2]/div[3]/div/div/div/ul/li[{0}]/a'.format(first_days.day[k])).click()\n",
    "            driver.find_element('xpath','//*[@id=\"snb\"]/div[2]/ul/li[3]/div/div[2]/div[1]/span[3]/a').click()\n",
    "            driver.find_element('xpath','//*[@id=\"snb\"]/div[2]/ul/li[3]/div/div[2]/div[2]/div[1]/div/div/div/ul/li[{0}]'.format(last_days.year[k]-2002)).click()\n",
    "            driver.find_element('xpath','//*[@id=\"snb\"]/div[2]/ul/li[3]/div/div[2]/div[2]/div[2]/div/div/div/ul/li[{0}]/a'.format(last_days.month[k])).click()\n",
    "            driver.find_element('xpath','//*[@id=\"snb\"]/div[2]/ul/li[3]/div/div[2]/div[2]/div[3]/div/div/div/ul/li[{0}]/a'.format(last_days.day[k])).click()\n",
    "            driver.find_element('xpath','//*[@id=\"snb\"]/div[2]/ul/li[3]/div/div[2]/div[3]/button').click()\n",
    "\n",
    "            # 스크롤 조작\n",
    "            last_height = driver.execute_script('return document.body.scrollHeight')\n",
    "            scroll = (url_want/30)-1    # 한 페이지에 기본으로 30개 글이 나옴\n",
    "            \n",
    "            # 스크롤 다운\n",
    "            for i in range(int(scroll)):\n",
    "                driver.execute_script('window.scrollTo(0, document.body.scrollHeight)')  # 0부터 끝까지 스크롤 내림\n",
    "                time.sleep(random.uniform(1,1.7))\n",
    "                \n",
    "                new_height = driver.execute_script('return document.body.scrollHeight')\n",
    "                if(new_height == last_height):\n",
    "                    break\n",
    "\n",
    "                last_height = new_height\n",
    "\n",
    "            soup = bs(driver.page_source, 'lxml')\n",
    "            blog_url = soup.find_all('a', class_ = 'api_txt_lines total_tit')   # 첫번째 view 제목 class\n",
    "\n",
    "            # url 주소 수집\n",
    "            for i in blog_url:\n",
    "                blog_url_list.append(i['href']) # 주소 수집\n",
    "            \n",
    "            print(f'{keyword} 키워드 {first_days.year[k]}년 {first_days.month[k]}월', len(blog_url), '개 블로그 url 주소 수집') \n",
    "\n",
    "            driver.execute_script('window.scrollTo(0,0)')   # 스크롤 밑으로 내려가지 않게 해줌\n",
    "\n",
    "        except:\n",
    "            pass\n",
    "\n",
    "\n"
   ]
  },
  {
   "cell_type": "code",
   "execution_count": 19,
   "metadata": {},
   "outputs": [
    {
     "data": {
      "text/plain": [
       "150"
      ]
     },
     "execution_count": 19,
     "metadata": {},
     "output_type": "execute_result"
    }
   ],
   "source": [
    "len(blog_url_list)"
   ]
  },
  {
   "cell_type": "markdown",
   "metadata": {},
   "source": [
    "### 강사님 코드"
   ]
  },
  {
   "cell_type": "code",
   "execution_count": 20,
   "metadata": {},
   "outputs": [],
   "source": [
    "# # 블로그 주소 수집\n",
    "\n",
    "# blog_url_list = []\n",
    "\n",
    "# #네이버에 키워드 검색\n",
    "# for keyword in keyword_list:\n",
    "#     url = 'https://search.naver.com/search.naver?sm=tab_hty.top&where=blog&query={}&oquery={}'.format(keyword, keyword)\n",
    "        \n",
    "#     driver = webdriver.Chrome(executable_path=chrome_path, chrome_options=chrome_options)\n",
    "#     driver.implicitly_wait(3)\n",
    "    \n",
    "#     driver.get(url)\n",
    "#     time.sleep(3)\n",
    "    \n",
    "#     url_want = 990 #\n",
    "    \n",
    "#     driver.find_element('xpath','//*[@id=\"snb\"]/div[1]/div/div[2]/a').click() #검색 옵션 클릭\n",
    "\n",
    "#     #날짜 지정\n",
    "#     for k in range(len(first_days)):\n",
    "#         try:\n",
    "#             #시작과 끝의 년월일 설정\n",
    "#             driver.find_element('xpath','//*[@id=\"snb\"]/div[2]/ul/li[3]/div/div[1]/a[9]/i').click() #직접 입력\n",
    "#             driver.find_element('xpath','//*[@id=\"snb\"]/div[2]/ul/li[3]/div/div[2]/div[2]/div[1]/div/div/div/ul/li[{0}]'.format(first_days.year[k]-2002)).click()\n",
    "#             driver.find_element('xpath','//*[@id=\"snb\"]/div[2]/ul/li[3]/div/div[2]/div[2]/div[2]/div/div/div/ul/li[{0}]/a'.format(first_days.month[k])).click()\n",
    "#             driver.find_element('xpath','//*[@id=\"snb\"]/div[2]/ul/li[3]/div/div[2]/div[2]/div[3]/div/div/div/ul/li[{0}]/a'.format(first_days.day[k])).click()\n",
    "#             driver.find_element('xpath','//*[@id=\"snb\"]/div[2]/ul/li[3]/div/div[2]/div[1]/span[3]/a').click()\n",
    "#             driver.find_element('xpath','//*[@id=\"snb\"]/div[2]/ul/li[3]/div/div[2]/div[2]/div[1]/div/div/div/ul/li[{0}]'.format(last_days.year[k]-2002)).click()\n",
    "#             driver.find_element('xpath','//*[@id=\"snb\"]/div[2]/ul/li[3]/div/div[2]/div[2]/div[2]/div/div/div/ul/li[{0}]/a'.format(last_days.month[k])).click()\n",
    "#             driver.find_element('xpath','//*[@id=\"snb\"]/div[2]/ul/li[3]/div/div[2]/div[2]/div[3]/div/div/div/ul/li[{0}]/a'.format(last_days.day[k])).click()\n",
    "#             driver.find_element('xpath','//*[@id=\"snb\"]/div[2]/ul/li[3]/div/div[2]/div[3]/button').click()            \n",
    "            \n",
    "            \n",
    "#             # 스크롤 조작\n",
    "#             last_height = driver.execute_script('return document.body.scrollHeight')\n",
    "            \n",
    "#             scroll = (url_want/30)-1 #한 페이지에 기본으로 30개 글이 나옴\n",
    "            \n",
    "#             # 스크롤 다운\n",
    "#             for i in range(int(scroll)):\n",
    "#                 driver.execute_script('window.scrollTo(0,document.body.scrollHeight)')\n",
    "#                 time.sleep(random.uniform(1,1.7))\n",
    "                \n",
    "#                 new_height = driver.execute_script('return document.body.scrollHeight')\n",
    "                \n",
    "#                 if new_height == last_height:\n",
    "#                     break\n",
    "                    \n",
    "#                 last_height = new_height\n",
    "                \n",
    "                \n",
    "#             soup = bs(driver.page_source, 'lxml')\n",
    "#             blog_url = soup.find_all('a',class_='api_txt_lines total_tit')\n",
    "            \n",
    "#             # url 주소 수집\n",
    "#             for i in blog_url:\n",
    "#                 blog_url_list.append(i['href']) #주소 수집\n",
    "                \n",
    "#             print('{0} 키워드 {1}년{2}월'.format(keyword, \n",
    "#                                             first_days.year[k], frist_days.month[k]), \n",
    "#                   len(blog_url),'개 블로그 url 주소 수집')\n",
    "            \n",
    "            \n",
    "#             driver.execute_script('window.scrollTo(0,0)')\n",
    "            \n",
    "#         except:\n",
    "#             pass\n",
    "            "
   ]
  },
  {
   "cell_type": "code",
   "execution_count": 21,
   "metadata": {},
   "outputs": [
    {
     "data": {
      "text/plain": [
       "118"
      ]
     },
     "execution_count": 21,
     "metadata": {},
     "output_type": "execute_result"
    }
   ],
   "source": [
    "# 수집 후 url list 중복 확인\n",
    "real_list = set(blog_url_list)\n",
    "blog_url_list = list(real_list)\n",
    "len(blog_url_list)"
   ]
  },
  {
   "cell_type": "code",
   "execution_count": 22,
   "metadata": {},
   "outputs": [],
   "source": [
    "# 파일 저장(블로그 주소)\n",
    "k = pd.DataFrame(blog_url_list)\n",
    "k.to_csv('url_list_술집.csv', encoding='utf-8-sig')"
   ]
  },
  {
   "cell_type": "code",
   "execution_count": 23,
   "metadata": {},
   "outputs": [],
   "source": [
    "# 블로그 크롤링\n",
    "url = pd.read_csv('url_list_술집.csv')\n",
    "blog_url_list = list(url['0'])\n"
   ]
  },
  {
   "cell_type": "code",
   "execution_count": 24,
   "metadata": {},
   "outputs": [
    {
     "name": "stderr",
     "output_type": "stream",
     "text": [
      "C:\\Users\\user\\AppData\\Local\\Temp\\ipykernel_11776\\3172629000.py:13: DeprecationWarning: use options instead of chrome_options\n",
      "  driver = webdriver.Chrome(executable_path=chrome_path, chrome_options=chrome_options) #크롬 드라이버 위치만 바꿔주시면 됩니다.\n"
     ]
    },
    {
     "name": "stdout",
     "output_type": "stream",
     "text": [
      "10개 블로그 크롤링 완료\n",
      "20개 블로그 크롤링 완료\n",
      "30개 블로그 크롤링 완료\n",
      "40개 블로그 크롤링 완료\n",
      "50개 블로그 크롤링 완료\n",
      "60개 블로그 크롤링 완료\n",
      "70개 블로그 크롤링 완료\n",
      "80개 블로그 크롤링 완료\n",
      "90개 블로그 크롤링 완료\n",
      "100개 블로그 크롤링 완료\n",
      "네이버 블로그 아닌 url:  https://komsco.tistory.com/1433\n",
      "100개 블로그 크롤링 완료\n",
      "110개 블로그 크롤링 완료\n"
     ]
    }
   ],
   "source": [
    "no_naver_blog1=[]\n",
    "\n",
    "start = time.time()\n",
    "\n",
    "\n",
    "time_list = [] #시간\n",
    "review_list = [] #리뷰\n",
    "comment_list = [] #댓글\n",
    "like_list = [] #좋아요수\n",
    "url_list = [] #url주소\n",
    "count = 0\n",
    "\n",
    "driver = webdriver.Chrome(executable_path=chrome_path, chrome_options=chrome_options) #크롬 드라이버 위치만 바꿔주시면 됩니다.\n",
    "for url in blog_url_list: #기본적으로 고치지 않으시지만, n번째 크롤링에서 멈췄다면, blog_url_list를 blog_url_list[n:]으로 고칩니다.\n",
    "    if 'naver' in url: #네이버 블로그만 수집(다른 사이트가 섞이면 크롤링 에러가 남)\n",
    "    \n",
    "        count += 1\n",
    "        driver.get(url) #url 하나씩 글을 수집할꺼야\n",
    "        time.sleep(1)\n",
    "\n",
    "        try:\n",
    "            # 전체 본문 가지고 와서\n",
    "            driver.switch_to.frame('mainFrame') #네이버는 mainFrame을 바꿔줘야 수집이 됌\n",
    "            time.sleep(1)\n",
    "        \n",
    "            soup = bs(driver.page_source, 'lxml') #뷰티풀숩을 이용해서 구문 분석(lxml 파싱 이용. 모든 테그에서 데이터를 추출위함)\n",
    "            postview = soup.find('div', attrs={'id': re.compile('post-view.+')}).get_text()\n",
    "\n",
    "            reg = re.compile(r'[\\s+]') #r은 raw string. \\s+는 공백문자\n",
    "            postview_reg = reg.sub(' ',postview) #공백을 띄어쓰기로 대치해서 본문 글 수집\n",
    "            try:\n",
    "                # 좋아요수\n",
    "                like = driver.find_element(\"xpath\", \"//span[@class='u_likeit_list_btn _button btn_sympathy pcol2 off']/em[@class='u_cnt _count']\")\n",
    "                like = like.text\n",
    "            except:\n",
    "                like = [] #좋아요 없으면 빈 리스트\n",
    "            \n",
    "            try:\n",
    "                timeline = driver.find_element(\"xpath\", \"//span[@class='se_publishDate pcol2']\") #수정 안 한 경우\n",
    "        \n",
    "            except:\n",
    "                timeline = driver.find_element(\"xpath\", \"//p[@class='date fil5 pcol2 _postAddDate']\") #수정 한 경우\n",
    "            timeline = timeline.text\n",
    "\n",
    "            try:\n",
    "                driver.find_element(By.CSS_SELECTOR,'span.btn_arr').click() #댓글 내리는 버튼(태그명.클래스선택자)\n",
    "                #driver.find_element_by_css_selector('span.btn_arr').click()\n",
    "                time.sleep(1.7)\n",
    "\n",
    "                comment_blog = []\n",
    "                comment = driver.find_element(By.CSS_SELECTOR,'span.u_cbox_contents') #댓글\n",
    "                #comment = driver.find_elements_by_css_selector('span.u_cbox_contents')\n",
    "                for i in comment: #댓글 수집\n",
    "                    com = str(i.text) #\n",
    "                    com = reg.sub(' ',com) \n",
    "                    comment_blog.append(([com]))\n",
    "            except: \n",
    "                comment_blog = []\n",
    "             \n",
    "            time_list.append(timeline)\n",
    "            review_list.append(postview_reg)\n",
    "            comment_list.append(comment_blog)\n",
    "            url_list.append(url)\n",
    "            like_list.append(like)\n",
    "            time.sleep(random.uniform(1,1.6))\n",
    "        except UnexpectedAlertPresentException:\n",
    "            pass\n",
    "    else:\n",
    "        no_naver_blog1.append(url)\n",
    "        print('네이버 블로그 아닌 url: ',url)\n",
    "        \n",
    "    if count%10 ==0:\n",
    "        print('{}개 블로그 크롤링 완료'.format(count))"
   ]
  },
  {
   "cell_type": "code",
   "execution_count": 25,
   "metadata": {},
   "outputs": [
    {
     "data": {
      "text/plain": [
       "117"
      ]
     },
     "execution_count": 25,
     "metadata": {},
     "output_type": "execute_result"
    }
   ],
   "source": [
    "len(time_list)"
   ]
  },
  {
   "cell_type": "code",
   "execution_count": 26,
   "metadata": {},
   "outputs": [
    {
     "name": "stdout",
     "output_type": "stream",
     "text": [
      "크롤링 소요 시간:  756.6778101921082\n",
      "총 117개 블로그 크롤링 완료\n"
     ]
    }
   ],
   "source": [
    "data = {'time':time_list, 'review':review_list, 'comment':comment_list, 'like':like_list, 'url':url_list}\n",
    "df = pd.DataFrame(data)\n",
    "print('크롤링 소요 시간: ', time.time()-start)\n",
    "print('총 {}개 블로그 크롤링 완료'.format(count))"
   ]
  },
  {
   "cell_type": "code",
   "execution_count": 30,
   "metadata": {},
   "outputs": [],
   "source": [
    "# 파일 저장(블로그 주소)\n",
    "d = pd.DataFrame(df)\n",
    "d.to_csv('네이버 뷰 술집.csv', encoding='utf-8-sig')"
   ]
  },
  {
   "cell_type": "code",
   "execution_count": 29,
   "metadata": {},
   "outputs": [
    {
     "data": {
      "text/html": [
       "<div>\n",
       "<style scoped>\n",
       "    .dataframe tbody tr th:only-of-type {\n",
       "        vertical-align: middle;\n",
       "    }\n",
       "\n",
       "    .dataframe tbody tr th {\n",
       "        vertical-align: top;\n",
       "    }\n",
       "\n",
       "    .dataframe thead th {\n",
       "        text-align: right;\n",
       "    }\n",
       "</style>\n",
       "<table border=\"1\" class=\"dataframe\">\n",
       "  <thead>\n",
       "    <tr style=\"text-align: right;\">\n",
       "      <th></th>\n",
       "      <th>time</th>\n",
       "      <th>review</th>\n",
       "      <th>comment</th>\n",
       "      <th>like</th>\n",
       "      <th>url</th>\n",
       "    </tr>\n",
       "  </thead>\n",
       "  <tbody>\n",
       "    <tr>\n",
       "      <th>0</th>\n",
       "      <td>2021. 1. 11. 21:18</td>\n",
       "      <td>냠냠     영등포 술집 아트몬스터 - 힙한 분위기 펍 수제맥주...</td>\n",
       "      <td>[]</td>\n",
       "      <td>14</td>\n",
       "      <td>https://blog.naver.com/blossomnn/222204199186</td>\n",
       "    </tr>\n",
       "    <tr>\n",
       "      <th>1</th>\n",
       "      <td>2021. 1. 22. 13:26</td>\n",
       "      <td>서울     [을지로술집] 분위기좋은 을지로 와인바 추천 : 십분의일...</td>\n",
       "      <td>[]</td>\n",
       "      <td>22</td>\n",
       "      <td>https://blog.naver.com/qls1021/222216086056</td>\n",
       "    </tr>\n",
       "    <tr>\n",
       "      <th>2</th>\n",
       "      <td>2021. 1. 22. 10:24</td>\n",
       "      <td>서울 북부     [아현동 맛집] 37년 전통의 숨은 고수 - ...</td>\n",
       "      <td>[]</td>\n",
       "      <td>33</td>\n",
       "      <td>https://blog.naver.com/nidduguy/222215890461</td>\n",
       "    </tr>\n",
       "    <tr>\n",
       "      <th>3</th>\n",
       "      <td>2021. 1. 12. 8:10</td>\n",
       "      <td>술     캐주얼한 분위기의 신당동 와인바 부우이BUOY 배달 가능 ...</td>\n",
       "      <td>[]</td>\n",
       "      <td>9</td>\n",
       "      <td>https://blog.naver.com/psk2109/222204386338</td>\n",
       "    </tr>\n",
       "    <tr>\n",
       "      <th>4</th>\n",
       "      <td>2021. 1. 15. 15:12</td>\n",
       "      <td>악마의맛집     코로나가 끝나면꼭! 다녀와야하는 술집 주신당    ...</td>\n",
       "      <td>[]</td>\n",
       "      <td>4</td>\n",
       "      <td>https://blog.naver.com/dbrrkq12/222208287335</td>\n",
       "    </tr>\n",
       "    <tr>\n",
       "      <th>...</th>\n",
       "      <td>...</td>\n",
       "      <td>...</td>\n",
       "      <td>...</td>\n",
       "      <td>...</td>\n",
       "      <td>...</td>\n",
       "    </tr>\n",
       "    <tr>\n",
       "      <th>112</th>\n",
       "      <td>2021. 1. 12. 21:15</td>\n",
       "      <td>먹거리.맛집.카페     분위기까지 맛있는 힙지로 맛집 줄리아    ...</td>\n",
       "      <td>[]</td>\n",
       "      <td>1</td>\n",
       "      <td>https://blog.naver.com/w_bell/222205300774</td>\n",
       "    </tr>\n",
       "    <tr>\n",
       "      <th>113</th>\n",
       "      <td>2021. 1. 8. 17:10</td>\n",
       "      <td>술과 나     8밸리스 까베르네 소비뇽 : 너무나도 생소한 칠레 가...</td>\n",
       "      <td>[]</td>\n",
       "      <td>2</td>\n",
       "      <td>https://blog.naver.com/press_won/222200882025</td>\n",
       "    </tr>\n",
       "    <tr>\n",
       "      <th>114</th>\n",
       "      <td>2021. 1. 31. 23:33</td>\n",
       "      <td>Da(ng)ily     2020년 1월의 기록       Hodan...</td>\n",
       "      <td>[]</td>\n",
       "      <td>[]</td>\n",
       "      <td>https://blog.naver.com/lhojoon0817/222226977975</td>\n",
       "    </tr>\n",
       "    <tr>\n",
       "      <th>115</th>\n",
       "      <td>2021. 1. 29. 8:10</td>\n",
       "      <td>일상. vida diaria     2020년 연말정산 -4분기- 혼...</td>\n",
       "      <td>[]</td>\n",
       "      <td>7</td>\n",
       "      <td>https://blog.naver.com/switchonu/222222776892</td>\n",
       "    </tr>\n",
       "    <tr>\n",
       "      <th>116</th>\n",
       "      <td>2021. 1. 31. 23:29</td>\n",
       "      <td>⠀     [ 신당 스피크이지바 ] 주신당 ( 酒신당 )    ...</td>\n",
       "      <td>[]</td>\n",
       "      <td>26</td>\n",
       "      <td>https://blog.naver.com/lovely_esol/222226973080</td>\n",
       "    </tr>\n",
       "  </tbody>\n",
       "</table>\n",
       "<p>117 rows × 5 columns</p>\n",
       "</div>"
      ],
      "text/plain": [
       "                   time                                             review  \\\n",
       "0    2021. 1. 11. 21:18             냠냠     영등포 술집 아트몬스터 - 힙한 분위기 펍 수제맥주...   \n",
       "1    2021. 1. 22. 13:26          서울     [을지로술집] 분위기좋은 을지로 와인바 추천 : 십분의일...   \n",
       "2    2021. 1. 22. 10:24             서울 북부     [아현동 맛집] 37년 전통의 숨은 고수 - ...   \n",
       "3     2021. 1. 12. 8:10          술     캐주얼한 분위기의 신당동 와인바 부우이BUOY 배달 가능 ...   \n",
       "4    2021. 1. 15. 15:12          악마의맛집     코로나가 끝나면꼭! 다녀와야하는 술집 주신당    ...   \n",
       "..                  ...                                                ...   \n",
       "112  2021. 1. 12. 21:15          먹거리.맛집.카페     분위기까지 맛있는 힙지로 맛집 줄리아    ...   \n",
       "113   2021. 1. 8. 17:10          술과 나     8밸리스 까베르네 소비뇽 : 너무나도 생소한 칠레 가...   \n",
       "114  2021. 1. 31. 23:33          Da(ng)ily     2020년 1월의 기록       Hodan...   \n",
       "115   2021. 1. 29. 8:10          일상. vida diaria     2020년 연말정산 -4분기- 혼...   \n",
       "116  2021. 1. 31. 23:29             ⠀     [ 신당 스피크이지바 ] 주신당 ( 酒신당 )    ...   \n",
       "\n",
       "    comment like                                              url  \n",
       "0        []   14    https://blog.naver.com/blossomnn/222204199186  \n",
       "1        []   22      https://blog.naver.com/qls1021/222216086056  \n",
       "2        []   33     https://blog.naver.com/nidduguy/222215890461  \n",
       "3        []    9      https://blog.naver.com/psk2109/222204386338  \n",
       "4        []    4     https://blog.naver.com/dbrrkq12/222208287335  \n",
       "..      ...  ...                                              ...  \n",
       "112      []    1       https://blog.naver.com/w_bell/222205300774  \n",
       "113      []    2    https://blog.naver.com/press_won/222200882025  \n",
       "114      []   []  https://blog.naver.com/lhojoon0817/222226977975  \n",
       "115      []    7    https://blog.naver.com/switchonu/222222776892  \n",
       "116      []   26  https://blog.naver.com/lovely_esol/222226973080  \n",
       "\n",
       "[117 rows x 5 columns]"
      ]
     },
     "execution_count": 29,
     "metadata": {},
     "output_type": "execute_result"
    }
   ],
   "source": [
    "df"
   ]
  },
  {
   "cell_type": "code",
   "execution_count": null,
   "metadata": {},
   "outputs": [],
   "source": []
  }
 ],
 "metadata": {
  "kernelspec": {
   "display_name": "Python 3.8.13 ('pythonProject')",
   "language": "python",
   "name": "python3"
  },
  "language_info": {
   "codemirror_mode": {
    "name": "ipython",
    "version": 3
   },
   "file_extension": ".py",
   "mimetype": "text/x-python",
   "name": "python",
   "nbconvert_exporter": "python",
   "pygments_lexer": "ipython3",
   "version": "3.8.13"
  },
  "orig_nbformat": 4,
  "vscode": {
   "interpreter": {
    "hash": "b41067d333ae5a9f55b6c28201bd8f20eb97371436f57b1f1425e7e396b7af99"
   }
  }
 },
 "nbformat": 4,
 "nbformat_minor": 2
}
