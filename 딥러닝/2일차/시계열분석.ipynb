{
 "cells": [
  {
   "cell_type": "code",
   "execution_count": 1,
   "metadata": {},
   "outputs": [],
   "source": [
    "import pandas as pd\n",
    "import numpy as np\n",
    "import matplotlib.pyplot as plt"
   ]
  },
  {
   "cell_type": "code",
   "execution_count": null,
   "metadata": {},
   "outputs": [],
   "source": [
    "df = pd.read_csv('health.csv')\n",
    "df.columns=[\"date\",\"click\"]\n",
    "df"
   ]
  },
  {
   "cell_type": "code",
   "execution_count": null,
   "metadata": {},
   "outputs": [],
   "source": [
    "df = df.set_index(\"date\")\n",
    "print(type(df.index))"
   ]
  },
  {
   "cell_type": "code",
   "execution_count": null,
   "metadata": {},
   "outputs": [],
   "source": [
    "df.index = pd.to_datetime(df.index)\n",
    "print(type(df.index))"
   ]
  },
  {
   "cell_type": "code",
   "execution_count": null,
   "metadata": {},
   "outputs": [],
   "source": [
    "df.index[1] - df.index[0]"
   ]
  },
  {
   "cell_type": "code",
   "execution_count": null,
   "metadata": {},
   "outputs": [],
   "source": [
    "plt.plot(df.index, df['click'])"
   ]
  },
  {
   "cell_type": "code",
   "execution_count": null,
   "metadata": {},
   "outputs": [],
   "source": [
    "# 추세 -> 주기 지정\n",
    "# 주기 7일\n",
    "# trend는 처음 3일, 마지막 3일은 nan값이 나와야 함 -> 마지막 3일 계산이 되서 nan값으로 변경해줌\n",
    "season = 7\n",
    "trend = []\n",
    "for i in range(len(df['click'])):\n",
    "    trend.append(np.mean(df['click'][i-(season//2):i+(season//2)+1]))\n",
    "for i in range(season//2):\n",
    "    trend[(i+1)*(-1)] = np.nan"
   ]
  },
  {
   "cell_type": "code",
   "execution_count": null,
   "metadata": {},
   "outputs": [],
   "source": [
    "trend"
   ]
  },
  {
   "cell_type": "code",
   "execution_count": null,
   "metadata": {},
   "outputs": [],
   "source": [
    "plt.plot(df.index, trend)"
   ]
  },
  {
   "cell_type": "code",
   "execution_count": null,
   "metadata": {},
   "outputs": [],
   "source": [
    "# 전체 data에서 trend(추세)를 뺀 값\n",
    "detrend = []\n",
    "for a, i in enumerate(df['click']):\n",
    "    detrend.append(i - trend[a])\n",
    "detrend"
   ]
  },
  {
   "cell_type": "code",
   "execution_count": null,
   "metadata": {},
   "outputs": [],
   "source": [
    "seasonal = []\n",
    "for i in range(season):\n",
    "    imsi = []\n",
    "    for j in detrend[i::season]:\n",
    "        if np.isnan(j) == False:\n",
    "            imsi.append(j)\n",
    "        else:\n",
    "            pass\n",
    "    seasonal.append(np.mean(imsi))\n",
    "seasonal"
   ]
  },
  {
   "cell_type": "code",
   "execution_count": null,
   "metadata": {},
   "outputs": [],
   "source": [
    "# 홈쇼핑 건강보조식품 클릭수\n",
    "# 주중이 주말보다 높음\n",
    "# 월요병에 홈쇼핑 보고 있음\n",
    "# 주말에는 가족끼리 이마트 가기 때문에 검색수가 줄어듬\n",
    "plt.plot(['화','수','목','금','토','일','월'], seasonal)"
   ]
  },
  {
   "cell_type": "code",
   "execution_count": null,
   "metadata": {},
   "outputs": [],
   "source": [
    "seasonal_subtract = []\n",
    "for i in range(len(detrend)//len(seasonal)):\n",
    "    for j in seasonal:\n",
    "        seasonal_subtract.append(j)\n",
    "for i in seasonal[:len(detrend)%len(seasonal)]:\n",
    "    seasonal_subtract.append(i)\n",
    "seasonal_subtract"
   ]
  },
  {
   "cell_type": "code",
   "execution_count": null,
   "metadata": {},
   "outputs": [],
   "source": [
    "# detrend에서 seasonal(주기) 빼면 잔차만 남음\n",
    "residual = []\n",
    "for a, i in enumerate(seasonal_subtract):\n",
    "    residual.append(detrend[a]-i)\n",
    "residual"
   ]
  },
  {
   "cell_type": "code",
   "execution_count": null,
   "metadata": {},
   "outputs": [],
   "source": [
    "plt.plot(df.index, residual)"
   ]
  },
  {
   "cell_type": "code",
   "execution_count": null,
   "metadata": {},
   "outputs": [],
   "source": []
  },
  {
   "cell_type": "code",
   "execution_count": null,
   "metadata": {},
   "outputs": [],
   "source": []
  },
  {
   "cell_type": "code",
   "execution_count": null,
   "metadata": {},
   "outputs": [],
   "source": []
  },
  {
   "cell_type": "code",
   "execution_count": null,
   "metadata": {},
   "outputs": [],
   "source": []
  },
  {
   "cell_type": "code",
   "execution_count": null,
   "metadata": {},
   "outputs": [],
   "source": []
  },
  {
   "cell_type": "code",
   "execution_count": null,
   "metadata": {},
   "outputs": [],
   "source": []
  }
 ],
 "metadata": {
  "kernelspec": {
   "display_name": "Python 3.8.9 64-bit",
   "language": "python",
   "name": "python3"
  },
  "language_info": {
   "codemirror_mode": {
    "name": "ipython",
    "version": 3
   },
   "file_extension": ".py",
   "mimetype": "text/x-python",
   "name": "python",
   "nbconvert_exporter": "python",
   "pygments_lexer": "ipython3",
   "version": "3.8.9"
  },
  "orig_nbformat": 4,
  "vscode": {
   "interpreter": {
    "hash": "6a926afa313b26ae1264fdcf81c726a97e69f6ba2ba780f6aa901948710f8d6e"
   }
  }
 },
 "nbformat": 4,
 "nbformat_minor": 2
}
