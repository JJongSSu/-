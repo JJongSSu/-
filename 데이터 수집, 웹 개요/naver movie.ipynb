{
 "cells": [
  {
   "cell_type": "markdown",
   "metadata": {},
   "source": [
    "### URL 규칙발견하기\n",
    "네이버 영화\n",
    "\n",
    "여러 페이지에서 원하는 정보 수집\n",
    "    - 첫번째 페이지도 같은 규칙이 적용되는지, 더보기 페이지 넘어갈 때 숫자 늘어나는지 확인 필요"
   ]
  },
  {
   "cell_type": "code",
   "execution_count": 98,
   "metadata": {},
   "outputs": [],
   "source": [
    "from bs4 import BeautifulSoup as bs"
   ]
  },
  {
   "cell_type": "code",
   "execution_count": 99,
   "metadata": {},
   "outputs": [],
   "source": [
    "import requests as req"
   ]
  },
  {
   "cell_type": "code",
   "execution_count": 122,
   "metadata": {},
   "outputs": [],
   "source": [
    "from tqdm import tqdm_notebook"
   ]
  },
  {
   "cell_type": "code",
   "execution_count": 123,
   "metadata": {},
   "outputs": [],
   "source": [
    "import pandas as pd"
   ]
  },
  {
   "cell_type": "code",
   "execution_count": 100,
   "metadata": {},
   "outputs": [
    {
     "data": {
      "text/plain": [
       "<Response [200]>"
      ]
     },
     "execution_count": 100,
     "metadata": {},
     "output_type": "execute_result"
    }
   ],
   "source": [
    "res = req.get('https://movie.naver.com/movie/point/af/list.naver')\n",
    "res"
   ]
  },
  {
   "cell_type": "code",
   "execution_count": 101,
   "metadata": {},
   "outputs": [],
   "source": [
    "soup = bs(res.text,'html.parser')"
   ]
  },
  {
   "cell_type": "code",
   "execution_count": 102,
   "metadata": {},
   "outputs": [
    {
     "data": {
      "text/plain": [
       "['10', '10', '10', '2', '1', '7', '6', '9', '10', '7']"
      ]
     },
     "execution_count": 102,
     "metadata": {},
     "output_type": "execute_result"
    }
   ],
   "source": [
    "# 평점\n",
    "score = soup.select('div.list_netizen_score > em')\n",
    "score_list = []\n",
    "for i in score:\n",
    "    score_list.append(i.text)\n",
    "score_list"
   ]
  },
  {
   "cell_type": "code",
   "execution_count": 103,
   "metadata": {},
   "outputs": [
    {
     "data": {
      "text/plain": [
       "10"
      ]
     },
     "execution_count": 103,
     "metadata": {},
     "output_type": "execute_result"
    }
   ],
   "source": [
    "len(score)"
   ]
  },
  {
   "cell_type": "code",
   "execution_count": 104,
   "metadata": {},
   "outputs": [
    {
     "data": {
      "text/plain": [
       "['탑건: 매버릭',\n",
       " '공조2: 인터내셔날',\n",
       " '탑건: 매버릭',\n",
       " '집으로 가는 길',\n",
       " '서울대작전',\n",
       " '공조2: 인터내셔날',\n",
       " '공조2: 인터내셔날',\n",
       " '얼라이드',\n",
       " '너의 췌장을 먹고 싶어',\n",
       " '말아']"
      ]
     },
     "execution_count": 104,
     "metadata": {},
     "output_type": "execute_result"
    }
   ],
   "source": [
    "# 제목\n",
    "title = soup.select('td.title > a.movie.color_b')\n",
    "title_list = []\n",
    "for i in title:\n",
    "    title_list.append(i.text)\n",
    "title_list"
   ]
  },
  {
   "cell_type": "code",
   "execution_count": 105,
   "metadata": {},
   "outputs": [
    {
     "data": {
      "text/plain": [
       "10"
      ]
     },
     "execution_count": 105,
     "metadata": {},
     "output_type": "execute_result"
    }
   ],
   "source": [
    "len(title_list)"
   ]
  },
  {
   "cell_type": "code",
   "execution_count": 106,
   "metadata": {},
   "outputs": [
    {
     "data": {
      "text/plain": [
       "['\\n탑건: 매버릭\\n\\n별점 - 총 10점 중10\\n\\n..!...!!....!!! \\n\\t\\t\\t\\n\\t\\t\\t\\n\\t\\t\\t\\n\\t\\t\\t\\t\\n\\t\\t\\t\\t\\n\\t\\t\\t\\t\\n\\t\\t\\t\\t신고\\n',\n",
       " '\\n공조2: 인터내셔날\\n\\n별점 - 총 10점 중10\\n\\n전편보다 났네요~ 즐감했습니다 \\n\\t\\t\\t\\n\\t\\t\\t\\n\\t\\t\\t\\n\\t\\t\\t\\t\\n\\t\\t\\t\\t\\n\\t\\t\\t\\t\\n\\t\\t\\t\\t신고\\n',\n",
       " '\\n탑건: 매버릭\\n\\n별점 - 총 10점 중10\\n\\n탑건1을 재미있게 봤든 아니든 꼭 봐라,이건 명작이다... \\n\\t\\t\\t\\n\\t\\t\\t\\n\\t\\t\\t\\n\\t\\t\\t\\t\\n\\t\\t\\t\\t\\n\\t\\t\\t\\t\\n\\t\\t\\t\\t신고\\n',\n",
       " '\\n집으로 가는 길\\n\\n별점 - 총 10점 중2\\n\\n감독 및 캐스팅, 각본. 연출은 보아라. 이따구 고구마 신파극을 찍는데 전도연이 왜 필요하며 무능한 남편역에 고수가 왠말이냐. 80년대 설정도 아닌데 눈오는날 집에서 쫓겨나는 장면, 부인전화에 무단횡단을 하고 핸드폰을 떨어트리는 아주 놀라운 연출 눈감고 봤다. 다신 영화 만들지마라. 그냥 어디가서 사무보조 해라. 전도연은 무슨 책이 잡혀서 이 영화를 선택했는가?  부디 고수도 그렇고 영화선택 안목을 높이길... \\n\\t\\t\\t\\n\\t\\t\\t\\n\\t\\t\\t\\n\\t\\t\\t\\t\\n\\t\\t\\t\\t\\n\\t\\t\\t\\t\\n\\t\\t\\t\\t신고\\n',\n",
       " '\\n서울대작전\\n\\n별점 - 총 10점 중1\\n\\n중간부터 이상하다고 느꼈지만 유아인이 나오는데 그럴리가 없다고 생각하며 끝까지 봤지만.. 이변은 없네요.. \\n\\t\\t\\t\\n\\t\\t\\t\\n\\t\\t\\t\\n\\t\\t\\t\\t\\n\\t\\t\\t\\t\\n\\t\\t\\t\\t\\n\\t\\t\\t\\t신고\\n',\n",
       " '\\n공조2: 인터내셔날\\n\\n별점 - 총 10점 중7\\n\\n더도말고 덜도말고 적당히 딱 볼만한 코믹 액션 영화 \\n\\t\\t\\t\\n\\t\\t\\t\\n\\t\\t\\t\\n\\t\\t\\t\\t\\n\\t\\t\\t\\t\\n\\t\\t\\t\\t\\n\\t\\t\\t\\t신고\\n',\n",
       " '\\n공조2: 인터내셔날\\n\\n별점 - 총 10점 중6\\n\\n명절에 부모님과 마음편히 보기 좋았고 재미있는 장면이 많았습니다. \\n\\t\\t\\t\\n\\t\\t\\t\\n\\t\\t\\t\\n\\t\\t\\t\\t\\n\\t\\t\\t\\t\\n\\t\\t\\t\\t\\n\\t\\t\\t\\t신고\\n',\n",
       " '\\n얼라이드\\n\\n별점 - 총 10점 중9\\n\\n다소 정적이지만 두 주연배우의 연기 호흡이 좋아서 천천히 다가오는 게 있었음 \\n\\t\\t\\t\\n\\t\\t\\t\\n\\t\\t\\t\\n\\t\\t\\t\\t\\n\\t\\t\\t\\t\\n\\t\\t\\t\\t\\n\\t\\t\\t\\t신고\\n',\n",
       " '\\n너의 췌장을 먹고 싶어\\n\\n별점 - 총 10점 중10\\n\\n\\n신고\\n',\n",
       " '\\n말아\\n\\n별점 - 총 10점 중7\\n\\n\\n신고\\n']"
      ]
     },
     "execution_count": 106,
     "metadata": {},
     "output_type": "execute_result"
    }
   ],
   "source": [
    "# 리뷰\n",
    "review = soup.select('td.title')\n",
    "review_list = []\n",
    "for i in review:\n",
    "    review_list.append(i.text)\n",
    "review_list"
   ]
  },
  {
   "cell_type": "code",
   "execution_count": 109,
   "metadata": {},
   "outputs": [
    {
     "data": {
      "text/plain": [
       "['..!...!!....!!! 신고',\n",
       " '전편보다 났네요~ 즐감했습니다 신고',\n",
       " '탑건1을 재미있게 봤든 아니든 꼭 봐라,이건 명작이다... 신고',\n",
       " '감독 및 캐스팅, 각본. 연출은 보아라. 이따구 고구마 신파극을 찍는데 전도연이 왜 필요하며 무능한 남편역에 고수가 왠말이냐. 80년대 설정도 아닌데 눈오는날 집에서 쫓겨나는 장면, 부인전화에 무단횡단을 하고 핸드폰을 떨어트리는 아주 놀라운 연출 눈감고 봤다. 다신 영화 만들지마라. 그냥 어디가서 사무보조 해라. 전도연은 무슨 책이 잡혀서 이 영화를 선택했는가?  부디 고수도 그렇고 영화선택 안목을 높이길... 신고',\n",
       " '중간부터 이상하다고 느꼈지만 유아인이 나오는데 그럴리가 없다고 생각하며 끝까지 봤지만.. 이변은 없네요.. 신고',\n",
       " '더도말고 덜도말고 적당히 딱 볼만한 코믹 액션 영화 신고',\n",
       " '명절에 부모님과 마음편히 보기 좋았고 재미있는 장면이 많았습니다. 신고',\n",
       " '다소 정적이지만 두 주연배우의 연기 호흡이 좋아서 천천히 다가오는 게 있었음 신고',\n",
       " '신고',\n",
       " '신고']"
      ]
     },
     "execution_count": 109,
     "metadata": {},
     "output_type": "execute_result"
    }
   ],
   "source": [
    "review = soup.select('td.title')\n",
    "review_list_new = []\n",
    "for i in review:\n",
    "    review = i.text\n",
    "    review = review.split('\\n\\n')[2]\n",
    "    review = review.replace('\\n','')\n",
    "    review = review.replace('\\t','')\n",
    "    review_list_new.append(review)    \n",
    "review_list_new"
   ]
  },
  {
   "cell_type": "code",
   "execution_count": 110,
   "metadata": {},
   "outputs": [
    {
     "data": {
      "text/plain": [
       "10"
      ]
     },
     "execution_count": 110,
     "metadata": {},
     "output_type": "execute_result"
    }
   ],
   "source": [
    "len(review_list_new)"
   ]
  },
  {
   "cell_type": "code",
   "execution_count": 111,
   "metadata": {},
   "outputs": [],
   "source": [
    "page = range(1,11)"
   ]
  },
  {
   "cell_type": "code",
   "execution_count": 130,
   "metadata": {},
   "outputs": [
    {
     "name": "stderr",
     "output_type": "stream",
     "text": [
      "C:\\Users\\user\\AppData\\Local\\Temp\\ipykernel_12140\\2236185732.py:5: TqdmDeprecationWarning: This function will be removed in tqdm==5.0.0\n",
      "Please use `tqdm.notebook.tqdm` instead of `tqdm.tqdm_notebook`\n",
      "  for i in tqdm_notebook(page):\n"
     ]
    },
    {
     "data": {
      "application/vnd.jupyter.widget-view+json": {
       "model_id": "539a308b52104246bcbc9379111e0506",
       "version_major": 2,
       "version_minor": 0
      },
      "text/plain": [
       "  0%|          | 0/10 [00:00<?, ?it/s]"
      ]
     },
     "metadata": {},
     "output_type": "display_data"
    },
    {
     "data": {
      "text/html": [
       "<div>\n",
       "<style scoped>\n",
       "    .dataframe tbody tr th:only-of-type {\n",
       "        vertical-align: middle;\n",
       "    }\n",
       "\n",
       "    .dataframe tbody tr th {\n",
       "        vertical-align: top;\n",
       "    }\n",
       "\n",
       "    .dataframe thead th {\n",
       "        text-align: right;\n",
       "    }\n",
       "</style>\n",
       "<table border=\"1\" class=\"dataframe\">\n",
       "  <thead>\n",
       "    <tr style=\"text-align: right;\">\n",
       "      <th></th>\n",
       "      <th>제목</th>\n",
       "      <th>평점</th>\n",
       "      <th>내용</th>\n",
       "    </tr>\n",
       "  </thead>\n",
       "  <tbody>\n",
       "    <tr>\n",
       "      <th>0</th>\n",
       "      <td>정직한 후보</td>\n",
       "      <td>10</td>\n",
       "      <td>재밌어서 이걸 왜 이제 봤나 싶었음. 2편 기대 중 신고</td>\n",
       "    </tr>\n",
       "    <tr>\n",
       "      <th>1</th>\n",
       "      <td>육사오(6/45)</td>\n",
       "      <td>7</td>\n",
       "      <td>가볍게 보기 좋은 오락영화! 신고</td>\n",
       "    </tr>\n",
       "    <tr>\n",
       "      <th>2</th>\n",
       "      <td>비상선언</td>\n",
       "      <td>1</td>\n",
       "      <td>ytn, mbc , daum 등 영화내나 진보언론사만 적나라하게 대거 출동. 게다가...</td>\n",
       "    </tr>\n",
       "    <tr>\n",
       "      <th>3</th>\n",
       "      <td>브로커</td>\n",
       "      <td>8</td>\n",
       "      <td>배우들 캐스팅 좋은데 영화는 평범함! 신고</td>\n",
       "    </tr>\n",
       "    <tr>\n",
       "      <th>4</th>\n",
       "      <td>비상선언</td>\n",
       "      <td>10</td>\n",
       "      <td>왜 평점이 낮지....재밌었는데...각나라들상황도 이해되고... 한국입장도 이해가고...</td>\n",
       "    </tr>\n",
       "    <tr>\n",
       "      <th>...</th>\n",
       "      <td>...</td>\n",
       "      <td>...</td>\n",
       "      <td>...</td>\n",
       "    </tr>\n",
       "    <tr>\n",
       "      <th>95</th>\n",
       "      <td>헌트</td>\n",
       "      <td>9</td>\n",
       "      <td>간만에 재미있게 봤습니다.*^^* 신고</td>\n",
       "    </tr>\n",
       "    <tr>\n",
       "      <th>96</th>\n",
       "      <td>비상선언</td>\n",
       "      <td>3</td>\n",
       "      <td>마지막에 다 죽었으면 솔직히 이렇게 까지 욕은 안먹었음 ㅋ 신고</td>\n",
       "    </tr>\n",
       "    <tr>\n",
       "      <th>97</th>\n",
       "      <td>공조2: 인터내셔날</td>\n",
       "      <td>1</td>\n",
       "      <td>친구가 추천했는데 재미없어요 신고</td>\n",
       "    </tr>\n",
       "    <tr>\n",
       "      <th>98</th>\n",
       "      <td>신이 보낸 사람</td>\n",
       "      <td>10</td>\n",
       "      <td>속히… 은혜의 해와 보복의 날을 허락해주세요 ㅠㅠㅠㅠ 신고</td>\n",
       "    </tr>\n",
       "    <tr>\n",
       "      <th>99</th>\n",
       "      <td>비상선언</td>\n",
       "      <td>4</td>\n",
       "      <td>이제 무리한 신파는 좀 그만하자,, 관객들이 싫다고 하지 않나 신고</td>\n",
       "    </tr>\n",
       "  </tbody>\n",
       "</table>\n",
       "<p>100 rows × 3 columns</p>\n",
       "</div>"
      ],
      "text/plain": [
       "            제목  평점                                                 내용\n",
       "0       정직한 후보  10                    재밌어서 이걸 왜 이제 봤나 싶었음. 2편 기대 중 신고\n",
       "1    육사오(6/45)   7                                 가볍게 보기 좋은 오락영화! 신고\n",
       "2         비상선언   1  ytn, mbc , daum 등 영화내나 진보언론사만 적나라하게 대거 출동. 게다가...\n",
       "3          브로커   8                            배우들 캐스팅 좋은데 영화는 평범함! 신고\n",
       "4         비상선언  10  왜 평점이 낮지....재밌었는데...각나라들상황도 이해되고... 한국입장도 이해가고...\n",
       "..         ...  ..                                                ...\n",
       "95          헌트   9                              간만에 재미있게 봤습니다.*^^* 신고\n",
       "96        비상선언   3                마지막에 다 죽었으면 솔직히 이렇게 까지 욕은 안먹었음 ㅋ 신고\n",
       "97  공조2: 인터내셔날   1                                 친구가 추천했는데 재미없어요 신고\n",
       "98    신이 보낸 사람  10                   속히… 은혜의 해와 보복의 날을 허락해주세요 ㅠㅠㅠㅠ 신고\n",
       "99        비상선언   4              이제 무리한 신파는 좀 그만하자,, 관객들이 싫다고 하지 않나 신고\n",
       "\n",
       "[100 rows x 3 columns]"
      ]
     },
     "execution_count": 130,
     "metadata": {},
     "output_type": "execute_result"
    }
   ],
   "source": [
    "total_title_list = []\n",
    "total_review_list = []\n",
    "total_score_list = []\n",
    "\n",
    "# url page별\n",
    "for i in tqdm_notebook(page):\n",
    "    url = 'https://movie.naver.com/movie/point/af/list.naver?&page={}'.format(i)\n",
    "    score = soup.select('div.list_netizen_score > em')\n",
    "    # 평점\n",
    "    for i in score:\n",
    "        total_score_list.append(i.text)\n",
    "    # 제목\n",
    "    title = soup.select('td.title > a.movie.color_b')\n",
    "    for i in title:\n",
    "        total_title_list.append(i.text)\n",
    "    # 리뷰\n",
    "    review = soup.select('td.title')\n",
    "    for i in review:\n",
    "        review = i.text\n",
    "        review = review.split('\\n\\n')[2]\n",
    "        review = review.replace('\\n','')\n",
    "        review = review.replace('\\t','')\n",
    "        total_review_list.append(review)  \n",
    "# data table\n",
    "movie_review_data = {'제목':total_title_list, '평점':total_score_list, '내용':total_review_list}  \n",
    "movie_review_list = pd.DataFrame(movie_review_data)\n",
    "movie_review_list"
   ]
  },
  {
   "cell_type": "code",
   "execution_count": null,
   "metadata": {},
   "outputs": [],
   "source": []
  }
 ],
 "metadata": {
  "kernelspec": {
   "display_name": "Python 3.9.12 ('base')",
   "language": "python",
   "name": "python3"
  },
  "language_info": {
   "codemirror_mode": {
    "name": "ipython",
    "version": 3
   },
   "file_extension": ".py",
   "mimetype": "text/x-python",
   "name": "python",
   "nbconvert_exporter": "python",
   "pygments_lexer": "ipython3",
   "version": "3.9.12"
  },
  "orig_nbformat": 4,
  "vscode": {
   "interpreter": {
    "hash": "a077222d77dfe082b8f1dd562ad70e458ac2ab76993a0b248ab0476e32e9e8dd"
   }
  }
 },
 "nbformat": 4,
 "nbformat_minor": 2
}
