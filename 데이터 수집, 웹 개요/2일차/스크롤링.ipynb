{
 "cells": [
  {
   "cell_type": "markdown",
   "metadata": {},
   "source": [
    "##### 유튜브 스크롤링"
   ]
  },
  {
   "cell_type": "code",
   "execution_count": 90,
   "metadata": {},
   "outputs": [],
   "source": [
    "from selenium import webdriver\n",
    "from webdriver_manager.chrome import ChromeDriverManager\n",
    "import pandas as pd\n",
    "import time\n",
    "from tqdm import tqdm_notebook"
   ]
  },
  {
   "cell_type": "code",
   "execution_count": 91,
   "metadata": {},
   "outputs": [],
   "source": [
    "from selenium.webdriver.common.keys import Keys"
   ]
  },
  {
   "cell_type": "code",
   "execution_count": 92,
   "metadata": {},
   "outputs": [],
   "source": [
    "driver = webdriver.Chrome(ChromeDriverManager().install())"
   ]
  },
  {
   "cell_type": "code",
   "execution_count": 93,
   "metadata": {},
   "outputs": [],
   "source": [
    "driver.get('https://www.youtube.com/channel/UCSzHok6X5qXEO7cjvVnE62g/videos')"
   ]
  },
  {
   "cell_type": "code",
   "execution_count": 94,
   "metadata": {},
   "outputs": [],
   "source": [
    "driver.maximize_window()"
   ]
  },
  {
   "cell_type": "code",
   "execution_count": 96,
   "metadata": {},
   "outputs": [
    {
     "data": {
      "text/plain": [
       "(['[LOL] 프레이 아무무 : 어이! 어이! 믿고있었다구!!!',\n",
       "  '[LOL] 프레이 닐라 : 오늘만큼은 망나니 원딜이 되겠다.',\n",
       "  '[LOL] 영감 미안하오.. 멸망전땐 안하려했지만 너무 꿀잼이오ㅋㅋ',\n",
       "  '[LOL] 프레이의 애쉬는 멸망전에서도 다르다',\n",
       "  '[LOL] 멸망전 서폿 프레이에서 이상호가 된 나',\n",
       "  \"[LOL] 멸망전 서폿 '답답하면 니들이 뛰던지'에서 뛰는놈입니다\",\n",
       "  '[LOL] 멸망전 서폿 신입사원 프레이 인사박습니다!',\n",
       "  '[LOL] 프레이 진 : 최고의 조합이면서 최악의 서폿녀석 내CS...',\n",
       "  '[LOL] 프레이 아무무 : 어디 가는거야? 우웅..나랑 놀자.. 나랑 놀자고!!!',\n",
       "  '[LOL] 프레이 아펠리오스 : 천상계에서 의문의 케인장인에게 캐리받기',\n",
       "  '[LOL] 프레이 세나 : 이게 세나고!! 이게 탐켄치고!! 이게 세탐이다!!!',\n",
       "  '[LOL] 프레이 카이사 : 마형 힘의 차이가 느껴져? 버프된 카이사야',\n",
       "  '[LOL] 프레이 케이틀린 : 나 버프먹은 케틀이야 3대2도 가능해 드루와 드루와',\n",
       "  '[LOL] 프레이 칼리스타 : 망할 저격수와 디코하면서 콩자반 맛보기',\n",
       "  '[LOL] 프레이 닐라 : 아 왕호야 진짜 그러지마라 하지말라했다!!',\n",
       "  '[LOL] 프레이 시비르 : 인간이 5명 모이면 반드시 1명은 못하는 사람이 있다',\n",
       "  '[LOL] 프레이 닐라 : 이게 케리아..? 구마유시 체험하기',\n",
       "  '[LOL] 프레이 블리츠크랭크 : 어? 협곡에서 강제 팬미팅하기',\n",
       "  '[LOL] 프레이 닐라 : 그면상? 이젠 내면상이다 ㅋㅋㅋㅋ',\n",
       "  '[LOL] 프레이 케이틀린 : 나를 죽이지 못하는 고통은 나를 더욱 강하게 만든다',\n",
       "  '[LOL] 프레이 콩자반 : 죄송합니다. 보시다시피 저희 원딜도 반성하고 있습니다',\n",
       "  '[LOL] 프레이 칼리스타 : 칼리만 잡으면 더 강해지는 남자',\n",
       "  '[LOL] 프레이 바루스 : 바텀메타? 바텀론? 일단 정글뽑기부터 잘해야한다',\n",
       "  '[LOL] 프레이 시비르 : 지금 내 앞에서 애쉬 미포 조합을 하는거야?',\n",
       "  '[LOL] 프레이 시비르 : 지금까지 이정도로 격렬한 분노를 느낀 적이 없었어',\n",
       "  '[LOL] 프레이 콩자반 : 이건 참을 수 없다 ㅋㅋ 너흰 진짜 잘가라',\n",
       "  '[LOL] 프레이 제리 : 내가 어그로 쪽 빠는중~ 어그로!!! 살려줘!!!',\n",
       "  '[LOL] 프레이 그라가스 : 가자 야스오! 너와 내가 게임을 만드는거다',\n",
       "  '[LOL] 프레이 바루스 : 어쩔 수 없이 헤어졌던 그들은 적으로 만나게 되었다..',\n",
       "  '[LOL] 프레이 바루스 : 서폿은 도구가 아니다.. 어머니다.. 어머니!!!'],\n",
       " ['조회수 4.3만회',\n",
       "  '조회수 7.9만회',\n",
       "  '조회수 14만회',\n",
       "  '조회수 13만회',\n",
       "  '조회수 8만회',\n",
       "  '조회수 11만회',\n",
       "  '조회수 13만회',\n",
       "  '조회수 11만회',\n",
       "  '조회수 8.3만회',\n",
       "  '조회수 10만회',\n",
       "  '조회수 11만회',\n",
       "  '조회수 14만회',\n",
       "  '조회수 11만회',\n",
       "  '조회수 9.2만회',\n",
       "  '조회수 16만회',\n",
       "  '조회수 8.6만회',\n",
       "  '조회수 20만회',\n",
       "  '조회수 10만회',\n",
       "  '조회수 8.9만회',\n",
       "  '조회수 14만회',\n",
       "  '조회수 9.2만회',\n",
       "  '조회수 9.1만회',\n",
       "  '조회수 10만회',\n",
       "  '조회수 10만회',\n",
       "  '조회수 10만회',\n",
       "  '조회수 10만회',\n",
       "  '조회수 10만회',\n",
       "  '조회수 10만회',\n",
       "  '조회수 9.9만회',\n",
       "  '조회수 11만회'],\n",
       " 30,\n",
       " 30)"
      ]
     },
     "execution_count": 96,
     "metadata": {},
     "output_type": "execute_result"
    }
   ],
   "source": [
    "# 현재 창에 있는 data 불러오기\n",
    "title = driver.find_elements_by_css_selector('#video-title')\n",
    "    # 상위태그로 불러오는 방법\n",
    "    # title = driver.find_elements_by_css_selector\n",
    "    # ('h3.style-scope ytd-grid-video-renderer > a.yt-simple-endpoint style-scope ytd-grid-video-renderer')\n",
    "views = driver.find_elements_by_css_selector('#metadata-line > span:nth-child(1)')  # child(1) 같은게 있으면 제대로 data가 불러져 오는지 확인해야됨\n",
    "title_list = []\n",
    "views_list = []\n",
    "for i in title:\n",
    "    title_list.append(i.text)\n",
    "for i in views:\n",
    "    views_list.append(i.text)\n",
    "\n",
    "title_list, views_list, len(title_list), len(views_list)"
   ]
  },
  {
   "cell_type": "markdown",
   "metadata": {},
   "source": [
    "##### 스크롤링"
   ]
  },
  {
   "cell_type": "code",
   "execution_count": 97,
   "metadata": {},
   "outputs": [],
   "source": [
    "from bs4 import BeautifulSoup as bs\n",
    "import requests as req"
   ]
  },
  {
   "cell_type": "code",
   "execution_count": 98,
   "metadata": {},
   "outputs": [],
   "source": [
    "body = driver.find_element_by_css_selector('body')"
   ]
  },
  {
   "cell_type": "code",
   "execution_count": 99,
   "metadata": {},
   "outputs": [],
   "source": [
    "# 한번 실행할 때마다 한번씩 스크롤링 되기 때문에 while문 사용하여 끝까지 내리고 data를 받아오기\n",
    "# 1. 스크롤 높이를 이용해서 break하는 방법 -> 얼마나 내려갈지 모르기 때문에 높이를 정의해주기 힘듬\n",
    "# 2. soup으로 객체화를 이용한 방법 : 스크롤한 page를 soup을 통해 객체화 \n",
    "#   -> 일정 횟수만큼 스크롤링을 한 후(end키 사용) 객체화한 부분과 이전 객체화한 부분이 같은지 비교\n",
    "#   -> 스크롤링 전/후 객체화가 같으면 스크롤 끝냄(같으면 내용이 같다고 생각하여 끝냄)\n",
    "while tqdm_notebook(True):\n",
    "    last = bs(driver.page_source, 'html.parser')    # driver.page_source : page 가져옴\n",
    "    for i in range(10):\n",
    "        body.send_keys(Keys.END)    # 스크롤 한번 내리기\n",
    "    new = bs(driver.page_source,'html.parser')\n",
    "    if (last == new):\n",
    "        break\n",
    "    else:\n",
    "        pass"
   ]
  },
  {
   "cell_type": "code",
   "execution_count": 100,
   "metadata": {},
   "outputs": [],
   "source": [
    "title = driver.find_elements_by_css_selector('#video-title')\n",
    "views = driver.find_elements_by_css_selector('#metadata-line > span:nth-child(1)')"
   ]
  },
  {
   "cell_type": "code",
   "execution_count": 135,
   "metadata": {},
   "outputs": [
    {
     "name": "stderr",
     "output_type": "stream",
     "text": [
      "C:\\Users\\user\\AppData\\Local\\Temp\\ipykernel_13232\\1583781517.py:3: TqdmDeprecationWarning: This function will be removed in tqdm==5.0.0\n",
      "Please use `tqdm.notebook.tqdm` instead of `tqdm.tqdm_notebook`\n",
      "  for i in tqdm_notebook(title):\n"
     ]
    },
    {
     "data": {
      "application/vnd.jupyter.widget-view+json": {
       "model_id": "e4853acc265a4ba884ffe349111f5934",
       "version_major": 2,
       "version_minor": 0
      },
      "text/plain": [
       "  0%|          | 0/1368 [00:00<?, ?it/s]"
      ]
     },
     "metadata": {},
     "output_type": "display_data"
    },
    {
     "name": "stderr",
     "output_type": "stream",
     "text": [
      "C:\\Users\\user\\AppData\\Local\\Temp\\ipykernel_13232\\1583781517.py:5: TqdmDeprecationWarning: This function will be removed in tqdm==5.0.0\n",
      "Please use `tqdm.notebook.tqdm` instead of `tqdm.tqdm_notebook`\n",
      "  for i in tqdm_notebook(views):\n"
     ]
    },
    {
     "data": {
      "application/vnd.jupyter.widget-view+json": {
       "model_id": "98b0141d97f849399581fd0f344f1357",
       "version_major": 2,
       "version_minor": 0
      },
      "text/plain": [
       "  0%|          | 0/1368 [00:00<?, ?it/s]"
      ]
     },
     "metadata": {},
     "output_type": "display_data"
    }
   ],
   "source": [
    "title_list = []\n",
    "views_list = []\n",
    "for i in tqdm_notebook(title):\n",
    "    title_list.append(i.text)\n",
    "for i in tqdm_notebook(views):\n",
    "    string = i.text\n",
    "    string = string.replace(\"조회수 \",\"\")\n",
    "    string = string.replace(\"회\",\"\")\n",
    "    if ('.' in string):\n",
    "        if ('천' in string):\n",
    "            string = string.replace(\"천\",\"\")\n",
    "            string = float(string)  # 소수점은 float사용 해줘야 됨(int는 안됨)\n",
    "            string = string*1000\n",
    "            views_list.append(string)\n",
    "        elif ('만' in string):\n",
    "            string = string.replace(\"만\",\"\")\n",
    "            string = float(string)\n",
    "            string = string*10000\n",
    "            views_list.append(string)\n",
    "        else:\n",
    "            pass\n",
    "    else:\n",
    "        string = string.replace(\"천\",\"000\")\n",
    "        string = string.replace(\"만\",\"0000\")\n",
    "        string = float(string)  # 나중에 정렬해주기 위해서 형변환(String과 float,int 비교가 안되기 때문)\n",
    "        views_list.append(string)"
   ]
  },
  {
   "cell_type": "code",
   "execution_count": 136,
   "metadata": {},
   "outputs": [
    {
     "data": {
      "text/plain": [
       "(1368, 1368)"
      ]
     },
     "execution_count": 136,
     "metadata": {},
     "output_type": "execute_result"
    }
   ],
   "source": [
    "len(title_list), len(views_list)"
   ]
  },
  {
   "cell_type": "code",
   "execution_count": 137,
   "metadata": {},
   "outputs": [
    {
     "data": {
      "text/html": [
       "<div>\n",
       "<style scoped>\n",
       "    .dataframe tbody tr th:only-of-type {\n",
       "        vertical-align: middle;\n",
       "    }\n",
       "\n",
       "    .dataframe tbody tr th {\n",
       "        vertical-align: top;\n",
       "    }\n",
       "\n",
       "    .dataframe thead th {\n",
       "        text-align: right;\n",
       "    }\n",
       "</style>\n",
       "<table border=\"1\" class=\"dataframe\">\n",
       "  <thead>\n",
       "    <tr style=\"text-align: right;\">\n",
       "      <th></th>\n",
       "      <th>제목</th>\n",
       "      <th>조회수</th>\n",
       "    </tr>\n",
       "  </thead>\n",
       "  <tbody>\n",
       "    <tr>\n",
       "      <th>0</th>\n",
       "      <td>[LOL] 프레이 아무무 : 어이! 어이! 믿고있었다구!!!</td>\n",
       "      <td>43000.0</td>\n",
       "    </tr>\n",
       "    <tr>\n",
       "      <th>1</th>\n",
       "      <td>[LOL] 프레이 닐라 : 오늘만큼은 망나니 원딜이 되겠다.</td>\n",
       "      <td>79000.0</td>\n",
       "    </tr>\n",
       "    <tr>\n",
       "      <th>2</th>\n",
       "      <td>[LOL] 영감 미안하오.. 멸망전땐 안하려했지만 너무 꿀잼이오ㅋㅋ</td>\n",
       "      <td>140000.0</td>\n",
       "    </tr>\n",
       "    <tr>\n",
       "      <th>3</th>\n",
       "      <td>[LOL] 프레이의 애쉬는 멸망전에서도 다르다</td>\n",
       "      <td>130000.0</td>\n",
       "    </tr>\n",
       "    <tr>\n",
       "      <th>4</th>\n",
       "      <td>[LOL] 멸망전 서폿 프레이에서 이상호가 된 나</td>\n",
       "      <td>80000.0</td>\n",
       "    </tr>\n",
       "    <tr>\n",
       "      <th>...</th>\n",
       "      <td>...</td>\n",
       "      <td>...</td>\n",
       "    </tr>\n",
       "    <tr>\n",
       "      <th>1363</th>\n",
       "      <td>[LOL] 프레이 탑신짜오 배달왔더니 응원만하네_170523</td>\n",
       "      <td>53000.0</td>\n",
       "    </tr>\n",
       "    <tr>\n",
       "      <th>1364</th>\n",
       "      <td>[LOL] 프레이 자크서폿 핑크젤리 싸대기_170525</td>\n",
       "      <td>33000.0</td>\n",
       "    </tr>\n",
       "    <tr>\n",
       "      <th>1365</th>\n",
       "      <td>[LOL] 프레이와 스맵의 대벌레듀오 PAX트페원딜&amp;정글자크_170525</td>\n",
       "      <td>270000.0</td>\n",
       "    </tr>\n",
       "    <tr>\n",
       "      <th>1366</th>\n",
       "      <td>[LOL] 프레이 솔랭에서 만난 고릴라 어제의 동료가 오늘의 적_170525</td>\n",
       "      <td>68000.0</td>\n",
       "    </tr>\n",
       "    <tr>\n",
       "      <th>1367</th>\n",
       "      <td>[Highlight] 프레이 자크 그 자체 자크서폿</td>\n",
       "      <td>150000.0</td>\n",
       "    </tr>\n",
       "  </tbody>\n",
       "</table>\n",
       "<p>1368 rows × 2 columns</p>\n",
       "</div>"
      ],
      "text/plain": [
       "                                              제목       조회수\n",
       "0              [LOL] 프레이 아무무 : 어이! 어이! 믿고있었다구!!!   43000.0\n",
       "1              [LOL] 프레이 닐라 : 오늘만큼은 망나니 원딜이 되겠다.   79000.0\n",
       "2          [LOL] 영감 미안하오.. 멸망전땐 안하려했지만 너무 꿀잼이오ㅋㅋ  140000.0\n",
       "3                      [LOL] 프레이의 애쉬는 멸망전에서도 다르다  130000.0\n",
       "4                    [LOL] 멸망전 서폿 프레이에서 이상호가 된 나   80000.0\n",
       "...                                          ...       ...\n",
       "1363           [LOL] 프레이 탑신짜오 배달왔더니 응원만하네_170523   53000.0\n",
       "1364              [LOL] 프레이 자크서폿 핑크젤리 싸대기_170525   33000.0\n",
       "1365    [LOL] 프레이와 스맵의 대벌레듀오 PAX트페원딜&정글자크_170525  270000.0\n",
       "1366  [LOL] 프레이 솔랭에서 만난 고릴라 어제의 동료가 오늘의 적_170525   68000.0\n",
       "1367                [Highlight] 프레이 자크 그 자체 자크서폿  150000.0\n",
       "\n",
       "[1368 rows x 2 columns]"
      ]
     },
     "execution_count": 137,
     "metadata": {},
     "output_type": "execute_result"
    }
   ],
   "source": [
    "youtube_data = {'제목':title_list,'조회수':views_list}\n",
    "pray_youtube = pd.DataFrame(youtube_data)\n",
    "pray_youtube"
   ]
  },
  {
   "cell_type": "code",
   "execution_count": 138,
   "metadata": {},
   "outputs": [
    {
     "data": {
      "text/html": [
       "<div>\n",
       "<style scoped>\n",
       "    .dataframe tbody tr th:only-of-type {\n",
       "        vertical-align: middle;\n",
       "    }\n",
       "\n",
       "    .dataframe tbody tr th {\n",
       "        vertical-align: top;\n",
       "    }\n",
       "\n",
       "    .dataframe thead th {\n",
       "        text-align: right;\n",
       "    }\n",
       "</style>\n",
       "<table border=\"1\" class=\"dataframe\">\n",
       "  <thead>\n",
       "    <tr style=\"text-align: right;\">\n",
       "      <th></th>\n",
       "      <th>제목</th>\n",
       "      <th>조회수</th>\n",
       "    </tr>\n",
       "  </thead>\n",
       "  <tbody>\n",
       "    <tr>\n",
       "      <th>0</th>\n",
       "      <td>[LOL] 프레이vs중급봇 1대5 스킬 안쓰고 평타로만 깨기</td>\n",
       "      <td>2200000.0</td>\n",
       "    </tr>\n",
       "    <tr>\n",
       "      <th>1</th>\n",
       "      <td>[주간] 페이커가 챌린저로 시즌 마감을 안하는 이유</td>\n",
       "      <td>1410000.0</td>\n",
       "    </tr>\n",
       "    <tr>\n",
       "      <th>2</th>\n",
       "      <td>[LOL] 프레이의 미친무빙 탑 이속 진 : 어딜노리는겁니까 그건 잔상입니다_170531</td>\n",
       "      <td>1360000.0</td>\n",
       "    </tr>\n",
       "    <tr>\n",
       "      <th>3</th>\n",
       "      <td>[LOL] [#1] 프레이 이즈리얼 : 2달 만에 롤 했더니 챌린저였던 내가 브론즈...</td>\n",
       "      <td>1340000.0</td>\n",
       "    </tr>\n",
       "    <tr>\n",
       "      <th>4</th>\n",
       "      <td>[LOL] 프레이 도벽 룬 이즈리얼 : 프레이와 스맵 대벌레듀오! 웬만해선 그들을 ...</td>\n",
       "      <td>1290000.0</td>\n",
       "    </tr>\n",
       "    <tr>\n",
       "      <th>...</th>\n",
       "      <td>...</td>\n",
       "      <td>...</td>\n",
       "    </tr>\n",
       "    <tr>\n",
       "      <th>1363</th>\n",
       "      <td>[FULL TALK] 프레이 LZ VS AFs 경기 후 토크방송(PraY's Tal...</td>\n",
       "      <td>27000.0</td>\n",
       "    </tr>\n",
       "    <tr>\n",
       "      <th>1364</th>\n",
       "      <td>[PUBG] 프레이의 배틀그라운드 : 프레이와 라스칼 랜덤스쿼드 뚝배기 킬러!_17...</td>\n",
       "      <td>27000.0</td>\n",
       "    </tr>\n",
       "    <tr>\n",
       "      <th>1365</th>\n",
       "      <td>[FULL TALK] [2] 프레이 LZ VS EEW 경기 후 토크방송(PraY's...</td>\n",
       "      <td>24000.0</td>\n",
       "    </tr>\n",
       "    <tr>\n",
       "      <th>1366</th>\n",
       "      <td>[FULL TALK] 프레이 LZ VS MVP 경기 후 토크방송(PraY's Tal...</td>\n",
       "      <td>21000.0</td>\n",
       "    </tr>\n",
       "    <tr>\n",
       "      <th>1367</th>\n",
       "      <td>[LOL] 프레이 칼리스타 : Noob AD 소리듣다_170531</td>\n",
       "      <td>16000.0</td>\n",
       "    </tr>\n",
       "  </tbody>\n",
       "</table>\n",
       "<p>1368 rows × 2 columns</p>\n",
       "</div>"
      ],
      "text/plain": [
       "                                                     제목        조회수\n",
       "0                     [LOL] 프레이vs중급봇 1대5 스킬 안쓰고 평타로만 깨기  2200000.0\n",
       "1                          [주간] 페이커가 챌린저로 시즌 마감을 안하는 이유  1410000.0\n",
       "2     [LOL] 프레이의 미친무빙 탑 이속 진 : 어딜노리는겁니까 그건 잔상입니다_170531  1360000.0\n",
       "3     [LOL] [#1] 프레이 이즈리얼 : 2달 만에 롤 했더니 챌린저였던 내가 브론즈...  1340000.0\n",
       "4     [LOL] 프레이 도벽 룬 이즈리얼 : 프레이와 스맵 대벌레듀오! 웬만해선 그들을 ...  1290000.0\n",
       "...                                                 ...        ...\n",
       "1363  [FULL TALK] 프레이 LZ VS AFs 경기 후 토크방송(PraY's Tal...    27000.0\n",
       "1364  [PUBG] 프레이의 배틀그라운드 : 프레이와 라스칼 랜덤스쿼드 뚝배기 킬러!_17...    27000.0\n",
       "1365  [FULL TALK] [2] 프레이 LZ VS EEW 경기 후 토크방송(PraY's...    24000.0\n",
       "1366  [FULL TALK] 프레이 LZ VS MVP 경기 후 토크방송(PraY's Tal...    21000.0\n",
       "1367               [LOL] 프레이 칼리스타 : Noob AD 소리듣다_170531    16000.0\n",
       "\n",
       "[1368 rows x 2 columns]"
      ]
     },
     "execution_count": 138,
     "metadata": {},
     "output_type": "execute_result"
    }
   ],
   "source": [
    "# 조회수는 Stirng type이기 때문에 '회'를 제거하고 만을 숫자로 치환한 후 sortvalue로 정렬\n",
    "df = pd.DataFrame(youtube_data)\n",
    "df = df.sort_values(by=['조회수'], ascending=False)\n",
    "df = df.reset_index(drop=True)    # 인덱스 새로 지정\n",
    "df"
   ]
  },
  {
   "cell_type": "code",
   "execution_count": null,
   "metadata": {},
   "outputs": [],
   "source": []
  }
 ],
 "metadata": {
  "kernelspec": {
   "display_name": "Python 3.9.12 ('base')",
   "language": "python",
   "name": "python3"
  },
  "language_info": {
   "codemirror_mode": {
    "name": "ipython",
    "version": 3
   },
   "file_extension": ".py",
   "mimetype": "text/x-python",
   "name": "python",
   "nbconvert_exporter": "python",
   "pygments_lexer": "ipython3",
   "version": "3.9.12"
  },
  "orig_nbformat": 4,
  "vscode": {
   "interpreter": {
    "hash": "a077222d77dfe082b8f1dd562ad70e458ac2ab76993a0b248ab0476e32e9e8dd"
   }
  }
 },
 "nbformat": 4,
 "nbformat_minor": 2
}
