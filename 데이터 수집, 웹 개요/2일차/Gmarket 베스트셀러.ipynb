{
 "cells": [
  {
   "cell_type": "code",
   "execution_count": null,
   "metadata": {},
   "outputs": [],
   "source": [
    "# click하고 들어가는 방식은 selenium 사용\n",
    "# find_element_by_css_selector 부분만 soup으로 대체 가능\n"
   ]
  },
  {
   "cell_type": "code",
   "execution_count": 52,
   "metadata": {},
   "outputs": [],
   "source": [
    "from selenium import webdriver\n",
    "from webdriver_manager.chrome import ChromeDriverManager\n",
    "import pandas as pd\n",
    "import time\n",
    "from tqdm import tqdm_notebook"
   ]
  },
  {
   "cell_type": "code",
   "execution_count": 33,
   "metadata": {},
   "outputs": [],
   "source": [
    "driver = webdriver.Chrome(ChromeDriverManager().install())"
   ]
  },
  {
   "cell_type": "code",
   "execution_count": 34,
   "metadata": {},
   "outputs": [],
   "source": [
    "driver.get('https://www.gmarket.co.kr/')"
   ]
  },
  {
   "cell_type": "code",
   "execution_count": 35,
   "metadata": {},
   "outputs": [],
   "source": [
    "driver.maximize_window()    #창이 최소화되면 버튼이 없어지는 경우가 있기 때문에 최대화 해주기 "
   ]
  },
  {
   "cell_type": "code",
   "execution_count": 36,
   "metadata": {},
   "outputs": [],
   "source": [
    "# elements는 list이기 때문에 click 대상을 인덱스로 정해주어야 됨.\n",
    "best_btn = driver.find_element_by_css_selector('#desktop_layout-header > div > div > div.box__navigation > div.box__service-all > ul > li:nth-child(1) > a')\n",
    "best_btn.click()"
   ]
  },
  {
   "cell_type": "code",
   "execution_count": null,
   "metadata": {},
   "outputs": [],
   "source": [
    "category_list = []\n",
    "name_list = []\n",
    "price_list = []\n",
    "\n",
    "# 1. xpath 포멧팅 / 2. 전체 data 불러와서 인덱싱\n",
    "for i in tqdm_notebook(range(200)):\n",
    "    images = driver.find_elements_by_css_selector('img.lazy')   # refresh 될 때마다 images를 인식할 수 있게 for문 안에 넣어 줘야함\n",
    "    images[i].click()\n",
    "    driver.implicitly_wait(5)   # 5초 이내에 로딩이 되면 진행하고 5초 이후에 로딩이 안되더라도 진행\n",
    "    category = driver.find_element_by_css_selector('body > div.location-navi > ul > li.on > a') # 하위 tag가 겹치는지 확인하고 중복되면 상위 tag 지워도 됨\n",
    "    name = driver.find_element_by_css_selector('h1.itemtit')\n",
    "    price = driver.find_element_by_css_selector('strong.price_real')\n",
    "    category_list.append(category.text)\n",
    "    name_list.append(name.text)\n",
    "    price_list.append(price.text)\n",
    "    driver.back()\n",
    "    time.sleep(1)"
   ]
  },
  {
   "cell_type": "code",
   "execution_count": 76,
   "metadata": {},
   "outputs": [
    {
     "name": "stderr",
     "output_type": "stream",
     "text": [
      "C:\\Users\\user\\AppData\\Local\\Temp\\ipykernel_3328\\2991869967.py:5: TqdmDeprecationWarning: This function will be removed in tqdm==5.0.0\n",
      "Please use `tqdm.notebook.tqdm` instead of `tqdm.tqdm_notebook`\n",
      "  for i in tqdm_notebook(range(102,200)):\n"
     ]
    },
    {
     "data": {
      "application/vnd.jupyter.widget-view+json": {
       "model_id": "2295f06124714bc18b68f9bc2a9653cf",
       "version_major": 2,
       "version_minor": 0
      },
      "text/plain": [
       "  0%|          | 0/98 [00:00<?, ?it/s]"
      ]
     },
     "metadata": {},
     "output_type": "display_data"
    }
   ],
   "source": [
    "# 중간에 끊겼을 때 해당 지점에서 재시작하는 방법은 없음ㅠㅠ\n",
    "# for문 range로 조절한 후에 나중에 list 합치는 방법 사용, 중간에 끊겨도 지나온 data는 저장되어 있음\n",
    "category_list1 = []\n",
    "name_list1 = []\n",
    "price_list1 = []\n",
    "\n",
    "for i in tqdm_notebook(range(102,200)):\n",
    "    images = driver.find_elements_by_css_selector('img.lazy') \n",
    "    images[i].click()\n",
    "    driver.implicitly_wait(5)\n",
    "    try:\n",
    "        category = driver.find_element_by_css_selector('li.on > a')\n",
    "        name = driver.find_element_by_css_selector('h1.itemtit')\n",
    "        price = driver.find_element_by_css_selector('strong.price_real')\n",
    "        category_list1.append(category.text)\n",
    "        name_list1.append(name.text)\n",
    "        price_list1.append(price.text)\n",
    "        driver.back()\n",
    "        time.sleep(1)\n",
    "    except:\n",
    "        category = driver.find_element_by_xpath('/html/body/div[3]/ul/li[3]/a')\n",
    "        name = driver.find_element_by_css_selector('h1.itemtit')\n",
    "        price = driver.find_element_by_css_selector('strong.price_real')\n",
    "        category_list1.append(category.text)\n",
    "        name_list1.append(name.text)\n",
    "        price_list1.append(price.text)\n",
    "        driver.back()\n",
    "        time.sleep(1)"
   ]
  },
  {
   "cell_type": "code",
   "execution_count": 81,
   "metadata": {},
   "outputs": [],
   "source": [
    "# data 합치기\n",
    "category_list_new = category_list + category_list1\n",
    "name_list_new = name_list + name_list1\n",
    "price_list_new = price_list + price_list1"
   ]
  },
  {
   "cell_type": "code",
   "execution_count": 74,
   "metadata": {},
   "outputs": [
    {
     "data": {
      "text/plain": [
       "'강원'"
      ]
     },
     "execution_count": 74,
     "metadata": {},
     "output_type": "execute_result"
    }
   ],
   "source": [
    "#container > div.location-navi > ul > li.on > a\n",
    "#body > div.location-navi > ul > li.on > a\n",
    "#하위 tag가 중복이 되는지 확인 후 중복 된다면 상위 tag 지워도 됨\n",
    "category = driver.find_element_by_css_selector('li.on > a').text\n",
    "category"
   ]
  },
  {
   "cell_type": "code",
   "execution_count": 88,
   "metadata": {},
   "outputs": [
    {
     "data": {
      "text/html": [
       "<div>\n",
       "<style scoped>\n",
       "    .dataframe tbody tr th:only-of-type {\n",
       "        vertical-align: middle;\n",
       "    }\n",
       "\n",
       "    .dataframe tbody tr th {\n",
       "        vertical-align: top;\n",
       "    }\n",
       "\n",
       "    .dataframe thead th {\n",
       "        text-align: right;\n",
       "    }\n",
       "</style>\n",
       "<table border=\"1\" class=\"dataframe\">\n",
       "  <thead>\n",
       "    <tr style=\"text-align: right;\">\n",
       "      <th></th>\n",
       "      <th>카테고리</th>\n",
       "      <th>상품명</th>\n",
       "      <th>가격</th>\n",
       "    </tr>\n",
       "  </thead>\n",
       "  <tbody>\n",
       "    <tr>\n",
       "      <th>0</th>\n",
       "      <td>메가박스</td>\n",
       "      <td>(스마일클럽)일반예매권2D-주중/주말</td>\n",
       "      <td>8,500원</td>\n",
       "    </tr>\n",
       "    <tr>\n",
       "      <th>1</th>\n",
       "      <td>생수</td>\n",
       "      <td>스파클생수 2L 30병</td>\n",
       "      <td>15,900원</td>\n",
       "    </tr>\n",
       "    <tr>\n",
       "      <th>2</th>\n",
       "      <td>새우</td>\n",
       "      <td>생물 새우 1kg 35-45미/14900원(중복할인20%+스마일12% 쿠폰가)/국내산</td>\n",
       "      <td>21,900원</td>\n",
       "    </tr>\n",
       "    <tr>\n",
       "      <th>3</th>\n",
       "      <td>브이넥니트</td>\n",
       "      <td>너의지금 20%쿠폰 신상니트 가디건/롱/세트/가을신상/크롭/박스/루즈핏/긴팔</td>\n",
       "      <td>8,900원</td>\n",
       "    </tr>\n",
       "    <tr>\n",
       "      <th>4</th>\n",
       "      <td>전집/세트</td>\n",
       "      <td>(타임주니어) Around the World / Magic of mirror 선택구매</td>\n",
       "      <td>42,300원</td>\n",
       "    </tr>\n",
       "    <tr>\n",
       "      <th>...</th>\n",
       "      <td>...</td>\n",
       "      <td>...</td>\n",
       "      <td>...</td>\n",
       "    </tr>\n",
       "    <tr>\n",
       "      <th>195</th>\n",
       "      <td>기타게임/퍼즐</td>\n",
       "      <td>인기게임218종모음 루미큐브 할리갈리 러시아워 카탄</td>\n",
       "      <td>27,000원</td>\n",
       "    </tr>\n",
       "    <tr>\n",
       "      <th>196</th>\n",
       "      <td>세탁세제/비누</td>\n",
       "      <td>비트 딥클린파워 액체세제 4L 용기 x 3개 (BOX) +증정비트 액체</td>\n",
       "      <td>21,900원</td>\n",
       "    </tr>\n",
       "    <tr>\n",
       "      <th>197</th>\n",
       "      <td>변기세정제</td>\n",
       "      <td>청개구리 자동 변기 클리너 세정제 6개 (12개월분)</td>\n",
       "      <td>19,800원</td>\n",
       "    </tr>\n",
       "    <tr>\n",
       "      <th>198</th>\n",
       "      <td>가정용게임기</td>\n",
       "      <td>PS5 디스크 에디션 PlayStation 5 플스5 본체 1118</td>\n",
       "      <td>688,000원</td>\n",
       "    </tr>\n",
       "    <tr>\n",
       "      <th>199</th>\n",
       "      <td>커피/차</td>\n",
       "      <td>수프리모 오리지널 300T 무료배송</td>\n",
       "      <td>32,900원</td>\n",
       "    </tr>\n",
       "  </tbody>\n",
       "</table>\n",
       "<p>200 rows × 3 columns</p>\n",
       "</div>"
      ],
      "text/plain": [
       "        카테고리                                              상품명        가격\n",
       "0       메가박스                             (스마일클럽)일반예매권2D-주중/주말    8,500원\n",
       "1         생수                                     스파클생수 2L 30병   15,900원\n",
       "2         새우  생물 새우 1kg 35-45미/14900원(중복할인20%+스마일12% 쿠폰가)/국내산   21,900원\n",
       "3      브이넥니트       너의지금 20%쿠폰 신상니트 가디건/롱/세트/가을신상/크롭/박스/루즈핏/긴팔    8,900원\n",
       "4      전집/세트  (타임주니어) Around the World / Magic of mirror 선택구매   42,300원\n",
       "..       ...                                              ...       ...\n",
       "195  기타게임/퍼즐                     인기게임218종모음 루미큐브 할리갈리 러시아워 카탄   27,000원\n",
       "196  세탁세제/비누          비트 딥클린파워 액체세제 4L 용기 x 3개 (BOX) +증정비트 액체   21,900원\n",
       "197    변기세정제                    청개구리 자동 변기 클리너 세정제 6개 (12개월분)   19,800원\n",
       "198   가정용게임기            PS5 디스크 에디션 PlayStation 5 플스5 본체 1118  688,000원\n",
       "199     커피/차                              수프리모 오리지널 300T 무료배송   32,900원\n",
       "\n",
       "[200 rows x 3 columns]"
      ]
     },
     "execution_count": 88,
     "metadata": {},
     "output_type": "execute_result"
    }
   ],
   "source": [
    "market_data = {'카테고리':category_list_new,'상품명':name_list_new,'가격':price_list_new}\n",
    "market = pd.DataFrame(market_data)\n",
    "market"
   ]
  },
  {
   "cell_type": "code",
   "execution_count": null,
   "metadata": {},
   "outputs": [],
   "source": [
    "# 5초 이내에 로딩이 되면 진행하고 5초 이후에 로딩이 안되더라도 진행\n",
    "driver.implicitly_wait(5)\n",
    "\n",
    "#time.sleep은 로딩이 되든 안되든 5초를 기다리고 진행\n",
    "time.sleep(5)"
   ]
  }
 ],
 "metadata": {
  "kernelspec": {
   "display_name": "Python 3.9.12 ('base')",
   "language": "python",
   "name": "python3"
  },
  "language_info": {
   "codemirror_mode": {
    "name": "ipython",
    "version": 3
   },
   "file_extension": ".py",
   "mimetype": "text/x-python",
   "name": "python",
   "nbconvert_exporter": "python",
   "pygments_lexer": "ipython3",
   "version": "3.9.12"
  },
  "orig_nbformat": 4,
  "vscode": {
   "interpreter": {
    "hash": "a077222d77dfe082b8f1dd562ad70e458ac2ab76993a0b248ab0476e32e9e8dd"
   }
  }
 },
 "nbformat": 4,
 "nbformat_minor": 2
}
