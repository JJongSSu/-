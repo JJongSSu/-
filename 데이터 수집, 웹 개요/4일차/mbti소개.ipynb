{
 "cells": [
  {
   "cell_type": "code",
   "execution_count": 4,
   "metadata": {},
   "outputs": [],
   "source": [
    "from selenium import webdriver\n",
    "from webdriver_manager.chrome import ChromeDriverManager\n",
    "import pandas as pd\n",
    "import time\n",
    "from tqdm import tqdm_notebook as tqdm"
   ]
  },
  {
   "cell_type": "code",
   "execution_count": 13,
   "metadata": {},
   "outputs": [],
   "source": [
    "driver = webdriver.Chrome(ChromeDriverManager().install())"
   ]
  },
  {
   "cell_type": "code",
   "execution_count": 14,
   "metadata": {},
   "outputs": [],
   "source": [
    "driver.get('https://www.allurekorea.com/2022/04/30/perfume-mbti_estp-estj-esfp-esfj/?utm_source=related_article&utm_medium=recommend')"
   ]
  },
  {
   "cell_type": "code",
   "execution_count": 15,
   "metadata": {},
   "outputs": [],
   "source": [
    "driver.maximize_window()"
   ]
  },
  {
   "cell_type": "code",
   "execution_count": 16,
   "metadata": {},
   "outputs": [],
   "source": [
    "from bs4 import BeautifulSoup as bs\n",
    "import requests as req\n",
    "from selenium.webdriver.common.keys import Keys"
   ]
  },
  {
   "cell_type": "code",
   "execution_count": null,
   "metadata": {},
   "outputs": [],
   "source": [
    "# botton = driver.find_element_by_css_selector('#rec-wrap > div.rec-img > img')\n",
    "# botton.click()"
   ]
  },
  {
   "cell_type": "code",
   "execution_count": 17,
   "metadata": {},
   "outputs": [
    {
     "data": {
      "text/plain": [
       "(1, 9)"
      ]
     },
     "execution_count": 17,
     "metadata": {},
     "output_type": "execute_result"
    }
   ],
   "source": [
    "mbti_list = []\n",
    "content_list = []\n",
    "\n",
    "soup = bs(driver.page_source,'html.parser')\n",
    "content = soup.select('div.post-content > p')\n",
    "mbti = soup.select('h4:nth-child(3) > strong')\n",
    "\n",
    "for i in content:\n",
    "    content_list.append(i.text)\n",
    "for i in mbti:\n",
    "    mbti_list.append(i.text)\n",
    "\n",
    "len(mbti_list), len(content_list)"
   ]
  },
  {
   "cell_type": "code",
   "execution_count": 18,
   "metadata": {},
   "outputs": [
    {
     "data": {
      "text/plain": [
       "['ESTP ']"
      ]
     },
     "execution_count": 18,
     "metadata": {},
     "output_type": "execute_result"
    }
   ],
   "source": [
    "mbti_list"
   ]
  },
  {
   "cell_type": "code",
   "execution_count": 19,
   "metadata": {},
   "outputs": [
    {
     "data": {
      "text/plain": [
       "['MBTI 그리고 그런 성격을 지닌 향을 짝지었다. 자신을 닮은 향수를 찾고 있다면 여기 그 답이 있다.\\xa0',\n",
       " '즉흥적이고, 순발력이 뛰어나 임기응변에 능하다. 현실적이지만 무척 개방적이며 열린 시각으로 세상을 바라본다. 도전적이고 진취적인 엣팁의 모습과 닮은 향은 비디케이의 ‘그리 샤르넬 EDP’. 익숙한 듯 이국적인 향의 전개로 신비로운 분위기를 풍기지만 존재감은 확실하다. 100ml 26만9천원.',\n",
       " '\\xa0',\n",
       " '계획적인 현실주의자 엣티제. 리더 성향으로 확실한 방향과 목표를 설정하고 이를 수행한다. 더 디퍼런트 컴퍼니의 ‘수블림 발키스 EDP’는 시원하고 스파이시한 첫 향이 엣티제 특유의 단호함과 명철한 이미지와 닮았다. 여기에 플로럴 노트가 더해져 반전 매력까지 선사한다. 100ml 25만3천원.',\n",
       " '\\xa0',\n",
       " '사교적이고 활동적인, 자유로운 영혼. 선천적 인싸 재질로 엣프피가 있는 곳이 곧 무대다. 딥티크의 ‘오데썽 EDT’는 향기로운 오렌지블라섬, 달콤한 비터오렌지, 싱그러운 우디 노트 등 다채롭고 화려한 향을 담아 오감을 자극한다. 향기는 흥을 돋우고, 거부할 수 없는 매력을 발산한다. 100ml 19만9천원.',\n",
       " '\\xa0',\n",
       " '타인을 향한 관심과 배려가 많은 엣프제. 협력적이며 소통 능력이 뛰어나다. 모두를 아우를 수 있는 매력을 지닌 엣프제에게 바이레도의 ‘집시워터 EDP’를 추천한다. 생기발랄한 시트러스 향이 은은한 샌들우드 향으로 이어지며, 향의 중심엔 소나무가 위치해 전체적인 균형을 이끌어낸다. 100ml 34만원.',\n",
       " '\\xa0']"
      ]
     },
     "execution_count": 19,
     "metadata": {},
     "output_type": "execute_result"
    }
   ],
   "source": [
    "content_list"
   ]
  },
  {
   "cell_type": "code",
   "execution_count": null,
   "metadata": {},
   "outputs": [],
   "source": [
    "data = {'mbti':mbti_list,'내용':content_list}\n",
    "mbti_data = pd.DataFrame(data)\n",
    "mbti_data"
   ]
  }
 ],
 "metadata": {
  "kernelspec": {
   "display_name": "Python 3.9.12 ('base')",
   "language": "python",
   "name": "python3"
  },
  "language_info": {
   "codemirror_mode": {
    "name": "ipython",
    "version": 3
   },
   "file_extension": ".py",
   "mimetype": "text/x-python",
   "name": "python",
   "nbconvert_exporter": "python",
   "pygments_lexer": "ipython3",
   "version": "3.9.12"
  },
  "orig_nbformat": 4,
  "vscode": {
   "interpreter": {
    "hash": "a077222d77dfe082b8f1dd562ad70e458ac2ab76993a0b248ab0476e32e9e8dd"
   }
  }
 },
 "nbformat": 4,
 "nbformat_minor": 2
}
