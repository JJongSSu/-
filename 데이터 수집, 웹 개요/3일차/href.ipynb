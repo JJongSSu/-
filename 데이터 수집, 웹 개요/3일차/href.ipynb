{
 "cells": [
  {
   "cell_type": "code",
   "execution_count": 77,
   "metadata": {},
   "outputs": [],
   "source": [
    "from selenium import webdriver\n",
    "from webdriver_manager.chrome import ChromeDriverManager\n",
    "import pandas as pd\n",
    "import time\n",
    "from tqdm import tqdm_notebook as tqdm"
   ]
  },
  {
   "cell_type": "code",
   "execution_count": 78,
   "metadata": {},
   "outputs": [],
   "source": [
    "driver = webdriver.Chrome(ChromeDriverManager().install())"
   ]
  },
  {
   "cell_type": "code",
   "execution_count": 79,
   "metadata": {},
   "outputs": [],
   "source": [
    "driver.get('https://news.sbs.co.kr/news/newsflash.do?plink=NEW&cooper=SBSNEWSMAIN')"
   ]
  },
  {
   "cell_type": "code",
   "execution_count": 80,
   "metadata": {},
   "outputs": [],
   "source": [
    "from bs4 import BeautifulSoup as bs\n",
    "import requests as req"
   ]
  },
  {
   "cell_type": "markdown",
   "metadata": {},
   "source": [
    "##### 뉴스페이지 url 가져오기"
   ]
  },
  {
   "cell_type": "code",
   "execution_count": 81,
   "metadata": {},
   "outputs": [],
   "source": [
    "soup = bs(driver.page_source,'html.parser')"
   ]
  },
  {
   "cell_type": "code",
   "execution_count": 82,
   "metadata": {},
   "outputs": [],
   "source": [
    "search = soup.select('a.news')"
   ]
  },
  {
   "cell_type": "code",
   "execution_count": 83,
   "metadata": {},
   "outputs": [
    {
     "name": "stdout",
     "output_type": "stream",
     "text": [
      "https://news.sbs.co.kr//news/endPage.do?news_id=N1006897048\n",
      "https://news.sbs.co.kr//news/endPage.do?news_id=N1006896384\n",
      "https://news.sbs.co.kr//news/endPage.do?news_id=N1006897037\n",
      "https://news.sbs.co.kr//news/endPage.do?news_id=N1006897098\n",
      "https://news.sbs.co.kr//news/endPage.do?news_id=N1006897084\n",
      "https://news.sbs.co.kr//news/endPage.do?news_id=N1006897095\n",
      "https://news.sbs.co.kr//news/endPage.do?news_id=N1006897088\n",
      "https://news.sbs.co.kr//news/endPage.do?news_id=N1006897079\n",
      "https://news.sbs.co.kr//news/endPage.do?news_id=N1006897070\n",
      "https://news.sbs.co.kr//news/endPage.do?news_id=N1006896879\n"
     ]
    }
   ],
   "source": [
    "for i in search:\n",
    "    print('https://news.sbs.co.kr/' + i['href'])"
   ]
  },
  {
   "cell_type": "code",
   "execution_count": 84,
   "metadata": {},
   "outputs": [
    {
     "name": "stdout",
     "output_type": "stream",
     "text": [
      "https://news.sbs.co.kr//news/endPage.do?news_id=N1006897048\n",
      "https://news.sbs.co.kr//news/endPage.do?news_id=N1006896384\n",
      "https://news.sbs.co.kr//news/endPage.do?news_id=N1006897037\n",
      "https://news.sbs.co.kr//news/endPage.do?news_id=N1006897098\n",
      "https://news.sbs.co.kr//news/endPage.do?news_id=N1006897084\n",
      "https://news.sbs.co.kr//news/endPage.do?news_id=N1006897095\n",
      "https://news.sbs.co.kr//news/endPage.do?news_id=N1006897088\n",
      "https://news.sbs.co.kr//news/endPage.do?news_id=N1006897079\n",
      "https://news.sbs.co.kr//news/endPage.do?news_id=N1006897070\n",
      "https://news.sbs.co.kr//news/endPage.do?news_id=N1006896879\n"
     ]
    }
   ],
   "source": [
    "search1 = soup.find_all('a', class_='news')\n",
    "for i in search1:\n",
    "    print('https://news.sbs.co.kr/' + i['href'])"
   ]
  },
  {
   "cell_type": "code",
   "execution_count": 85,
   "metadata": {},
   "outputs": [
    {
     "data": {
      "text/plain": [
       "['https://news.sbs.co.kr//news/endPage.do?news_id=N1006897048',\n",
       " 'https://news.sbs.co.kr//news/endPage.do?news_id=N1006896384',\n",
       " 'https://news.sbs.co.kr//news/endPage.do?news_id=N1006897037',\n",
       " 'https://news.sbs.co.kr//news/endPage.do?news_id=N1006897098',\n",
       " 'https://news.sbs.co.kr//news/endPage.do?news_id=N1006897084',\n",
       " 'https://news.sbs.co.kr//news/endPage.do?news_id=N1006897095',\n",
       " 'https://news.sbs.co.kr//news/endPage.do?news_id=N1006897088',\n",
       " 'https://news.sbs.co.kr//news/endPage.do?news_id=N1006897079',\n",
       " 'https://news.sbs.co.kr//news/endPage.do?news_id=N1006897070',\n",
       " 'https://news.sbs.co.kr//news/endPage.do?news_id=N1006896879',\n",
       " 'https://news.sbs.co.kr//news/endPage.do?news_id=N1006897048',\n",
       " 'https://news.sbs.co.kr//news/endPage.do?news_id=N1006896384',\n",
       " 'https://news.sbs.co.kr//news/endPage.do?news_id=N1006897037',\n",
       " 'https://news.sbs.co.kr//news/endPage.do?news_id=N1006897098',\n",
       " 'https://news.sbs.co.kr//news/endPage.do?news_id=N1006897084',\n",
       " 'https://news.sbs.co.kr//news/endPage.do?news_id=N1006897095',\n",
       " 'https://news.sbs.co.kr//news/endPage.do?news_id=N1006897088',\n",
       " 'https://news.sbs.co.kr//news/endPage.do?news_id=N1006897079',\n",
       " 'https://news.sbs.co.kr//news/endPage.do?news_id=N1006897070',\n",
       " 'https://news.sbs.co.kr//news/endPage.do?news_id=N1006896879',\n",
       " 'https://news.sbs.co.kr//news/endPage.do?news_id=N1006897048',\n",
       " 'https://news.sbs.co.kr//news/endPage.do?news_id=N1006896384',\n",
       " 'https://news.sbs.co.kr//news/endPage.do?news_id=N1006897037',\n",
       " 'https://news.sbs.co.kr//news/endPage.do?news_id=N1006897098',\n",
       " 'https://news.sbs.co.kr//news/endPage.do?news_id=N1006897084',\n",
       " 'https://news.sbs.co.kr//news/endPage.do?news_id=N1006897095',\n",
       " 'https://news.sbs.co.kr//news/endPage.do?news_id=N1006897088',\n",
       " 'https://news.sbs.co.kr//news/endPage.do?news_id=N1006897079',\n",
       " 'https://news.sbs.co.kr//news/endPage.do?news_id=N1006897070',\n",
       " 'https://news.sbs.co.kr//news/endPage.do?news_id=N1006896879',\n",
       " 'https://news.sbs.co.kr//news/endPage.do?news_id=N1006897048',\n",
       " 'https://news.sbs.co.kr//news/endPage.do?news_id=N1006896384',\n",
       " 'https://news.sbs.co.kr//news/endPage.do?news_id=N1006897037',\n",
       " 'https://news.sbs.co.kr//news/endPage.do?news_id=N1006897098',\n",
       " 'https://news.sbs.co.kr//news/endPage.do?news_id=N1006897084',\n",
       " 'https://news.sbs.co.kr//news/endPage.do?news_id=N1006897095',\n",
       " 'https://news.sbs.co.kr//news/endPage.do?news_id=N1006897088',\n",
       " 'https://news.sbs.co.kr//news/endPage.do?news_id=N1006897079',\n",
       " 'https://news.sbs.co.kr//news/endPage.do?news_id=N1006897070',\n",
       " 'https://news.sbs.co.kr//news/endPage.do?news_id=N1006896879',\n",
       " 'https://news.sbs.co.kr//news/endPage.do?news_id=N1006897048',\n",
       " 'https://news.sbs.co.kr//news/endPage.do?news_id=N1006896384',\n",
       " 'https://news.sbs.co.kr//news/endPage.do?news_id=N1006897037',\n",
       " 'https://news.sbs.co.kr//news/endPage.do?news_id=N1006897098',\n",
       " 'https://news.sbs.co.kr//news/endPage.do?news_id=N1006897084',\n",
       " 'https://news.sbs.co.kr//news/endPage.do?news_id=N1006897095',\n",
       " 'https://news.sbs.co.kr//news/endPage.do?news_id=N1006897088',\n",
       " 'https://news.sbs.co.kr//news/endPage.do?news_id=N1006897079',\n",
       " 'https://news.sbs.co.kr//news/endPage.do?news_id=N1006897070',\n",
       " 'https://news.sbs.co.kr//news/endPage.do?news_id=N1006896879',\n",
       " 'https://news.sbs.co.kr//news/endPage.do?news_id=N1006897048',\n",
       " 'https://news.sbs.co.kr//news/endPage.do?news_id=N1006896384',\n",
       " 'https://news.sbs.co.kr//news/endPage.do?news_id=N1006897037',\n",
       " 'https://news.sbs.co.kr//news/endPage.do?news_id=N1006897098',\n",
       " 'https://news.sbs.co.kr//news/endPage.do?news_id=N1006897084',\n",
       " 'https://news.sbs.co.kr//news/endPage.do?news_id=N1006897095',\n",
       " 'https://news.sbs.co.kr//news/endPage.do?news_id=N1006897088',\n",
       " 'https://news.sbs.co.kr//news/endPage.do?news_id=N1006897079',\n",
       " 'https://news.sbs.co.kr//news/endPage.do?news_id=N1006897070',\n",
       " 'https://news.sbs.co.kr//news/endPage.do?news_id=N1006896879',\n",
       " 'https://news.sbs.co.kr//news/endPage.do?news_id=N1006897048',\n",
       " 'https://news.sbs.co.kr//news/endPage.do?news_id=N1006896384',\n",
       " 'https://news.sbs.co.kr//news/endPage.do?news_id=N1006897037',\n",
       " 'https://news.sbs.co.kr//news/endPage.do?news_id=N1006897098',\n",
       " 'https://news.sbs.co.kr//news/endPage.do?news_id=N1006897084',\n",
       " 'https://news.sbs.co.kr//news/endPage.do?news_id=N1006897095',\n",
       " 'https://news.sbs.co.kr//news/endPage.do?news_id=N1006897088',\n",
       " 'https://news.sbs.co.kr//news/endPage.do?news_id=N1006897079',\n",
       " 'https://news.sbs.co.kr//news/endPage.do?news_id=N1006897070',\n",
       " 'https://news.sbs.co.kr//news/endPage.do?news_id=N1006896879',\n",
       " 'https://news.sbs.co.kr//news/endPage.do?news_id=N1006897048',\n",
       " 'https://news.sbs.co.kr//news/endPage.do?news_id=N1006896384',\n",
       " 'https://news.sbs.co.kr//news/endPage.do?news_id=N1006897037',\n",
       " 'https://news.sbs.co.kr//news/endPage.do?news_id=N1006897098',\n",
       " 'https://news.sbs.co.kr//news/endPage.do?news_id=N1006897084',\n",
       " 'https://news.sbs.co.kr//news/endPage.do?news_id=N1006897095',\n",
       " 'https://news.sbs.co.kr//news/endPage.do?news_id=N1006897088',\n",
       " 'https://news.sbs.co.kr//news/endPage.do?news_id=N1006897079',\n",
       " 'https://news.sbs.co.kr//news/endPage.do?news_id=N1006897070',\n",
       " 'https://news.sbs.co.kr//news/endPage.do?news_id=N1006896879',\n",
       " 'https://news.sbs.co.kr//news/endPage.do?news_id=N1006897048',\n",
       " 'https://news.sbs.co.kr//news/endPage.do?news_id=N1006896384',\n",
       " 'https://news.sbs.co.kr//news/endPage.do?news_id=N1006897037',\n",
       " 'https://news.sbs.co.kr//news/endPage.do?news_id=N1006897098',\n",
       " 'https://news.sbs.co.kr//news/endPage.do?news_id=N1006897084',\n",
       " 'https://news.sbs.co.kr//news/endPage.do?news_id=N1006897095',\n",
       " 'https://news.sbs.co.kr//news/endPage.do?news_id=N1006897088',\n",
       " 'https://news.sbs.co.kr//news/endPage.do?news_id=N1006897079',\n",
       " 'https://news.sbs.co.kr//news/endPage.do?news_id=N1006897070',\n",
       " 'https://news.sbs.co.kr//news/endPage.do?news_id=N1006896879']"
      ]
     },
     "execution_count": 85,
     "metadata": {},
     "output_type": "execute_result"
    }
   ],
   "source": [
    "url_list = []\n",
    "for i in range(1,10):\n",
    "    page = 'https://news.sbs.co.kr/news/newsflash.do?plink=NEW&cooper=SBSNEWSMAIN&pageIdx={}'.format(i)\n",
    "    driver.get(page)\n",
    "    time.sleep(1)\n",
    "\n",
    "    soup1 = bs(driver.page_source,'html.parser')\n",
    "    search = soup1.select('a.news')\n",
    "    for i in search:\n",
    "        url_list.append('https://news.sbs.co.kr/' + i['href'])\n",
    "len(url_list)"
   ]
  },
  {
   "cell_type": "code",
   "execution_count": 86,
   "metadata": {},
   "outputs": [
    {
     "data": {
      "text/plain": [
       "(90, 90)"
      ]
     },
     "execution_count": 86,
     "metadata": {},
     "output_type": "execute_result"
    }
   ],
   "source": [
    "# hrefs_list = []\n",
    "# for i in range(1,10):\n",
    "#     page = 'https://news.sbs.co.kr/news/newsflash.do?plink=NEW&cooper=SBSNEWSMAIN&pageIdx={}'.format(i)\n",
    "#     hrefs = soup.select('a.news')        \n",
    "#     for i in hrefs:\n",
    "#         hrefs_list.append('https://news.sbs.co.kr/' + i['href'])\n",
    "# len(hrefs_list)"
   ]
  },
  {
   "cell_type": "code",
   "execution_count": 91,
   "metadata": {},
   "outputs": [
    {
     "name": "stderr",
     "output_type": "stream",
     "text": [
      "C:\\Users\\user\\AppData\\Local\\Temp\\ipykernel_10744\\3316245188.py:5: TqdmDeprecationWarning: This function will be removed in tqdm==5.0.0\n",
      "Please use `tqdm.notebook.tqdm` instead of `tqdm.tqdm_notebook`\n",
      "  for url in tqdm(url_list):\n"
     ]
    },
    {
     "data": {
      "application/vnd.jupyter.widget-view+json": {
       "model_id": "20c3851cecd140a4b36ea2435963b893",
       "version_major": 2,
       "version_minor": 0
      },
      "text/plain": [
       "  0%|          | 0/90 [00:00<?, ?it/s]"
      ]
     },
     "metadata": {},
     "output_type": "display_data"
    },
    {
     "data": {
      "text/plain": [
       "(90, 90)"
      ]
     },
     "execution_count": 91,
     "metadata": {},
     "output_type": "execute_result"
    }
   ],
   "source": [
    "# 상세 페이지 기사 제목 & 내용\n",
    "title_list = []\n",
    "contents_list = []\n",
    "\n",
    "for url in tqdm(url_list):\n",
    "    driver.get(url)\n",
    "    time.sleep(1)\n",
    "    soup = bs(driver.page_source,'html.parser')  \n",
    "    title = soup.select('div.w_article_title > h3')\n",
    "    contents = soup.select('div.text_area')\n",
    "    for i in title:\n",
    "        title_list.append(i.text)\n",
    "    # title_list.append(title[0].text)\n",
    "    for i in contents:\n",
    "        contents_list.append(i.text)  \n",
    "    # contents_list.append(contents[0].text)\n",
    "len(title_list), len(contents_list)"
   ]
  },
  {
   "cell_type": "code",
   "execution_count": 92,
   "metadata": {},
   "outputs": [
    {
     "data": {
      "text/html": [
       "<div>\n",
       "<style scoped>\n",
       "    .dataframe tbody tr th:only-of-type {\n",
       "        vertical-align: middle;\n",
       "    }\n",
       "\n",
       "    .dataframe tbody tr th {\n",
       "        vertical-align: top;\n",
       "    }\n",
       "\n",
       "    .dataframe thead th {\n",
       "        text-align: right;\n",
       "    }\n",
       "</style>\n",
       "<table border=\"1\" class=\"dataframe\">\n",
       "  <thead>\n",
       "    <tr style=\"text-align: right;\">\n",
       "      <th></th>\n",
       "      <th>제목</th>\n",
       "      <th>참조주소</th>\n",
       "      <th>내용</th>\n",
       "    </tr>\n",
       "  </thead>\n",
       "  <tbody>\n",
       "    <tr>\n",
       "      <th>0</th>\n",
       "      <td>[자막뉴스] 김정은 옆 밀착 수행…새 얼굴의 정체</td>\n",
       "      <td>https://news.sbs.co.kr//news/endPage.do?news_i...</td>\n",
       "      <td>\\n  북한 김정은 총비서 옆에서 밀착 수행을 하는 한 여성이 포착됐습니다. 북한이...</td>\n",
       "    </tr>\n",
       "    <tr>\n",
       "      <th>1</th>\n",
       "      <td>'라스트 찬스' 이강인, 실력으로 벤투 고집 꺾었다 [축덕쑥덕]</td>\n",
       "      <td>https://news.sbs.co.kr//news/endPage.do?news_i...</td>\n",
       "      <td>\\n\\n\\n\\n\\n[골룸] 축덕쑥덕 184 : '라스트 찬스' 이강인, 실력으로 벤...</td>\n",
       "    </tr>\n",
       "    <tr>\n",
       "      <th>2</th>\n",
       "      <td>[자막뉴스] 여성 역무원 살해한 30대 남성…화장실까지 따라갔다</td>\n",
       "      <td>https://news.sbs.co.kr//news/endPage.do?news_i...</td>\n",
       "      <td>\\n  어젯(14일)밤 서울 지하철 2호선 신당역에 있는 여자화장실에서 30대 남성...</td>\n",
       "    </tr>\n",
       "    <tr>\n",
       "      <th>3</th>\n",
       "      <td>조정훈 \"특검은 핵폭탄\" 박범계 \"우리는 국민을 대변\"</td>\n",
       "      <td>https://news.sbs.co.kr//news/endPage.do?news_i...</td>\n",
       "      <td>\\n  시대전환 조정훈(비례대표) 대표는 오늘(15일) 더불어민주당이 추진하는 '김...</td>\n",
       "    </tr>\n",
       "    <tr>\n",
       "      <th>4</th>\n",
       "      <td>양양 낙산에서 건물 진동…숙박업소 투숙객 대피 소동</td>\n",
       "      <td>https://news.sbs.co.kr//news/endPage.do?news_i...</td>\n",
       "      <td>\\n\\n▲위 사진은 기사 내용과 관련이 없습니다.\\n\\n 지난달 땅 꺼짐으로 편의점...</td>\n",
       "    </tr>\n",
       "    <tr>\n",
       "      <th>...</th>\n",
       "      <td>...</td>\n",
       "      <td>...</td>\n",
       "      <td>...</td>\n",
       "    </tr>\n",
       "    <tr>\n",
       "      <th>85</th>\n",
       "      <td>추석날 호텔서 마약 투약한 남녀 검찰에 넘겨져</td>\n",
       "      <td>https://news.sbs.co.kr//news/endPage.do?news_i...</td>\n",
       "      <td>\\n  추석날 호텔에서 마약을 투약한 남녀가 검찰에 넘겨졌습니다.\\n  \\n 오늘(...</td>\n",
       "    </tr>\n",
       "    <tr>\n",
       "      <th>86</th>\n",
       "      <td>'마약 투여' 유명 남성잡지 모델, 2심도 징역 8개월 실형</td>\n",
       "      <td>https://news.sbs.co.kr//news/endPage.do?news_i...</td>\n",
       "      <td>\\n  유명 남성 잡지 모델 출신 30대 여성이 마약을 투약한 혐의로 항소심에서도 ...</td>\n",
       "    </tr>\n",
       "    <tr>\n",
       "      <th>87</th>\n",
       "      <td>국민의힘 이용호, 원내대표 출마 선언 \"외연 확장 상징 선택해달라\"</td>\n",
       "      <td>https://news.sbs.co.kr//news/endPage.do?news_i...</td>\n",
       "      <td>\\n  국민의힘 재선 의원인 이용호 의원이 오늘(15일) 오전 국회에서 기자회견을 ...</td>\n",
       "    </tr>\n",
       "    <tr>\n",
       "      <th>88</th>\n",
       "      <td>피겨 유영, 시즌 첫 국제 대회 쇼트 1위…김예림 5위</td>\n",
       "      <td>https://news.sbs.co.kr//news/endPage.do?news_i...</td>\n",
       "      <td>\\n  피겨스케이팅 여자 싱글 간판 유영이 2022-2023시즌 처음 출전한 국제대...</td>\n",
       "    </tr>\n",
       "    <tr>\n",
       "      <th>89</th>\n",
       "      <td>[영상] 울산서 검거된 '뉴질랜드 경매 가방 속 시신' 용의자…\"아이들 친모 유력\"</td>\n",
       "      <td>https://news.sbs.co.kr//news/endPage.do?news_i...</td>\n",
       "      <td>\\n  뉴질랜드에서 발생한 '가방 속 어린이 시신 사건'의 용의자가 오늘(15일) ...</td>\n",
       "    </tr>\n",
       "  </tbody>\n",
       "</table>\n",
       "<p>90 rows × 3 columns</p>\n",
       "</div>"
      ],
      "text/plain": [
       "                                                제목  \\\n",
       "0                      [자막뉴스] 김정은 옆 밀착 수행…새 얼굴의 정체   \n",
       "1              '라스트 찬스' 이강인, 실력으로 벤투 고집 꺾었다 [축덕쑥덕]   \n",
       "2              [자막뉴스] 여성 역무원 살해한 30대 남성…화장실까지 따라갔다   \n",
       "3                   조정훈 \"특검은 핵폭탄\" 박범계 \"우리는 국민을 대변\"   \n",
       "4                     양양 낙산에서 건물 진동…숙박업소 투숙객 대피 소동   \n",
       "..                                             ...   \n",
       "85                       추석날 호텔서 마약 투약한 남녀 검찰에 넘겨져   \n",
       "86               '마약 투여' 유명 남성잡지 모델, 2심도 징역 8개월 실형   \n",
       "87           국민의힘 이용호, 원내대표 출마 선언 \"외연 확장 상징 선택해달라\"   \n",
       "88                  피겨 유영, 시즌 첫 국제 대회 쇼트 1위…김예림 5위   \n",
       "89  [영상] 울산서 검거된 '뉴질랜드 경매 가방 속 시신' 용의자…\"아이들 친모 유력\"   \n",
       "\n",
       "                                                 참조주소  \\\n",
       "0   https://news.sbs.co.kr//news/endPage.do?news_i...   \n",
       "1   https://news.sbs.co.kr//news/endPage.do?news_i...   \n",
       "2   https://news.sbs.co.kr//news/endPage.do?news_i...   \n",
       "3   https://news.sbs.co.kr//news/endPage.do?news_i...   \n",
       "4   https://news.sbs.co.kr//news/endPage.do?news_i...   \n",
       "..                                                ...   \n",
       "85  https://news.sbs.co.kr//news/endPage.do?news_i...   \n",
       "86  https://news.sbs.co.kr//news/endPage.do?news_i...   \n",
       "87  https://news.sbs.co.kr//news/endPage.do?news_i...   \n",
       "88  https://news.sbs.co.kr//news/endPage.do?news_i...   \n",
       "89  https://news.sbs.co.kr//news/endPage.do?news_i...   \n",
       "\n",
       "                                                   내용  \n",
       "0   \\n  북한 김정은 총비서 옆에서 밀착 수행을 하는 한 여성이 포착됐습니다. 북한이...  \n",
       "1   \\n\\n\\n\\n\\n[골룸] 축덕쑥덕 184 : '라스트 찬스' 이강인, 실력으로 벤...  \n",
       "2   \\n  어젯(14일)밤 서울 지하철 2호선 신당역에 있는 여자화장실에서 30대 남성...  \n",
       "3   \\n  시대전환 조정훈(비례대표) 대표는 오늘(15일) 더불어민주당이 추진하는 '김...  \n",
       "4   \\n\\n▲위 사진은 기사 내용과 관련이 없습니다.\\n\\n 지난달 땅 꺼짐으로 편의점...  \n",
       "..                                                ...  \n",
       "85  \\n  추석날 호텔에서 마약을 투약한 남녀가 검찰에 넘겨졌습니다.\\n  \\n 오늘(...  \n",
       "86  \\n  유명 남성 잡지 모델 출신 30대 여성이 마약을 투약한 혐의로 항소심에서도 ...  \n",
       "87  \\n  국민의힘 재선 의원인 이용호 의원이 오늘(15일) 오전 국회에서 기자회견을 ...  \n",
       "88  \\n  피겨스케이팅 여자 싱글 간판 유영이 2022-2023시즌 처음 출전한 국제대...  \n",
       "89  \\n  뉴질랜드에서 발생한 '가방 속 어린이 시신 사건'의 용의자가 오늘(15일) ...  \n",
       "\n",
       "[90 rows x 3 columns]"
      ]
     },
     "execution_count": 92,
     "metadata": {},
     "output_type": "execute_result"
    }
   ],
   "source": [
    "newsdata = {'제목':title_list,'참조주소':url_list,'내용':contents_list}\n",
    "current_news = pd.DataFrame(newsdata)\n",
    "current_news"
   ]
  },
  {
   "cell_type": "code",
   "execution_count": null,
   "metadata": {},
   "outputs": [],
   "source": [
    "\n"
   ]
  }
 ],
 "metadata": {
  "kernelspec": {
   "display_name": "Python 3.9.12 ('base')",
   "language": "python",
   "name": "python3"
  },
  "language_info": {
   "codemirror_mode": {
    "name": "ipython",
    "version": 3
   },
   "file_extension": ".py",
   "mimetype": "text/x-python",
   "name": "python",
   "nbconvert_exporter": "python",
   "pygments_lexer": "ipython3",
   "version": "3.9.12"
  },
  "orig_nbformat": 4,
  "vscode": {
   "interpreter": {
    "hash": "a077222d77dfe082b8f1dd562ad70e458ac2ab76993a0b248ab0476e32e9e8dd"
   }
  }
 },
 "nbformat": 4,
 "nbformat_minor": 2
}
