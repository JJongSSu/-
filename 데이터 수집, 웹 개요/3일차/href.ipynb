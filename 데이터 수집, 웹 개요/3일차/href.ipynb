{
 "cells": [
  {
   "cell_type": "code",
   "execution_count": 2,
   "metadata": {},
   "outputs": [],
   "source": [
    "from selenium import webdriver\n",
    "from webdriver_manager.chrome import ChromeDriverManager\n",
    "import pandas as pd\n",
    "import time\n",
    "from tqdm import tqdm_notebook as tqdm"
   ]
  },
  {
   "cell_type": "code",
   "execution_count": 3,
   "metadata": {},
   "outputs": [
    {
     "name": "stderr",
     "output_type": "stream",
     "text": [
      "C:\\Users\\user\\AppData\\Local\\Temp\\ipykernel_26664\\1503906442.py:1: DeprecationWarning: executable_path has been deprecated, please pass in a Service object\n",
      "  driver = webdriver.Chrome(ChromeDriverManager().install())\n"
     ]
    }
   ],
   "source": [
    "driver = webdriver.Chrome(ChromeDriverManager().install())"
   ]
  },
  {
   "cell_type": "code",
   "execution_count": 4,
   "metadata": {},
   "outputs": [],
   "source": [
    "driver.get('https://news.sbs.co.kr/news/newsflash.do?plink=NEW&cooper=SBSNEWSMAIN')"
   ]
  },
  {
   "cell_type": "code",
   "execution_count": 5,
   "metadata": {},
   "outputs": [],
   "source": [
    "from bs4 import BeautifulSoup as bs\n",
    "import requests as req"
   ]
  },
  {
   "cell_type": "markdown",
   "metadata": {},
   "source": [
    "##### 뉴스페이지 url 가져오기"
   ]
  },
  {
   "cell_type": "code",
   "execution_count": 6,
   "metadata": {},
   "outputs": [],
   "source": [
    "soup = bs(driver.page_source,'html.parser')"
   ]
  },
  {
   "cell_type": "code",
   "execution_count": 7,
   "metadata": {},
   "outputs": [],
   "source": [
    "search = soup.select('a.news')"
   ]
  },
  {
   "cell_type": "code",
   "execution_count": 8,
   "metadata": {},
   "outputs": [
    {
     "name": "stdout",
     "output_type": "stream",
     "text": [
      "https://news.sbs.co.kr//news/endPage.do?news_id=N1007049000\n",
      "https://news.sbs.co.kr//news/endPage.do?news_id=N1007048868\n",
      "https://news.sbs.co.kr//news/endPage.do?news_id=N1007048971\n",
      "https://news.sbs.co.kr//news/endPage.do?news_id=N1007048239\n",
      "https://news.sbs.co.kr//news/endPage.do?news_id=N1007048533\n",
      "https://news.sbs.co.kr//news/endPage.do?news_id=N1007048862\n",
      "https://news.sbs.co.kr//news/endPage.do?news_id=N1007048929\n",
      "https://news.sbs.co.kr//news/endPage.do?news_id=N1007048905\n",
      "https://news.sbs.co.kr//news/endPage.do?news_id=N1007048756\n",
      "https://news.sbs.co.kr//news/endPage.do?news_id=N1007048893\n"
     ]
    }
   ],
   "source": [
    "for i in search:\n",
    "    print('https://news.sbs.co.kr/' + i['href'])"
   ]
  },
  {
   "cell_type": "code",
   "execution_count": 9,
   "metadata": {},
   "outputs": [
    {
     "name": "stdout",
     "output_type": "stream",
     "text": [
      "https://news.sbs.co.kr//news/endPage.do?news_id=N1007049000\n",
      "https://news.sbs.co.kr//news/endPage.do?news_id=N1007048868\n",
      "https://news.sbs.co.kr//news/endPage.do?news_id=N1007048971\n",
      "https://news.sbs.co.kr//news/endPage.do?news_id=N1007048239\n",
      "https://news.sbs.co.kr//news/endPage.do?news_id=N1007048533\n",
      "https://news.sbs.co.kr//news/endPage.do?news_id=N1007048862\n",
      "https://news.sbs.co.kr//news/endPage.do?news_id=N1007048929\n",
      "https://news.sbs.co.kr//news/endPage.do?news_id=N1007048905\n",
      "https://news.sbs.co.kr//news/endPage.do?news_id=N1007048756\n",
      "https://news.sbs.co.kr//news/endPage.do?news_id=N1007048893\n"
     ]
    }
   ],
   "source": [
    "search1 = soup.find_all('a', class_='news')\n",
    "for i in search1:\n",
    "    print('https://news.sbs.co.kr/' + i['href'])"
   ]
  },
  {
   "cell_type": "code",
   "execution_count": 10,
   "metadata": {},
   "outputs": [
    {
     "data": {
      "text/plain": [
       "90"
      ]
     },
     "execution_count": 10,
     "metadata": {},
     "output_type": "execute_result"
    }
   ],
   "source": [
    "url_list = []\n",
    "for i in range(1,10):\n",
    "    page = 'https://news.sbs.co.kr/news/newsflash.do?plink=NEW&cooper=SBSNEWSMAIN&pageIdx={}'.format(i)\n",
    "    driver.get(page)\n",
    "    time.sleep(1)\n",
    "\n",
    "    soup1 = bs(driver.page_source,'html.parser')\n",
    "    search = soup1.select('a.news')\n",
    "    for i in search:\n",
    "        url_list.append('https://news.sbs.co.kr/' + i['href'])\n",
    "len(url_list)"
   ]
  },
  {
   "cell_type": "code",
   "execution_count": 86,
   "metadata": {},
   "outputs": [
    {
     "data": {
      "text/plain": [
       "(90, 90)"
      ]
     },
     "execution_count": 86,
     "metadata": {},
     "output_type": "execute_result"
    }
   ],
   "source": [
    "# hrefs_list = []\n",
    "# for i in range(1,10):\n",
    "#     page = 'https://news.sbs.co.kr/news/newsflash.do?plink=NEW&cooper=SBSNEWSMAIN&pageIdx={}'.format(i)\n",
    "#     hrefs = soup.select('a.news')        \n",
    "#     for i in hrefs:\n",
    "#         hrefs_list.append('https://news.sbs.co.kr/' + i['href'])\n",
    "# len(hrefs_list)"
   ]
  },
  {
   "cell_type": "code",
   "execution_count": 11,
   "metadata": {},
   "outputs": [
    {
     "name": "stderr",
     "output_type": "stream",
     "text": [
      "C:\\Users\\user\\AppData\\Local\\Temp\\ipykernel_26664\\3316245188.py:5: TqdmDeprecationWarning: This function will be removed in tqdm==5.0.0\n",
      "Please use `tqdm.notebook.tqdm` instead of `tqdm.tqdm_notebook`\n",
      "  for url in tqdm(url_list):\n"
     ]
    },
    {
     "data": {
      "application/vnd.jupyter.widget-view+json": {
       "model_id": "f334195df2974b0690bc4ae63223de0b",
       "version_major": 2,
       "version_minor": 0
      },
      "text/plain": [
       "  0%|          | 0/90 [00:00<?, ?it/s]"
      ]
     },
     "metadata": {},
     "output_type": "display_data"
    },
    {
     "data": {
      "text/plain": [
       "(90, 90)"
      ]
     },
     "execution_count": 11,
     "metadata": {},
     "output_type": "execute_result"
    }
   ],
   "source": [
    "# 상세 페이지 기사 제목 & 내용\n",
    "title_list = []\n",
    "contents_list = []\n",
    "\n",
    "for url in tqdm(url_list):\n",
    "    driver.get(url)\n",
    "    time.sleep(1)\n",
    "    soup = bs(driver.page_source,'html.parser')  \n",
    "    title = soup.select('div.w_article_title > h3')\n",
    "    contents = soup.select('div.text_area')\n",
    "    for i in title:\n",
    "        title_list.append(i.text)\n",
    "    # title_list.append(title[0].text)\n",
    "    for i in contents:\n",
    "        contents_list.append(i.text)  \n",
    "    # contents_list.append(contents[0].text)\n",
    "len(title_list), len(contents_list)"
   ]
  },
  {
   "cell_type": "code",
   "execution_count": 13,
   "metadata": {},
   "outputs": [
    {
     "data": {
      "text/html": [
       "<div>\n",
       "<style scoped>\n",
       "    .dataframe tbody tr th:only-of-type {\n",
       "        vertical-align: middle;\n",
       "    }\n",
       "\n",
       "    .dataframe tbody tr th {\n",
       "        vertical-align: top;\n",
       "    }\n",
       "\n",
       "    .dataframe thead th {\n",
       "        text-align: right;\n",
       "    }\n",
       "</style>\n",
       "<table border=\"1\" class=\"dataframe\">\n",
       "  <thead>\n",
       "    <tr style=\"text-align: right;\">\n",
       "      <th></th>\n",
       "      <th>제목</th>\n",
       "      <th>참조주소</th>\n",
       "      <th>내용</th>\n",
       "    </tr>\n",
       "  </thead>\n",
       "  <tbody>\n",
       "    <tr>\n",
       "      <th>0</th>\n",
       "      <td>[자막뉴스] \"그 아이가 제 아들을…\" 충격에 빠진 미국 사회</td>\n",
       "      <td>https://news.sbs.co.kr//news/endPage.do?news_i...</td>\n",
       "      <td>\\n  얼마 전 미국에서 6살 아이가 교사를 총으로 쏴 충격을 준 적이 있는데, 이...</td>\n",
       "    </tr>\n",
       "    <tr>\n",
       "      <th>1</th>\n",
       "      <td>'연예계 대표 사랑꾼' 최수종-도경완의 '합법적 외박'…SBS 설특집 '떠나보면 알...</td>\n",
       "      <td>https://news.sbs.co.kr//news/endPage.do?news_i...</td>\n",
       "      <td>\\n\\n\\n\\n이미지 확대하기\\n\\n\\n '연예계 대표 사랑꾼' 배우 최수종과 방송...</td>\n",
       "    </tr>\n",
       "    <tr>\n",
       "      <th>2</th>\n",
       "      <td>일본 언론 \"오타니, WBC 한국전 선발 등판 가능성\"</td>\n",
       "      <td>https://news.sbs.co.kr//news/endPage.do?news_i...</td>\n",
       "      <td>\\n  미국프로야구 메이저리그(MLB)에서 뛰는 일본인 '야구 천재' 오타니 쇼헤이...</td>\n",
       "    </tr>\n",
       "    <tr>\n",
       "      <th>3</th>\n",
       "      <td>[영상] 집 앞에서 실탄 든 총 겨눈 범인은 기저귀 찬 '네 살배기'…부모의 변명은?</td>\n",
       "      <td>https://news.sbs.co.kr//news/endPage.do?news_i...</td>\n",
       "      <td>\\n  미국에서 4살 아이가 실탄이 든 권총을 들고 돌아다니는 모습이 포착돼 충격을...</td>\n",
       "    </tr>\n",
       "    <tr>\n",
       "      <th>4</th>\n",
       "      <td>\"손흥민은 로봇이 아냐\"…경질 위기 속에서도 손흥민 감싼 콘테 감독</td>\n",
       "      <td>https://news.sbs.co.kr//news/endPage.do?news_i...</td>\n",
       "      <td>\\n  토트넘 홋스퍼의 안토니오 콘테 감독이 최근 부진에 빠진 손흥민을 \"로봇이 아...</td>\n",
       "    </tr>\n",
       "    <tr>\n",
       "      <th>...</th>\n",
       "      <td>...</td>\n",
       "      <td>...</td>\n",
       "      <td>...</td>\n",
       "    </tr>\n",
       "    <tr>\n",
       "      <th>85</th>\n",
       "      <td>365일 중 281.3일…전남 가뭄 역대 최장</td>\n",
       "      <td>https://news.sbs.co.kr//news/endPage.do?news_i...</td>\n",
       "      <td>\\n  전남·광주 지역이 지난해 반세기 동안 가장 긴 가뭄을 겪은 것으로 나타났습니...</td>\n",
       "    </tr>\n",
       "    <tr>\n",
       "      <th>86</th>\n",
       "      <td>“열심히 하는 건 기본, 잘 해야지!”…피트에선 무슨 일이ㅣ김문정 음악감독 [커튼콜]</td>\n",
       "      <td>https://news.sbs.co.kr//news/endPage.do?news_i...</td>\n",
       "      <td>\\n\\n\\n\\n\\n[골룸] 커튼콜 157 : “열심히 하는 건 기본, 잘 해야지!”...</td>\n",
       "    </tr>\n",
       "    <tr>\n",
       "      <th>87</th>\n",
       "      <td>검찰, 김광호 서울경찰청장 집무실 압수수색</td>\n",
       "      <td>https://news.sbs.co.kr//news/endPage.do?news_i...</td>\n",
       "      <td>\\n  이태원 참사를 보강 수사하는 검찰이 오늘(18일) 서울경찰청을 압수수색 중입...</td>\n",
       "    </tr>\n",
       "    <tr>\n",
       "      <th>88</th>\n",
       "      <td>경기도, '북한 국지도발 정보 공유' 정부에 공식 요청</td>\n",
       "      <td>https://news.sbs.co.kr//news/endPage.do?news_i...</td>\n",
       "      <td>\\n  경기도가 북한 도발 시 관련 정보를 도민들이 즉시 알 수 있도록 공유해 달라...</td>\n",
       "    </tr>\n",
       "    <tr>\n",
       "      <th>89</th>\n",
       "      <td>'스카이72' 강제집행 방해한 용역 8명…입건 후 석방</td>\n",
       "      <td>https://news.sbs.co.kr//news/endPage.do?news_i...</td>\n",
       "      <td>\\n  인천 '스카이72' 골프장 강제집행 과정에서 소화기 분말을 뿌렸다가 경찰에 ...</td>\n",
       "    </tr>\n",
       "  </tbody>\n",
       "</table>\n",
       "<p>90 rows × 3 columns</p>\n",
       "</div>"
      ],
      "text/plain": [
       "                                                   제목  \\\n",
       "0                  [자막뉴스] \"그 아이가 제 아들을…\" 충격에 빠진 미국 사회   \n",
       "1   '연예계 대표 사랑꾼' 최수종-도경완의 '합법적 외박'…SBS 설특집 '떠나보면 알...   \n",
       "2                      일본 언론 \"오타니, WBC 한국전 선발 등판 가능성\"   \n",
       "3     [영상] 집 앞에서 실탄 든 총 겨눈 범인은 기저귀 찬 '네 살배기'…부모의 변명은?   \n",
       "4               \"손흥민은 로봇이 아냐\"…경질 위기 속에서도 손흥민 감싼 콘테 감독   \n",
       "..                                                ...   \n",
       "85                          365일 중 281.3일…전남 가뭄 역대 최장   \n",
       "86    “열심히 하는 건 기본, 잘 해야지!”…피트에선 무슨 일이ㅣ김문정 음악감독 [커튼콜]   \n",
       "87                            검찰, 김광호 서울경찰청장 집무실 압수수색   \n",
       "88                     경기도, '북한 국지도발 정보 공유' 정부에 공식 요청   \n",
       "89                     '스카이72' 강제집행 방해한 용역 8명…입건 후 석방   \n",
       "\n",
       "                                                 참조주소  \\\n",
       "0   https://news.sbs.co.kr//news/endPage.do?news_i...   \n",
       "1   https://news.sbs.co.kr//news/endPage.do?news_i...   \n",
       "2   https://news.sbs.co.kr//news/endPage.do?news_i...   \n",
       "3   https://news.sbs.co.kr//news/endPage.do?news_i...   \n",
       "4   https://news.sbs.co.kr//news/endPage.do?news_i...   \n",
       "..                                                ...   \n",
       "85  https://news.sbs.co.kr//news/endPage.do?news_i...   \n",
       "86  https://news.sbs.co.kr//news/endPage.do?news_i...   \n",
       "87  https://news.sbs.co.kr//news/endPage.do?news_i...   \n",
       "88  https://news.sbs.co.kr//news/endPage.do?news_i...   \n",
       "89  https://news.sbs.co.kr//news/endPage.do?news_i...   \n",
       "\n",
       "                                                   내용  \n",
       "0   \\n  얼마 전 미국에서 6살 아이가 교사를 총으로 쏴 충격을 준 적이 있는데, 이...  \n",
       "1   \\n\\n\\n\\n이미지 확대하기\\n\\n\\n '연예계 대표 사랑꾼' 배우 최수종과 방송...  \n",
       "2   \\n  미국프로야구 메이저리그(MLB)에서 뛰는 일본인 '야구 천재' 오타니 쇼헤이...  \n",
       "3   \\n  미국에서 4살 아이가 실탄이 든 권총을 들고 돌아다니는 모습이 포착돼 충격을...  \n",
       "4   \\n  토트넘 홋스퍼의 안토니오 콘테 감독이 최근 부진에 빠진 손흥민을 \"로봇이 아...  \n",
       "..                                                ...  \n",
       "85  \\n  전남·광주 지역이 지난해 반세기 동안 가장 긴 가뭄을 겪은 것으로 나타났습니...  \n",
       "86  \\n\\n\\n\\n\\n[골룸] 커튼콜 157 : “열심히 하는 건 기본, 잘 해야지!”...  \n",
       "87  \\n  이태원 참사를 보강 수사하는 검찰이 오늘(18일) 서울경찰청을 압수수색 중입...  \n",
       "88  \\n  경기도가 북한 도발 시 관련 정보를 도민들이 즉시 알 수 있도록 공유해 달라...  \n",
       "89  \\n  인천 '스카이72' 골프장 강제집행 과정에서 소화기 분말을 뿌렸다가 경찰에 ...  \n",
       "\n",
       "[90 rows x 3 columns]"
      ]
     },
     "execution_count": 13,
     "metadata": {},
     "output_type": "execute_result"
    }
   ],
   "source": [
    "newsdata = {'제목':title_list,'참조주소':url_list,'내용':contents_list}\n",
    "current_news = pd.DataFrame(newsdata)\n",
    "current_news"
   ]
  }
 ],
 "metadata": {
  "kernelspec": {
   "display_name": "Python 3",
   "language": "python",
   "name": "python3"
  },
  "language_info": {
   "codemirror_mode": {
    "name": "ipython",
    "version": 3
   },
   "file_extension": ".py",
   "mimetype": "text/x-python",
   "name": "python",
   "nbconvert_exporter": "python",
   "pygments_lexer": "ipython3",
   "version": "3.8.9"
  },
  "orig_nbformat": 4,
  "vscode": {
   "interpreter": {
    "hash": "6a926afa313b26ae1264fdcf81c726a97e69f6ba2ba780f6aa901948710f8d6e"
   }
  }
 },
 "nbformat": 4,
 "nbformat_minor": 2
}
