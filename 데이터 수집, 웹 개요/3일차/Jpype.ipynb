{
 "cells": [
  {
   "cell_type": "code",
   "execution_count": 12,
   "metadata": {},
   "outputs": [
    {
     "data": {
      "text/plain": [
       "['설치', '가', '잘', '되었는지', '확인']"
      ]
     },
     "execution_count": 12,
     "metadata": {},
     "output_type": "execute_result"
    }
   ],
   "source": [
    "from konlpy.tag import Okt\n",
    "okt = Okt()\n",
    "\n",
    "okt.morphs('설치가 잘 되었는지 확인')"
   ]
  },
  {
   "cell_type": "code",
   "execution_count": 13,
   "metadata": {},
   "outputs": [
    {
     "data": {
      "text/plain": [
       "[('도라에몽', 'N'),\n",
       " ('은', 'J'),\n",
       " ('팥빵', 'N'),\n",
       " ('을', 'J'),\n",
       " ('좋', 'P'),\n",
       " ('아', 'E'),\n",
       " ('하', 'P'),\n",
       " ('어', 'E'),\n",
       " ('~', 'S')]"
      ]
     },
     "execution_count": 13,
     "metadata": {},
     "output_type": "execute_result"
    }
   ],
   "source": [
    "from konlpy.tag import Hannanum\n",
    "hannanum = Hannanum()\n",
    "hannanum.morphs('도라에몽은 팥빵을 좋아해~')\n",
    "hannanum.nouns('도라에몽은 팥빵을 좋아해~')\n",
    "hannanum.pos('도라에몽은 팥빵을 좋아해~')"
   ]
  },
  {
   "cell_type": "code",
   "execution_count": 14,
   "metadata": {},
   "outputs": [
    {
     "data": {
      "text/plain": [
       "['도라에몽', '은', '팥빵', '을', '좋', '아', '하', '어', '~']"
      ]
     },
     "execution_count": 14,
     "metadata": {},
     "output_type": "execute_result"
    }
   ],
   "source": [
    "hannanum.morphs('도라에몽은 팥빵을 좋아해~')"
   ]
  },
  {
   "cell_type": "code",
   "execution_count": 15,
   "metadata": {},
   "outputs": [
    {
     "data": {
      "text/plain": [
       "['도라에몽', '팥빵']"
      ]
     },
     "execution_count": 15,
     "metadata": {},
     "output_type": "execute_result"
    }
   ],
   "source": [
    "hannanum.nouns('도라에몽은 팥빵을 좋아해~')"
   ]
  },
  {
   "cell_type": "code",
   "execution_count": 16,
   "metadata": {},
   "outputs": [],
   "source": [
    "from konlpy.tag import Komoran\n",
    "komoran = Komoran()\n",
    "komoran.morphs('도라에몽은 팥빵을 좋아해~')\n",
    "komoran.nouns('도라에몽은 팥빵을 좋아해~')\n",
    "komoran.pos('도라에몽은 팥빵을 좋아해~')"
   ]
  },
  {
   "cell_type": "code",
   "execution_count": null,
   "metadata": {},
   "outputs": [],
   "source": [
    "komoran.morphs('도라에몽은 팥빵을 좋아해~')"
   ]
  },
  {
   "cell_type": "code",
   "execution_count": null,
   "metadata": {},
   "outputs": [],
   "source": [
    "komoran.nouns('도라에몽은 팥빵을 좋아해~')"
   ]
  },
  {
   "cell_type": "code",
   "execution_count": null,
   "metadata": {},
   "outputs": [
    {
     "data": {
      "text/plain": [
       "[('도라에몽', 'Noun'),\n",
       " ('은', 'Josa'),\n",
       " ('팥빵', 'Noun'),\n",
       " ('을', 'Josa'),\n",
       " ('좋아해', 'Adjective'),\n",
       " ('~', 'Punctuation')]"
      ]
     },
     "execution_count": 8,
     "metadata": {},
     "output_type": "execute_result"
    }
   ],
   "source": [
    "from konlpy.tag import Okt\n",
    "okt = Okt()\n",
    "okt.morphs('도라에몽은 팥빵을 좋아해~')\n",
    "okt.nouns('도라에몽은 팥빵을 좋아해~')\n",
    "okt.pos('도라에몽은 팥빵을 좋아해~')"
   ]
  },
  {
   "cell_type": "code",
   "execution_count": null,
   "metadata": {},
   "outputs": [],
   "source": [
    "okt.morphs('도라에몽은 팥빵을 좋아해~')"
   ]
  },
  {
   "cell_type": "code",
   "execution_count": null,
   "metadata": {},
   "outputs": [],
   "source": [
    "okt.nouns('도라에몽은 팥빵을 좋아해~')"
   ]
  },
  {
   "cell_type": "code",
   "execution_count": null,
   "metadata": {},
   "outputs": [
    {
     "data": {
      "text/plain": [
       "[('도라에몽', 'UN'),\n",
       " ('은', 'JX'),\n",
       " ('팥', 'NNG'),\n",
       " ('빵', 'NNG'),\n",
       " ('을', 'JKO'),\n",
       " ('좋아하', 'VV'),\n",
       " ('어', 'ECS'),\n",
       " ('~', 'SO')]"
      ]
     },
     "execution_count": 9,
     "metadata": {},
     "output_type": "execute_result"
    }
   ],
   "source": [
    "from konlpy.tag import Kkma\n",
    "kkma = Kkma()\n",
    "kkma.morphs('도라에몽은 팥빵을 좋아해~')\n",
    "kkma.nouns('도라에몽은 팥빵을 좋아해~')\n",
    "kkma.pos('도라에몽은 팥빵을 좋아해~')\n"
   ]
  },
  {
   "cell_type": "code",
   "execution_count": null,
   "metadata": {},
   "outputs": [],
   "source": [
    "kkma.morphs('도라에몽은 팥빵을 좋아해~')"
   ]
  },
  {
   "cell_type": "code",
   "execution_count": null,
   "metadata": {},
   "outputs": [],
   "source": [
    "kkma.nouns('도라에몽은 팥빵을 좋아해~')"
   ]
  },
  {
   "cell_type": "code",
   "execution_count": null,
   "metadata": {},
   "outputs": [],
   "source": []
  }
 ],
 "metadata": {
  "kernelspec": {
   "display_name": "Python 3.9.12 ('base')",
   "language": "python",
   "name": "python3"
  },
  "language_info": {
   "codemirror_mode": {
    "name": "ipython",
    "version": 3
   },
   "file_extension": ".py",
   "mimetype": "text/x-python",
   "name": "python",
   "nbconvert_exporter": "python",
   "pygments_lexer": "ipython3",
   "version": "3.9.12"
  },
  "orig_nbformat": 4,
  "vscode": {
   "interpreter": {
    "hash": "a077222d77dfe082b8f1dd562ad70e458ac2ab76993a0b248ab0476e32e9e8dd"
   }
  }
 },
 "nbformat": 4,
 "nbformat_minor": 2
}
