{
 "cells": [
  {
   "cell_type": "code",
   "execution_count": 1,
   "metadata": {},
   "outputs": [],
   "source": [
    "import numpy as np\n",
    "import pandas as pd"
   ]
  },
  {
   "cell_type": "code",
   "execution_count": 14,
   "metadata": {},
   "outputs": [],
   "source": [
    "crime_2015 = pd.read_csv('2015.csv', encoding=\"cp949\")\n",
    "# crime_2015 = pd.read_csv('2015.csv', encoding=\"cp949\", index_col = '관서명')\n",
    "crime_2016 = pd.read_csv('2016.csv', encoding=\"cp949\")\n",
    "crime_2017 = pd.read_csv('2017.csv', encoding=\"cp949\")"
   ]
  },
  {
   "cell_type": "code",
   "execution_count": 15,
   "metadata": {},
   "outputs": [
    {
     "data": {
      "text/plain": [
       "광주광산경찰서     6\n",
       "광주남부경찰서     6\n",
       "광주동부경찰서     6\n",
       "광주북부경찰서     6\n",
       "광주서부경찰서     6\n",
       "광주지방경찰청계    6\n",
       "Name: 관서명, dtype: int64"
      ]
     },
     "execution_count": 15,
     "metadata": {},
     "output_type": "execute_result"
    }
   ],
   "source": [
    "crime_2015['관서명'].value_counts().sort_index()"
   ]
  },
  {
   "cell_type": "code",
   "execution_count": 13,
   "metadata": {},
   "outputs": [
    {
     "data": {
      "text/plain": [
       "광주광산경찰서     6\n",
       "광주남부경찰서     6\n",
       "광주동부경찰서     6\n",
       "광주북부경찰서     6\n",
       "광주서부경찰서     6\n",
       "광주지방경찰청     6\n",
       "광주지방경찰청계    6\n",
       "Name: 관서명, dtype: int64"
      ]
     },
     "execution_count": 13,
     "metadata": {},
     "output_type": "execute_result"
    }
   ],
   "source": [
    "crime_2017['관서명'].value_counts().sort_index()"
   ]
  },
  {
   "cell_type": "code",
   "execution_count": null,
   "metadata": {},
   "outputs": [],
   "source": [
    "total = pd.concat"
   ]
  }
 ],
 "metadata": {
  "kernelspec": {
   "display_name": "Python 3.9.12 ('base')",
   "language": "python",
   "name": "python3"
  },
  "language_info": {
   "codemirror_mode": {
    "name": "ipython",
    "version": 3
   },
   "file_extension": ".py",
   "mimetype": "text/x-python",
   "name": "python",
   "nbconvert_exporter": "python",
   "pygments_lexer": "ipython3",
   "version": "3.9.12"
  },
  "orig_nbformat": 4,
  "vscode": {
   "interpreter": {
    "hash": "a077222d77dfe082b8f1dd562ad70e458ac2ab76993a0b248ab0476e32e9e8dd"
   }
  }
 },
 "nbformat": 4,
 "nbformat_minor": 2
}
