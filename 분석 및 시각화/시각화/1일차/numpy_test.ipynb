{
 "cells": [
  {
   "cell_type": "code",
   "execution_count": 1,
   "metadata": {},
   "outputs": [],
   "source": [
    "import numpy as np"
   ]
  },
  {
   "cell_type": "code",
   "execution_count": 5,
   "metadata": {},
   "outputs": [
    {
     "data": {
      "text/plain": [
       "array([0, 0, 0, 0, 1, 0, 0, 0, 0, 0])"
      ]
     },
     "execution_count": 5,
     "metadata": {},
     "output_type": "execute_result"
    }
   ],
   "source": [
    "arr = np.zeros(10, dtype = int)\n",
    "arr[4] = 1\n",
    "arr"
   ]
  },
  {
   "cell_type": "code",
   "execution_count": 9,
   "metadata": {},
   "outputs": [
    {
     "data": {
      "text/plain": [
       "array([10, 11, 12, 13, 14, 15, 16, 17, 18, 19, 20, 21, 22, 23, 24, 25, 26,\n",
       "       27, 28, 29, 30, 31, 32, 33, 34, 35, 36, 37, 38, 39, 40, 41, 42, 43,\n",
       "       44, 45, 46, 47, 48, 49])"
      ]
     },
     "execution_count": 9,
     "metadata": {},
     "output_type": "execute_result"
    }
   ],
   "source": [
    "arr1 = np.arange(10,50)\n",
    "arr1"
   ]
  },
  {
   "cell_type": "code",
   "execution_count": 13,
   "metadata": {},
   "outputs": [
    {
     "data": {
      "text/plain": [
       "array([[0, 1, 2],\n",
       "       [3, 4, 5],\n",
       "       [6, 7, 8]])"
      ]
     },
     "execution_count": 13,
     "metadata": {},
     "output_type": "execute_result"
    }
   ],
   "source": [
    "arr1 = np.arange(9).reshape((3,3))\n",
    "arr1"
   ]
  },
  {
   "cell_type": "code",
   "execution_count": 18,
   "metadata": {},
   "outputs": [
    {
     "data": {
      "text/plain": [
       "array([[[9, 1, 6],\n",
       "        [4, 8, 3],\n",
       "        [6, 3, 5]],\n",
       "\n",
       "       [[8, 4, 6],\n",
       "        [6, 7, 6],\n",
       "        [6, 2, 9]],\n",
       "\n",
       "       [[8, 7, 5],\n",
       "        [5, 4, 4],\n",
       "        [8, 4, 1]]])"
      ]
     },
     "execution_count": 18,
     "metadata": {},
     "output_type": "execute_result"
    }
   ],
   "source": [
    "arr_rd = np.random.randint(1,10,(3,3,3))\n",
    "arr_rd"
   ]
  },
  {
   "cell_type": "code",
   "execution_count": 19,
   "metadata": {},
   "outputs": [
    {
     "data": {
      "text/plain": [
       "array([[[0.36139858, 0.49907066, 0.84447329],\n",
       "        [0.42536488, 0.79843032, 0.14642588],\n",
       "        [0.513928  , 0.92011386, 0.22183866]],\n",
       "\n",
       "       [[0.54762039, 0.923484  , 0.81903218],\n",
       "        [0.61819017, 0.69601593, 0.76786324],\n",
       "        [0.68352582, 0.03117159, 0.53208507]],\n",
       "\n",
       "       [[0.24150894, 0.04664233, 0.76130015],\n",
       "        [0.97693814, 0.43622523, 0.1892005 ],\n",
       "        [0.59832362, 0.11198228, 0.58416159]]])"
      ]
     },
     "execution_count": 19,
     "metadata": {},
     "output_type": "execute_result"
    }
   ],
   "source": [
    "arr_rd = np.random.random((3,3,3))\n",
    "arr_rd"
   ]
  },
  {
   "cell_type": "code",
   "execution_count": 26,
   "metadata": {},
   "outputs": [
    {
     "name": "stdout",
     "output_type": "stream",
     "text": [
      "[0.54128418 0.48718522 0.52527123 0.3980821  0.11595281 0.55882432\n",
      " 0.13400104 0.37187418 0.53323881 0.29539288 0.09157335 0.063711\n",
      " 0.64669131 0.06550846 0.11453051 0.28507188 0.15104115 0.320316\n",
      " 0.73296454 0.76450688 0.01061986 0.42380696 0.25787591 0.77315103\n",
      " 0.92141685 0.63159217 0.57210637 0.25331101 0.3609603  0.2282042 ]\n",
      "30\n",
      "0.38766888323406046\n"
     ]
    }
   ],
   "source": [
    "arr_rd = np.random.random(30)\n",
    "print(arr_rd)\n",
    "print(arr_rd.size)\n",
    "print(np.mean(arr_rd))"
   ]
  },
  {
   "cell_type": "code",
   "execution_count": 29,
   "metadata": {},
   "outputs": [
    {
     "data": {
      "text/plain": [
       "[50, 70, 90]"
      ]
     },
     "execution_count": 29,
     "metadata": {},
     "output_type": "execute_result"
    }
   ],
   "source": [
    "mid_score = [10,20,30]\n",
    "final_score = [40,50,60]\n",
    "total_score = []\n",
    "for i in range(len(mid_score)):\n",
    "    total_score.append(mid_score[i] + final_score[i])\n",
    "total_score"
   ]
  },
  {
   "cell_type": "code",
   "execution_count": 34,
   "metadata": {},
   "outputs": [
    {
     "name": "stdout",
     "output_type": "stream",
     "text": [
      "시험성적 합계 : [50 70 90]\n"
     ]
    }
   ],
   "source": [
    "mid_score = np.array([10,20,30])\n",
    "final_score = np.array([40,50,60])\n",
    "total_score = mid_score + final_score\n",
    "print(\"시험성적 합계 :\",total_score)"
   ]
  },
  {
   "cell_type": "code",
   "execution_count": 37,
   "metadata": {},
   "outputs": [
    {
     "name": "stdout",
     "output_type": "stream",
     "text": [
      "시험성적 합계 : [25. 35. 45.]\n"
     ]
    }
   ],
   "source": [
    "print(\"시험성적 합계 :\",total_score / 2)"
   ]
  },
  {
   "cell_type": "code",
   "execution_count": 50,
   "metadata": {},
   "outputs": [
    {
     "data": {
      "text/plain": [
       "(array([0, 1, 2, 3, 4, 5, 6, 7, 8, 9]),\n",
       " array([0, 1, 2, 3, 4, 5, 6, 7, 8, 9]),\n",
       " array([0, 2, 4, 6, 8]))"
      ]
     },
     "execution_count": 50,
     "metadata": {},
     "output_type": "execute_result"
    }
   ],
   "source": [
    "array_a = np.arange(10)\n",
    "array_b = np.array(range(10))\n",
    "array_c = np.arange(0,10,2)\n",
    "array_a, array_b, array_c"
   ]
  },
  {
   "cell_type": "code",
   "execution_count": 53,
   "metadata": {},
   "outputs": [
    {
     "name": "stdout",
     "output_type": "stream",
     "text": [
      "(5,)\n",
      "1\n",
      "int32\n",
      "5\n"
     ]
    }
   ],
   "source": [
    "print(array_c.shape)\n",
    "print(array_c.ndim)\n",
    "print(array_c.dtype)\n",
    "print(array_c.size)"
   ]
  },
  {
   "cell_type": "code",
   "execution_count": null,
   "metadata": {},
   "outputs": [],
   "source": []
  }
 ],
 "metadata": {
  "kernelspec": {
   "display_name": "Python 3.9.12 ('base')",
   "language": "python",
   "name": "python3"
  },
  "language_info": {
   "codemirror_mode": {
    "name": "ipython",
    "version": 3
   },
   "file_extension": ".py",
   "mimetype": "text/x-python",
   "name": "python",
   "nbconvert_exporter": "python",
   "pygments_lexer": "ipython3",
   "version": "3.9.12"
  },
  "orig_nbformat": 4,
  "vscode": {
   "interpreter": {
    "hash": "a077222d77dfe082b8f1dd562ad70e458ac2ab76993a0b248ab0476e32e9e8dd"
   }
  }
 },
 "nbformat": 4,
 "nbformat_minor": 2
}
