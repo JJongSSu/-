{
 "cells": [
  {
   "cell_type": "code",
   "execution_count": 17,
   "metadata": {},
   "outputs": [],
   "source": [
    "p_list = ['윤석열','문재인','박근혜','노무현','김대중']"
   ]
  },
  {
   "cell_type": "code",
   "execution_count": 4,
   "metadata": {},
   "outputs": [],
   "source": [
    "p_list.append('이명박')"
   ]
  },
  {
   "cell_type": "code",
   "execution_count": 5,
   "metadata": {},
   "outputs": [
    {
     "data": {
      "text/plain": [
       "['윤석열', '문재인', '박근혜', '노무현', '김대중', '이명박']"
      ]
     },
     "execution_count": 5,
     "metadata": {},
     "output_type": "execute_result"
    }
   ],
   "source": [
    "p_list"
   ]
  },
  {
   "cell_type": "code",
   "execution_count": 6,
   "metadata": {},
   "outputs": [],
   "source": [
    "p_list.remove('이명박')"
   ]
  },
  {
   "cell_type": "code",
   "execution_count": 7,
   "metadata": {},
   "outputs": [
    {
     "data": {
      "text/plain": [
       "['윤석열', '문재인', '박근혜', '노무현', '김대중']"
      ]
     },
     "execution_count": 7,
     "metadata": {},
     "output_type": "execute_result"
    }
   ],
   "source": [
    "p_list"
   ]
  },
  {
   "cell_type": "code",
   "execution_count": 8,
   "metadata": {},
   "outputs": [],
   "source": [
    "p_list.insert(1,'이명박')"
   ]
  },
  {
   "cell_type": "code",
   "execution_count": 9,
   "metadata": {},
   "outputs": [
    {
     "data": {
      "text/plain": [
       "['윤석열', '이명박', '문재인', '박근혜', '노무현', '김대중']"
      ]
     },
     "execution_count": 9,
     "metadata": {},
     "output_type": "execute_result"
    }
   ],
   "source": [
    "p_list"
   ]
  },
  {
   "cell_type": "code",
   "execution_count": 10,
   "metadata": {},
   "outputs": [],
   "source": [
    "del p_list[1]"
   ]
  },
  {
   "cell_type": "code",
   "execution_count": 11,
   "metadata": {},
   "outputs": [
    {
     "data": {
      "text/plain": [
       "['윤석열', '문재인', '박근혜', '노무현', '김대중']"
      ]
     },
     "execution_count": 11,
     "metadata": {},
     "output_type": "execute_result"
    }
   ],
   "source": [
    "p_list"
   ]
  },
  {
   "cell_type": "code",
   "execution_count": 16,
   "metadata": {},
   "outputs": [],
   "source": [
    "from random import randint\n",
    "import random"
   ]
  },
  {
   "cell_type": "code",
   "execution_count": 20,
   "metadata": {},
   "outputs": [
    {
     "data": {
      "text/plain": [
       "10"
      ]
     },
     "execution_count": 20,
     "metadata": {},
     "output_type": "execute_result"
    }
   ],
   "source": [
    "randint(0,10)"
   ]
  },
  {
   "cell_type": "code",
   "execution_count": 30,
   "metadata": {},
   "outputs": [
    {
     "data": {
      "text/plain": [
       "5.285421205313118"
      ]
     },
     "execution_count": 30,
     "metadata": {},
     "output_type": "execute_result"
    }
   ],
   "source": [
    "random.random() *10"
   ]
  },
  {
   "cell_type": "code",
   "execution_count": 50,
   "metadata": {},
   "outputs": [
    {
     "data": {
      "text/plain": [
       "5"
      ]
     },
     "execution_count": 50,
     "metadata": {},
     "output_type": "execute_result"
    }
   ],
   "source": [
    "len(p_list)"
   ]
  },
  {
   "cell_type": "code",
   "execution_count": 51,
   "metadata": {},
   "outputs": [
    {
     "data": {
      "text/plain": [
       "'박근혜'"
      ]
     },
     "execution_count": 51,
     "metadata": {},
     "output_type": "execute_result"
    }
   ],
   "source": [
    "p_list[randint(0,5)]"
   ]
  },
  {
   "cell_type": "code",
   "execution_count": 15,
   "metadata": {},
   "outputs": [
    {
     "name": "stdout",
     "output_type": "stream",
     "text": [
      "jongsu은 바나나 4개와 사과 5개를 7일동안 먹었다\n",
      "jongsu은 바나나 4개와 사과 5개를 7일동안 먹었다\n",
      "jongsu은 바나나 4개와 사과 5개를 7일동안 먹었다\n"
     ]
    }
   ],
   "source": [
    "name = 'jongsu'\n",
    "banana = 4\n",
    "apple = 5\n",
    "days = 7\n",
    "print(\"%s은 바나나 %d개와 사과 %d개를 %d일동안 먹었다\"%(name,banana,apple,days))\n",
    "print(\"{0}은 바나나 {1}개와 사과 {2}개를 {3}일동안 먹었다\".format(name,banana,apple,days))\n",
    "print(f\"{name}은 바나나 {banana}개와 사과 {apple}개를 {days}일동안 먹었다\")"
   ]
  },
  {
   "cell_type": "code",
   "execution_count": 56,
   "metadata": {},
   "outputs": [
    {
     "data": {
      "text/plain": [
       "1"
      ]
     },
     "execution_count": 56,
     "metadata": {},
     "output_type": "execute_result"
    }
   ],
   "source": [
    "a = True    #1\n",
    "b = False   #0\n",
    "a+b"
   ]
  },
  {
   "cell_type": "code",
   "execution_count": 57,
   "metadata": {},
   "outputs": [
    {
     "data": {
      "text/plain": [
       "False"
      ]
     },
     "execution_count": 57,
     "metadata": {},
     "output_type": "execute_result"
    }
   ],
   "source": [
    "a and b"
   ]
  },
  {
   "cell_type": "code",
   "execution_count": 58,
   "metadata": {},
   "outputs": [
    {
     "data": {
      "text/plain": [
       "False"
      ]
     },
     "execution_count": 58,
     "metadata": {},
     "output_type": "execute_result"
    }
   ],
   "source": [
    "a == b"
   ]
  },
  {
   "cell_type": "code",
   "execution_count": 8,
   "metadata": {},
   "outputs": [
    {
     "name": "stdout",
     "output_type": "stream",
     "text": [
      "현재 i의 값은 0입니다\n",
      "현재 i의 값은 1입니다\n",
      "현재 i의 값은 2입니다\n",
      "현재 i의 값은 3입니다\n",
      "현재 i의 값은 4입니다\n",
      "현재 i의 값은 5입니다\n",
      "현재 i의 값은 6입니다\n",
      "현재 i의 값은 7입니다\n",
      "현재 i의 값은 8입니다\n",
      "현재 i의 값은 9입니다\n"
     ]
    }
   ],
   "source": [
    "i = 0\n",
    "while(i < 10):\n",
    "    print(f'현재 i의 값은 {i}입니다')\n",
    "    #print('현재 i의 값은 %d입니다'%i)\n",
    "    i += 1"
   ]
  },
  {
   "cell_type": "code",
   "execution_count": 14,
   "metadata": {},
   "outputs": [
    {
     "name": "stdout",
     "output_type": "stream",
     "text": [
      "현재 i의 값은 0입니다\n",
      "현재 i의 값은 1입니다\n",
      "현재 i의 값은 2입니다\n",
      "현재 i의 값은 3입니다\n",
      "현재 i의 값은 4입니다\n",
      "현재 i의 값은 5입니다\n",
      "현재 i의 값은 6입니다\n",
      "현재 i의 값은 7입니다\n",
      "현재 i의 값은 8입니다\n",
      "현재 i의 값은 9입니다\n"
     ]
    }
   ],
   "source": [
    "for i in range(0,10):\n",
    "    print(f'현재 i의 값은 {i}입니다')\n",
    "    # print('현재 i의 값은 %d입니다'%i)"
   ]
  },
  {
   "cell_type": "code",
   "execution_count": 22,
   "metadata": {},
   "outputs": [
    {
     "name": "stdout",
     "output_type": "stream",
     "text": [
      "대통령의 이름은 윤석열입니다\n",
      "대통령의 이름은 문재인입니다\n",
      "대통령의 이름은 박근혜입니다\n",
      "대통령의 이름은 노무현입니다\n",
      "대통령의 이름은 김대중입니다\n"
     ]
    }
   ],
   "source": [
    "for i in p_list:\n",
    "    print(f\"대통령의 이름은 {i}입니다\")\n",
    "    # print(\"대통령의 이름은 %s입니다\"%i)"
   ]
  },
  {
   "cell_type": "code",
   "execution_count": 29,
   "metadata": {},
   "outputs": [
    {
     "name": "stdout",
     "output_type": "stream",
     "text": [
      "=={3}단 시작==\n",
      "3X1=3\n",
      "3X2=6\n",
      "3X3=9\n",
      "3X4=12\n",
      "3X5=15\n",
      "3X6=18\n",
      "3X7=21\n",
      "3X8=24\n",
      "3X9=27\n",
      "=={4}단 시작==\n",
      "4X1=4\n",
      "4X2=8\n",
      "4X3=12\n",
      "4X4=16\n",
      "4X5=20\n",
      "4X6=24\n",
      "4X7=28\n",
      "4X8=32\n",
      "4X9=36\n"
     ]
    }
   ],
   "source": [
    "for i in range(3,5):\n",
    "    print(\"=={%d}단 시작==\"%i)\n",
    "    for j in range(1,10):\n",
    "        print(f\"{i}X{j}={i*j}\")"
   ]
  },
  {
   "cell_type": "code",
   "execution_count": 34,
   "metadata": {},
   "outputs": [
    {
     "name": "stdout",
     "output_type": "stream",
     "text": [
      "=={3}단 시작==\n",
      "3X1=3\n",
      "3X2=6\n",
      "3X3=9\n",
      "3X4=12\n",
      "3X5=15\n",
      "3X6=18\n",
      "3X7=21\n",
      "3X8=24\n",
      "3X9=27\n",
      "=={4}단 시작==\n",
      "4X1=4\n",
      "4X2=8\n",
      "4X3=12\n",
      "4X4=16\n",
      "4X5=20\n",
      "4X6=24\n",
      "4X7=28\n",
      "4X8=32\n",
      "4X9=36\n"
     ]
    }
   ],
   "source": [
    "i = 3\n",
    "while(i == 3 or i == 4):\n",
    "    print(\"=={%d}단 시작==\"%i)\n",
    "    for j in range(1,10):\n",
    "        print(f\"{i}X{j}={i*j}\")\n",
    "    i += 1"
   ]
  },
  {
   "cell_type": "code",
   "execution_count": null,
   "metadata": {},
   "outputs": [],
   "source": []
  }
 ],
 "metadata": {
  "kernelspec": {
   "display_name": "Python 3.9.12 ('base')",
   "language": "python",
   "name": "python3"
  },
  "language_info": {
   "codemirror_mode": {
    "name": "ipython",
    "version": 3
   },
   "file_extension": ".py",
   "mimetype": "text/x-python",
   "name": "python",
   "nbconvert_exporter": "python",
   "pygments_lexer": "ipython3",
   "version": "3.9.12"
  },
  "orig_nbformat": 4,
  "vscode": {
   "interpreter": {
    "hash": "a077222d77dfe082b8f1dd562ad70e458ac2ab76993a0b248ab0476e32e9e8dd"
   }
  }
 },
 "nbformat": 4,
 "nbformat_minor": 2
}
