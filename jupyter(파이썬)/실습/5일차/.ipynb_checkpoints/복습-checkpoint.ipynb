{
 "cells": [
  {
   "cell_type": "code",
   "execution_count": 11,
   "id": "4f5636a7",
   "metadata": {},
   "outputs": [
    {
     "data": {
      "text/plain": [
       "'asdgsf.gdfg.'"
      ]
     },
     "execution_count": 11,
     "metadata": {},
     "output_type": "execute_result"
    }
   ],
   "source": [
    "a = \"asdgsf.gdfg.\"\n",
    "a.lstrip(\".\")"
   ]
  },
  {
   "cell_type": "code",
   "execution_count": 12,
   "id": "fe73d89a",
   "metadata": {},
   "outputs": [
    {
     "data": {
      "text/plain": [
       "56"
      ]
     },
     "execution_count": 12,
     "metadata": {},
     "output_type": "execute_result"
    }
   ],
   "source": [
    "int(\"5\"+\"6\")"
   ]
  },
  {
   "cell_type": "code",
   "execution_count": 13,
   "id": "a6503bf1",
   "metadata": {},
   "outputs": [
    {
     "data": {
      "text/plain": [
       "list"
      ]
     },
     "execution_count": 13,
     "metadata": {},
     "output_type": "execute_result"
    }
   ],
   "source": [
    "a = []\n",
    "type(a)"
   ]
  },
  {
   "cell_type": "code",
   "execution_count": 24,
   "id": "6781ac2a",
   "metadata": {},
   "outputs": [
    {
     "name": "stdout",
     "output_type": "stream",
     "text": [
      "너도 날 좋아할 줄은 몰랐어\n",
      "어쩌면 좋아 너무나 좋아\n",
      "꿈만 같아서 나\n",
      "내 자신을 자꾸 꼬집어 봐 너무나 좋아\n",
      "니가 날 혹시 안 좋아할까봐\n",
      "혼자 얼마나 애 태운지 몰라\n",
      "그런데 니가 날 사랑한다니\n",
      "어머나, 다시 한 번 말해봐\n",
      "**\n",
      "@@@@ @@ @@@@ @@\n",
      "tell tell tell tell tell @@@@ @@\n",
      "나를 사랑한다고 날 기다려 왔다고\n",
      "@@@@ @@ @@@@ @@\n",
      "tell tell tell tell tell @@@@ @@\n",
      "내가 필요하다 말해, 말해줘요\n",
      "@@@@ @@ @@@@ @@\n",
      "tell tell tell tell tell @@@@ @@\n",
      "자꾸만 듣고 싶어 계속 내게 말해줘\n",
      "@@@@ @@ @@@@ @@\n",
      "tell tell tell tell tell @@@@ @@\n",
      "꿈이 아니라고 말해, 말해줘요 **\n",
      "어쩜 내 가슴이 이렇게 뛰니\n",
      "가슴이 정말 터질 것 같아\n",
      "니가 날 볼 때면\n",
      "전기에 감전된 사람처럼 전기가 올라\n",
      "얼마나 오래 기다린지 몰라\n",
      "얼마나 오래 꿈 꿨는지 몰라\n",
      "그런데 니가 날 사랑한다니 어머나,\n",
      "다시 한 번 말해봐\n",
      "** repeat\n",
      "@@@@ @@ @@@@ @@ @@@@ @@ you\n",
      "want me want me want me too\n",
      "@@@@ @@ @@@@ @@ @@@@ @@ you\n",
      "love me too love me too\n",
      "얼마나 오래 기다린지 몰라\n",
      "얼마나 오래 꿈 꿨는지 몰라\n",
      "그런데 니가 날 사랑한다니\n",
      "어머나, 다시 한 번 말해봐\n",
      "** repeat\n",
      "@@@@ @@ @@@@ @@\n",
      "tell tell tell tell tell @@@@ @@\n",
      "tell tell tell tell tell @@@@ @@\n",
      "@@@@ @@\n"
     ]
    }
   ],
   "source": [
    "name = \"tell me\"\n",
    "lyrics = \"\"\"너도 날 좋아할 줄은 몰랐어\n",
    "어쩌면 좋아 너무나 좋아\n",
    "꿈만 같아서 나\n",
    "내 자신을 자꾸 꼬집어 봐 너무나 좋아\n",
    "니가 날 혹시 안 좋아할까봐\n",
    "혼자 얼마나 애 태운지 몰라\n",
    "그런데 니가 날 사랑한다니\n",
    "어머나, 다시 한 번 말해봐\n",
    "**\n",
    "Tell me tell me\n",
    "tell tell tell tell tell tell me\n",
    "나를 사랑한다고 날 기다려 왔다고\n",
    "Tell me tell me\n",
    "tell tell tell tell tell tell me\n",
    "내가 필요하다 말해, 말해줘요\n",
    "Tell me tell me\n",
    "tell tell tell tell tell tell me\n",
    "자꾸만 듣고 싶어 계속 내게 말해줘\n",
    "Tell me tell me\n",
    "tell tell tell tell tell tell me\n",
    "꿈이 아니라고 말해, 말해줘요 **\n",
    "어쩜 내 가슴이 이렇게 뛰니\n",
    "가슴이 정말 터질 것 같아\n",
    "니가 날 볼 때면\n",
    "전기에 감전된 사람처럼 전기가 올라\n",
    "얼마나 오래 기다린지 몰라\n",
    "얼마나 오래 꿈 꿨는지 몰라\n",
    "그런데 니가 날 사랑한다니 어머나,\n",
    "다시 한 번 말해봐\n",
    "** repeat\n",
    "Tell me tell me tell me you\n",
    "Want me want me want me too\n",
    "Tell me tell me tell me you\n",
    "Love me too Love me too\n",
    "얼마나 오래 기다린지 몰라\n",
    "얼마나 오래 꿈 꿨는지 몰라\n",
    "그런데 니가 날 사랑한다니\n",
    "어머나, 다시 한 번 말해봐\n",
    "** repeat\n",
    "Tell me tell me\n",
    "tell tell tell tell tell tell me\n",
    "tell tell tell tell tell tell me\n",
    "Tell me\"\"\"\n",
    "\n",
    "lyrics = lyrics.lower()\n",
    "\n",
    "if \"tell me\" in lyrics:\n",
    "    lyrics = lyrics.replace(\"tell me\",\"@@@@ @@\")\n",
    "    print(lyrics)\n",
    "else:\n",
    "    print(\"no\")"
   ]
  },
  {
   "cell_type": "code",
   "execution_count": 25,
   "id": "565bd6ea",
   "metadata": {},
   "outputs": [
    {
     "data": {
      "text/plain": [
       "[['mango', 'grape'], ['pineapple', 'banana', ['melon', 'watermelon']]]"
      ]
     },
     "execution_count": 25,
     "metadata": {},
     "output_type": "execute_result"
    }
   ],
   "source": [
    "fruit = [[\"mango\",\"grape\"],[\"apple\", \"banana\",[\"melon\",\"watermelon\"]]]\n",
    "fruit[1][0] = \"pineapple\"\n",
    "fruit"
   ]
  },
  {
   "cell_type": "code",
   "execution_count": 26,
   "id": "a2f9db24",
   "metadata": {},
   "outputs": [
    {
     "name": "stdout",
     "output_type": "stream",
     "text": [
      "0\n",
      "1\n",
      "2\n"
     ]
    }
   ],
   "source": [
    "n = 0\n",
    "while True:\n",
    "    print(n)\n",
    "    n += 1\n",
    "    if n>=3:\n",
    "        break\n",
    "    else:\n",
    "        pass"
   ]
  },
  {
   "cell_type": "code",
   "execution_count": 31,
   "id": "e43a3ec3",
   "metadata": {},
   "outputs": [
    {
     "name": "stdout",
     "output_type": "stream",
     "text": [
      "1032\n"
     ]
    }
   ],
   "source": [
    "n = 1000\n",
    "while True:\n",
    "    if n % 43 == 0:\n",
    "            print(n)\n",
    "            break\n",
    "    else:\n",
    "        n += 1\n",
    "    "
   ]
  },
  {
   "cell_type": "code",
   "execution_count": 33,
   "id": "9da20ec3",
   "metadata": {},
   "outputs": [
    {
     "name": "stdout",
     "output_type": "stream",
     "text": [
      "1032\n"
     ]
    }
   ],
   "source": [
    "n = 1\n",
    "while True:\n",
    "    if n*43 > 1000:\n",
    "        print(n*43)\n",
    "        break\n",
    "    else:\n",
    "        n += 1"
   ]
  },
  {
   "cell_type": "code",
   "execution_count": 34,
   "id": "1babcaea",
   "metadata": {},
   "outputs": [
    {
     "name": "stdout",
     "output_type": "stream",
     "text": [
      "1032\n"
     ]
    }
   ],
   "source": [
    "n = 1000\n",
    "while n%43 != 0:\n",
    "    n += 1\n",
    "print(n)"
   ]
  },
  {
   "cell_type": "code",
   "execution_count": 36,
   "id": "0e6edf49",
   "metadata": {},
   "outputs": [
    {
     "name": "stdout",
     "output_type": "stream",
     "text": [
      "11524\n"
     ]
    }
   ],
   "source": [
    "n = 10000\n",
    "while True:\n",
    "    if (n % 43 == 0) and (n % 67 == 0):\n",
    "        print(n)\n",
    "        break\n",
    "    else:\n",
    "        n += 1"
   ]
  },
  {
   "cell_type": "code",
   "execution_count": 72,
   "id": "d0573730",
   "metadata": {},
   "outputs": [
    {
     "name": "stdout",
     "output_type": "stream",
     "text": [
      "\n",
      "1단 시작!\n",
      "1*1=1\n",
      "1*2=2\n",
      "1*3=3\n",
      "1*4=4\n",
      "1*5=5\n",
      "1*6=6\n",
      "1*7=7\n",
      "1*8=8\n",
      "1*9=9\n",
      "\n",
      "2단 시작!\n",
      "2*1=2\n",
      "2*2=4\n",
      "2*3=6\n",
      "2*4=8\n",
      "2*5=10\n",
      "2*6=12\n",
      "2*7=14\n",
      "2*8=16\n",
      "2*9=18\n",
      "\n",
      "3단 시작!\n",
      "3*1=3\n",
      "3*2=6\n",
      "3*3=9\n",
      "3*4=12\n",
      "3*5=15\n",
      "3*6=18\n",
      "3*7=21\n",
      "3*8=24\n",
      "3*9=27\n",
      "\n",
      "4단 시작!\n",
      "4*1=4\n",
      "4*2=8\n",
      "4*3=12\n",
      "4*4=16\n",
      "4*5=20\n",
      "4*6=24\n",
      "4*7=28\n",
      "4*8=32\n",
      "4*9=36\n",
      "\n",
      "5단 시작!\n",
      "5*1=5\n",
      "5*2=10\n",
      "5*3=15\n",
      "5*4=20\n",
      "5*5=25\n",
      "5*6=30\n",
      "5*7=35\n",
      "5*8=40\n",
      "5*9=45\n",
      "\n",
      "6단 시작!\n",
      "6*1=6\n",
      "6*2=12\n",
      "6*3=18\n",
      "6*4=24\n",
      "6*5=30\n",
      "6*6=36\n",
      "6*7=42\n",
      "6*8=48\n",
      "6*9=54\n",
      "\n",
      "7단 시작!\n",
      "7*1=7\n",
      "7*2=14\n",
      "7*3=21\n",
      "7*4=28\n",
      "7*5=35\n",
      "7*6=42\n",
      "7*7=49\n",
      "7*8=56\n",
      "7*9=63\n",
      "\n",
      "8단 시작!\n",
      "8*1=8\n",
      "8*2=16\n",
      "8*3=24\n",
      "8*4=32\n",
      "8*5=40\n",
      "8*6=48\n",
      "8*7=56\n",
      "8*8=64\n",
      "8*9=72\n",
      "\n",
      "9단 시작!\n",
      "9*1=9\n",
      "9*2=18\n",
      "9*3=27\n",
      "9*4=36\n",
      "9*5=45\n",
      "9*6=54\n",
      "9*7=63\n",
      "9*8=72\n",
      "9*9=81\n"
     ]
    }
   ],
   "source": [
    "for i in range(1,10):\n",
    "    print(f\"\\n{i}단 시작!\")\n",
    "    for j in range(1,10):\n",
    "        print(f\"{i}*{j}={i*j}\")"
   ]
  },
  {
   "cell_type": "code",
   "execution_count": 67,
   "id": "505a3a9d",
   "metadata": {},
   "outputs": [
    {
     "name": "stdout",
     "output_type": "stream",
     "text": [
      "1\n"
     ]
    }
   ],
   "source": [
    "import random\n",
    "n = 0\n",
    "a = [1,2,3,4,5,6,7]\n",
    "a1 = [1,2,3,4,5,6,7]\n",
    "random.shuffle(a1)\n",
    "\n",
    "for i in enumerate(a):\n",
    "    if a[i] == a1[i]:\n",
    "        n += 1\n",
    "    else:\n",
    "        pass\n",
    "\n",
    "print(n)"
   ]
  },
  {
   "cell_type": "code",
   "execution_count": 73,
   "id": "4f269acd",
   "metadata": {},
   "outputs": [
    {
     "name": "stdout",
     "output_type": "stream",
     "text": [
      "3의 배수를 입력하세요 : 2\n"
     ]
    },
    {
     "ename": "Exception",
     "evalue": "value error",
     "output_type": "error",
     "traceback": [
      "\u001b[1;31m---------------------------------------------------------------------------\u001b[0m",
      "\u001b[1;31mException\u001b[0m                                 Traceback (most recent call last)",
      "Input \u001b[1;32mIn [73]\u001b[0m, in \u001b[0;36m<cell line: 2>\u001b[1;34m()\u001b[0m\n\u001b[0;32m      1\u001b[0m a  \u001b[38;5;241m=\u001b[39m \u001b[38;5;28mint\u001b[39m(\u001b[38;5;28minput\u001b[39m(\u001b[38;5;124m\"\u001b[39m\u001b[38;5;124m3의 배수를 입력하세요 : \u001b[39m\u001b[38;5;124m\"\u001b[39m))\n\u001b[0;32m      2\u001b[0m \u001b[38;5;28;01mif\u001b[39;00m a\u001b[38;5;241m%\u001b[39m\u001b[38;5;241m3\u001b[39m \u001b[38;5;241m!=\u001b[39m \u001b[38;5;241m0\u001b[39m:\n\u001b[1;32m----> 3\u001b[0m     \u001b[38;5;28;01mraise\u001b[39;00m \u001b[38;5;167;01mException\u001b[39;00m(\u001b[38;5;124m\"\u001b[39m\u001b[38;5;124mvalue error\u001b[39m\u001b[38;5;124m\"\u001b[39m)\n\u001b[0;32m      4\u001b[0m \u001b[38;5;28;01melse\u001b[39;00m:\n\u001b[0;32m      5\u001b[0m     \u001b[38;5;28mprint\u001b[39m(a)\n",
      "\u001b[1;31mException\u001b[0m: value error"
     ]
    }
   ],
   "source": [
    "a  = int(input(\"3의 배수를 입력하세요 : \"))\n",
    "if a%3 != 0:\n",
    "    raise Exception(\"value error\")\n",
    "else:\n",
    "    print(a)"
   ]
  },
  {
   "cell_type": "code",
   "execution_count": null,
   "id": "fffab52d",
   "metadata": {},
   "outputs": [],
   "source": [
    "gg = [\"사과\",\"바나나\",\"포도\"]"
   ]
  },
  {
   "cell_type": "code",
   "execution_count": 74,
   "id": "1957d9e7",
   "metadata": {},
   "outputs": [
    {
     "data": {
      "text/plain": [
       "800"
      ]
     },
     "execution_count": 74,
     "metadata": {},
     "output_type": "execute_result"
    }
   ],
   "source": [
    "gg = {\"사과\" : 800, \"바나나\" : 1000, \"포도\" : 900}\n",
    "gg[\"사과\"]"
   ]
  },
  {
   "cell_type": "code",
   "execution_count": 75,
   "id": "d6fb10ce",
   "metadata": {},
   "outputs": [
    {
     "data": {
      "text/plain": [
       "{'사과': 800, '바나나': 1000, '포도': 900, '파인애플': 1000}"
      ]
     },
     "execution_count": 75,
     "metadata": {},
     "output_type": "execute_result"
    }
   ],
   "source": [
    "gg[\"파인애플\"] = 1000\n",
    "gg"
   ]
  },
  {
   "cell_type": "code",
   "execution_count": 76,
   "id": "fa1813d7",
   "metadata": {},
   "outputs": [
    {
     "data": {
      "text/plain": [
       "{'사과': 800, '바나나': 1000, '포도': 900}"
      ]
     },
     "execution_count": 76,
     "metadata": {},
     "output_type": "execute_result"
    }
   ],
   "source": [
    "del gg[\"파인애플\"]\n",
    "gg"
   ]
  },
  {
   "cell_type": "code",
   "execution_count": 77,
   "id": "12d068a6",
   "metadata": {},
   "outputs": [
    {
     "name": "stdout",
     "output_type": "stream",
     "text": [
      "사과\n",
      "바나나\n",
      "포도\n"
     ]
    }
   ],
   "source": [
    "for i in gg:\n",
    "    print(i)"
   ]
  },
  {
   "cell_type": "code",
   "execution_count": 99,
   "id": "f42da5cd",
   "metadata": {},
   "outputs": [
    {
     "name": "stdout",
     "output_type": "stream",
     "text": [
      "{'사과': 880, '바나나': 1100, '포도': 990}\n"
     ]
    }
   ],
   "source": [
    "import math\n",
    "\n",
    "gg = {\"사과\" : 800, \"바나나\" : 1000, \"포도\" : 900}\n",
    "\n",
    "for i in gg:\n",
    "    gg[i] = math.floor(gg[i]*1.1)\n",
    "\n",
    "print(gg)"
   ]
  },
  {
   "cell_type": "code",
   "execution_count": 110,
   "id": "a31eeb09",
   "metadata": {},
   "outputs": [
    {
     "name": "stdout",
     "output_type": "stream",
     "text": [
      "750.0\n"
     ]
    }
   ],
   "source": [
    "ggg = {\"서울점\":{\"사과\":800,\"바나나\":1000,\"포도\":800},\n",
    "       \"부산점\":{\"사과\":700,\"바나나\":900,\"포도\":900},\n",
    "       \"대구점\":{\"사과\":750,\"바나나\":800,\"포도\":1000}}\n",
    "\n",
    "apple = 0\n",
    "for i in ggg:\n",
    "    apple = apple + ggg[i][\"사과\"]\n",
    "\n",
    "print(apple / len(ggg))"
   ]
  },
  {
   "cell_type": "code",
   "execution_count": 111,
   "id": "dd746334",
   "metadata": {},
   "outputs": [
    {
     "data": {
      "text/plain": [
       "25164150"
      ]
     },
     "execution_count": 111,
     "metadata": {},
     "output_type": "execute_result"
    }
   ],
   "source": [
    "a = 0\n",
    "b = 0\n",
    "for i in range(1,101):\n",
    "    b = b + i\n",
    "    a = a + (i**2)\n",
    "\n",
    "(b**2)-a"
   ]
  },
  {
   "cell_type": "code",
   "execution_count": 112,
   "id": "22cf30be",
   "metadata": {},
   "outputs": [],
   "source": [
    "def jegop(x,y):\n",
    "    a = 0\n",
    "    b = 0\n",
    "    for i in range(x,y):\n",
    "        b = b + i\n",
    "        a = a + (i**2)\n",
    "    return (b**2)-a"
   ]
  },
  {
   "cell_type": "code",
   "execution_count": 113,
   "id": "1cd2572a",
   "metadata": {},
   "outputs": [
    {
     "data": {
      "text/plain": [
       "25164150"
      ]
     },
     "execution_count": 113,
     "metadata": {},
     "output_type": "execute_result"
    }
   ],
   "source": [
    "jegop(1,101)"
   ]
  },
  {
   "cell_type": "code",
   "execution_count": 114,
   "id": "4e397876",
   "metadata": {},
   "outputs": [
    {
     "data": {
      "text/plain": [
       "0.5275659443228864"
      ]
     },
     "execution_count": 114,
     "metadata": {},
     "output_type": "execute_result"
    }
   ],
   "source": [
    "import random\n",
    "random.random()"
   ]
  },
  {
   "cell_type": "code",
   "execution_count": null,
   "id": "38b0ee7f",
   "metadata": {},
   "outputs": [],
   "source": []
  }
 ],
 "metadata": {
  "kernelspec": {
   "display_name": "Python 3 (ipykernel)",
   "language": "python",
   "name": "python3"
  },
  "language_info": {
   "codemirror_mode": {
    "name": "ipython",
    "version": 3
   },
   "file_extension": ".py",
   "mimetype": "text/x-python",
   "name": "python",
   "nbconvert_exporter": "python",
   "pygments_lexer": "ipython3",
   "version": "3.9.12"
  }
 },
 "nbformat": 4,
 "nbformat_minor": 5
}
