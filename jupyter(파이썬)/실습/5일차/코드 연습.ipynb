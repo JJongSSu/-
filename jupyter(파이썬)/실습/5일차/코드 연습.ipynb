{
 "cells": [
  {
   "cell_type": "code",
   "execution_count": 2,
   "id": "5526031b",
   "metadata": {},
   "outputs": [
    {
     "name": "stderr",
     "output_type": "stream",
     "text": [
      "Cloning into 'neural-networks-and-deep-learning'...\n"
     ]
    }
   ],
   "source": [
    "!git clone https://github.com/fanghao6666/neural-networks-and-deep-learning.git"
   ]
  },
  {
   "cell_type": "code",
   "execution_count": 10,
   "id": "91bf19ba",
   "metadata": {},
   "outputs": [
    {
     "data": {
      "text/plain": [
       "1060"
      ]
     },
     "execution_count": 10,
     "metadata": {},
     "output_type": "execute_result"
    }
   ],
   "source": [
    "#1~100까지 소수의 합\n",
    "result = 0\n",
    "for i in range(2, 101):\n",
    "    nmj = []\n",
    "    for j in range(2,i):\n",
    "        nmj.append(i%j)\n",
    "    if 0 not in nmj:\n",
    "        result = result + i\n",
    "result"
   ]
  },
  {
   "cell_type": "code",
   "execution_count": 23,
   "id": "40be74a6",
   "metadata": {},
   "outputs": [
    {
     "name": "stdout",
     "output_type": "stream",
     "text": [
      "104743\n"
     ]
    }
   ],
   "source": [
    "#10001번째 소수\n",
    "def is_prime(number):\n",
    "    if number < 2:\n",
    "        return False\n",
    "\n",
    "    if number == 2:\n",
    "        return True\n",
    "    \n",
    "    if number % 2 == 0:\n",
    "        return False\n",
    "\n",
    "    for i in range(3, int(number ** 0.5) + 1):\n",
    "        if number % i == 0:\n",
    "            return False\n",
    "\n",
    "    return True\n",
    "\n",
    "\n",
    "i = 2\n",
    "cnt = 0  # 10001 번째 소수를 찾기위해 카운트\n",
    "while True:\n",
    "    if is_prime(i):\n",
    "        cnt += 1\n",
    "        if cnt == 10001:\n",
    "            break\n",
    "    i += 1\n",
    "\n",
    "print(i)"
   ]
  },
  {
   "cell_type": "code",
   "execution_count": 33,
   "id": "d724fb4b",
   "metadata": {},
   "outputs": [
    {
     "name": "stdout",
     "output_type": "stream",
     "text": [
      "[3, 5, 7, 9, 11, 13, 15, 17, 19, 21, 23, 25, 27, 29, 31, 33, 35, 37, 39, 41, 43, 45, 47, 49, 51, 53, 55, 57, 59, 61, 63, 65, 67, 69, 71, 73, 75, 77, 79, 81, 83, 85, 87, 89, 91, 93, 95, 97, 99]\n"
     ]
    }
   ],
   "source": [
    "#1~100까지 소수의 합\n",
    "#list에 100까지 넣어놓고 가장 작은 숫자로 각 항목을 나눴을 때 0이 나오면 해당 항목 삭제????\n",
    "# 왜 안되는거야ㅠㅠ -> x에 대한 for문을 1개 더 사용해야됨\n",
    "\n",
    "n = 100\n",
    "x = 2\n",
    "number_list = []\n",
    "for i in range(2,n+1):\n",
    "    number_list.append(i)\n",
    "    if i % x == 0:\n",
    "        number_list.remove(i)\n",
    "\n",
    "print(number_list)"
   ]
  },
  {
   "cell_type": "code",
   "execution_count": null,
   "id": "99366a7c",
   "metadata": {},
   "outputs": [],
   "source": []
  }
 ],
 "metadata": {
  "kernelspec": {
   "display_name": "Python 3 (ipykernel)",
   "language": "python",
   "name": "python3"
  },
  "language_info": {
   "codemirror_mode": {
    "name": "ipython",
    "version": 3
   },
   "file_extension": ".py",
   "mimetype": "text/x-python",
   "name": "python",
   "nbconvert_exporter": "python",
   "pygments_lexer": "ipython3",
   "version": "3.9.12"
  }
 },
 "nbformat": 4,
 "nbformat_minor": 5
}
