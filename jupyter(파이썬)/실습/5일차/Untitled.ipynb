{
 "cells": [
  {
   "cell_type": "code",
   "execution_count": 35,
   "id": "33b7d780",
   "metadata": {},
   "outputs": [
    {
     "name": "stdout",
     "output_type": "stream",
     "text": [
      "새로운 아이디를 입력하세요.: abcdefghijklmn.p\n",
      "abcdefghijklmn\n"
     ]
    }
   ],
   "source": [
    "allowed = [\"1\", \"2\", \"3\", \"4\", \"5\", \"6\", \"7\", \"8\", \"9\", \"0\", \"a\", \"b\", \"c\", \"d\", \"e\", \"f\", \"g\", \"h\", \"i\", \"j\", \"k\", \"l\", \"m\", \"n\", \"o\", \"p\", \"q\", \"r\", \"s\", \"t\",\" u\", \"v\", \"w\", \"x\", \"y\", \"z\", \"-\", \"_\", \".\"]\n",
    "\n",
    "new_id = input(\"새로운 아이디를 입력하세요.: \")\n",
    "\n",
    "new_id = new_id.lower()\n",
    "\n",
    "lst = list(new_id)\n",
    "new_id1 = []\n",
    "for i in new_id:\n",
    "    if i in allowed:\n",
    "        new_id1.append(i)\n",
    "new_id = \"\".join(new_id1)\n",
    "\n",
    "while \"..\" in new_id:\n",
    "    new_id = new_id.replace(\"..\",\".\")\n",
    "\n",
    "new_id = new_id.strip(\".\")\n",
    "\n",
    "if new_id == \"\":\n",
    "    new_id = new_id + \"a\"\n",
    "\n",
    "new_id = new_id[:15]\n",
    "new_id = new_id.rstrip(\".\")\n",
    "\n",
    "if len(new_id) <= 2:\n",
    "    d = new_id[-1]\n",
    "    while len(new_id) <=2:\n",
    "        new_id = new_id + d\n",
    "\n",
    "\n",
    "print(new_id)"
   ]
  },
  {
   "cell_type": "code",
   "execution_count": null,
   "id": "3653c741",
   "metadata": {},
   "outputs": [],
   "source": []
  },
  {
   "cell_type": "code",
   "execution_count": null,
   "id": "e7f3cc0a",
   "metadata": {},
   "outputs": [],
   "source": []
  }
 ],
 "metadata": {
  "kernelspec": {
   "display_name": "Python 3 (ipykernel)",
   "language": "python",
   "name": "python3"
  },
  "language_info": {
   "codemirror_mode": {
    "name": "ipython",
    "version": 3
   },
   "file_extension": ".py",
   "mimetype": "text/x-python",
   "name": "python",
   "nbconvert_exporter": "python",
   "pygments_lexer": "ipython3",
   "version": "3.9.12"
  }
 },
 "nbformat": 4,
 "nbformat_minor": 5
}
