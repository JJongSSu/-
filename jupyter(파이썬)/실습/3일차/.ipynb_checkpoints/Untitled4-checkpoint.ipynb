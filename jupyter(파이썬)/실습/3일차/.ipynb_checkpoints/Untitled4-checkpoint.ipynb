{
 "cells": [
  {
   "cell_type": "code",
   "execution_count": 2,
   "id": "cf29bba8",
   "metadata": {},
   "outputs": [],
   "source": [
    "a = ([1,3],4,6,\"a\")"
   ]
  },
  {
   "cell_type": "code",
   "execution_count": 3,
   "id": "c756f70a",
   "metadata": {},
   "outputs": [
    {
     "data": {
      "text/plain": [
       "[1, 3]"
      ]
     },
     "execution_count": 3,
     "metadata": {},
     "output_type": "execute_result"
    }
   ],
   "source": [
    "a[0]"
   ]
  },
  {
   "cell_type": "code",
   "execution_count": 4,
   "id": "191b603b",
   "metadata": {},
   "outputs": [
    {
     "data": {
      "text/plain": [
       "[1, 2, 3, 2, 5, 6]"
      ]
     },
     "execution_count": 4,
     "metadata": {},
     "output_type": "execute_result"
    }
   ],
   "source": [
    "a = [1,2,3]\n",
    "b = [2,5,6]\n",
    "a+b"
   ]
  },
  {
   "cell_type": "code",
   "execution_count": 7,
   "id": "3c1433ae",
   "metadata": {},
   "outputs": [],
   "source": [
    "a.insert(-1,12)"
   ]
  },
  {
   "cell_type": "code",
   "execution_count": 8,
   "id": "d6504f5a",
   "metadata": {},
   "outputs": [
    {
     "data": {
      "text/plain": [
       "[1, 2, 12, 12, 3]"
      ]
     },
     "execution_count": 8,
     "metadata": {},
     "output_type": "execute_result"
    }
   ],
   "source": [
    "a"
   ]
  },
  {
   "cell_type": "code",
   "execution_count": 9,
   "id": "713e6973",
   "metadata": {},
   "outputs": [],
   "source": [
    "del a[2]"
   ]
  },
  {
   "cell_type": "code",
   "execution_count": 10,
   "id": "ce35c815",
   "metadata": {},
   "outputs": [],
   "source": [
    "del a[2]"
   ]
  },
  {
   "cell_type": "code",
   "execution_count": 11,
   "id": "8e2d609d",
   "metadata": {},
   "outputs": [
    {
     "data": {
      "text/plain": [
       "[1, 2, 3]"
      ]
     },
     "execution_count": 11,
     "metadata": {},
     "output_type": "execute_result"
    }
   ],
   "source": [
    "a"
   ]
  },
  {
   "cell_type": "code",
   "execution_count": 12,
   "id": "34066988",
   "metadata": {},
   "outputs": [],
   "source": [
    "a = [1,1,1,1,3,4]\n",
    "a.remove(1)"
   ]
  },
  {
   "cell_type": "code",
   "execution_count": 13,
   "id": "cf762a7a",
   "metadata": {},
   "outputs": [
    {
     "data": {
      "text/plain": [
       "[1, 1, 1, 3, 4]"
      ]
     },
     "execution_count": 13,
     "metadata": {},
     "output_type": "execute_result"
    }
   ],
   "source": [
    "a"
   ]
  },
  {
   "cell_type": "code",
   "execution_count": 14,
   "id": "0a0fed35",
   "metadata": {},
   "outputs": [],
   "source": [
    "a[0] = 5"
   ]
  },
  {
   "cell_type": "code",
   "execution_count": 15,
   "id": "a67d86d8",
   "metadata": {},
   "outputs": [
    {
     "data": {
      "text/plain": [
       "[5, 1, 1, 3, 4]"
      ]
     },
     "execution_count": 15,
     "metadata": {},
     "output_type": "execute_result"
    }
   ],
   "source": [
    "a"
   ]
  },
  {
   "cell_type": "code",
   "execution_count": null,
   "id": "3a5a6f08",
   "metadata": {},
   "outputs": [],
   "source": [
    "a.sort()"
   ]
  },
  {
   "cell_type": "code",
   "execution_count": 17,
   "id": "c487c282",
   "metadata": {},
   "outputs": [
    {
     "data": {
      "text/plain": [
       "5"
      ]
     },
     "execution_count": 17,
     "metadata": {},
     "output_type": "execute_result"
    }
   ],
   "source": [
    "len(a)"
   ]
  },
  {
   "cell_type": "code",
   "execution_count": 19,
   "id": "ba8490f6",
   "metadata": {},
   "outputs": [],
   "source": [
    "a.reverse()"
   ]
  },
  {
   "cell_type": "code",
   "execution_count": 20,
   "id": "8ffc71d7",
   "metadata": {},
   "outputs": [
    {
     "data": {
      "text/plain": [
       "[4, 3, 1, 1, 5]"
      ]
     },
     "execution_count": 20,
     "metadata": {},
     "output_type": "execute_result"
    }
   ],
   "source": [
    "a"
   ]
  },
  {
   "cell_type": "code",
   "execution_count": 23,
   "id": "aeffe133",
   "metadata": {},
   "outputs": [],
   "source": [
    "a.sort(reverse=True)"
   ]
  },
  {
   "cell_type": "code",
   "execution_count": 24,
   "id": "20de673e",
   "metadata": {},
   "outputs": [
    {
     "data": {
      "text/plain": [
       "[5, 4, 3, 1, 1]"
      ]
     },
     "execution_count": 24,
     "metadata": {},
     "output_type": "execute_result"
    }
   ],
   "source": [
    "a"
   ]
  },
  {
   "cell_type": "code",
   "execution_count": 25,
   "id": "a0991bd0",
   "metadata": {},
   "outputs": [
    {
     "data": {
      "text/plain": [
       "True"
      ]
     },
     "execution_count": 25,
     "metadata": {},
     "output_type": "execute_result"
    }
   ],
   "source": [
    "store = [\"사이다\",\"콜라\",\"주스\"]\n",
    "\"콜라\" in store"
   ]
  },
  {
   "cell_type": "code",
   "execution_count": 30,
   "id": "64d384a1",
   "metadata": {},
   "outputs": [
    {
     "data": {
      "text/plain": [
       "0.30883925412378277"
      ]
     },
     "execution_count": 30,
     "metadata": {},
     "output_type": "execute_result"
    }
   ],
   "source": [
    "import random\n",
    "random.random()"
   ]
  },
  {
   "cell_type": "code",
   "execution_count": 55,
   "id": "d0134448",
   "metadata": {},
   "outputs": [
    {
     "name": "stdout",
     "output_type": "stream",
     "text": [
      "가위, 바위, 보 중 하나 선택하세요: 바위\n",
      "당신은 바위를 냈고, 컴퓨터는 가위를 냈습니다. 이겼습니다\n",
      "가위\n"
     ]
    }
   ],
   "source": [
    "rsp = [\"가위\",\"바위\",\"보\"]\n",
    "mo = input(\"가위, 바위, 보 중 하나 선택하세요: \")\n",
    "a = random.choice(rsp)\n",
    "if a == mo :\n",
    "    print(f\"당신은 {mo}를 냈고, 컴퓨터는 {a}를 냈습니다. 비겼습니다\")\n",
    "elif (a == \"가위\" and mo == \"바위\") or (a == \"바위\" and mo == \"보\") or (a == \"보\" and mo == \"가위\"):\n",
    "    print(f\"당신은 {mo}를 냈고, 컴퓨터는 {a}를 냈습니다. 이겼습니다\")\n",
    "elif (a == \"가위\" and mo == \"보\") or (a == \"바위\" and mo == \"가위\") or (a == \"보\" and mo == \"바위\"):\n",
    "    print(f\"당신은 {mo}를 냈고, 컴퓨터는 {a}를 냈습니다. 졌습니다\")\n",
    "else:\n",
    "    print(\"잘못된 입력입니다\")\n",
    "print(a)"
   ]
  }
 ],
 "metadata": {
  "kernelspec": {
   "display_name": "Python 3 (ipykernel)",
   "language": "python",
   "name": "python3"
  },
  "language_info": {
   "codemirror_mode": {
    "name": "ipython",
    "version": 3
   },
   "file_extension": ".py",
   "mimetype": "text/x-python",
   "name": "python",
   "nbconvert_exporter": "python",
   "pygments_lexer": "ipython3",
   "version": "3.9.12"
  }
 },
 "nbformat": 4,
 "nbformat_minor": 5
}
