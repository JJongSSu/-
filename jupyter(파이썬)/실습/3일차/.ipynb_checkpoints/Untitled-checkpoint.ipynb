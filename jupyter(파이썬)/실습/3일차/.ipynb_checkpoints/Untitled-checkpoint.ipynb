{
 "cells": [
  {
   "cell_type": "code",
   "execution_count": 5,
   "id": "fa356ff5",
   "metadata": {},
   "outputs": [],
   "source": [
    "sentence = \"my name is jongsu\""
   ]
  },
  {
   "cell_type": "code",
   "execution_count": 7,
   "id": "e570bdde",
   "metadata": {},
   "outputs": [
    {
     "data": {
      "text/plain": [
       "'j'"
      ]
     },
     "execution_count": 7,
     "metadata": {},
     "output_type": "execute_result"
    }
   ],
   "source": [
    "sentence[11]"
   ]
  },
  {
   "cell_type": "code",
   "execution_count": 8,
   "id": "6ce75f3c",
   "metadata": {},
   "outputs": [
    {
     "data": {
      "text/plain": [
       "'name'"
      ]
     },
     "execution_count": 8,
     "metadata": {},
     "output_type": "execute_result"
    }
   ],
   "source": [
    "sentence[3:7]"
   ]
  },
  {
   "cell_type": "code",
   "execution_count": 12,
   "id": "471a32c0",
   "metadata": {},
   "outputs": [
    {
     "data": {
      "text/plain": [
       "'name'"
      ]
     },
     "execution_count": 12,
     "metadata": {},
     "output_type": "execute_result"
    }
   ],
   "source": [
    "sentence[-14:-10]"
   ]
  },
  {
   "cell_type": "code",
   "execution_count": 14,
   "id": "dedf657f",
   "metadata": {},
   "outputs": [
    {
     "name": "stdout",
     "output_type": "stream",
     "text": [
      "오늘의 메뉴는 꽈배기입니다.\n"
     ]
    }
   ],
   "source": [
    "# lunch_menu = \"곱창볶음\"\n",
    "lunch_menu = \"꽈배기\"\n",
    "# lunch_menu = \"짬뽕\"\n",
    "\n",
    "print(\"오늘의 메뉴는 %s입니다.\"%lunch_menu)"
   ]
  },
  {
   "cell_type": "code",
   "execution_count": 17,
   "id": "2d7703ac",
   "metadata": {},
   "outputs": [
    {
     "name": "stdout",
     "output_type": "stream",
     "text": [
      "오늘의 메뉴는 짬뽕와 꽈배기입니다.\n"
     ]
    }
   ],
   "source": [
    "# lunch_menu = \"곱창볶음\"\n",
    "lunch_menu1 = \"꽈배기\"\n",
    "lunch_menu2 = \"짬뽕\"\n",
    "\n",
    "print(\"오늘의 메뉴는 {1}와 {0}입니다.\".format(lunch_menu1, lunch_menu2))"
   ]
  },
  {
   "cell_type": "markdown",
   "id": "6cf4865c",
   "metadata": {},
   "source": [
    "변수 x에 100을 대입하고, 변수 y에 200을 대입한 뒤, 변수 add에 x와 y의 합을 대입\n",
    "그 후, 대입한 변수를 바탕으로 아래 문자를 출력\n",
    "100과 200의 합은 300입니다."
   ]
  },
  {
   "cell_type": "code",
   "execution_count": 18,
   "id": "5f35ee53",
   "metadata": {},
   "outputs": [
    {
     "name": "stdout",
     "output_type": "stream",
     "text": [
      "100과200의 합은 300입니다\n"
     ]
    }
   ],
   "source": [
    "x = 100\n",
    "y = 200\n",
    "add = x + y\n",
    "print(f\"{x}과{y}의 합은 {add}입니다\")"
   ]
  },
  {
   "cell_type": "code",
   "execution_count": 19,
   "id": "1b4e6d34",
   "metadata": {},
   "outputs": [
    {
     "name": "stdout",
     "output_type": "stream",
     "text": [
      "100과200의 합은 300입니다\n"
     ]
    }
   ],
   "source": [
    "x = 100\n",
    "y = 200\n",
    "add = x + y\n",
    "print(\"{}과{}의 합은 {}입니다\".format(x,y,add))"
   ]
  },
  {
   "cell_type": "code",
   "execution_count": 20,
   "id": "87ba5eef",
   "metadata": {},
   "outputs": [
    {
     "name": "stdout",
     "output_type": "stream",
     "text": [
      "100과200의 합은 300입니다\n"
     ]
    }
   ],
   "source": [
    "x = 100\n",
    "y = 200\n",
    "add = x + y\n",
    "print(\"{0}과{1}의 합은 {2}입니다\".format(x,y,add))"
   ]
  },
  {
   "cell_type": "code",
   "execution_count": 22,
   "id": "8e675c97",
   "metadata": {},
   "outputs": [
    {
     "name": "stdout",
     "output_type": "stream",
     "text": [
      "100과200의 합은 '300'입니다\n"
     ]
    }
   ],
   "source": [
    "x = 100\n",
    "y = 200\n",
    "add = x + y\n",
    "print(\"{}과{}의 합은 \\'{}'입니다\".format(x,y,add))"
   ]
  },
  {
   "cell_type": "code",
   "execution_count": 25,
   "id": "71a68199",
   "metadata": {},
   "outputs": [],
   "source": [
    "song = \"tell me tell me tetete tell me\""
   ]
  },
  {
   "cell_type": "code",
   "execution_count": 26,
   "id": "6b460661",
   "metadata": {},
   "outputs": [
    {
     "data": {
      "text/plain": [
       "3"
      ]
     },
     "execution_count": 26,
     "metadata": {},
     "output_type": "execute_result"
    }
   ],
   "source": [
    "song.count(\"tell me\")"
   ]
  },
  {
   "cell_type": "code",
   "execution_count": 27,
   "id": "d493ae4c",
   "metadata": {},
   "outputs": [
    {
     "data": {
      "text/plain": [
       "16"
      ]
     },
     "execution_count": 27,
     "metadata": {},
     "output_type": "execute_result"
    }
   ],
   "source": [
    "song.find(\"tetete\")"
   ]
  },
  {
   "cell_type": "code",
   "execution_count": 29,
   "id": "84c66de1",
   "metadata": {},
   "outputs": [
    {
     "data": {
      "text/plain": [
       "'TELL ME TELL ME TETETE TELL ME'"
      ]
     },
     "execution_count": 29,
     "metadata": {},
     "output_type": "execute_result"
    }
   ],
   "source": [
    "song.upper()"
   ]
  },
  {
   "cell_type": "code",
   "execution_count": null,
   "id": "2df372e8",
   "metadata": {},
   "outputs": [],
   "source": []
  }
 ],
 "metadata": {
  "kernelspec": {
   "display_name": "Python 3 (ipykernel)",
   "language": "python",
   "name": "python3"
  },
  "language_info": {
   "codemirror_mode": {
    "name": "ipython",
    "version": 3
   },
   "file_extension": ".py",
   "mimetype": "text/x-python",
   "name": "python",
   "nbconvert_exporter": "python",
   "pygments_lexer": "ipython3",
   "version": "3.9.12"
  }
 },
 "nbformat": 4,
 "nbformat_minor": 5
}
