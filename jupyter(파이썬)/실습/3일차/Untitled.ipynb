{
 "cells": [
  {
   "cell_type": "code",
   "execution_count": 5,
   "id": "2ac889a9",
   "metadata": {},
   "outputs": [],
   "source": [
    "sentence = \"my name is jongsu\""
   ]
  },
  {
   "cell_type": "code",
   "execution_count": 7,
   "id": "6fa9155a",
   "metadata": {},
   "outputs": [
    {
     "data": {
      "text/plain": [
       "'j'"
      ]
     },
     "execution_count": 7,
     "metadata": {},
     "output_type": "execute_result"
    }
   ],
   "source": [
    "sentence[11]"
   ]
  },
  {
   "cell_type": "code",
   "execution_count": 8,
   "id": "97564158",
   "metadata": {},
   "outputs": [
    {
     "data": {
      "text/plain": [
       "'name'"
      ]
     },
     "execution_count": 8,
     "metadata": {},
     "output_type": "execute_result"
    }
   ],
   "source": [
    "sentence[3:7]"
   ]
  },
  {
   "cell_type": "code",
   "execution_count": 12,
   "id": "a4545eb9",
   "metadata": {},
   "outputs": [
    {
     "data": {
      "text/plain": [
       "'name'"
      ]
     },
     "execution_count": 12,
     "metadata": {},
     "output_type": "execute_result"
    }
   ],
   "source": [
    "sentence[-14:-10]"
   ]
  },
  {
   "cell_type": "code",
   "execution_count": 14,
   "id": "1b6436cf",
   "metadata": {},
   "outputs": [
    {
     "name": "stdout",
     "output_type": "stream",
     "text": [
      "오늘의 메뉴는 꽈배기입니다.\n"
     ]
    }
   ],
   "source": [
    "# lunch_menu = \"곱창볶음\"\n",
    "lunch_menu = \"꽈배기\"\n",
    "# lunch_menu = \"짬뽕\"\n",
    "\n",
    "print(\"오늘의 메뉴는 %s입니다.\"%lunch_menu)"
   ]
  },
  {
   "cell_type": "code",
   "execution_count": 17,
   "id": "92ec73b5",
   "metadata": {},
   "outputs": [
    {
     "name": "stdout",
     "output_type": "stream",
     "text": [
      "오늘의 메뉴는 짬뽕와 꽈배기입니다.\n"
     ]
    }
   ],
   "source": [
    "# lunch_menu = \"곱창볶음\"\n",
    "lunch_menu1 = \"꽈배기\"\n",
    "lunch_menu2 = \"짬뽕\"\n",
    "\n",
    "print(\"오늘의 메뉴는 {1}와 {0}입니다.\".format(lunch_menu1, lunch_menu2))"
   ]
  },
  {
   "cell_type": "markdown",
   "id": "40d59040",
   "metadata": {},
   "source": [
    "변수 x에 100을 대입하고, 변수 y에 200을 대입한 뒤, 변수 add에 x와 y의 합을 대입\n",
    "그 후, 대입한 변수를 바탕으로 아래 문자를 출력\n",
    "100과 200의 합은 300입니다."
   ]
  },
  {
   "cell_type": "code",
   "execution_count": 18,
   "id": "2fcc0860",
   "metadata": {},
   "outputs": [
    {
     "name": "stdout",
     "output_type": "stream",
     "text": [
      "100과200의 합은 300입니다\n"
     ]
    }
   ],
   "source": [
    "x = 100\n",
    "y = 200\n",
    "add = x + y\n",
    "print(f\"{x}과{y}의 합은 {add}입니다\")"
   ]
  },
  {
   "cell_type": "code",
   "execution_count": 19,
   "id": "d96b851c",
   "metadata": {},
   "outputs": [
    {
     "name": "stdout",
     "output_type": "stream",
     "text": [
      "100과200의 합은 300입니다\n"
     ]
    }
   ],
   "source": [
    "x = 100\n",
    "y = 200\n",
    "add = x + y\n",
    "print(\"{}과{}의 합은 {}입니다\".format(x,y,add))"
   ]
  },
  {
   "cell_type": "code",
   "execution_count": 20,
   "id": "8d1b7770",
   "metadata": {},
   "outputs": [
    {
     "name": "stdout",
     "output_type": "stream",
     "text": [
      "100과200의 합은 300입니다\n"
     ]
    }
   ],
   "source": [
    "x = 100\n",
    "y = 200\n",
    "add = x + y\n",
    "print(\"{0}과{1}의 합은 {2}입니다\".format(x,y,add))"
   ]
  },
  {
   "cell_type": "code",
   "execution_count": 22,
   "id": "2d438d2d",
   "metadata": {},
   "outputs": [
    {
     "name": "stdout",
     "output_type": "stream",
     "text": [
      "100과200의 합은 '300'입니다\n"
     ]
    }
   ],
   "source": [
    "x = 100\n",
    "y = 200\n",
    "add = x + y\n",
    "print(\"{}과{}의 합은 \\'{}'입니다\".format(x,y,add))"
   ]
  },
  {
   "cell_type": "code",
   "execution_count": 48,
   "id": "562b0062",
   "metadata": {},
   "outputs": [
    {
     "data": {
      "text/plain": [
       "'tell me tell me tetete tell me'"
      ]
     },
     "execution_count": 48,
     "metadata": {},
     "output_type": "execute_result"
    }
   ],
   "source": [
    "song = \"tell me tell me tetete tell me\"\n",
    "song"
   ]
  },
  {
   "cell_type": "code",
   "execution_count": 26,
   "id": "5c92c191",
   "metadata": {},
   "outputs": [
    {
     "data": {
      "text/plain": [
       "3"
      ]
     },
     "execution_count": 26,
     "metadata": {},
     "output_type": "execute_result"
    }
   ],
   "source": [
    "song.count(\"tell me\")"
   ]
  },
  {
   "cell_type": "code",
   "execution_count": 27,
   "id": "7393da78",
   "metadata": {},
   "outputs": [
    {
     "data": {
      "text/plain": [
       "16"
      ]
     },
     "execution_count": 27,
     "metadata": {},
     "output_type": "execute_result"
    }
   ],
   "source": [
    "song.find(\"tetete\")"
   ]
  },
  {
   "cell_type": "code",
   "execution_count": 50,
   "id": "102b7f4e",
   "metadata": {},
   "outputs": [
    {
     "data": {
      "text/plain": [
       "'Tell Me Tell Me Tetete Tell Me'"
      ]
     },
     "execution_count": 50,
     "metadata": {},
     "output_type": "execute_result"
    }
   ],
   "source": [
    "song.title()"
   ]
  },
  {
   "cell_type": "code",
   "execution_count": 51,
   "id": "4f01957b",
   "metadata": {},
   "outputs": [
    {
     "data": {
      "text/plain": [
       "'yell me yell me yeyeye yell me'"
      ]
     },
     "execution_count": 51,
     "metadata": {},
     "output_type": "execute_result"
    }
   ],
   "source": [
    "song.replace(\"t\",\"y\")"
   ]
  },
  {
   "cell_type": "code",
   "execution_count": 52,
   "id": "b0a7c487",
   "metadata": {},
   "outputs": [
    {
     "data": {
      "text/plain": [
       "'tell me tell me tetete tell me'"
      ]
     },
     "execution_count": 52,
     "metadata": {},
     "output_type": "execute_result"
    }
   ],
   "source": [
    "song"
   ]
  },
  {
   "cell_type": "code",
   "execution_count": 54,
   "id": "725dff8a",
   "metadata": {},
   "outputs": [
    {
     "data": {
      "text/plain": [
       "'TELL ME TELL ME TETETE TELL ME'"
      ]
     },
     "execution_count": 54,
     "metadata": {},
     "output_type": "execute_result"
    }
   ],
   "source": [
    "song.upper()"
   ]
  },
  {
   "cell_type": "code",
   "execution_count": 56,
   "id": "c9b09ca0",
   "metadata": {},
   "outputs": [
    {
     "data": {
      "text/plain": [
       "'TELL ME TELL ME TETETE TELL ME'"
      ]
     },
     "execution_count": 56,
     "metadata": {},
     "output_type": "execute_result"
    }
   ],
   "source": [
    "song = song.upper()\n",
    "song"
   ]
  },
  {
   "cell_type": "code",
   "execution_count": 57,
   "id": "3d20cc87",
   "metadata": {},
   "outputs": [
    {
     "data": {
      "text/plain": [
       "['TELL', 'ME', 'TELL', 'ME', 'TETETE', 'TELL', 'ME']"
      ]
     },
     "execution_count": 57,
     "metadata": {},
     "output_type": "execute_result"
    }
   ],
   "source": [
    "song.split(\" \")"
   ]
  },
  {
   "cell_type": "code",
   "execution_count": 58,
   "id": "34d49ae9",
   "metadata": {},
   "outputs": [
    {
     "data": {
      "text/plain": [
       "'tetlel'"
      ]
     },
     "execution_count": 58,
     "metadata": {},
     "output_type": "execute_result"
    }
   ],
   "source": [
    "told = \"         tetlel       \"\n",
    "told.strip()"
   ]
  },
  {
   "cell_type": "code",
   "execution_count": 60,
   "id": "95a14632",
   "metadata": {},
   "outputs": [
    {
     "data": {
      "text/plain": [
       "'tetlel'"
      ]
     },
     "execution_count": 60,
     "metadata": {},
     "output_type": "execute_result"
    }
   ],
   "source": [
    "told = \"...........tetlel........\"\n",
    "told.strip(\".\")"
   ]
  }
 ],
 "metadata": {
  "kernelspec": {
   "display_name": "Python 3 (ipykernel)",
   "language": "python",
   "name": "python3"
  },
  "language_info": {
   "codemirror_mode": {
    "name": "ipython",
    "version": 3
   },
   "file_extension": ".py",
   "mimetype": "text/x-python",
   "name": "python",
   "nbconvert_exporter": "python",
   "pygments_lexer": "ipython3",
   "version": "3.9.12"
  }
 },
 "nbformat": 4,
 "nbformat_minor": 5
}
