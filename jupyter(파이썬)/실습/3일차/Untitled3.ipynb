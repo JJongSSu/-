{
 "cells": [
  {
   "cell_type": "code",
   "execution_count": 2,
   "id": "5ac0a4c8",
   "metadata": {},
   "outputs": [
    {
     "name": "stdout",
     "output_type": "stream",
     "text": [
      "9\n",
      "3의 배수 입니다\n"
     ]
    }
   ],
   "source": [
    "num = int(input())\n",
    "if num % 3 == 0 :\n",
    "    print(\"3의 배수 입니다\")\n",
    "else:\n",
    "    print(\"3의 배수가 아닙니다\")"
   ]
  },
  {
   "cell_type": "code",
   "execution_count": 3,
   "id": "3470b162",
   "metadata": {},
   "outputs": [
    {
     "name": "stdout",
     "output_type": "stream",
     "text": [
      "3.6\n",
      "3의 배수가 아닙니다\n"
     ]
    }
   ],
   "source": [
    "num = float(input())\n",
    "if num % 3 == 0 :\n",
    "    print(\"3의 배수 입니다\")\n",
    "else:\n",
    "    print(\"3의 배수가 아닙니다\")"
   ]
  },
  {
   "cell_type": "markdown",
   "id": "3b07afa0",
   "metadata": {},
   "source": [
    "3.6%3"
   ]
  },
  {
   "cell_type": "code",
   "execution_count": 4,
   "id": "6e8c6cd9",
   "metadata": {},
   "outputs": [
    {
     "data": {
      "text/plain": [
       "0.6000000000000001"
      ]
     },
     "execution_count": 4,
     "metadata": {},
     "output_type": "execute_result"
    }
   ],
   "source": [
    "3.6%3"
   ]
  },
  {
   "cell_type": "code",
   "execution_count": 5,
   "id": "6c89b14a",
   "metadata": {},
   "outputs": [
    {
     "data": {
      "text/plain": [
       "2"
      ]
     },
     "execution_count": 5,
     "metadata": {},
     "output_type": "execute_result"
    }
   ],
   "source": [
    "6%4"
   ]
  },
  {
   "cell_type": "code",
   "execution_count": 22,
   "id": "96920881",
   "metadata": {},
   "outputs": [
    {
     "name": "stdout",
     "output_type": "stream",
     "text": [
      "구매 개수 : 25\n",
      "총 가격은 235000.0입니다\n"
     ]
    }
   ],
   "source": [
    "present = int(input(\"구매 개수 : \"))\n",
    "if present >= 11:\n",
    "    print(f\"총 가격은 {(present-10)*10000*0.9 + 10*10000}입니다\")\n",
    "else:\n",
    "    print(f\"총 가격은 {present*10000}입니다\")"
   ]
  },
  {
   "cell_type": "code",
   "execution_count": 25,
   "id": "ad1fbdfe",
   "metadata": {},
   "outputs": [
    {
     "name": "stdout",
     "output_type": "stream",
     "text": [
      "구매 개수 : 25\n",
      "총 가격은 235000입니다\n"
     ]
    }
   ],
   "source": [
    "present = int(input(\"구매 개수 : \"))\n",
    "if present >= 11:\n",
    "    price = (present-10)*10000*0.9 + 10*10000\n",
    "else :\n",
    "    price = present*10000\n",
    "print(f\"총 가격은 {int(price)}입니다\")"
   ]
  },
  {
   "cell_type": "code",
   "execution_count": null,
   "id": "683a917f",
   "metadata": {},
   "outputs": [],
   "source": []
  }
 ],
 "metadata": {
  "kernelspec": {
   "display_name": "Python 3 (ipykernel)",
   "language": "python",
   "name": "python3"
  },
  "language_info": {
   "codemirror_mode": {
    "name": "ipython",
    "version": 3
   },
   "file_extension": ".py",
   "mimetype": "text/x-python",
   "name": "python",
   "nbconvert_exporter": "python",
   "pygments_lexer": "ipython3",
   "version": "3.9.12"
  }
 },
 "nbformat": 4,
 "nbformat_minor": 5
}
