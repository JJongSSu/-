{
 "cells": [
  {
   "cell_type": "code",
   "execution_count": 73,
   "id": "38ec571d",
   "metadata": {},
   "outputs": [
    {
     "name": "stdout",
     "output_type": "stream",
     "text": [
      "아이디 입력하세요 : …!@BaT#*..y.abcdefghijklm\n",
      "…!@bat#*.y.abcd\n"
     ]
    }
   ],
   "source": [
    "new_id = input(\"아이디 입력하세요 : \")\n",
    "\n",
    "new_id = new_id.lower()\n",
    "\n",
    "password = ['a', 'b', 'c', 'd', 'e', 'f', 'g', 'h', 'i', 'j', 'k', 'l', 'm', 'n', 'o', 'p' ,'q', 'r', 's', 't', 'u', 'v', 'w', 'x', 'y', 'z', \"0\", \"1\", \"2\", \"3\", \"4\", \"5\", \"6\", \"7\", \"8\", \"9\", \"0\",  \"-\", \"_\", \".\"]\n",
    "\n",
    "for i in new_id:\n",
    "    if i in password:\n",
    "        new_id = new_id + i\n",
    "\n",
    "while \"..\" in new_id:\n",
    "    new_id = new_id.replace(\"..\",\".\")\n",
    "    \n",
    "#while True:\n",
    "    #new_id = new_id.replace(\"..\",\".\")\n",
    "    #if \"..\" not in new_id\n",
    "        #break\n",
    "\n",
    "new_id = new_id.rstrip(\".\")\n",
    "new_id = new_id.lstrip(\".\")\n",
    "\n",
    "    \n",
    "for i in new_id:\n",
    "    if i == \" \":\n",
    "        new_id = new_id.replace(\" \",\"a\")\n",
    "\n",
    "# while \" \" in new_id:\n",
    "#     new_id = new_id.replace(\" \",\"a\")\n",
    "\n",
    "\n",
    "# if len(new_id) >= 16:\n",
    "#     while len(new_id) == 15:\n",
    "#         new_id = new_id.pop()\n",
    "#     c = new_id[-1]\n",
    "#     if c == '.':\n",
    "#         del new_id[-1]\n",
    "\n",
    "new_id = new_id[:15]\n",
    "new_id = new_id.rstrip(\".\")\n",
    "\n",
    "\n",
    "if len(new_id) <= 2:\n",
    "    d = new_id[-1]\n",
    "    while len(new_id) == 3:       \n",
    "        new_id = new_id.append(d)\n",
    "        \n",
    "print(new_id)\n",
    "\n",
    "    \n",
    "\n",
    "\n"
   ]
  },
  {
   "cell_type": "code",
   "execution_count": 112,
   "id": "87db5bbc",
   "metadata": {},
   "outputs": [
    {
     "name": "stdout",
     "output_type": "stream",
     "text": [
      "아이디 입력하세요 : abcdefghijklmn.p\n",
      "abcdefghijklmn\n"
     ]
    }
   ],
   "source": [
    "password = ['a', 'b', 'c', 'd', 'e', 'f', 'g', 'h', 'i', 'j', 'k', 'l', 'm', 'n', 'o', 'p' ,'q', 'r', 's', 't', 'u', 'v', 'w', 'x', 'y', 'z', \"0\", \"1\", \"2\", \"3\", \"4\", \"5\", \"6\", \"7\", \"8\", \"9\", \"0\",  \"-\", \"_\", \".\"]\n",
    "\n",
    "new_id1 = input(\"아이디 입력하세요 : \")\n",
    "\n",
    "# 1단계\n",
    "new_id1 = new_id1.lower()\n",
    "\n",
    "# 2단계\n",
    "new_id = \"\"\n",
    "for i in new_id1:\n",
    "    if i in password:\n",
    "        new_id = new_id + i\n",
    "\n",
    "# 3단계\n",
    "while \"..\" in new_id:\n",
    "    new_id = new_id.replace(\"..\",\".\")\n",
    "#while True:\n",
    "    #new_id = new_id.replace(\"..\",\".\")\n",
    "    #if \"..\" not in new_id\n",
    "        #break\n",
    "\n",
    "# 4단계        \n",
    "new_id = new_id.strip(\".\")\n",
    "\n",
    "# 5단계\n",
    "if new_id == \"\":\n",
    "    new_id = new_id + \"a\"\n",
    "# while \"\" in new_id:\n",
    "#     new_id = new_id.replace(\"\",\"a\")\n",
    "\n",
    "# 6단계\n",
    "new_id = new_id[:15]\n",
    "new_id = new_id.rstrip(\".\")\n",
    "# if len(new_id) >= 16:\n",
    "#     while len(new_id) == 15:\n",
    "#         new_id = new_id.pop()\n",
    "#     c = new_id[-1]\n",
    "#     if c == '.':\n",
    "#         del new_id[-1]\n",
    "\n",
    "# 7단계\n",
    "if len(new_id) <= 2:\n",
    "    d = new_id[-1]\n",
    "    while len(new_id) <= 2:       \n",
    "        new_id = new_id + d\n",
    "        #new_id += new_id[-1]\n",
    "\n",
    "print(new_id)\n"
   ]
  },
  {
   "cell_type": "code",
   "execution_count": 106,
   "id": "ffc724e9",
   "metadata": {},
   "outputs": [
    {
     "name": "stdout",
     "output_type": "stream",
     "text": [
      "새로운 아이디를 입력하세요.: =.=\n"
     ]
    },
    {
     "ename": "TypeError",
     "evalue": "'list' object is not callable",
     "output_type": "error",
     "traceback": [
      "\u001b[1;31m---------------------------------------------------------------------------\u001b[0m",
      "\u001b[1;31mTypeError\u001b[0m                                 Traceback (most recent call last)",
      "Input \u001b[1;32mIn [106]\u001b[0m, in \u001b[0;36m<cell line: 9>\u001b[1;34m()\u001b[0m\n\u001b[0;32m      6\u001b[0m new_id \u001b[38;5;241m=\u001b[39m new_id\u001b[38;5;241m.\u001b[39mlower()\n\u001b[0;32m      8\u001b[0m \u001b[38;5;66;03m# 2단계\u001b[39;00m\n\u001b[1;32m----> 9\u001b[0m lst \u001b[38;5;241m=\u001b[39m \u001b[38;5;28;43mlist\u001b[39;49m\u001b[43m(\u001b[49m\u001b[43mnew_id\u001b[49m\u001b[43m)\u001b[49m\n\u001b[0;32m     10\u001b[0m word \u001b[38;5;241m=\u001b[39m []\n\u001b[0;32m     11\u001b[0m \u001b[38;5;28;01mfor\u001b[39;00m i \u001b[38;5;129;01min\u001b[39;00m lst:\n",
      "\u001b[1;31mTypeError\u001b[0m: 'list' object is not callable"
     ]
    }
   ],
   "source": [
    "char = [\"1\", \"2\", \"3\", \"4\", \"5\", \"6\", \"7\", \"8\", \"9\", \"0\", \"a\", \"b\", \"c\", \"d\", \"e\", \"f\", \"g\", \"h\", \"i\", \"j\", \"k\", \"l\", \"m\", \"n\", \"o\", \"p\", \"q\", \"r\", \"s\", \"t\",\" u\", \"v\", \"w\", \"x\", \"y\", \"z\", \"-\", \"_\", \".\"]\n",
    "\n",
    "new_id = input(\"새로운 아이디를 입력하세요.: \")\n",
    "\n",
    "# 1단계\n",
    "new_id = new_id.lower()\n",
    "\n",
    "# 2단계\n",
    "lst = list(new_id)\n",
    "word = []\n",
    "for i in lst:\n",
    "    if i in char:\n",
    "        word.append(i)\n",
    "\n",
    "new_id = \"\".join(word)\n",
    "\n",
    "# 3단계\n",
    "while \"..\" in new_id:\n",
    "    new_id = new_id.replace(\"..\", \".\")\n",
    "    \n",
    "# 4단계\n",
    "new_id = new_id.strip(\".\")\n",
    "\n",
    "# 5단계\n",
    "if new_id == \"\":\n",
    "    new_id = \"a\"\n",
    "\n",
    "# 6단계\n",
    "if len(new_id) >= 16:\n",
    "    new_id = new_id[:15]\n",
    "new_id = new_id.strip(\".\")\n",
    "\n",
    "# 7단계\n",
    "while len(new_id) <= 2:\n",
    "    new_id += new_id[-1]\n",
    "\n",
    "print(new_id)\n"
   ]
  },
  {
   "cell_type": "code",
   "execution_count": null,
   "id": "73f1da2d",
   "metadata": {},
   "outputs": [],
   "source": []
  }
 ],
 "metadata": {
  "kernelspec": {
   "display_name": "Python 3 (ipykernel)",
   "language": "python",
   "name": "python3"
  },
  "language_info": {
   "codemirror_mode": {
    "name": "ipython",
    "version": 3
   },
   "file_extension": ".py",
   "mimetype": "text/x-python",
   "name": "python",
   "nbconvert_exporter": "python",
   "pygments_lexer": "ipython3",
   "version": "3.9.12"
  }
 },
 "nbformat": 4,
 "nbformat_minor": 5
}
