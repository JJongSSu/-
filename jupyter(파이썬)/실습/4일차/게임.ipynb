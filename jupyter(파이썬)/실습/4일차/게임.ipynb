{
 "cells": [
  {
   "cell_type": "code",
   "execution_count": null,
   "id": "a84a9d86",
   "metadata": {},
   "outputs": [],
   "source": [
    "import random\n",
    "random.random()"
   ]
  },
  {
   "cell_type": "code",
   "execution_count": null,
   "id": "e3bda94a",
   "metadata": {},
   "outputs": [],
   "source": [
    "ic = int(input(\"강화 등급을 입력하세요 : \"))\n",
    "a = random.random()\n",
    "a1 = random.random()\n",
    "if ic <= 10:\n",
    "    b = input(\"강화를 시도하시겠습니까?(y/n)\")\n",
    "    if b == \"y\":\n",
    "        if a <= 0.7 - (0.05*ic):\n",
    "            print(\"강화 성공\")\n",
    "        else:\n",
    "            print(\"강화 실패\")\n",
    "            if a1 <= 0.5 :\n",
    "                print(\"아이템 파괴\")\n",
    "    else:\n",
    "        pass\n",
    "else:\n",
    "    pass"
   ]
  },
  {
   "cell_type": "code",
   "execution_count": null,
   "id": "903bfacd",
   "metadata": {},
   "outputs": [],
   "source": [
    "import random\n",
    "ic = int(input(\"강화 등급을 입력하세요 : \"))\n",
    "if ic <= 10:\n",
    "    b = input(\"강화를 시도하시겠습니까?(y/n)\")\n",
    "    a = random.random()\n",
    "    a1 = random.random()\n",
    "    if b == \"y\":\n",
    "        if a <= 0.7 - (0.05*ic):\n",
    "            print(\"강화 성공\")\n",
    "        else:\n",
    "            print(\"강화 실패\")\n",
    "            if a1 <= 0.5 :\n",
    "                print(\"아이템 파괴\")\n",
    "    else:\n",
    "        pass\n",
    "else:\n",
    "    print(\"잘못입력하셨습니다\")"
   ]
  },
  {
   "cell_type": "code",
   "execution_count": 32,
   "id": "0a9dde28",
   "metadata": {},
   "outputs": [
    {
     "name": "stdout",
     "output_type": "stream",
     "text": [
      "강화 등급을 입력하세요 : 1\n",
      "강화를 시도하시겠습니까?(y/n)y\n",
      "강화 성공\n",
      "강화 등급을 입력하세요 : 3\n",
      "강화를 시도하시겠습니까?(y/n)y\n",
      "강화 실패\n",
      "강화를 시도하시겠습니까?(y/n)y\n",
      "강화 실패\n",
      "아이템 파괴\n"
     ]
    }
   ],
   "source": [
    "import random\n",
    "ic = int(input(\"강화 등급을 입력하세요 : \"))\n",
    "while True:\n",
    "    if ic <= 10:\n",
    "        b = input(\"강화를 시도하시겠습니까?(y/n)\")\n",
    "        a = random.random()\n",
    "        a1 = random.random()\n",
    "        if b == \"y\":\n",
    "            if a <= 0.7 - (0.05*ic):\n",
    "                print(\"강화 성공\")\n",
    "                ic = int(input(\"강화 등급을 입력하세요 : \"))\n",
    "            else:\n",
    "                print(\"강화 실패\")\n",
    "                if a1 <= 0.5 :\n",
    "                    print(\"아이템 파괴\")\n",
    "                    break\n",
    "        else:\n",
    "            pass\n",
    "    else:\n",
    "        print(\"잘못입력하셨습니다\")"
   ]
  }
 ],
 "metadata": {
  "kernelspec": {
   "display_name": "Python 3 (ipykernel)",
   "language": "python",
   "name": "python3"
  },
  "language_info": {
   "codemirror_mode": {
    "name": "ipython",
    "version": 3
   },
   "file_extension": ".py",
   "mimetype": "text/x-python",
   "name": "python",
   "nbconvert_exporter": "python",
   "pygments_lexer": "ipython3",
   "version": "3.9.12"
  }
 },
 "nbformat": 4,
 "nbformat_minor": 5
}
