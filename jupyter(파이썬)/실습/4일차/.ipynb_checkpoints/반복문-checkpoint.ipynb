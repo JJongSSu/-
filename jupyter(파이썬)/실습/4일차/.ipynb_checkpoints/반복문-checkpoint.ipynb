{
 "cells": [
  {
   "cell_type": "code",
   "execution_count": 1,
   "id": "dfd997f6",
   "metadata": {},
   "outputs": [
    {
     "name": "stdout",
     "output_type": "stream",
     "text": [
      "hello python\n",
      "hello python\n",
      "hello python\n",
      "hello python\n",
      "hello python\n",
      "hello python\n",
      "hello python\n",
      "hello python\n",
      "hello python\n",
      "hello python\n"
     ]
    }
   ],
   "source": [
    "n = 0\n",
    "while n < 10 :\n",
    "    print(\"hello python\")\n",
    "    n += 1"
   ]
  },
  {
   "cell_type": "code",
   "execution_count": 3,
   "id": "00c575af",
   "metadata": {},
   "outputs": [
    {
     "name": "stdout",
     "output_type": "stream",
     "text": [
      "1\n",
      "2\n",
      "3\n",
      "4\n",
      "5\n",
      "6\n",
      "7\n",
      "8\n",
      "9\n",
      "10\n"
     ]
    }
   ],
   "source": [
    "n = 1\n",
    "while True :\n",
    "    print(n)\n",
    "    if n < 10:\n",
    "        n += 1\n",
    "    else:\n",
    "        break"
   ]
  },
  {
   "cell_type": "code",
   "execution_count": 8,
   "id": "93efed53",
   "metadata": {},
   "outputs": [
    {
     "name": "stdout",
     "output_type": "stream",
     "text": [
      "1\n",
      "2\n",
      "두 정수의 합은 3입니다\n",
      "3\n",
      "4\n",
      "두 정수의 합은 7입니다\n",
      "5\n",
      "5\n",
      "두 정수의 합은 10입니다\n",
      "6\n",
      "3\n",
      "두 정수의 합은 9입니다\n",
      "2\n",
      "3\n",
      "두 정수의 합은 5입니다\n",
      "0\n",
      "0\n",
      "종료합니다\n"
     ]
    }
   ],
   "source": [
    "a = int(input())\n",
    "b = int(input())\n",
    "while True:\n",
    "    print(f\"두 정수의 합은 {a+b}입니다\")\n",
    "    a = int(input())\n",
    "    b = int(input())\n",
    "    if a == 0 and b == 0:\n",
    "        print(\"종료합니다\")\n",
    "        break\n"
   ]
  },
  {
   "cell_type": "code",
   "execution_count": 25,
   "id": "57a350dc",
   "metadata": {},
   "outputs": [
    {
     "name": "stdout",
     "output_type": "stream",
     "text": [
      "1\n",
      "1\n",
      "두 정수의 합은 2입니다\n",
      "3\n",
      "25\n",
      "두 정수의 합은 28입니다\n",
      "0\n",
      "0\n",
      "종료합니다\n"
     ]
    }
   ],
   "source": [
    "while True:\n",
    "    a = int(input())\n",
    "    b = int(input())\n",
    "    if a == 0 and b == 0:\n",
    "        print(\"종료합니다\")\n",
    "        break\n",
    "    else:\n",
    "        print(f\"두 정수의 합은 {a+b}입니다\")\n"
   ]
  },
  {
   "cell_type": "code",
   "execution_count": 37,
   "id": "e24aa83e",
   "metadata": {},
   "outputs": [
    {
     "name": "stdout",
     "output_type": "stream",
     "text": [
      "목표 몸무게를 입력하세요 : 50\n",
      "현재 몸무게를 입력하세요 : 60\n",
      "현재 몸무게를 입력하세요 : 70\n",
      "현재 몸무게를 입력하세요 : 50\n",
      "현재 몸무게를 입력하세요 : 40\n",
      "축하합니다! 3주 걸렸습니다.\n"
     ]
    }
   ],
   "source": [
    "goal = int(input(\"목표 몸무게를 입력하세요 : \"))\n",
    "real = int(input(\"현재 몸무게를 입력하세요 : \"))\n",
    "n = 0\n",
    "while True:\n",
    "    if real < goal:\n",
    "        print(f\"축하합니다! {n}주 걸렸습니다.\")\n",
    "        break\n",
    "    else:\n",
    "        real = int(input(\"현재 몸무게를 입력하세요 : \"))\n",
    "        n += 1"
   ]
  },
  {
   "cell_type": "code",
   "execution_count": 41,
   "id": "0d081086",
   "metadata": {},
   "outputs": [
    {
     "name": "stdout",
     "output_type": "stream",
     "text": [
      "햄\n",
      "초\n",
      "짬\n"
     ]
    }
   ],
   "source": [
    "food = [\"햄버거\",\"초밥\",\"짬뽕\"]\n",
    "for i in food:\n",
    "    print(i[0])"
   ]
  },
  {
   "cell_type": "code",
   "execution_count": 39,
   "id": "5aed3c32",
   "metadata": {},
   "outputs": [
    {
     "name": "stdout",
     "output_type": "stream",
     "text": [
      "햄\n",
      "버\n",
      "거\n"
     ]
    }
   ],
   "source": [
    "food = \"햄버거\"\n",
    "for i in food:\n",
    "    print(i)"
   ]
  },
  {
   "cell_type": "code",
   "execution_count": 69,
   "id": "83e18438",
   "metadata": {},
   "outputs": [
    {
     "name": "stdout",
     "output_type": "stream",
     "text": [
      "55\n"
     ]
    }
   ],
   "source": [
    "n = 0\n",
    "for i in range(11):\n",
    "    n = n + i\n",
    "print(n)"
   ]
  },
  {
   "cell_type": "code",
   "execution_count": 52,
   "id": "868f1443",
   "metadata": {},
   "outputs": [
    {
     "name": "stdout",
     "output_type": "stream",
     "text": [
      "1683\n"
     ]
    }
   ],
   "source": [
    "n = 0\n",
    "for i in range(0,101,3):\n",
    "    n = n + i\n",
    "print(n)"
   ]
  },
  {
   "cell_type": "code",
   "execution_count": 54,
   "id": "3853c3ba",
   "metadata": {},
   "outputs": [
    {
     "name": "stdout",
     "output_type": "stream",
     "text": [
      "1683\n"
     ]
    }
   ],
   "source": [
    "n = 0\n",
    "for i in range(100):\n",
    "    if i%3 == 0:\n",
    "        n = n+i\n",
    "print(n)"
   ]
  },
  {
   "cell_type": "code",
   "execution_count": 121,
   "id": "3c8cdf36",
   "metadata": {},
   "outputs": [
    {
     "name": "stdout",
     "output_type": "stream",
     "text": [
      "[2, 3, 4, 5, 6, 7, 8, 9, 10, 11, 12, 13, 14, 15, 16, 17, 18, 19, 20, 21, 22, 23, 24, 25, 26, 27, 28, 29, 30, 31, 32, 33, 34, 35, 36, 37, 38, 39, 40, 41, 42, 43, 44, 45, 46, 47, 48, 49, 50, 51, 52, 53, 54, 55, 56, 57, 58, 59, 60, 61, 62, 63, 64, 65, 66, 67, 68, 69, 70, 71, 72, 73, 74, 75, 76, 77, 78, 79, 80, 81, 82, 83, 84, 85, 86, 87, 88, 89, 90, 91, 92, 93, 94, 95, 96, 97, 98, 99, 100]\n"
     ]
    }
   ],
   "source": [
    "n = 100\n",
    "number_list = []\n",
    "for i in range(2,n+1):\n",
    "    number_list.append(i)\n",
    "print(number_list)"
   ]
  },
  {
   "cell_type": "code",
   "execution_count": 140,
   "id": "966e1ff7",
   "metadata": {},
   "outputs": [
    {
     "name": "stdout",
     "output_type": "stream",
     "text": [
      "[3, 5, 7, 9, 11, 13, 15, 17, 19, 21, 23, 25, 27, 29, 31, 33, 35, 37, 39, 41, 43, 45, 47, 49, 51, 53, 55, 57, 59, 61, 63, 65, 67, 69, 71, 73, 75, 77, 79, 81, 83, 85, 87, 89, 91, 93, 95, 97, 99]\n"
     ]
    }
   ],
   "source": [
    "#list에 100까지 넣어놓고 가장 작은 숫자로 각 항목을 나눴을 때 0이 나오면 해당 항목 삭제????\n",
    "# 왜 안되는거야ㅠㅠ\n",
    "\n",
    "n = 100\n",
    "x = 2\n",
    "number_list = []\n",
    "for i in range(2,n+1):\n",
    "    number_list.append(i)\n",
    "    if i % x == 0:\n",
    "        number_list.remove(i)\n",
    "        \n",
    "print(number_list)"
   ]
  },
  {
   "cell_type": "code",
   "execution_count": 91,
   "id": "b4d00bf0",
   "metadata": {},
   "outputs": [
    {
     "data": {
      "text/plain": [
       "1060"
      ]
     },
     "execution_count": 91,
     "metadata": {},
     "output_type": "execute_result"
    }
   ],
   "source": [
    "#1~100까지 소수의 합\n",
    "#2~i까지 j로 나눈 나머지들을 구한 후 list화 시켜서 0이 있는지 확인. 없으면 결과에 추가해서 더해줌\n",
    "#나눴을 때 0이 나오면 소수가 아님\n",
    "\n",
    "result = 0\n",
    "for i in range(2, 101):\n",
    "    nmj = []\n",
    "    for j in range(2,i):\n",
    "        nmj.append(i%j)\n",
    "    if 0 not in nmj:\n",
    "        result = result + i\n",
    "result"
   ]
  },
  {
   "cell_type": "code",
   "execution_count": 109,
   "id": "3cc66314",
   "metadata": {},
   "outputs": [
    {
     "name": "stdout",
     "output_type": "stream",
     "text": [
      "3*1=3\n",
      "3*2=6\n",
      "3*3=9\n",
      "3*4=12\n",
      "3*5=15\n",
      "3*6=18\n",
      "3*7=21\n",
      "3*8=24\n",
      "3*9=27\n",
      " \n",
      "4*1=4\n",
      "4*2=8\n",
      "4*3=12\n",
      "4*4=16\n",
      "4*5=20\n",
      "4*6=24\n",
      "4*7=28\n",
      "4*8=32\n",
      "4*9=36\n",
      " \n",
      "5*1=5\n",
      "5*2=10\n",
      "5*3=15\n",
      "5*4=20\n",
      "5*5=25\n",
      "5*6=30\n",
      "5*7=35\n",
      "5*8=40\n",
      "5*9=45\n",
      " \n",
      "6*1=6\n",
      "6*2=12\n",
      "6*3=18\n",
      "6*4=24\n",
      "6*5=30\n",
      "6*6=36\n",
      "6*7=42\n",
      "6*8=48\n",
      "6*9=54\n",
      " \n",
      "7*1=7\n",
      "7*2=14\n",
      "7*3=21\n",
      "7*4=28\n",
      "7*5=35\n",
      "7*6=42\n",
      "7*7=49\n",
      "7*8=56\n",
      "7*9=63\n",
      " \n",
      "8*1=8\n",
      "8*2=16\n",
      "8*3=24\n",
      "8*4=32\n",
      "8*5=40\n",
      "8*6=48\n",
      "8*7=56\n",
      "8*8=64\n",
      "8*9=72\n",
      " \n",
      "9*1=9\n",
      "9*2=18\n",
      "9*3=27\n",
      "9*4=36\n",
      "9*5=45\n",
      "9*6=54\n",
      "9*7=63\n",
      "9*8=72\n",
      "9*9=81\n",
      " \n",
      "10*1=10\n",
      "10*2=20\n",
      "10*3=30\n",
      "10*4=40\n",
      "10*5=50\n",
      "10*6=60\n",
      "10*7=70\n",
      "10*8=80\n",
      "10*9=90\n",
      " \n",
      "11*1=11\n",
      "11*2=22\n",
      "11*3=33\n",
      "11*4=44\n",
      "11*5=55\n",
      "11*6=66\n",
      "11*7=77\n",
      "11*8=88\n",
      "11*9=99\n",
      " \n",
      "12*1=12\n",
      "12*2=24\n",
      "12*3=36\n",
      "12*4=48\n",
      "12*5=60\n",
      "12*6=72\n",
      "12*7=84\n",
      "12*8=96\n",
      "12*9=108\n",
      " \n",
      "13*1=13\n",
      "13*2=26\n",
      "13*3=39\n",
      "13*4=52\n",
      "13*5=65\n",
      "13*6=78\n",
      "13*7=91\n",
      "13*8=104\n",
      "13*9=117\n",
      " \n",
      "14*1=14\n",
      "14*2=28\n",
      "14*3=42\n",
      "14*4=56\n",
      "14*5=70\n",
      "14*6=84\n",
      "14*7=98\n",
      "14*8=112\n",
      "14*9=126\n",
      " \n",
      "15*1=15\n",
      "15*2=30\n",
      "15*3=45\n",
      "15*4=60\n",
      "15*5=75\n",
      "15*6=90\n",
      "15*7=105\n",
      "15*8=120\n",
      "15*9=135\n",
      " \n",
      "16*1=16\n",
      "16*2=32\n",
      "16*3=48\n",
      "16*4=64\n",
      "16*5=80\n",
      "16*6=96\n",
      "16*7=112\n",
      "16*8=128\n",
      "16*9=144\n",
      " \n",
      "17*1=17\n",
      "17*2=34\n",
      "17*3=51\n",
      "17*4=68\n",
      "17*5=85\n",
      "17*6=102\n",
      "17*7=119\n",
      "17*8=136\n",
      "17*9=153\n",
      " \n",
      "18*1=18\n",
      "18*2=36\n",
      "18*3=54\n",
      "18*4=72\n",
      "18*5=90\n",
      "18*6=108\n",
      "18*7=126\n",
      "18*8=144\n",
      "18*9=162\n",
      " \n",
      "19*1=19\n",
      "19*2=38\n",
      "19*3=57\n",
      "19*4=76\n",
      "19*5=95\n",
      "19*6=114\n",
      "19*7=133\n",
      "19*8=152\n",
      "19*9=171\n",
      " \n"
     ]
    }
   ],
   "source": [
    "for i in range(3,20):\n",
    "    for j in range(1,10):\n",
    "        print(f\"{i}*{j}={i*j}\")\n",
    "    print(\" \")"
   ]
  },
  {
   "cell_type": "code",
   "execution_count": 115,
   "id": "6dea9e58",
   "metadata": {},
   "outputs": [
    {
     "name": "stdout",
     "output_type": "stream",
     "text": [
      "1060\n"
     ]
    }
   ],
   "source": [
    "result_sum = 0\n",
    "for i in range(2,101):\n",
    "    nmj = []\n",
    "    for j in range(2,i):\n",
    "        nmj.append(i%j)\n",
    "    if 0 not in nmj:\n",
    "        result_sum = result_sum + i\n",
    "print(result_sum)"
   ]
  },
  {
   "cell_type": "code",
   "execution_count": 141,
   "id": "d7c912f9",
   "metadata": {},
   "outputs": [
    {
     "name": "stdout",
     "output_type": "stream",
     "text": [
      "원하는 숫자를 입력하세요 : 50\n",
      "up\n",
      "원하는 숫자를 입력하세요 : 60\n",
      "up\n",
      "원하는 숫자를 입력하세요 : 90\n",
      "up\n",
      "원하는 숫자를 입력하세요 : 100\n",
      "down\n",
      "원하는 숫자를 입력하세요 : 95\n",
      "up\n",
      "원하는 숫자를 입력하세요 : 97\n",
      "up\n",
      "원하는 숫자를 입력하세요 : 98\n",
      "6번 만에 맞추셨습니다\n"
     ]
    }
   ],
   "source": [
    "import random\n",
    "num = random.randint(1,100)  #1~100까지 중 임의의 숫자 선택\n",
    "n = 1\n",
    "while True:\n",
    "    player = int(input(\"원하는 숫자를 입력하세요 : \"))\n",
    "    if num == player:\n",
    "        print(f\"{n}번 만에 맞추셨습니다\")\n",
    "        break\n",
    "    elif num > player:\n",
    "        print(\"up\")\n",
    "        n += 1\n",
    "    else:\n",
    "        print(\"down\")\n",
    "        n += 1"
   ]
  },
  {
   "cell_type": "code",
   "execution_count": null,
   "id": "8eb73540",
   "metadata": {},
   "outputs": [],
   "source": []
  }
 ],
 "metadata": {
  "kernelspec": {
   "display_name": "Python 3 (ipykernel)",
   "language": "python",
   "name": "python3"
  },
  "language_info": {
   "codemirror_mode": {
    "name": "ipython",
    "version": 3
   },
   "file_extension": ".py",
   "mimetype": "text/x-python",
   "name": "python",
   "nbconvert_exporter": "python",
   "pygments_lexer": "ipython3",
   "version": "3.9.12"
  }
 },
 "nbformat": 4,
 "nbformat_minor": 5
}
