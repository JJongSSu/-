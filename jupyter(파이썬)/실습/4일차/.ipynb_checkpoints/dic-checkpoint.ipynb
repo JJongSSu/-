{
 "cells": [
  {
   "cell_type": "code",
   "execution_count": 40,
   "id": "a75c576a",
   "metadata": {},
   "outputs": [
    {
     "name": "stdout",
     "output_type": "stream",
     "text": [
      "길동\n",
      "철수\n",
      "영희\n"
     ]
    }
   ],
   "source": [
    "class1_4 = {\"이름\":[\"홍길동\",\"김철수\",\"김영희\"]}\n",
    "for i in class1_4[\"이름\"]:\n",
    "    print(i[1:])"
   ]
  },
  {
   "cell_type": "code",
   "execution_count": 46,
   "id": "9578ad12",
   "metadata": {},
   "outputs": [
    {
     "data": {
      "text/plain": [
       "{'이름': ['김철수', '김영희']}"
      ]
     },
     "execution_count": 46,
     "metadata": {},
     "output_type": "execute_result"
    }
   ],
   "source": [
    "class1_4 = {\"이름\":[\"홍길동\",\"김철수\",\"김영희\"]}\n",
    "del class1_4[\"이름\"][0]\n",
    "class1_4"
   ]
  },
  {
   "cell_type": "code",
   "execution_count": 47,
   "id": "15e99242",
   "metadata": {},
   "outputs": [
    {
     "data": {
      "text/plain": [
       "[0, 1, 4, 9, 16, 25, 36, 49, 64, 81]"
      ]
     },
     "execution_count": 47,
     "metadata": {},
     "output_type": "execute_result"
    }
   ],
   "source": [
    "jegop = [i**2 for i in range(10)]\n",
    "jegop"
   ]
  },
  {
   "cell_type": "code",
   "execution_count": 95,
   "id": "53761a48",
   "metadata": {},
   "outputs": [
    {
     "data": {
      "text/plain": [
       "{'홍길동': {'수학': 99, '영어': 80, '국어': 75},\n",
       " '김미정': {'영어': 67, '국어': 87, '수학': 55},\n",
       " '정수진': {'수학': 67, '국어': 41, '영어': 23},\n",
       " '평균 점수': {'수학 평균': 73.66666666666667,\n",
       "  '영어 평균': 56.666666666666664,\n",
       "  '국어 평균': 67.66666666666667}}"
      ]
     },
     "execution_count": 95,
     "metadata": {},
     "output_type": "execute_result"
    }
   ],
   "source": [
    "scores = {'홍길동':{'수학':99,'영어':80,'국어':75},\n",
    "          '김미정':{'영어':67,'국어':87,'수학':55},\n",
    "          '정수진':{'수학':67,'국어':41,'영어':23}}\n",
    "\n",
    "math = 0 \n",
    "eng = 0\n",
    "korean = 0\n",
    "\n",
    "for i in scores:\n",
    "    math = math + scores[i]['수학']\n",
    "    eng = eng + scores[i]['영어']\n",
    "    korean = korean + scores[i]['국어']\n",
    "\n",
    "scores[\"평균 점수\"] = {\"수학 평균\":math/len(scores),\"영어 평균\":eng/len(scores),\"국어 평균\":korean/len(scores)}\n",
    "scores"
   ]
  },
  {
   "cell_type": "code",
   "execution_count": 105,
   "id": "7805467f",
   "metadata": {},
   "outputs": [
    {
     "data": {
      "text/plain": [
       "3.67"
      ]
     },
     "execution_count": 105,
     "metadata": {},
     "output_type": "execute_result"
    }
   ],
   "source": [
    "import math\n",
    "a = 3.66666666\n",
    "round(a,2)\n"
   ]
  },
  {
   "cell_type": "code",
   "execution_count": null,
   "id": "f34d0499",
   "metadata": {},
   "outputs": [],
   "source": []
  }
 ],
 "metadata": {
  "kernelspec": {
   "display_name": "Python 3 (ipykernel)",
   "language": "python",
   "name": "python3"
  },
  "language_info": {
   "codemirror_mode": {
    "name": "ipython",
    "version": 3
   },
   "file_extension": ".py",
   "mimetype": "text/x-python",
   "name": "python",
   "nbconvert_exporter": "python",
   "pygments_lexer": "ipython3",
   "version": "3.9.12"
  }
 },
 "nbformat": 4,
 "nbformat_minor": 5
}
